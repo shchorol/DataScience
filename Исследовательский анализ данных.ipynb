{
 "cells": [
  {
   "cell_type": "markdown",
   "metadata": {},
   "source": [
    "# Исследование объявлений о продаже квартир\n",
    "\n",
    "В вашем распоряжении данные сервиса Яндекс.Недвижимость — архив объявлений о продаже квартир в Санкт-Петербурге и соседних населённых пунктов за несколько лет. Нужно научиться определять рыночную стоимость объектов недвижимости. Ваша задача — установить параметры. Это позволит построить автоматизированную систему: она отследит аномалии и мошенническую деятельность. \n",
    "\n",
    "По каждой квартире на продажу доступны два вида данных. Первые вписаны пользователем, вторые — получены автоматически на основе картографических данных. Например, расстояние до центра, аэропорта, ближайшего парка и водоёма. "
   ]
  },
  {
   "cell_type": "markdown",
   "metadata": {},
   "source": [
    "### Откройте файл с данными и изучите общую информацию. "
   ]
  },
  {
   "cell_type": "code",
   "execution_count": 4,
   "metadata": {},
   "outputs": [],
   "source": [
    "import pandas as pd\n",
    "import matplotlib.pyplot as plt\n",
    "import math"
   ]
  },
  {
   "cell_type": "code",
   "execution_count": 5,
   "metadata": {},
   "outputs": [
    {
     "name": "stdout",
     "output_type": "stream",
     "text": [
      "<class 'pandas.core.frame.DataFrame'>\n",
      "RangeIndex: 23699 entries, 0 to 23698\n",
      "Data columns (total 22 columns):\n",
      " #   Column                Non-Null Count  Dtype  \n",
      "---  ------                --------------  -----  \n",
      " 0   total_images          23699 non-null  int64  \n",
      " 1   last_price            23699 non-null  float64\n",
      " 2   total_area            23699 non-null  float64\n",
      " 3   first_day_exposition  23699 non-null  object \n",
      " 4   rooms                 23699 non-null  int64  \n",
      " 5   ceiling_height        14504 non-null  float64\n",
      " 6   floors_total          23613 non-null  float64\n",
      " 7   living_area           21796 non-null  float64\n",
      " 8   floor                 23699 non-null  int64  \n",
      " 9   is_apartment          2775 non-null   object \n",
      " 10  studio                23699 non-null  bool   \n",
      " 11  open_plan             23699 non-null  bool   \n",
      " 12  kitchen_area          21421 non-null  float64\n",
      " 13  balcony               12180 non-null  float64\n",
      " 14  locality_name         23650 non-null  object \n",
      " 15  airports_nearest      18157 non-null  float64\n",
      " 16  cityCenters_nearest   18180 non-null  float64\n",
      " 17  parks_around3000      18181 non-null  float64\n",
      " 18  parks_nearest         8079 non-null   float64\n",
      " 19  ponds_around3000      18181 non-null  float64\n",
      " 20  ponds_nearest         9110 non-null   float64\n",
      " 21  days_exposition       20518 non-null  float64\n",
      "dtypes: bool(2), float64(14), int64(3), object(3)\n",
      "memory usage: 3.7+ MB\n"
     ]
    }
   ],
   "source": [
    "data = pd.read_csv('real_estate_data.csv', sep='\\t')\n",
    "\n",
    "data_info = data.info()\n",
    "data_description = data.describe()"
   ]
  },
  {
   "cell_type": "code",
   "execution_count": 6,
   "metadata": {},
   "outputs": [
    {
     "name": "stdout",
     "output_type": "stream",
     "text": [
      "None\n"
     ]
    },
    {
     "data": {
      "text/html": [
       "<div>\n",
       "<style scoped>\n",
       "    .dataframe tbody tr th:only-of-type {\n",
       "        vertical-align: middle;\n",
       "    }\n",
       "\n",
       "    .dataframe tbody tr th {\n",
       "        vertical-align: top;\n",
       "    }\n",
       "\n",
       "    .dataframe thead th {\n",
       "        text-align: right;\n",
       "    }\n",
       "</style>\n",
       "<table border=\"1\" class=\"dataframe\">\n",
       "  <thead>\n",
       "    <tr style=\"text-align: right;\">\n",
       "      <th></th>\n",
       "      <th>total_images</th>\n",
       "      <th>last_price</th>\n",
       "      <th>total_area</th>\n",
       "      <th>first_day_exposition</th>\n",
       "      <th>rooms</th>\n",
       "      <th>ceiling_height</th>\n",
       "      <th>floors_total</th>\n",
       "      <th>living_area</th>\n",
       "      <th>floor</th>\n",
       "      <th>is_apartment</th>\n",
       "      <th>...</th>\n",
       "      <th>kitchen_area</th>\n",
       "      <th>balcony</th>\n",
       "      <th>locality_name</th>\n",
       "      <th>airports_nearest</th>\n",
       "      <th>cityCenters_nearest</th>\n",
       "      <th>parks_around3000</th>\n",
       "      <th>parks_nearest</th>\n",
       "      <th>ponds_around3000</th>\n",
       "      <th>ponds_nearest</th>\n",
       "      <th>days_exposition</th>\n",
       "    </tr>\n",
       "  </thead>\n",
       "  <tbody>\n",
       "    <tr>\n",
       "      <th>0</th>\n",
       "      <td>20</td>\n",
       "      <td>13000000.0</td>\n",
       "      <td>108.0</td>\n",
       "      <td>2019-03-07T00:00:00</td>\n",
       "      <td>3</td>\n",
       "      <td>2.70</td>\n",
       "      <td>16.0</td>\n",
       "      <td>51.0</td>\n",
       "      <td>8</td>\n",
       "      <td>NaN</td>\n",
       "      <td>...</td>\n",
       "      <td>25.0</td>\n",
       "      <td>NaN</td>\n",
       "      <td>Санкт-Петербург</td>\n",
       "      <td>18863.0</td>\n",
       "      <td>16028.0</td>\n",
       "      <td>1.0</td>\n",
       "      <td>482.0</td>\n",
       "      <td>2.0</td>\n",
       "      <td>755.0</td>\n",
       "      <td>NaN</td>\n",
       "    </tr>\n",
       "    <tr>\n",
       "      <th>1</th>\n",
       "      <td>7</td>\n",
       "      <td>3350000.0</td>\n",
       "      <td>40.4</td>\n",
       "      <td>2018-12-04T00:00:00</td>\n",
       "      <td>1</td>\n",
       "      <td>NaN</td>\n",
       "      <td>11.0</td>\n",
       "      <td>18.6</td>\n",
       "      <td>1</td>\n",
       "      <td>NaN</td>\n",
       "      <td>...</td>\n",
       "      <td>11.0</td>\n",
       "      <td>2.0</td>\n",
       "      <td>посёлок Шушары</td>\n",
       "      <td>12817.0</td>\n",
       "      <td>18603.0</td>\n",
       "      <td>0.0</td>\n",
       "      <td>NaN</td>\n",
       "      <td>0.0</td>\n",
       "      <td>NaN</td>\n",
       "      <td>81.0</td>\n",
       "    </tr>\n",
       "    <tr>\n",
       "      <th>2</th>\n",
       "      <td>10</td>\n",
       "      <td>5196000.0</td>\n",
       "      <td>56.0</td>\n",
       "      <td>2015-08-20T00:00:00</td>\n",
       "      <td>2</td>\n",
       "      <td>NaN</td>\n",
       "      <td>5.0</td>\n",
       "      <td>34.3</td>\n",
       "      <td>4</td>\n",
       "      <td>NaN</td>\n",
       "      <td>...</td>\n",
       "      <td>8.3</td>\n",
       "      <td>0.0</td>\n",
       "      <td>Санкт-Петербург</td>\n",
       "      <td>21741.0</td>\n",
       "      <td>13933.0</td>\n",
       "      <td>1.0</td>\n",
       "      <td>90.0</td>\n",
       "      <td>2.0</td>\n",
       "      <td>574.0</td>\n",
       "      <td>558.0</td>\n",
       "    </tr>\n",
       "    <tr>\n",
       "      <th>3</th>\n",
       "      <td>0</td>\n",
       "      <td>64900000.0</td>\n",
       "      <td>159.0</td>\n",
       "      <td>2015-07-24T00:00:00</td>\n",
       "      <td>3</td>\n",
       "      <td>NaN</td>\n",
       "      <td>14.0</td>\n",
       "      <td>NaN</td>\n",
       "      <td>9</td>\n",
       "      <td>NaN</td>\n",
       "      <td>...</td>\n",
       "      <td>NaN</td>\n",
       "      <td>0.0</td>\n",
       "      <td>Санкт-Петербург</td>\n",
       "      <td>28098.0</td>\n",
       "      <td>6800.0</td>\n",
       "      <td>2.0</td>\n",
       "      <td>84.0</td>\n",
       "      <td>3.0</td>\n",
       "      <td>234.0</td>\n",
       "      <td>424.0</td>\n",
       "    </tr>\n",
       "    <tr>\n",
       "      <th>4</th>\n",
       "      <td>2</td>\n",
       "      <td>10000000.0</td>\n",
       "      <td>100.0</td>\n",
       "      <td>2018-06-19T00:00:00</td>\n",
       "      <td>2</td>\n",
       "      <td>3.03</td>\n",
       "      <td>14.0</td>\n",
       "      <td>32.0</td>\n",
       "      <td>13</td>\n",
       "      <td>NaN</td>\n",
       "      <td>...</td>\n",
       "      <td>41.0</td>\n",
       "      <td>NaN</td>\n",
       "      <td>Санкт-Петербург</td>\n",
       "      <td>31856.0</td>\n",
       "      <td>8098.0</td>\n",
       "      <td>2.0</td>\n",
       "      <td>112.0</td>\n",
       "      <td>1.0</td>\n",
       "      <td>48.0</td>\n",
       "      <td>121.0</td>\n",
       "    </tr>\n",
       "  </tbody>\n",
       "</table>\n",
       "<p>5 rows × 22 columns</p>\n",
       "</div>"
      ],
      "text/plain": [
       "   total_images  last_price  total_area first_day_exposition  rooms  \\\n",
       "0            20  13000000.0       108.0  2019-03-07T00:00:00      3   \n",
       "1             7   3350000.0        40.4  2018-12-04T00:00:00      1   \n",
       "2            10   5196000.0        56.0  2015-08-20T00:00:00      2   \n",
       "3             0  64900000.0       159.0  2015-07-24T00:00:00      3   \n",
       "4             2  10000000.0       100.0  2018-06-19T00:00:00      2   \n",
       "\n",
       "   ceiling_height  floors_total  living_area  floor is_apartment  ...  \\\n",
       "0            2.70          16.0         51.0      8          NaN  ...   \n",
       "1             NaN          11.0         18.6      1          NaN  ...   \n",
       "2             NaN           5.0         34.3      4          NaN  ...   \n",
       "3             NaN          14.0          NaN      9          NaN  ...   \n",
       "4            3.03          14.0         32.0     13          NaN  ...   \n",
       "\n",
       "   kitchen_area  balcony    locality_name  airports_nearest  \\\n",
       "0          25.0      NaN  Санкт-Петербург           18863.0   \n",
       "1          11.0      2.0   посёлок Шушары           12817.0   \n",
       "2           8.3      0.0  Санкт-Петербург           21741.0   \n",
       "3           NaN      0.0  Санкт-Петербург           28098.0   \n",
       "4          41.0      NaN  Санкт-Петербург           31856.0   \n",
       "\n",
       "  cityCenters_nearest  parks_around3000  parks_nearest  ponds_around3000  \\\n",
       "0             16028.0               1.0          482.0               2.0   \n",
       "1             18603.0               0.0            NaN               0.0   \n",
       "2             13933.0               1.0           90.0               2.0   \n",
       "3              6800.0               2.0           84.0               3.0   \n",
       "4              8098.0               2.0          112.0               1.0   \n",
       "\n",
       "   ponds_nearest  days_exposition  \n",
       "0          755.0              NaN  \n",
       "1            NaN             81.0  \n",
       "2          574.0            558.0  \n",
       "3          234.0            424.0  \n",
       "4           48.0            121.0  \n",
       "\n",
       "[5 rows x 22 columns]"
      ]
     },
     "metadata": {},
     "output_type": "display_data"
    },
    {
     "data": {
      "text/html": [
       "<div>\n",
       "<style scoped>\n",
       "    .dataframe tbody tr th:only-of-type {\n",
       "        vertical-align: middle;\n",
       "    }\n",
       "\n",
       "    .dataframe tbody tr th {\n",
       "        vertical-align: top;\n",
       "    }\n",
       "\n",
       "    .dataframe thead th {\n",
       "        text-align: right;\n",
       "    }\n",
       "</style>\n",
       "<table border=\"1\" class=\"dataframe\">\n",
       "  <thead>\n",
       "    <tr style=\"text-align: right;\">\n",
       "      <th></th>\n",
       "      <th>total_images</th>\n",
       "      <th>last_price</th>\n",
       "      <th>total_area</th>\n",
       "      <th>rooms</th>\n",
       "      <th>ceiling_height</th>\n",
       "      <th>floors_total</th>\n",
       "      <th>living_area</th>\n",
       "      <th>floor</th>\n",
       "      <th>kitchen_area</th>\n",
       "      <th>balcony</th>\n",
       "      <th>airports_nearest</th>\n",
       "      <th>cityCenters_nearest</th>\n",
       "      <th>parks_around3000</th>\n",
       "      <th>parks_nearest</th>\n",
       "      <th>ponds_around3000</th>\n",
       "      <th>ponds_nearest</th>\n",
       "      <th>days_exposition</th>\n",
       "    </tr>\n",
       "  </thead>\n",
       "  <tbody>\n",
       "    <tr>\n",
       "      <th>count</th>\n",
       "      <td>23699.000000</td>\n",
       "      <td>2.369900e+04</td>\n",
       "      <td>23699.000000</td>\n",
       "      <td>23699.000000</td>\n",
       "      <td>14504.000000</td>\n",
       "      <td>23613.000000</td>\n",
       "      <td>21796.000000</td>\n",
       "      <td>23699.000000</td>\n",
       "      <td>21421.000000</td>\n",
       "      <td>12180.000000</td>\n",
       "      <td>18157.000000</td>\n",
       "      <td>18180.000000</td>\n",
       "      <td>18181.000000</td>\n",
       "      <td>8079.000000</td>\n",
       "      <td>18181.000000</td>\n",
       "      <td>9110.000000</td>\n",
       "      <td>20518.000000</td>\n",
       "    </tr>\n",
       "    <tr>\n",
       "      <th>mean</th>\n",
       "      <td>9.858475</td>\n",
       "      <td>6.541549e+06</td>\n",
       "      <td>60.348651</td>\n",
       "      <td>2.070636</td>\n",
       "      <td>2.771499</td>\n",
       "      <td>10.673824</td>\n",
       "      <td>34.457852</td>\n",
       "      <td>5.892358</td>\n",
       "      <td>10.569807</td>\n",
       "      <td>1.150082</td>\n",
       "      <td>28793.672193</td>\n",
       "      <td>14191.277833</td>\n",
       "      <td>0.611408</td>\n",
       "      <td>490.804555</td>\n",
       "      <td>0.770255</td>\n",
       "      <td>517.980900</td>\n",
       "      <td>180.888634</td>\n",
       "    </tr>\n",
       "    <tr>\n",
       "      <th>std</th>\n",
       "      <td>5.682529</td>\n",
       "      <td>1.088701e+07</td>\n",
       "      <td>35.654083</td>\n",
       "      <td>1.078405</td>\n",
       "      <td>1.261056</td>\n",
       "      <td>6.597173</td>\n",
       "      <td>22.030445</td>\n",
       "      <td>4.885249</td>\n",
       "      <td>5.905438</td>\n",
       "      <td>1.071300</td>\n",
       "      <td>12630.880622</td>\n",
       "      <td>8608.386210</td>\n",
       "      <td>0.802074</td>\n",
       "      <td>342.317995</td>\n",
       "      <td>0.938346</td>\n",
       "      <td>277.720643</td>\n",
       "      <td>219.727988</td>\n",
       "    </tr>\n",
       "    <tr>\n",
       "      <th>min</th>\n",
       "      <td>0.000000</td>\n",
       "      <td>1.219000e+04</td>\n",
       "      <td>12.000000</td>\n",
       "      <td>0.000000</td>\n",
       "      <td>1.000000</td>\n",
       "      <td>1.000000</td>\n",
       "      <td>2.000000</td>\n",
       "      <td>1.000000</td>\n",
       "      <td>1.300000</td>\n",
       "      <td>0.000000</td>\n",
       "      <td>0.000000</td>\n",
       "      <td>181.000000</td>\n",
       "      <td>0.000000</td>\n",
       "      <td>1.000000</td>\n",
       "      <td>0.000000</td>\n",
       "      <td>13.000000</td>\n",
       "      <td>1.000000</td>\n",
       "    </tr>\n",
       "    <tr>\n",
       "      <th>25%</th>\n",
       "      <td>6.000000</td>\n",
       "      <td>3.400000e+06</td>\n",
       "      <td>40.000000</td>\n",
       "      <td>1.000000</td>\n",
       "      <td>2.520000</td>\n",
       "      <td>5.000000</td>\n",
       "      <td>18.600000</td>\n",
       "      <td>2.000000</td>\n",
       "      <td>7.000000</td>\n",
       "      <td>0.000000</td>\n",
       "      <td>18585.000000</td>\n",
       "      <td>9238.000000</td>\n",
       "      <td>0.000000</td>\n",
       "      <td>288.000000</td>\n",
       "      <td>0.000000</td>\n",
       "      <td>294.000000</td>\n",
       "      <td>45.000000</td>\n",
       "    </tr>\n",
       "    <tr>\n",
       "      <th>50%</th>\n",
       "      <td>9.000000</td>\n",
       "      <td>4.650000e+06</td>\n",
       "      <td>52.000000</td>\n",
       "      <td>2.000000</td>\n",
       "      <td>2.650000</td>\n",
       "      <td>9.000000</td>\n",
       "      <td>30.000000</td>\n",
       "      <td>4.000000</td>\n",
       "      <td>9.100000</td>\n",
       "      <td>1.000000</td>\n",
       "      <td>26726.000000</td>\n",
       "      <td>13098.500000</td>\n",
       "      <td>0.000000</td>\n",
       "      <td>455.000000</td>\n",
       "      <td>1.000000</td>\n",
       "      <td>502.000000</td>\n",
       "      <td>95.000000</td>\n",
       "    </tr>\n",
       "    <tr>\n",
       "      <th>75%</th>\n",
       "      <td>14.000000</td>\n",
       "      <td>6.800000e+06</td>\n",
       "      <td>69.900000</td>\n",
       "      <td>3.000000</td>\n",
       "      <td>2.800000</td>\n",
       "      <td>16.000000</td>\n",
       "      <td>42.300000</td>\n",
       "      <td>8.000000</td>\n",
       "      <td>12.000000</td>\n",
       "      <td>2.000000</td>\n",
       "      <td>37273.000000</td>\n",
       "      <td>16293.000000</td>\n",
       "      <td>1.000000</td>\n",
       "      <td>612.000000</td>\n",
       "      <td>1.000000</td>\n",
       "      <td>729.000000</td>\n",
       "      <td>232.000000</td>\n",
       "    </tr>\n",
       "    <tr>\n",
       "      <th>max</th>\n",
       "      <td>50.000000</td>\n",
       "      <td>7.630000e+08</td>\n",
       "      <td>900.000000</td>\n",
       "      <td>19.000000</td>\n",
       "      <td>100.000000</td>\n",
       "      <td>60.000000</td>\n",
       "      <td>409.700000</td>\n",
       "      <td>33.000000</td>\n",
       "      <td>112.000000</td>\n",
       "      <td>5.000000</td>\n",
       "      <td>84869.000000</td>\n",
       "      <td>65968.000000</td>\n",
       "      <td>3.000000</td>\n",
       "      <td>3190.000000</td>\n",
       "      <td>3.000000</td>\n",
       "      <td>1344.000000</td>\n",
       "      <td>1580.000000</td>\n",
       "    </tr>\n",
       "  </tbody>\n",
       "</table>\n",
       "</div>"
      ],
      "text/plain": [
       "       total_images    last_price    total_area         rooms  ceiling_height  \\\n",
       "count  23699.000000  2.369900e+04  23699.000000  23699.000000    14504.000000   \n",
       "mean       9.858475  6.541549e+06     60.348651      2.070636        2.771499   \n",
       "std        5.682529  1.088701e+07     35.654083      1.078405        1.261056   \n",
       "min        0.000000  1.219000e+04     12.000000      0.000000        1.000000   \n",
       "25%        6.000000  3.400000e+06     40.000000      1.000000        2.520000   \n",
       "50%        9.000000  4.650000e+06     52.000000      2.000000        2.650000   \n",
       "75%       14.000000  6.800000e+06     69.900000      3.000000        2.800000   \n",
       "max       50.000000  7.630000e+08    900.000000     19.000000      100.000000   \n",
       "\n",
       "       floors_total   living_area         floor  kitchen_area       balcony  \\\n",
       "count  23613.000000  21796.000000  23699.000000  21421.000000  12180.000000   \n",
       "mean      10.673824     34.457852      5.892358     10.569807      1.150082   \n",
       "std        6.597173     22.030445      4.885249      5.905438      1.071300   \n",
       "min        1.000000      2.000000      1.000000      1.300000      0.000000   \n",
       "25%        5.000000     18.600000      2.000000      7.000000      0.000000   \n",
       "50%        9.000000     30.000000      4.000000      9.100000      1.000000   \n",
       "75%       16.000000     42.300000      8.000000     12.000000      2.000000   \n",
       "max       60.000000    409.700000     33.000000    112.000000      5.000000   \n",
       "\n",
       "       airports_nearest  cityCenters_nearest  parks_around3000  parks_nearest  \\\n",
       "count      18157.000000         18180.000000      18181.000000    8079.000000   \n",
       "mean       28793.672193         14191.277833          0.611408     490.804555   \n",
       "std        12630.880622          8608.386210          0.802074     342.317995   \n",
       "min            0.000000           181.000000          0.000000       1.000000   \n",
       "25%        18585.000000          9238.000000          0.000000     288.000000   \n",
       "50%        26726.000000         13098.500000          0.000000     455.000000   \n",
       "75%        37273.000000         16293.000000          1.000000     612.000000   \n",
       "max        84869.000000         65968.000000          3.000000    3190.000000   \n",
       "\n",
       "       ponds_around3000  ponds_nearest  days_exposition  \n",
       "count      18181.000000    9110.000000     20518.000000  \n",
       "mean           0.770255     517.980900       180.888634  \n",
       "std            0.938346     277.720643       219.727988  \n",
       "min            0.000000      13.000000         1.000000  \n",
       "25%            0.000000     294.000000        45.000000  \n",
       "50%            1.000000     502.000000        95.000000  \n",
       "75%            1.000000     729.000000       232.000000  \n",
       "max            3.000000    1344.000000      1580.000000  "
      ]
     },
     "metadata": {},
     "output_type": "display_data"
    }
   ],
   "source": [
    "print(data_info)\n",
    "display(data.head())\n",
    "display(data_description)"
   ]
  },
  {
   "cell_type": "markdown",
   "metadata": {},
   "source": [
    "Изучив общую информацию о значениях, находящихся в таблице, можно сделать следующие выводы:\n",
    "    \n",
    "    1) у многих стобцов указан неверный тип данных;\n",
    "    2) пропущено много значений, однако не везде можно предположить логичное и справедливое заполнение этих пропусков;\n",
    "    3) распределение значений некоторых переменных нормальное (например, цены, количества комнат, количества балконов и др.), так как среднее соразмерно медиане;\n",
    "    4) вышеизложенные умозаключения нуждаются в проверке и корректировке в силу огромного количества пропусков."
   ]
  },
  {
   "cell_type": "code",
   "execution_count": 7,
   "metadata": {},
   "outputs": [
    {
     "data": {
      "image/png": "[encoded data removed]",
      "text/plain": [
       "<Figure size 1500x2000 with 20 Axes>"
      ]
     },
     "metadata": {},
     "output_type": "display_data"
    }
   ],
   "source": [
    "data.hist(figsize=(15, 20))\n",
    "plt.show()"
   ]
  },
  {
   "cell_type": "markdown",
   "metadata": {},
   "source": [
    "### Предобработка данных"
   ]
  },
  {
   "cell_type": "code",
   "execution_count": 8,
   "metadata": {},
   "outputs": [
    {
     "data": {
      "text/plain": [
       "total_images                0\n",
       "last_price                  0\n",
       "total_area                  0\n",
       "first_day_exposition        0\n",
       "rooms                       0\n",
       "ceiling_height           9195\n",
       "floors_total               86\n",
       "living_area              1903\n",
       "floor                       0\n",
       "is_apartment            20924\n",
       "studio                      0\n",
       "open_plan                   0\n",
       "kitchen_area             2278\n",
       "balcony                 11519\n",
       "locality_name              49\n",
       "airports_nearest         5542\n",
       "cityCenters_nearest      5519\n",
       "parks_around3000         5518\n",
       "parks_nearest           15620\n",
       "ponds_around3000         5518\n",
       "ponds_nearest           14589\n",
       "days_exposition          3181\n",
       "dtype: int64"
      ]
     },
     "execution_count": 8,
     "metadata": {},
     "output_type": "execute_result"
    }
   ],
   "source": [
    "data.isna().sum()"
   ]
  },
  {
   "cell_type": "code",
   "execution_count": 9,
   "metadata": {},
   "outputs": [],
   "source": [
    "median_ceiling_height = data['ceiling_height'].median #заменим на медианное значение, так как высота потолков везде примерно одинаковая\n",
    "data['ceiling_height'] = data['ceiling_height'].fillna(median_ceiling_height)"
   ]
  },
  {
   "cell_type": "code",
   "execution_count": 10,
   "metadata": {},
   "outputs": [],
   "source": [
    "#посчитаем пропущенные значения жилой площади через средний коэффициент ее отношения к общей площади\n",
    "data['living_area_ratio'] = data['living_area'] / data['total_area']\n",
    "mean_living_area_ratio = data['living_area_ratio'].mean()\n",
    "data['living_area'].fillna(data['total_area'] * mean_living_area_ratio, inplace=True)\n",
    "data.drop('living_area_ratio', axis=1, inplace=True) #удалим столбец\n"
   ]
  },
  {
   "cell_type": "code",
   "execution_count": 11,
   "metadata": {},
   "outputs": [],
   "source": [
    "data['is_apartment'] = data['is_apartment'].fillna(False) #если не указали, значит нет"
   ]
  },
  {
   "cell_type": "code",
   "execution_count": 12,
   "metadata": {},
   "outputs": [],
   "source": [
    "#посчитаем пропущенные значения площади кухни через средний коэффициент ее отношения к общей площади\n",
    "data['kitchen_area_ratio'] = data['kitchen_area'] / data['total_area']\n",
    "mean_kitchen_area_ratio = data['kitchen_area_ratio'].mean()\n",
    "data['kitchen_area'].fillna(data['total_area'] * mean_kitchen_area_ratio, inplace=True)\n",
    "data.drop('kitchen_area_ratio', axis=1, inplace=True) #удалим столбец"
   ]
  },
  {
   "cell_type": "code",
   "execution_count": 13,
   "metadata": {},
   "outputs": [],
   "source": [
    "data['balcony'] = data['balcony'].fillna(0) #если не указали, значит значение равно нулю"
   ]
  },
  {
   "cell_type": "code",
   "execution_count": 14,
   "metadata": {},
   "outputs": [],
   "source": [
    "data['parks_around3000'] = data['parks_around3000'].fillna(0) #если не указали, значит значение равно нулю"
   ]
  },
  {
   "cell_type": "code",
   "execution_count": 15,
   "metadata": {},
   "outputs": [],
   "source": [
    "data['ponds_around3000'] = data['ponds_around3000'].fillna(0) #если не указали, значит значение равно нулю"
   ]
  },
  {
   "cell_type": "markdown",
   "metadata": {},
   "source": [
    "airports_nearest, cityCenters_nearest, parks_nearest, ponds_nearest - картографические признаки с расстояниями, в связи с чем на данном этапе нельзя заполнить пропуски, так как еще не обработаны названия населенных пунктов, которые могут включать в себя различного рода дубликаты.\n",
    "\n",
    "В столбцах days_exposition и floors_total замену предположить нельзя, так как значения в столбцах не связаны со значениями в других столбцах и могут быть пропущены по множеству причин."
   ]
  },
  {
   "cell_type": "markdown",
   "metadata": {},
   "source": [
    "Возможные причины пропусков:\n",
    "1. Отсутствие системы заполнения таблицы: кто-то при остутствии балконов ставит ноль, а кто-то пропускает ячейку (аналогично с другими столбцами с подобным типом значений);\n",
    "2. Отсутствие данных;\n",
    "3. Ошибка со стороны системы;\n",
    "4. Человеческий фактор: кто-то мог по невнимательности или по каким-либо другим причинам не внести данные в таблицу"
   ]
  },
  {
   "cell_type": "code",
   "execution_count": 16,
   "metadata": {
    "scrolled": true
   },
   "outputs": [
    {
     "name": "stdout",
     "output_type": "stream",
     "text": [
      "<class 'pandas.core.frame.DataFrame'>\n",
      "RangeIndex: 23699 entries, 0 to 23698\n",
      "Data columns (total 22 columns):\n",
      " #   Column                Non-Null Count  Dtype         \n",
      "---  ------                --------------  -----         \n",
      " 0   total_images          23699 non-null  int64         \n",
      " 1   last_price            23699 non-null  float64       \n",
      " 2   total_area            23699 non-null  float64       \n",
      " 3   first_day_exposition  23699 non-null  datetime64[ns]\n",
      " 4   rooms                 23699 non-null  int64         \n",
      " 5   ceiling_height        14504 non-null  float64       \n",
      " 6   floors_total          23613 non-null  float64       \n",
      " 7   living_area           23699 non-null  float64       \n",
      " 8   floor                 23699 non-null  float64       \n",
      " 9   is_apartment          23699 non-null  bool          \n",
      " 10  studio                23699 non-null  bool          \n",
      " 11  open_plan             23699 non-null  bool          \n",
      " 12  kitchen_area          23699 non-null  float64       \n",
      " 13  balcony               23699 non-null  float64       \n",
      " 14  locality_name         23650 non-null  object        \n",
      " 15  airports_nearest      18157 non-null  float64       \n",
      " 16  cityCenters_nearest   18180 non-null  float64       \n",
      " 17  parks_around3000      23699 non-null  float64       \n",
      " 18  parks_nearest         8079 non-null   float64       \n",
      " 19  ponds_around3000      23699 non-null  float64       \n",
      " 20  ponds_nearest         9110 non-null   float64       \n",
      " 21  days_exposition       20518 non-null  float64       \n",
      "dtypes: bool(3), datetime64[ns](1), float64(15), int64(2), object(1)\n",
      "memory usage: 3.5+ MB\n"
     ]
    }
   ],
   "source": [
    "data['first_day_exposition'] = pd.to_datetime(data['first_day_exposition'], format='%Y-%m-%dT%H:%M:%S')\n",
    "data['living_area'] = pd.to_numeric(data['living_area'], errors='coerce')\n",
    "data['ceiling_height'] = pd.to_numeric(data['ceiling_height'], errors='coerce')\n",
    "data['kitchen_area'] = pd.to_numeric(data['kitchen_area'], errors='coerce')\n",
    "data['airports_nearest'] = pd.to_numeric(data['airports_nearest'], errors='coerce')\n",
    "data['cityCenters_nearest'] = pd.to_numeric(data['cityCenters_nearest'], errors='coerce')\n",
    "data['parks_nearest'] = pd.to_numeric(data['parks_nearest'], errors='coerce')\n",
    "data['ponds_nearest'] = pd.to_numeric(data['ponds_nearest'], errors='coerce')\n",
    "data['floor'] = data['floor'].astype('float')\n",
    "data.info()"
   ]
  },
  {
   "cell_type": "markdown",
   "metadata": {},
   "source": [
    "Типы столбцов нужно заменить потому, что при вызове метода .info() информация, содержащаяся в таблице, станет более очевидной. Также это необходимо сделать, чтобы при последующих расчетах могли выполняться те операции, которые мы хотим провести над значениями."
   ]
  },
  {
   "cell_type": "code",
   "execution_count": 17,
   "metadata": {},
   "outputs": [
    {
     "data": {
      "text/plain": [
       "array(['Санкт-Петербург', 'поселок Шушары',\n",
       "       'поселок городского типа Янино-1', 'поселок Парголово', 'Мурино',\n",
       "       'Ломоносов', 'Сертолово', 'Петергоф', 'Пушкин', 'Кудрово',\n",
       "       'Коммунар', 'Колпино', 'поселок городского типа Красный Бор',\n",
       "       'Гатчина', 'деревня Федоровское', 'Выборг', 'Кронштадт', 'Кировск',\n",
       "       'деревня Новое Девяткино', 'поселок Металлострой',\n",
       "       'поселок городского типа Лебяжье',\n",
       "       'поселок городского типа Сиверский', 'поселок Молодцово',\n",
       "       'поселок городского типа Кузьмоловский',\n",
       "       'садовое товарищество Новая Ропша', 'Павловск',\n",
       "       'деревня Пикколово', 'Всеволожск', 'Волхов', 'Кингисепп',\n",
       "       'Приозерск', 'Сестрорецк', 'деревня Куттузи', 'поселок Аннино',\n",
       "       'поселок городского типа Ефимовский', 'поселок Плодовое',\n",
       "       'деревня Заклинье', 'поселок Торковичи', 'поселок Первомайское',\n",
       "       'Красное Село', 'поселок Понтонный', 'Сясьстрой', 'деревня Старая',\n",
       "       'деревня Лесколово', 'поселок Новый Свет', 'Сланцы',\n",
       "       'село Путилово', 'Ивангород', 'Шлиссельбург', 'Никольское',\n",
       "       'Зеленогорск', 'Сосновый Бор', 'деревня Оржицы',\n",
       "       'деревня Кальтино', 'поселок Романовка', 'поселок Бугры',\n",
       "       'поселок городского типа Рощино', 'Кириши', 'Луга', 'Волосово',\n",
       "       'Отрадное', 'село Павлово', 'поселок Оредеж', 'село Копорье',\n",
       "       'поселок Молодежное', 'Тихвин', 'поселок Победа', 'деревня Нурма',\n",
       "       'поселок городского типа Синявино', 'Тосно', 'поселок Стрельна',\n",
       "       'Бокситогорск', 'поселок Александровская', 'деревня Лопухинка',\n",
       "       'Пикалево', 'поселок Терволово',\n",
       "       'поселок городского типа Советский', 'Подпорожье',\n",
       "       'поселок Петровское', 'поселок городского типа Токсово',\n",
       "       'поселок Сельцо', 'поселок городского типа Вырица',\n",
       "       'деревня Кипень', 'деревня Келози', 'деревня Вартемяги',\n",
       "       'поселок Тельмана', 'поселок Севастьяново',\n",
       "       'поселок городского типа Большая Ижора', nan,\n",
       "       'поселок городского типа Павлово', 'деревня Агалатово',\n",
       "       'поселок Новогорелово', 'поселок городского типа Лесогорский',\n",
       "       'деревня Лаголово', 'поселок Цвелодубово',\n",
       "       'поселок городского типа Рахья', 'деревня Белогорка',\n",
       "       'поселок Заводской', 'поселок городского типа Новоселье',\n",
       "       'деревня Большие Колпаны', 'деревня Горбунки', 'деревня Батово',\n",
       "       'деревня Заневка', 'деревня Иссад', 'Приморск',\n",
       "       'поселок городского типа Федоровское', 'деревня Мистолово',\n",
       "       'Новая Ладога', 'поселок Зимитицы', 'поселок Барышево',\n",
       "       'деревня Разметелево', 'поселок городского типа имени Свердлова',\n",
       "       'деревня Пеники', 'поселок Рябово', 'деревня Пудомяги',\n",
       "       'поселок при железнодорожной станции Корнево', 'деревня Низино',\n",
       "       'деревня Бегуницы', 'поселок Поляны',\n",
       "       'поселок городского типа Мга', 'поселок Елизаветино',\n",
       "       'поселок городского типа Кузнечное', 'деревня Колтуши',\n",
       "       'поселок Запорожское', 'деревня Гостилицы',\n",
       "       'деревня Малое Карлино', 'поселок Мичуринское',\n",
       "       'поселок городского типа имени Морозова', 'поселок Песочный',\n",
       "       'поселок Сосново', 'деревня Аро', 'поселок Ильичево',\n",
       "       'поселок городского типа Тайцы', 'деревня Малое Верево',\n",
       "       'деревня Извара', 'поселок при железнодорожной станции Вещево',\n",
       "       'село Паша', 'деревня Калитино',\n",
       "       'поселок городского типа Ульяновка', 'деревня Чудской Бор',\n",
       "       'поселок городского типа Дубровка', 'деревня Мины',\n",
       "       'поселок Войсковицы', 'деревня Коркино', 'поселок Ропша',\n",
       "       'поселок городского типа Приладожский', 'поселок Щеглово',\n",
       "       'поселок Гаврилово', 'Лодейное Поле', 'деревня Рабитицы',\n",
       "       'поселок городского типа Никольский', 'деревня Кузьмолово',\n",
       "       'деревня Малые Колпаны', 'поселок Петро-Славянка',\n",
       "       'поселок городского типа Назия', 'поселок Репино',\n",
       "       'поселок Углово', 'поселок Старая Малукса',\n",
       "       'садовое товарищество Рахья', 'деревня Меньково',\n",
       "       'деревня Старые Бегуницы', 'поселок Саперный', 'поселок Семрино',\n",
       "       'поселок Глажево', 'поселок Кобринское', 'деревня Гарболово',\n",
       "       'деревня Юкки',\n",
       "       'поселок при железнодорожной станции Приветнинское',\n",
       "       'деревня Мануйлово', 'деревня Пчева', 'поселок Цвылево',\n",
       "       'поселок Мельниково', 'поселок Пудость', 'поселок Усть-Луга',\n",
       "       'Светогорск', 'Любань', 'поселок Селезнево',\n",
       "       'поселок городского типа Рябово', 'Каменногорск', 'деревня Кривко',\n",
       "       'поселок Глебычево', 'деревня Парицы', 'поселок Жилпоселок',\n",
       "       'поселок Войскорово', 'село Никольское', 'поселок Стеклянный',\n",
       "       'поселок городского типа Важины', 'поселок Мыза-Ивановка',\n",
       "       'село Русско-Высоцкое', 'поселок городского типа Форносово',\n",
       "       'село Старая Ладога', 'поселок Житково',\n",
       "       'поселок городского типа Виллози', 'деревня Лампово',\n",
       "       'деревня Шпаньково', 'деревня Лаврики', 'поселок Сумино',\n",
       "       'поселок Возрождение', 'деревня Старосиверская',\n",
       "       'поселок Кикерино', 'деревня Старое Хинколово',\n",
       "       'поселок Пригородный', 'поселок Торфяное',\n",
       "       'поселок городского типа Будогощь', 'поселок Суходолье',\n",
       "       'поселок Красная Долина', 'деревня Хапо-Ое',\n",
       "       'поселок городского типа Дружная Горка', 'поселок Лисий Нос',\n",
       "       'деревня Яльгелево', 'село Рождествено', 'деревня Старополье',\n",
       "       'поселок Левашово', 'деревня Сяськелево', 'деревня Камышовка',\n",
       "       'садоводческое некоммерческое товарищество Лесная Поляна',\n",
       "       'деревня Хязельки', 'поселок Жилгородок', 'деревня Ялгино',\n",
       "       'поселок Новый Учхоз', 'поселок Гончарово', 'поселок Почап',\n",
       "       'поселок Саперное', 'поселок Платформа 69-й километр',\n",
       "       'поселок Каложицы', 'деревня Фалилеево', 'деревня Пельгора',\n",
       "       'деревня Торошковичи', 'поселок Белоостров', 'поселок Алексеевка',\n",
       "       'поселок Серебрянский', 'поселок Лукаши', 'деревня Щеглово',\n",
       "       'деревня Тарасово', 'поселок Кингисеппский', 'поселок Ушаки',\n",
       "       'деревня Котлы', 'деревня Сижно', 'деревня Торосово',\n",
       "       'поселок Форт Красная Горка', 'деревня Новолисино',\n",
       "       'поселок при железнодорожной станции Громово', 'деревня Глинка',\n",
       "       'деревня Старая Пустошь', 'поселок Коммунары', 'поселок Починок',\n",
       "       'поселок городского типа Вознесенье', 'деревня Разбегаево',\n",
       "       'поселок Гладкое', 'поселок Тесово-4', 'деревня Бор',\n",
       "       'поселок Коробицыно', 'деревня Большая Вруда', 'деревня Курковицы',\n",
       "       'поселок Кобралово', 'деревня Суоранда',\n",
       "       'поселок городского типа Кондратьево',\n",
       "       'коттеджный поселок Счастье', 'поселок Любань', 'деревня Реброво',\n",
       "       'деревня Зимитицы', 'деревня Тойворово', 'поселок Семиозерье',\n",
       "       'поселок Лесное', 'поселок Совхозный', 'поселок Ленинское',\n",
       "       'поселок Суйда', 'деревня Нижние Осельки',\n",
       "       'поселок при железнодорожной станции Свирь', 'поселок Перово',\n",
       "       'Высоцк', 'поселок Гарболово', 'село Шум', 'поселок Котельский',\n",
       "       'поселок при железнодорожной станции Лужайка',\n",
       "       'деревня Большая Пустомержа', 'поселок Красносельское',\n",
       "       'деревня Вахнова Кара', 'деревня Пижма',\n",
       "       'коттеджный поселок Кивеннапа Север', 'поселок Ромашки',\n",
       "       'деревня Каськово', 'деревня Куровицы', 'поселок Плоское',\n",
       "       'поселок Кирпичное', 'деревня Ям-Тесово', 'деревня Раздолье',\n",
       "       'деревня Терпилицы', 'поселок Шугозеро', 'деревня Ваганово',\n",
       "       'поселок Пушное', 'садовое товарищество Садко',\n",
       "       'поселок Усть-Ижора', 'деревня Выскатка',\n",
       "       'поселок городского типа Свирьстрой', 'поселок Громово',\n",
       "       'деревня Кисельня', 'деревня Трубников Бор', 'поселок Калитино',\n",
       "       'поселок Высокоключевой', 'садовое товарищество Приладожский',\n",
       "       'поселок Пансионат Зеленый Бор', 'деревня Ненимяки',\n",
       "       'деревня Снегиревка', 'деревня Рапполово', 'деревня Пустынка',\n",
       "       'поселок Рабитицы', 'деревня Большой Сабск', 'деревня Русско',\n",
       "       'деревня Лупполово', 'деревня Большое Рейзино',\n",
       "       'деревня Малая Романовка', 'поселок Дружноселье', 'поселок Пчевжа',\n",
       "       'поселок Володарское', 'деревня Нижняя',\n",
       "       'коттеджный поселок Лесное', 'деревня Тихковицы',\n",
       "       'деревня Борисова Грива', 'поселок Дзержинского'], dtype=object)"
      ]
     },
     "execution_count": 17,
     "metadata": {},
     "output_type": "execute_result"
    }
   ],
   "source": [
    "#data['locality_name'].unique()\n",
    "data['locality_name'] = (\n",
    "    data['locality_name']\n",
    "    .str.replace('ё', 'е')\n",
    "    .replace('городской поселок', 'поселок городского типа', regex=True)\n",
    "    .replace('поселок станции', 'поселок при железнодорожной станции', regex=True)\n",
    ")\n",
    "\n",
    "data['locality_name'] = (\n",
    "    data['locality_name']\n",
    "    .str.replace('поселок Мурино', 'Мурино')\n",
    ")\n",
    "\n",
    "data['locality_name'] = (\n",
    "    data['locality_name']\n",
    "    .str.replace('деревня Кудрово', 'Кудрово')\n",
    ")\n",
    "\n",
    "data['locality_name'].unique()"
   ]
  },
  {
   "cell_type": "markdown",
   "metadata": {},
   "source": [
    "В данном случае дубликатами являются те названия, в которых есть буквы \"ё\" или \"ё\", содержат в своем имени \"городской поселок\" (=поселок городского типа) или \"поселок станции\" (=поселок при железнодорожной станции). Также обработаны устаревшие данные: Кудрово и Мурино теперь города, а не деревня и поселок."
   ]
  },
  {
   "cell_type": "markdown",
   "metadata": {},
   "source": [
    "### Посчитайте и добавьте в таблицу новые столбцы"
   ]
  },
  {
   "cell_type": "code",
   "execution_count": 18,
   "metadata": {},
   "outputs": [],
   "source": [
    "data['price_per_meter']=(data['last_price']/data['total_area']).round(2)"
   ]
  },
  {
   "cell_type": "code",
   "execution_count": 19,
   "metadata": {},
   "outputs": [],
   "source": [
    "data['weekday'] = data['first_day_exposition'].dt.weekday"
   ]
  },
  {
   "cell_type": "code",
   "execution_count": 20,
   "metadata": {},
   "outputs": [],
   "source": [
    "data['month'] = data['first_day_exposition'].dt.month"
   ]
  },
  {
   "cell_type": "code",
   "execution_count": 21,
   "metadata": {},
   "outputs": [],
   "source": [
    "data['year'] = data['first_day_exposition'].dt.year"
   ]
  },
  {
   "cell_type": "code",
   "execution_count": 22,
   "metadata": {},
   "outputs": [],
   "source": [
    "def categorize_flat(data):\n",
    "    floor = data['floor']\n",
    "    \n",
    "    if floor == 1.0:\n",
    "        return 'первый'\n",
    "    elif floor == data['floors_total']:\n",
    "        return 'последний'\n",
    "    else:\n",
    "        return 'другой'\n",
    "    \n",
    "data['type_of_a_flat'] = data.apply(categorize_flat, axis=1)"
   ]
  },
  {
   "cell_type": "code",
   "execution_count": 23,
   "metadata": {},
   "outputs": [],
   "source": [
    "data['cityCenters_in_kms'] = (data['cityCenters_nearest']/1000).round()"
   ]
  },
  {
   "cell_type": "code",
   "execution_count": 24,
   "metadata": {},
   "outputs": [
    {
     "data": {
      "text/html": [
       "<div>\n",
       "<style scoped>\n",
       "    .dataframe tbody tr th:only-of-type {\n",
       "        vertical-align: middle;\n",
       "    }\n",
       "\n",
       "    .dataframe tbody tr th {\n",
       "        vertical-align: top;\n",
       "    }\n",
       "\n",
       "    .dataframe thead th {\n",
       "        text-align: right;\n",
       "    }\n",
       "</style>\n",
       "<table border=\"1\" class=\"dataframe\">\n",
       "  <thead>\n",
       "    <tr style=\"text-align: right;\">\n",
       "      <th></th>\n",
       "      <th>total_images</th>\n",
       "      <th>last_price</th>\n",
       "      <th>total_area</th>\n",
       "      <th>first_day_exposition</th>\n",
       "      <th>rooms</th>\n",
       "      <th>ceiling_height</th>\n",
       "      <th>floors_total</th>\n",
       "      <th>living_area</th>\n",
       "      <th>floor</th>\n",
       "      <th>is_apartment</th>\n",
       "      <th>...</th>\n",
       "      <th>parks_nearest</th>\n",
       "      <th>ponds_around3000</th>\n",
       "      <th>ponds_nearest</th>\n",
       "      <th>days_exposition</th>\n",
       "      <th>price_per_meter</th>\n",
       "      <th>weekday</th>\n",
       "      <th>month</th>\n",
       "      <th>year</th>\n",
       "      <th>type_of_a_flat</th>\n",
       "      <th>cityCenters_in_kms</th>\n",
       "    </tr>\n",
       "  </thead>\n",
       "  <tbody>\n",
       "    <tr>\n",
       "      <th>0</th>\n",
       "      <td>20</td>\n",
       "      <td>13000000.0</td>\n",
       "      <td>108.0</td>\n",
       "      <td>2019-03-07</td>\n",
       "      <td>3</td>\n",
       "      <td>2.70</td>\n",
       "      <td>16.0</td>\n",
       "      <td>51.000000</td>\n",
       "      <td>8.0</td>\n",
       "      <td>False</td>\n",
       "      <td>...</td>\n",
       "      <td>482.0</td>\n",
       "      <td>2.0</td>\n",
       "      <td>755.0</td>\n",
       "      <td>NaN</td>\n",
       "      <td>120370.37</td>\n",
       "      <td>3</td>\n",
       "      <td>3</td>\n",
       "      <td>2019</td>\n",
       "      <td>другой</td>\n",
       "      <td>16.0</td>\n",
       "    </tr>\n",
       "    <tr>\n",
       "      <th>1</th>\n",
       "      <td>7</td>\n",
       "      <td>3350000.0</td>\n",
       "      <td>40.4</td>\n",
       "      <td>2018-12-04</td>\n",
       "      <td>1</td>\n",
       "      <td>NaN</td>\n",
       "      <td>11.0</td>\n",
       "      <td>18.600000</td>\n",
       "      <td>1.0</td>\n",
       "      <td>False</td>\n",
       "      <td>...</td>\n",
       "      <td>NaN</td>\n",
       "      <td>0.0</td>\n",
       "      <td>NaN</td>\n",
       "      <td>81.0</td>\n",
       "      <td>82920.79</td>\n",
       "      <td>1</td>\n",
       "      <td>12</td>\n",
       "      <td>2018</td>\n",
       "      <td>первый</td>\n",
       "      <td>19.0</td>\n",
       "    </tr>\n",
       "    <tr>\n",
       "      <th>2</th>\n",
       "      <td>10</td>\n",
       "      <td>5196000.0</td>\n",
       "      <td>56.0</td>\n",
       "      <td>2015-08-20</td>\n",
       "      <td>2</td>\n",
       "      <td>NaN</td>\n",
       "      <td>5.0</td>\n",
       "      <td>34.300000</td>\n",
       "      <td>4.0</td>\n",
       "      <td>False</td>\n",
       "      <td>...</td>\n",
       "      <td>90.0</td>\n",
       "      <td>2.0</td>\n",
       "      <td>574.0</td>\n",
       "      <td>558.0</td>\n",
       "      <td>92785.71</td>\n",
       "      <td>3</td>\n",
       "      <td>8</td>\n",
       "      <td>2015</td>\n",
       "      <td>другой</td>\n",
       "      <td>14.0</td>\n",
       "    </tr>\n",
       "    <tr>\n",
       "      <th>3</th>\n",
       "      <td>0</td>\n",
       "      <td>64900000.0</td>\n",
       "      <td>159.0</td>\n",
       "      <td>2015-07-24</td>\n",
       "      <td>3</td>\n",
       "      <td>NaN</td>\n",
       "      <td>14.0</td>\n",
       "      <td>89.797718</td>\n",
       "      <td>9.0</td>\n",
       "      <td>False</td>\n",
       "      <td>...</td>\n",
       "      <td>84.0</td>\n",
       "      <td>3.0</td>\n",
       "      <td>234.0</td>\n",
       "      <td>424.0</td>\n",
       "      <td>408176.10</td>\n",
       "      <td>4</td>\n",
       "      <td>7</td>\n",
       "      <td>2015</td>\n",
       "      <td>другой</td>\n",
       "      <td>7.0</td>\n",
       "    </tr>\n",
       "    <tr>\n",
       "      <th>4</th>\n",
       "      <td>2</td>\n",
       "      <td>10000000.0</td>\n",
       "      <td>100.0</td>\n",
       "      <td>2018-06-19</td>\n",
       "      <td>2</td>\n",
       "      <td>3.03</td>\n",
       "      <td>14.0</td>\n",
       "      <td>32.000000</td>\n",
       "      <td>13.0</td>\n",
       "      <td>False</td>\n",
       "      <td>...</td>\n",
       "      <td>112.0</td>\n",
       "      <td>1.0</td>\n",
       "      <td>48.0</td>\n",
       "      <td>121.0</td>\n",
       "      <td>100000.00</td>\n",
       "      <td>1</td>\n",
       "      <td>6</td>\n",
       "      <td>2018</td>\n",
       "      <td>другой</td>\n",
       "      <td>8.0</td>\n",
       "    </tr>\n",
       "  </tbody>\n",
       "</table>\n",
       "<p>5 rows × 28 columns</p>\n",
       "</div>"
      ],
      "text/plain": [
       "   total_images  last_price  total_area first_day_exposition  rooms  \\\n",
       "0            20  13000000.0       108.0           2019-03-07      3   \n",
       "1             7   3350000.0        40.4           2018-12-04      1   \n",
       "2            10   5196000.0        56.0           2015-08-20      2   \n",
       "3             0  64900000.0       159.0           2015-07-24      3   \n",
       "4             2  10000000.0       100.0           2018-06-19      2   \n",
       "\n",
       "   ceiling_height  floors_total  living_area  floor  is_apartment  ...  \\\n",
       "0            2.70          16.0    51.000000    8.0         False  ...   \n",
       "1             NaN          11.0    18.600000    1.0         False  ...   \n",
       "2             NaN           5.0    34.300000    4.0         False  ...   \n",
       "3             NaN          14.0    89.797718    9.0         False  ...   \n",
       "4            3.03          14.0    32.000000   13.0         False  ...   \n",
       "\n",
       "   parks_nearest  ponds_around3000  ponds_nearest  days_exposition  \\\n",
       "0          482.0               2.0          755.0              NaN   \n",
       "1            NaN               0.0            NaN             81.0   \n",
       "2           90.0               2.0          574.0            558.0   \n",
       "3           84.0               3.0          234.0            424.0   \n",
       "4          112.0               1.0           48.0            121.0   \n",
       "\n",
       "  price_per_meter  weekday  month  year  type_of_a_flat  cityCenters_in_kms  \n",
       "0       120370.37        3      3  2019          другой                16.0  \n",
       "1        82920.79        1     12  2018          первый                19.0  \n",
       "2        92785.71        3      8  2015          другой                14.0  \n",
       "3       408176.10        4      7  2015          другой                 7.0  \n",
       "4       100000.00        1      6  2018          другой                 8.0  \n",
       "\n",
       "[5 rows x 28 columns]"
      ]
     },
     "metadata": {},
     "output_type": "display_data"
    }
   ],
   "source": [
    "display(data.head())"
   ]
  },
  {
   "cell_type": "markdown",
   "metadata": {},
   "source": [
    "Созданы новые столбцы:\n",
    "\n",
    "    1) цена квадратного метра, округленная до 2 знаков после запятой;\n",
    "    2) день публикации объявления;\n",
    "    3) месяц публикации объявления;\n",
    "    4) год публикации объявления;\n",
    "    5) тип этажа: 1, последний или другой;\n",
    "    6) расстояние до центра населенного пункта, округленное до ближайшего целого числа;\n",
    "Действие проверено вызовом метода .info()"
   ]
  },
  {
   "cell_type": "markdown",
   "metadata": {},
   "source": [
    "### Проведите исследовательский анализ данных"
   ]
  },
  {
   "cell_type": "code",
   "execution_count": 25,
   "metadata": {},
   "outputs": [
    {
     "data": {
      "text/plain": [
       "<Axes: >"
      ]
     },
     "execution_count": 25,
     "metadata": {},
     "output_type": "execute_result"
    },
    {
     "data": {
      "image/png": "[encoded data removed]",
      "text/plain": [
       "<Figure size 640x480 with 1 Axes>"
      ]
     },
     "metadata": {},
     "output_type": "display_data"
    }
   ],
   "source": [
    "data['total_area'].hist()"
   ]
  },
  {
   "cell_type": "code",
   "execution_count": 26,
   "metadata": {},
   "outputs": [
    {
     "data": {
      "text/plain": [
       "<Axes: >"
      ]
     },
     "execution_count": 26,
     "metadata": {},
     "output_type": "execute_result"
    },
    {
     "data": {
      "image/png": "[encoded data removed]",
      "text/plain": [
       "<Figure size 640x480 with 1 Axes>"
      ]
     },
     "metadata": {},
     "output_type": "display_data"
    }
   ],
   "source": [
    "data['total_area'].hist(bins=50, range=(0, 400))"
   ]
  },
  {
   "cell_type": "code",
   "execution_count": 27,
   "metadata": {},
   "outputs": [
    {
     "data": {
      "text/plain": [
       "<Axes: >"
      ]
     },
     "execution_count": 27,
     "metadata": {},
     "output_type": "execute_result"
    },
    {
     "data": {
      "image/png": "[encoded data removed]",
      "text/plain": [
       "<Figure size 640x480 with 1 Axes>"
      ]
     },
     "metadata": {},
     "output_type": "display_data"
    }
   ],
   "source": [
    "data.boxplot('total_area')"
   ]
  },
  {
   "cell_type": "code",
   "execution_count": 28,
   "metadata": {},
   "outputs": [
    {
     "data": {
      "text/plain": [
       "count    23699.000000\n",
       "mean        60.348651\n",
       "std         35.654083\n",
       "min         12.000000\n",
       "25%         40.000000\n",
       "50%         52.000000\n",
       "75%         69.900000\n",
       "max        900.000000\n",
       "Name: total_area, dtype: float64"
      ]
     },
     "execution_count": 28,
     "metadata": {},
     "output_type": "execute_result"
    }
   ],
   "source": [
    "data['total_area'].describe()"
   ]
  },
  {
   "cell_type": "code",
   "execution_count": 29,
   "metadata": {},
   "outputs": [
    {
     "data": {
      "text/plain": [
       "<Axes: >"
      ]
     },
     "execution_count": 29,
     "metadata": {},
     "output_type": "execute_result"
    },
    {
     "data": {
      "image/png": "[encoded data removed]",
      "text/plain": [
       "<Figure size 640x480 with 1 Axes>"
      ]
     },
     "metadata": {},
     "output_type": "display_data"
    }
   ],
   "source": [
    "data['total_area'].hist(bins=100, range=(0, 300))"
   ]
  },
  {
   "cell_type": "markdown",
   "metadata": {},
   "source": [
    "В гистограмме установлен максимальный диапазон значений - 300 квадратных метров, так как данные предоставлены по квартирам, а их площадь редко превышает данные значение (определено из личного опыта человека, интересующегося рынком жилья). На полученной гистограмме можно увидеть, что распространенная площадь квартир находится в районе 40-50, а также в диапазоне 60-70 квадратных метров."
   ]
  },
  {
   "cell_type": "code",
   "execution_count": 30,
   "metadata": {},
   "outputs": [
    {
     "data": {
      "text/plain": [
       "<Axes: >"
      ]
     },
     "execution_count": 30,
     "metadata": {},
     "output_type": "execute_result"
    },
    {
     "data": {
      "image/png": "[encoded data removed]",
      "text/plain": [
       "<Figure size 640x480 with 1 Axes>"
      ]
     },
     "metadata": {},
     "output_type": "display_data"
    }
   ],
   "source": [
    "data['living_area'].hist(bins=50, range=(0, 250))"
   ]
  },
  {
   "cell_type": "markdown",
   "metadata": {},
   "source": [
    "В гистограмме установлен максимальный диапазон значений - 250 квадратных метров, так как неизвестно, каким образом распределяется жилая и нежилая площадь в квартирах; это значение было определно исходя из минимальных значений нежилой площади максимальной площади квартиры, установленной выше (300 квадратных метров). На полученной гистограмме можно увидеть, что распространенная жилая площадь квартир находится в районе 25-30, а также в диапазоне 35-40 квадратных метров."
   ]
  },
  {
   "cell_type": "code",
   "execution_count": 31,
   "metadata": {},
   "outputs": [
    {
     "data": {
      "text/plain": [
       "<Axes: >"
      ]
     },
     "execution_count": 31,
     "metadata": {},
     "output_type": "execute_result"
    },
    {
     "data": {
      "image/png": "[encoded data removed]",
      "text/plain": [
       "<Figure size 640x480 with 1 Axes>"
      ]
     },
     "metadata": {},
     "output_type": "display_data"
    }
   ],
   "source": [
    "data['kitchen_area'].hist(bins=50, range=(0, 100))"
   ]
  },
  {
   "cell_type": "markdown",
   "metadata": {},
   "source": [
    "В гистограмме установлен максимальный диапазон значений - 100 квадратных метров, так как неизвестно, каким образом площадь кухни относится к общей площади, из-за чего предположена логически допустимая верхняя граница. На полученной гистограмме можно увидеть, что распространенная площадь кухни в квартирах находится в районе 10-15 квадратных метров."
   ]
  },
  {
   "cell_type": "code",
   "execution_count": 32,
   "metadata": {},
   "outputs": [
    {
     "data": {
      "text/plain": [
       "<Axes: >"
      ]
     },
     "execution_count": 32,
     "metadata": {},
     "output_type": "execute_result"
    },
    {
     "data": {
      "image/png": "[encoded data removed]",
      "text/plain": [
       "<Figure size 640x480 with 1 Axes>"
      ]
     },
     "metadata": {},
     "output_type": "display_data"
    }
   ],
   "source": [
    "data['last_price'].hist(bins=100, range=(0, 80000000))"
   ]
  },
  {
   "cell_type": "markdown",
   "metadata": {},
   "source": [
    "В гистограмме установлен максимальный диапазон значений - 80 миллионов, так как данные предоставлены по квартирам, а их стоимость в среднем редко превышает данные значение (определено из личного опыта человека, интересующегося рынком жилья). На полученной гистограмме можно увидеть, что самая распространенная стоимость квартир находится в диапазоне от 4,5 до 6 миллионов рублей."
   ]
  },
  {
   "cell_type": "code",
   "execution_count": 33,
   "metadata": {},
   "outputs": [
    {
     "data": {
      "text/plain": [
       "<Axes: >"
      ]
     },
     "execution_count": 33,
     "metadata": {},
     "output_type": "execute_result"
    },
    {
     "data": {
      "image/png": "[encoded data removed]",
      "text/plain": [
       "<Figure size 640x480 with 1 Axes>"
      ]
     },
     "metadata": {},
     "output_type": "display_data"
    }
   ],
   "source": [
    "data['rooms'].hist(bins=15, range=(0, 9))"
   ]
  },
  {
   "cell_type": "markdown",
   "metadata": {},
   "source": [
    "В гистограмме установлен максимальный диапазон значений - 9 комнат, так как данные предоставлены по квартирам; верхняя граница определена из позиции \"логически допустимо\". На полученной гистограмме можно увидеть, что самая распространенная комнатность квартир: 1 и 2х. "
   ]
  },
  {
   "cell_type": "code",
   "execution_count": 34,
   "metadata": {},
   "outputs": [
    {
     "data": {
      "text/plain": [
       "<Axes: >"
      ]
     },
     "execution_count": 34,
     "metadata": {},
     "output_type": "execute_result"
    },
    {
     "data": {
      "image/png": "[encoded data removed]",
      "text/plain": [
       "<Figure size 640x480 with 1 Axes>"
      ]
     },
     "metadata": {},
     "output_type": "display_data"
    }
   ],
   "source": [
    "data['ceiling_height'].hist(bins=50, range=(2.5, 5))"
   ]
  },
  {
   "cell_type": "markdown",
   "metadata": {},
   "source": [
    "В гистограмме установлен максимальный диапазон значений - 5 метров, так как данные предоставлены по квартирам; верхняя граница определена из позиции \"логически допустимо\" и из позиции собственных знаний. На полученной гистограмме можно увидеть, что самая распространенная высотность потолков в квартирах - 2.5 м, также популизированы потолки таких высот, как 2.7, 2.8 и 3 метра."
   ]
  },
  {
   "cell_type": "code",
   "execution_count": 35,
   "metadata": {},
   "outputs": [
    {
     "data": {
      "text/plain": [
       "<Axes: >"
      ]
     },
     "execution_count": 35,
     "metadata": {},
     "output_type": "execute_result"
    },
    {
     "data": {
      "image/png": "[encoded data removed]",
      "text/plain": [
       "<Figure size 640x480 with 1 Axes>"
      ]
     },
     "metadata": {},
     "output_type": "display_data"
    }
   ],
   "source": [
    "data['type_of_a_flat'].hist(bins=15)"
   ]
  },
  {
   "cell_type": "markdown",
   "metadata": {},
   "source": [
    "На полученной гистограмме можно увидеть, что самая преимущественно квартиры продаются не на первом и не на последнем этажах. Если сравнивать первый и последний этаж, то объявлений о продаже квартир на последних этажах немного больше, чем о продаже на первых."
   ]
  },
  {
   "cell_type": "code",
   "execution_count": 36,
   "metadata": {},
   "outputs": [
    {
     "data": {
      "text/plain": [
       "<Axes: >"
      ]
     },
     "execution_count": 36,
     "metadata": {},
     "output_type": "execute_result"
    },
    {
     "data": {
      "image/png": "[encoded data removed]",
      "text/plain": [
       "<Figure size 640x480 with 1 Axes>"
      ]
     },
     "metadata": {},
     "output_type": "display_data"
    }
   ],
   "source": [
    "data['floors_total'].hist(bins=60, range=(1, 30))"
   ]
  },
  {
   "cell_type": "markdown",
   "metadata": {},
   "source": [
    "На полученной гистограмме можно увидеть, что самая преимущественно квартиры в пятиэтажных и девятиэтажных домах. также нередки объявления о продаже квартир в домах с высотностью в 12, 17 и 24-25 этажей."
   ]
  },
  {
   "cell_type": "code",
   "execution_count": 37,
   "metadata": {},
   "outputs": [
    {
     "data": {
      "text/plain": [
       "<Axes: >"
      ]
     },
     "execution_count": 37,
     "metadata": {},
     "output_type": "execute_result"
    },
    {
     "data": {
      "image/png": "[encoded data removed]",
      "text/plain": [
       "<Figure size 640x480 with 1 Axes>"
      ]
     },
     "metadata": {},
     "output_type": "display_data"
    }
   ],
   "source": [
    "data['cityCenters_nearest'].hist(bins=60, range=(0, 23000))"
   ]
  },
  {
   "cell_type": "markdown",
   "metadata": {},
   "source": [
    "Максимальное значение диапазона определено логическим образом: по картам рассчитано расстояние от центра Санкт-Петербурга до таких населеных пунктов, как Кудрово и Мурино, и к ним прибавлен еще 1 км (1000 м) как погрешность на дорожные развилки. На полученной диаграмме можно увидеть, что самое распространенное местоположение квартир, выставленных на продажу, находится в чуть менее 15 км от центра населенного пункта. "
   ]
  },
  {
   "cell_type": "code",
   "execution_count": 38,
   "metadata": {},
   "outputs": [
    {
     "data": {
      "text/plain": [
       "<Axes: >"
      ]
     },
     "execution_count": 38,
     "metadata": {},
     "output_type": "execute_result"
    },
    {
     "data": {
      "image/png": "[encoded data removed]",
      "text/plain": [
       "<Figure size 640x480 with 1 Axes>"
      ]
     },
     "metadata": {},
     "output_type": "display_data"
    }
   ],
   "source": [
    "data['parks_nearest'].hist(bins=100, range=(0, 3000))"
   ]
  },
  {
   "cell_type": "markdown",
   "metadata": {},
   "source": [
    "Максимальное значение диапазона определено логическим образом: парк, находящийся дальше, чем 3 км от дома, не может считаться ближайшим... Гистограмма подтверждает этот ход мыслей: наиболее часто ближайший парк от продаваемой недвижимости находится в районе 350-550 метров."
   ]
  },
  {
   "cell_type": "code",
   "execution_count": 39,
   "metadata": {},
   "outputs": [
    {
     "name": "stdout",
     "output_type": "stream",
     "text": [
      "180.88863436982163\n",
      "95.0\n"
     ]
    },
    {
     "data": {
      "text/plain": [
       "count    20518.000000\n",
       "mean       180.888634\n",
       "std        219.727988\n",
       "min          1.000000\n",
       "25%         45.000000\n",
       "50%         95.000000\n",
       "75%        232.000000\n",
       "max       1580.000000\n",
       "Name: days_exposition, dtype: float64"
      ]
     },
     "execution_count": 39,
     "metadata": {},
     "output_type": "execute_result"
    },
    {
     "data": {
      "image/png": "[encoded data removed]",
      "text/plain": [
       "<Figure size 640x480 with 1 Axes>"
      ]
     },
     "metadata": {},
     "output_type": "display_data"
    }
   ],
   "source": [
    "data['days_exposition'].hist(bins=100, range=(0, 365))\n",
    "\n",
    "days_mean = data['days_exposition'].mean()\n",
    "days_median = data['days_exposition'].median()\n",
    "print(days_mean)\n",
    "print(days_median)\n",
    "data['days_exposition'].describe()"
   ]
  },
  {
   "cell_type": "markdown",
   "metadata": {},
   "source": [
    "В среднем продажа занимает 181 день, однако среднее, как статистическая величина, уж слишком неуcтойчива к выбросам и в своем вычислении задействует уникально долгие продажи. Такого нельзя сказать о медиане, которая равна 95 дням: это означает, что половина всех квартир была продана либо в течение этого времени, либо после него. На мой взгляд, необычайно быстрыми являются продажи, находящиеся в пределах первого квантиля, то есть в пределах 45 дней. Пользуясь такой же логикой, определим, что необычайно долгие продаже - те, которые превышают значения третьего квантиля, то есть 232 дня."
   ]
  },
  {
   "cell_type": "code",
   "execution_count": 40,
   "metadata": {},
   "outputs": [],
   "source": [
    "import seaborn as sns"
   ]
  },
  {
   "cell_type": "code",
   "execution_count": 41,
   "metadata": {},
   "outputs": [
    {
     "data": {
      "image/png": "[encoded data removed]",
      "text/plain": [
       "<Figure size 1200x600 with 1 Axes>"
      ]
     },
     "metadata": {},
     "output_type": "display_data"
    },
    {
     "name": "stdout",
     "output_type": "stream",
     "text": [
      "Коэффициент корреляции между ценой и общей площадью: 0.65\n"
     ]
    }
   ],
   "source": [
    "plt.figure(figsize=(12, 6))\n",
    "sns.scatterplot(x=data['total_area'], y=data['last_price'])\n",
    "plt.title('Зависимость цены от общей площади')\n",
    "plt.xlabel('Общая площадь')\n",
    "plt.ylabel('Цена')\n",
    "plt.show()\n",
    "\n",
    "correlation_total_area = data['total_area'].corr(data['last_price'])\n",
    "print(f\"Коэффициент корреляции между ценой и общей площадью: {correlation_total_area:.2f}\")\n"
   ]
  },
  {
   "cell_type": "markdown",
   "metadata": {},
   "source": [
    "Средняя цена в зависимости от общей площади имеет тенденцию расти с увеличением общей площади, однако наблюдаются аномалии. Коэффициент корреляции 0.65, что говорит о том, что зависимость проявляется выше среднего, однако не максимально сильно."
   ]
  },
  {
   "cell_type": "code",
   "execution_count": 42,
   "metadata": {},
   "outputs": [
    {
     "data": {
      "image/png": "[encoded data removed]",
      "text/plain": [
       "<Figure size 1200x600 with 1 Axes>"
      ]
     },
     "metadata": {},
     "output_type": "display_data"
    },
    {
     "name": "stdout",
     "output_type": "stream",
     "text": [
      "Коэффициент корреляции между ценой и жилой площадью: 0.59\n"
     ]
    }
   ],
   "source": [
    "plt.figure(figsize=(12, 6))\n",
    "sns.scatterplot(x=data['living_area'], y=data['last_price'])\n",
    "plt.title('Зависимость цены от жилой площади')\n",
    "plt.xlabel('Жилая площадь')\n",
    "plt.ylabel('Цена')\n",
    "plt.show()\n",
    "\n",
    "correlation_living_area = data['living_area'].corr(data['last_price'])\n",
    "print(f\"Коэффициент корреляции между ценой и жилой площадью: {correlation_living_area:.2f}\")\n"
   ]
  },
  {
   "cell_type": "markdown",
   "metadata": {},
   "source": [
    "Средняя цена в зависимости от жилой площади имеет тенденцию расти с увеличением жилой площади, однако наблюдаются артефакты. Коэффициент корреляции 0.59, что говорит о том, что зависимость проявляется выше среднего, однако не максимально сильно."
   ]
  },
  {
   "cell_type": "code",
   "execution_count": 43,
   "metadata": {},
   "outputs": [
    {
     "data": {
      "image/png": "[encoded data removed]",
      "text/plain": [
       "<Figure size 1200x600 with 1 Axes>"
      ]
     },
     "metadata": {},
     "output_type": "display_data"
    },
    {
     "name": "stdout",
     "output_type": "stream",
     "text": [
      "Коэффициент корреляции между ценой и площадью кухни: 0.52\n"
     ]
    }
   ],
   "source": [
    "plt.figure(figsize=(12, 6))\n",
    "sns.scatterplot(x=data['kitchen_area'], y=data['last_price'])\n",
    "plt.title('Зависимость цены от площади кухни')\n",
    "plt.xlabel('Площадь кухни')\n",
    "plt.ylabel('Цена')\n",
    "plt.show()\n",
    "\n",
    "correlation_kitchen_area = data['kitchen_area'].corr(data['last_price'])\n",
    "print(f\"Коэффициент корреляции между ценой и площадью кухни: {correlation_kitchen_area:.2f}\")"
   ]
  },
  {
   "cell_type": "markdown",
   "metadata": {},
   "source": [
    "Коэффициент корреляции 0.52, что говорит о том, что зависимость проявляется совсем чуть-чуть выше среднего. Из диаграммы рассеяния видно, что цена квартир с разными площадями кухонь практически не отличается."
   ]
  },
  {
   "cell_type": "code",
   "execution_count": 44,
   "metadata": {},
   "outputs": [
    {
     "data": {
      "image/png": "[encoded data removed]",
      "text/plain": [
       "<Figure size 1200x600 with 1 Axes>"
      ]
     },
     "metadata": {},
     "output_type": "display_data"
    },
    {
     "name": "stdout",
     "output_type": "stream",
     "text": [
      "Коэффициент корреляции между ценой и количеством комнат: 0.36\n"
     ]
    }
   ],
   "source": [
    "plt.figure(figsize=(12, 6))\n",
    "sns.scatterplot(x=data['rooms'], y=data['last_price'])\n",
    "plt.title('Зависимость цены от количества комнат')\n",
    "plt.xlabel('Количество комнат')\n",
    "plt.ylabel('Цена')\n",
    "plt.show()\n",
    "\n",
    "correlation_rooms = data['rooms'].corr(data['last_price'])\n",
    "print(f\"Коэффициент корреляции между ценой и количеством комнат: {correlation_rooms:.2f}\")"
   ]
  },
  {
   "cell_type": "markdown",
   "metadata": {},
   "source": [
    "Коэффициент корреляции между ценой и количеством комнат равен 0.36, что говорит о том, что прямо пропорциональная зависимость между ценой квартиры и количеством комнат в ней наблюдается, однако выражена несильно. Из диаграммы рассеяния видно, что до определенного количества комнат в квартире (5) цена на нее растет, однако потом наблюдается спад с последующим ростом цены на моменте 15 квартир. "
   ]
  },
  {
   "cell_type": "code",
   "execution_count": 45,
   "metadata": {},
   "outputs": [
    {
     "data": {
      "image/png": "[encoded data removed]",
      "text/plain": [
       "<Figure size 800x600 with 1 Axes>"
      ]
     },
     "metadata": {},
     "output_type": "display_data"
    }
   ],
   "source": [
    "type_of_a_flat_price_mean = data.groupby('type_of_a_flat')['last_price'].mean()\n",
    "\n",
    "plt.figure(figsize=(8, 6))\n",
    "sns.barplot(x=type_of_a_flat_price_mean.index, y=type_of_a_flat_price_mean.values)\n",
    "plt.title('Средняя цена в зависимости от этажа')\n",
    "plt.xlabel('Тип этажа')\n",
    "plt.ylabel('Средняя цена')\n",
    "plt.xticks(rotation=45)\n",
    "plt.show()"
   ]
  },
  {
   "cell_type": "markdown",
   "metadata": {},
   "source": [
    "Средняя цена в зависимости от этажа, на котором расположена квартира, показывает, что наиболее дорогие квартиры находятся на последнем этаже, самые дешевые - на первом."
   ]
  },
  {
   "cell_type": "code",
   "execution_count": 46,
   "metadata": {},
   "outputs": [
    {
     "data": {
      "image/png": "[encoded data removed]",
      "text/plain": [
       "<Figure size 1200x600 with 1 Axes>"
      ]
     },
     "metadata": {},
     "output_type": "display_data"
    }
   ],
   "source": [
    "weekday_price_mean = data.groupby('weekday')['last_price'].mean()\n",
    "\n",
    "plt.figure(figsize=(12, 6))\n",
    "sns.barplot(x=weekday_price_mean.index, y=weekday_price_mean.values)\n",
    "plt.title('Средняя цена в зависимости от дня недели размещения')\n",
    "plt.xlabel('День недели')\n",
    "plt.ylabel('Средняя цена')\n",
    "plt.xticks(rotation=45)\n",
    "plt.show()"
   ]
  },
  {
   "cell_type": "markdown",
   "metadata": {},
   "source": [
    "Средняя цена в зависимости ото дня публикации объявления примерно одинакова для каждого дня, однако объявления, выложенные в субботу, имеют более высокий ценник относительно объявлений, опубликованных в другие дни."
   ]
  },
  {
   "cell_type": "code",
   "execution_count": 47,
   "metadata": {},
   "outputs": [
    {
     "data": {
      "image/png": "[encoded data removed]",
      "text/plain": [
       "<Figure size 1200x600 with 1 Axes>"
      ]
     },
     "metadata": {},
     "output_type": "display_data"
    }
   ],
   "source": [
    "month_price_mean = data.groupby('month')['last_price'].mean()\n",
    "\n",
    "plt.figure(figsize=(12, 6))\n",
    "sns.barplot(x=month_price_mean.index, y=month_price_mean.values)\n",
    "plt.title('Средняя цена в зависимости от месяца размещения')\n",
    "plt.xlabel('Месяц')\n",
    "plt.ylabel('Средняя цена')\n",
    "plt.xticks(rotation=45)\n",
    "plt.show()"
   ]
  },
  {
   "cell_type": "markdown",
   "metadata": {},
   "source": [
    "Средняя цена в зависимости от месяца публикации объявления несильно отличается друг от друга, тем не менее можно заметить, что самые высокие цены указаны в объявлениях, опубликованных в декабре, а самые низкие - в октябре."
   ]
  },
  {
   "cell_type": "code",
   "execution_count": 48,
   "metadata": {},
   "outputs": [
    {
     "data": {
      "image/png": "[encoded data removed]",
      "text/plain": [
       "<Figure size 1200x600 with 1 Axes>"
      ]
     },
     "metadata": {},
     "output_type": "display_data"
    }
   ],
   "source": [
    "year_price_mean = data.groupby('year')['last_price'].mean()\n",
    "\n",
    "plt.figure(figsize=(12, 6))\n",
    "sns.barplot(x=year_price_mean.index, y=year_price_mean.values)\n",
    "plt.title('Средняя цена в зависимости от года размещения')\n",
    "plt.xlabel('Год')\n",
    "plt.ylabel('Средняя цена')\n",
    "plt.xticks(rotation=45)\n",
    "plt.show()"
   ]
  },
  {
   "cell_type": "markdown",
   "metadata": {},
   "source": [
    "Средняя цена в зависимости от года публикации объявления значительно отлчиается: максимальные цены были зафиксированы в 2014, минимальные - в 2018."
   ]
  },
  {
   "cell_type": "code",
   "execution_count": 49,
   "metadata": {},
   "outputs": [
    {
     "name": "stdout",
     "output_type": "stream",
     "text": [
      "Населенный пункт с самой высокой стоимостью квадратного метра:\n",
      "     locality_name  price_per_square_meter  ads_count\n",
      "7  Санкт-Петербург           114849.008794      15721\n",
      "\n",
      "Населенный пункт с самой низкой стоимостью квадратного метра:\n",
      "  locality_name  price_per_square_meter  ads_count\n",
      "1        Выборг            58141.909153        237\n"
     ]
    }
   ],
   "source": [
    "top_localities = data['locality_name'].value_counts().head(10).index\n",
    "top_localities_filter = data['locality_name'].isin(top_localities)\n",
    "data['price_per_square_meter'] = data['last_price'] / data['total_area']\n",
    "locality_price_per_sqm = data[top_localities_filter].groupby('locality_name')['price_per_square_meter'].mean().reset_index()\n",
    "locality_ads_count = data[top_localities_filter].groupby('locality_name')['last_price'].count().reset_index()\n",
    "locality_ads_count.columns = ['locality_name', 'ads_count']\n",
    "\n",
    "pivot_table = locality_price_per_sqm.merge(locality_ads_count, on='locality_name')\n",
    "\n",
    "highest_price = pivot_table[pivot_table['price_per_square_meter'] == pivot_table['price_per_square_meter'].max()]\n",
    "lowest_price = pivot_table[pivot_table['price_per_square_meter'] == pivot_table['price_per_square_meter'].min()]\n",
    "\n",
    "print(\"Населенный пункт с самой высокой стоимостью квадратного метра:\")\n",
    "print(highest_price)\n",
    "print()\n",
    "print(\"Населенный пункт с самой низкой стоимостью квадратного метра:\")\n",
    "print(lowest_price)"
   ]
  },
  {
   "cell_type": "code",
   "execution_count": 50,
   "metadata": {},
   "outputs": [
    {
     "data": {
      "image/png": "[encoded data removed]",
      "text/plain": [
       "<Figure size 1000x600 with 1 Axes>"
      ]
     },
     "metadata": {},
     "output_type": "display_data"
    }
   ],
   "source": [
    "spb_data = data[data['locality_name'] == 'Санкт-Петербург'].copy()\n",
    "\n",
    "spb_data['cityCenters_nearest_km'] = (spb_data['cityCenters_nearest'] / 1000).round()\n",
    "\n",
    "mean_price_by_distance = spb_data.groupby('cityCenters_nearest_km')['last_price'].mean()\n",
    "\n",
    "plt.figure(figsize=(10, 6))\n",
    "plt.plot(mean_price_by_distance.index, mean_price_by_distance.values, marker='o', linestyle='-')\n",
    "plt.title('Средняя цена в зависимости от расстояния до центра Санкт-Петербурга')\n",
    "plt.xlabel('Расстояние до центра (км)')\n",
    "plt.ylabel('Средняя цена')\n",
    "plt.grid(True)\n",
    "plt.show()"
   ]
  },
  {
   "cell_type": "markdown",
   "metadata": {},
   "source": [
    "На полученном графике можно заметить, что наиболее дорогие квартиры продаются в самом центре. Далее средняя цена падает до момента, пока расстояние от центра не становится равным приблизительно 3.5 км, после чего отмечается ее рост до момента, пока расстояние от цена не становится равным приблизетельно 7 км. Это может быть связано с тем, что  квартиры, находящиеся в пешей доступности от центра, однако не в самом центре, пользуются спросом на рынке. Наблюдается скачок средней цены на расстоянии примерно 27 км от центра."
   ]
  },
  {
   "cell_type": "markdown",
   "metadata": {},
   "source": [
    "### Общий вывод"
   ]
  },
  {
   "cell_type": "markdown",
   "metadata": {},
   "source": [
    "    На этапе знакомства с файлом была получена общая информация и значениях, содержащихся в таблице. Далее по этим значениям были построены гистограммы, сами значения были обработаны, и полсе этапа обработки их ожидало дальнейшее преобразование в виде проведения с ними математических операций во имя вычисления новых параметров характеристики объявлений недвижимости в Санкт-Петербурге и Ленинградской области. Результаты анализа представлены ниже.\n",
    "\n",
    "    1) быстрыми продажами можно считать те, которые произошли в первые 45 дней после публикации объявления, исключительно долгими - те, которые заняли более 232 дней; обычно же продажи происходят в первые 92 дня после публикации объявления;\n",
    "    2) средняя цена в зависимости от общей и жилой площадей, а также площади кухни, прямо пропорционально увеличивается: тем больше площадь, тем выше цена; коэффициенты корреляции в обеих зависимостях близки к 0.5; \n",
    "    5) средняя цена в зависимости от количества комнат не имеет зависимости: она пропорционально увеличивается до момента 5 комнат, далее замечен спад средней стоимости и ее резкий скачок на 15 комнатах, после чего снова следует спад; коэффициент корреляции этой зависимости равен 0.36\n",
    "    6) средняя цена в зависимости от этажа, на котором расположена квартира, показывает, что наиболее дорогие квартиры находятся на последнем этаже, самые дешевые - на первом;\n",
    "    7) средняя цена в зависимости ото дня публикации объявления примерно одинакова для каждого дня, однако объявления, выложенные в субботу, имеют более высокий ценник относительно объявлений, опубликованных в другие дни;\n",
    "    8) средняя цена в зависимости от месяца публикации объявления несильно отличается друг от друга, тем не менее можно заметить, что самые высокие цены указаны в объявлениях, опубликованных в декабре, а самые низкие - в октябре;\n",
    "    9) средняя цена в зависимости от года публикации объявления значительно отлчиается: максимальные цены были зафиксированы в 2014, минимальные - в 2018;\n",
    "    10) населенный пункт с самой высокой ценой квадратного метра - Санкт-Петербург, где средняя стоимость квадратного метра составляет 115 тысяч рублей, а с самой низкой ценой - Выборг, где средняя стоимость квадратного метра составляет 58 тысяч рублей;\n",
    "    11) наиболее дорогие квартиры продаются в самом центре; далее средняя цена падает до момента, пока расстояние от центра не становится равным приблизительно 3.5 км, после чего отмечается ее рост до момента, пока расстояние от центра не становится равным приблизительно 7 км. Это может быть связано с тем, что квартиры, находящиеся в пешей доступности от центра, однако не в самом центре, пользуются спросом на рынке. Наблюдается скачок средней цены на расстоянии примерно 27 км от центра."
   ]
  }
 ],
 "metadata": {
  "ExecuteTimeLog": [
   {
    "duration": 572,
    "start_time": "2023-10-12T16:14:20.602Z"
   },
   {
    "duration": 559,
    "start_time": "2023-10-12T16:14:59.198Z"
   },
   {
    "duration": 111,
    "start_time": "2023-10-12T16:15:19.905Z"
   },
   {
    "duration": 108,
    "start_time": "2023-10-12T16:16:04.341Z"
   },
   {
    "duration": 209,
    "start_time": "2023-10-12T16:16:28.206Z"
   },
   {
    "duration": 106,
    "start_time": "2023-10-12T16:16:58.429Z"
   },
   {
    "duration": 112,
    "start_time": "2023-10-12T16:19:45.666Z"
   },
   {
    "duration": 608,
    "start_time": "2023-10-16T12:35:58.719Z"
   },
   {
    "duration": 126,
    "start_time": "2023-10-16T12:36:18.961Z"
   },
   {
    "duration": 2481,
    "start_time": "2023-10-16T12:36:53.529Z"
   },
   {
    "duration": 14,
    "start_time": "2023-10-16T12:40:24.216Z"
   },
   {
    "duration": 45,
    "start_time": "2023-10-22T15:33:34.068Z"
   },
   {
    "duration": 3259,
    "start_time": "2023-10-22T15:33:51.371Z"
   },
   {
    "duration": 7,
    "start_time": "2023-10-22T15:33:59.130Z"
   },
   {
    "duration": 14,
    "start_time": "2023-10-22T15:35:38.408Z"
   },
   {
    "duration": 13,
    "start_time": "2023-10-22T15:35:50.374Z"
   },
   {
    "duration": 24,
    "start_time": "2023-10-22T15:36:01.798Z"
   },
   {
    "duration": 9,
    "start_time": "2023-10-22T15:36:55.324Z"
   },
   {
    "duration": 11,
    "start_time": "2023-10-22T15:37:18.629Z"
   },
   {
    "duration": 13,
    "start_time": "2023-10-22T15:38:26.277Z"
   },
   {
    "duration": 11,
    "start_time": "2023-10-22T15:38:49.626Z"
   },
   {
    "duration": 17,
    "start_time": "2023-10-22T15:39:09.183Z"
   },
   {
    "duration": 16,
    "start_time": "2023-10-22T15:40:28.163Z"
   },
   {
    "duration": 14,
    "start_time": "2023-10-22T15:40:58.413Z"
   },
   {
    "duration": 13,
    "start_time": "2023-10-22T15:41:08.485Z"
   },
   {
    "duration": 21,
    "start_time": "2023-10-22T15:41:46.526Z"
   },
   {
    "duration": 19,
    "start_time": "2023-10-22T15:42:14.476Z"
   },
   {
    "duration": 23,
    "start_time": "2023-10-22T15:42:48.646Z"
   },
   {
    "duration": 22,
    "start_time": "2023-10-22T15:43:06.081Z"
   },
   {
    "duration": 15,
    "start_time": "2023-10-22T15:43:18.430Z"
   },
   {
    "duration": 30,
    "start_time": "2023-10-22T15:45:39.376Z"
   },
   {
    "duration": 28,
    "start_time": "2023-10-22T15:46:36.027Z"
   },
   {
    "duration": 24,
    "start_time": "2023-10-22T15:47:57.330Z"
   },
   {
    "duration": 21,
    "start_time": "2023-10-22T15:56:26.707Z"
   },
   {
    "duration": 24,
    "start_time": "2023-10-22T15:58:42.774Z"
   },
   {
    "duration": 24,
    "start_time": "2023-10-22T15:59:00.521Z"
   },
   {
    "duration": 56,
    "start_time": "2023-10-22T16:05:14.123Z"
   },
   {
    "duration": 28,
    "start_time": "2023-10-22T16:05:23.520Z"
   },
   {
    "duration": 36,
    "start_time": "2023-10-22T16:05:32.076Z"
   },
   {
    "duration": 54,
    "start_time": "2023-10-22T16:06:28.789Z"
   },
   {
    "duration": 2698,
    "start_time": "2023-10-22T17:36:58.894Z"
   },
   {
    "duration": 33,
    "start_time": "2023-10-22T17:37:01.594Z"
   },
   {
    "duration": 59,
    "start_time": "2023-10-22T17:37:01.635Z"
   },
   {
    "duration": 60,
    "start_time": "2023-10-22T17:37:01.696Z"
   },
   {
    "duration": 12380,
    "start_time": "2023-10-22T17:40:42.725Z"
   },
   {
    "duration": 31,
    "start_time": "2023-10-22T17:43:18.388Z"
   },
   {
    "duration": 34,
    "start_time": "2023-10-22T17:43:25.683Z"
   },
   {
    "duration": 25,
    "start_time": "2023-10-22T17:45:15.669Z"
   },
   {
    "duration": 39,
    "start_time": "2023-10-22T17:45:24.212Z"
   },
   {
    "duration": 359,
    "start_time": "2023-10-22T17:46:30.460Z"
   },
   {
    "duration": 38,
    "start_time": "2023-10-22T17:49:07.298Z"
   },
   {
    "duration": 10,
    "start_time": "2023-10-22T17:49:23.033Z"
   },
   {
    "duration": 21,
    "start_time": "2023-10-22T17:49:28.999Z"
   },
   {
    "duration": 664,
    "start_time": "2023-10-22T17:49:34.257Z"
   },
   {
    "duration": 368,
    "start_time": "2023-10-22T17:50:42.322Z"
   },
   {
    "duration": 24,
    "start_time": "2023-10-22T17:51:12.024Z"
   },
   {
    "duration": 33,
    "start_time": "2023-10-22T17:51:34.228Z"
   },
   {
    "duration": 442,
    "start_time": "2023-10-22T17:52:06.872Z"
   },
   {
    "duration": 29,
    "start_time": "2023-10-22T17:53:22.613Z"
   },
   {
    "duration": 147,
    "start_time": "2023-10-22T17:54:09.413Z"
   },
   {
    "duration": 639,
    "start_time": "2023-10-22T17:54:20.522Z"
   },
   {
    "duration": 43,
    "start_time": "2023-10-24T03:20:11.253Z"
   },
   {
    "duration": 2664,
    "start_time": "2023-10-24T03:20:19.105Z"
   },
   {
    "duration": 8,
    "start_time": "2023-10-24T03:20:21.771Z"
   },
   {
    "duration": 37,
    "start_time": "2023-10-24T03:20:21.781Z"
   },
   {
    "duration": 43,
    "start_time": "2023-10-24T03:20:21.820Z"
   },
   {
    "duration": 23,
    "start_time": "2023-10-24T03:20:25.016Z"
   },
   {
    "duration": 15,
    "start_time": "2023-10-24T03:20:38.098Z"
   },
   {
    "duration": 15,
    "start_time": "2023-10-24T03:21:56.881Z"
   },
   {
    "duration": 16,
    "start_time": "2023-10-24T03:22:06.020Z"
   },
   {
    "duration": 6,
    "start_time": "2023-10-24T03:27:21.415Z"
   },
   {
    "duration": 62,
    "start_time": "2023-10-24T03:29:43.870Z"
   },
   {
    "duration": 2832,
    "start_time": "2023-10-24T04:57:06.653Z"
   },
   {
    "duration": 9,
    "start_time": "2023-10-24T04:57:09.487Z"
   },
   {
    "duration": 68,
    "start_time": "2023-10-24T04:57:09.498Z"
   },
   {
    "duration": 30,
    "start_time": "2023-10-24T04:57:09.568Z"
   },
   {
    "duration": 0,
    "start_time": "2023-10-24T04:57:09.600Z"
   },
   {
    "duration": 32,
    "start_time": "2023-10-24T04:57:33.288Z"
   },
   {
    "duration": 100,
    "start_time": "2023-10-24T04:59:25.401Z"
   },
   {
    "duration": 41,
    "start_time": "2023-10-24T07:16:23.190Z"
   },
   {
    "duration": 1784,
    "start_time": "2023-10-24T07:17:12.096Z"
   },
   {
    "duration": 16,
    "start_time": "2023-10-24T07:17:54.360Z"
   },
   {
    "duration": 98,
    "start_time": "2023-10-24T07:18:25.018Z"
   },
   {
    "duration": 50,
    "start_time": "2023-10-24T07:19:02.146Z"
   },
   {
    "duration": 38,
    "start_time": "2023-10-24T07:19:39.999Z"
   },
   {
    "duration": 22,
    "start_time": "2023-10-24T07:20:06.543Z"
   },
   {
    "duration": 19,
    "start_time": "2023-10-24T07:20:12.417Z"
   },
   {
    "duration": 1787,
    "start_time": "2023-10-24T07:41:01.357Z"
   },
   {
    "duration": 7,
    "start_time": "2023-10-24T07:41:13.965Z"
   },
   {
    "duration": 5,
    "start_time": "2023-10-24T07:42:24.928Z"
   },
   {
    "duration": 11,
    "start_time": "2023-10-24T07:44:11.104Z"
   },
   {
    "duration": 1773,
    "start_time": "2023-10-24T07:44:36.294Z"
   },
   {
    "duration": 1671,
    "start_time": "2023-10-24T07:44:44.591Z"
   },
   {
    "duration": 9,
    "start_time": "2023-10-24T07:44:46.265Z"
   },
   {
    "duration": 173,
    "start_time": "2023-10-24T07:44:46.275Z"
   },
   {
    "duration": 47,
    "start_time": "2023-10-24T07:44:46.449Z"
   },
   {
    "duration": 0,
    "start_time": "2023-10-24T07:44:46.498Z"
   },
   {
    "duration": 0,
    "start_time": "2023-10-24T07:44:46.499Z"
   },
   {
    "duration": 9,
    "start_time": "2023-10-24T07:44:48.896Z"
   },
   {
    "duration": 7,
    "start_time": "2023-10-24T07:45:36.788Z"
   },
   {
    "duration": 7,
    "start_time": "2023-10-24T07:46:08.877Z"
   },
   {
    "duration": 35,
    "start_time": "2023-10-24T07:46:17.822Z"
   },
   {
    "duration": 34,
    "start_time": "2023-10-24T07:47:47.930Z"
   },
   {
    "duration": 1703,
    "start_time": "2023-10-24T07:47:59.713Z"
   },
   {
    "duration": 10,
    "start_time": "2023-10-24T07:48:01.418Z"
   },
   {
    "duration": 47,
    "start_time": "2023-10-24T07:48:01.440Z"
   },
   {
    "duration": 62,
    "start_time": "2023-10-24T07:48:01.488Z"
   },
   {
    "duration": 20,
    "start_time": "2023-10-24T07:48:09.905Z"
   },
   {
    "duration": 8,
    "start_time": "2023-10-24T08:03:54.574Z"
   },
   {
    "duration": 7,
    "start_time": "2023-10-24T08:04:08.793Z"
   },
   {
    "duration": 12,
    "start_time": "2023-10-24T08:06:18.087Z"
   },
   {
    "duration": 11,
    "start_time": "2023-10-24T08:06:45.913Z"
   },
   {
    "duration": 13,
    "start_time": "2023-10-24T08:06:52.478Z"
   },
   {
    "duration": 69,
    "start_time": "2023-10-24T08:09:33.977Z"
   },
   {
    "duration": 19,
    "start_time": "2023-10-24T08:09:42.385Z"
   },
   {
    "duration": 15,
    "start_time": "2023-10-24T08:09:57.363Z"
   },
   {
    "duration": 48,
    "start_time": "2023-10-26T17:29:48.376Z"
   },
   {
    "duration": 2965,
    "start_time": "2023-10-26T17:29:56.813Z"
   },
   {
    "duration": 10,
    "start_time": "2023-10-26T17:29:59.780Z"
   },
   {
    "duration": 45,
    "start_time": "2023-10-26T17:29:59.791Z"
   },
   {
    "duration": 68,
    "start_time": "2023-10-26T17:29:59.837Z"
   },
   {
    "duration": 0,
    "start_time": "2023-10-26T17:29:59.907Z"
   },
   {
    "duration": 0,
    "start_time": "2023-10-26T17:29:59.908Z"
   },
   {
    "duration": 22,
    "start_time": "2023-10-26T17:30:05.887Z"
   },
   {
    "duration": 14,
    "start_time": "2023-10-26T17:31:30.208Z"
   },
   {
    "duration": 24,
    "start_time": "2023-10-26T17:31:42.443Z"
   },
   {
    "duration": 42,
    "start_time": "2023-10-26T17:33:59.145Z"
   },
   {
    "duration": 22,
    "start_time": "2023-10-26T17:36:38.939Z"
   },
   {
    "duration": 25,
    "start_time": "2023-10-26T17:39:07.274Z"
   },
   {
    "duration": 5653,
    "start_time": "2023-10-26T17:39:26.984Z"
   },
   {
    "duration": 657,
    "start_time": "2023-10-26T17:40:23.821Z"
   },
   {
    "duration": 424,
    "start_time": "2023-10-26T17:40:37.416Z"
   },
   {
    "duration": 18,
    "start_time": "2023-10-26T17:41:09.424Z"
   },
   {
    "duration": 575,
    "start_time": "2023-10-26T17:41:18.778Z"
   },
   {
    "duration": 293,
    "start_time": "2023-10-26T17:41:24.175Z"
   },
   {
    "duration": 3701,
    "start_time": "2023-10-26T17:41:37.357Z"
   },
   {
    "duration": 400,
    "start_time": "2023-10-26T17:41:58.223Z"
   },
   {
    "duration": 30,
    "start_time": "2023-10-26T17:42:09.615Z"
   },
   {
    "duration": 39,
    "start_time": "2023-10-26T17:43:49.804Z"
   },
   {
    "duration": 72,
    "start_time": "2023-10-26T17:46:52.546Z"
   },
   {
    "duration": 19,
    "start_time": "2023-10-26T17:48:30.848Z"
   },
   {
    "duration": 20,
    "start_time": "2023-10-26T17:48:40.219Z"
   },
   {
    "duration": 27,
    "start_time": "2023-10-26T17:57:48.780Z"
   },
   {
    "duration": 28,
    "start_time": "2023-10-26T17:58:07.387Z"
   },
   {
    "duration": 19,
    "start_time": "2023-10-26T17:58:12.270Z"
   },
   {
    "duration": 20,
    "start_time": "2023-10-26T17:58:50.884Z"
   },
   {
    "duration": 19,
    "start_time": "2023-10-26T17:59:12.117Z"
   },
   {
    "duration": 18,
    "start_time": "2023-10-26T17:59:19.064Z"
   },
   {
    "duration": 19,
    "start_time": "2023-10-26T17:59:51.178Z"
   },
   {
    "duration": 1579,
    "start_time": "2023-10-26T18:21:05.507Z"
   },
   {
    "duration": 1333,
    "start_time": "2023-10-26T18:27:39.458Z"
   },
   {
    "duration": 586,
    "start_time": "2023-10-26T18:29:42.006Z"
   },
   {
    "duration": 2202,
    "start_time": "2023-10-26T18:29:47.326Z"
   },
   {
    "duration": 1689,
    "start_time": "2023-10-26T18:33:25.339Z"
   },
   {
    "duration": 1801,
    "start_time": "2023-10-26T18:33:47.629Z"
   },
   {
    "duration": 1519,
    "start_time": "2023-10-26T18:33:56.518Z"
   },
   {
    "duration": 1247,
    "start_time": "2023-10-26T18:34:10.798Z"
   },
   {
    "duration": 1249,
    "start_time": "2023-10-26T18:36:15.159Z"
   },
   {
    "duration": 270,
    "start_time": "2023-10-26T18:49:59.123Z"
   },
   {
    "duration": 23,
    "start_time": "2023-10-26T18:50:03.481Z"
   },
   {
    "duration": 108,
    "start_time": "2023-10-26T18:50:11.447Z"
   },
   {
    "duration": 174,
    "start_time": "2023-10-26T18:50:24.605Z"
   },
   {
    "duration": 317,
    "start_time": "2023-10-26T18:50:38.122Z"
   },
   {
    "duration": 118,
    "start_time": "2023-10-26T18:50:45.779Z"
   },
   {
    "duration": 22,
    "start_time": "2023-10-26T18:53:03.221Z"
   },
   {
    "duration": 28,
    "start_time": "2023-10-26T18:53:45.027Z"
   },
   {
    "duration": 113,
    "start_time": "2023-10-26T18:54:28.635Z"
   },
   {
    "duration": 107,
    "start_time": "2023-10-26T18:55:05.521Z"
   },
   {
    "duration": 31,
    "start_time": "2023-10-26T18:55:31.542Z"
   },
   {
    "duration": 35,
    "start_time": "2023-10-26T18:55:54.931Z"
   },
   {
    "duration": 25,
    "start_time": "2023-10-26T19:00:23.310Z"
   },
   {
    "duration": 46,
    "start_time": "2023-10-26T19:00:40.742Z"
   },
   {
    "duration": 25,
    "start_time": "2023-10-26T19:01:41.981Z"
   },
   {
    "duration": 2654,
    "start_time": "2023-10-26T19:02:03.379Z"
   },
   {
    "duration": 2099,
    "start_time": "2023-10-26T19:02:15.570Z"
   },
   {
    "duration": 457,
    "start_time": "2023-10-26T19:05:56.600Z"
   },
   {
    "duration": 2714,
    "start_time": "2023-10-26T19:06:35.621Z"
   },
   {
    "duration": 2500,
    "start_time": "2023-10-26T19:18:08.471Z"
   },
   {
    "duration": 1689,
    "start_time": "2023-10-26T19:22:16.423Z"
   },
   {
    "duration": 1250,
    "start_time": "2023-10-26T19:27:58.223Z"
   },
   {
    "duration": 1342,
    "start_time": "2023-10-26T19:29:05.203Z"
   },
   {
    "duration": 829,
    "start_time": "2023-10-26T19:44:24.062Z"
   },
   {
    "duration": 35,
    "start_time": "2023-10-26T19:45:00.123Z"
   },
   {
    "duration": 305,
    "start_time": "2023-10-26T19:45:29.883Z"
   },
   {
    "duration": 306,
    "start_time": "2023-10-26T19:45:36.310Z"
   },
   {
    "duration": 294,
    "start_time": "2023-10-26T19:45:58.210Z"
   },
   {
    "duration": 394,
    "start_time": "2023-10-26T19:47:32.370Z"
   },
   {
    "duration": 47,
    "start_time": "2023-10-27T10:40:16.673Z"
   },
   {
    "duration": 3127,
    "start_time": "2023-10-27T10:40:20.783Z"
   },
   {
    "duration": 10,
    "start_time": "2023-10-27T10:40:23.911Z"
   },
   {
    "duration": 60,
    "start_time": "2023-10-27T10:40:23.923Z"
   },
   {
    "duration": 62,
    "start_time": "2023-10-27T10:40:23.985Z"
   },
   {
    "duration": 15,
    "start_time": "2023-10-27T10:40:24.049Z"
   },
   {
    "duration": 289,
    "start_time": "2023-10-27T10:40:24.066Z"
   },
   {
    "duration": 16,
    "start_time": "2023-10-27T10:40:24.363Z"
   },
   {
    "duration": 161,
    "start_time": "2023-10-27T10:40:37.664Z"
   },
   {
    "duration": 5,
    "start_time": "2023-10-27T10:40:52.047Z"
   },
   {
    "duration": 190,
    "start_time": "2023-10-27T10:46:53.805Z"
   },
   {
    "duration": 271,
    "start_time": "2023-10-27T10:47:07.747Z"
   },
   {
    "duration": 5,
    "start_time": "2023-10-27T10:47:50.031Z"
   },
   {
    "duration": 6,
    "start_time": "2023-10-27T11:02:23.306Z"
   },
   {
    "duration": 137,
    "start_time": "2023-10-27T11:03:09.159Z"
   },
   {
    "duration": 226,
    "start_time": "2023-10-27T11:03:13.718Z"
   },
   {
    "duration": 123,
    "start_time": "2023-10-27T11:03:20.294Z"
   },
   {
    "duration": 124,
    "start_time": "2023-10-27T11:03:26.114Z"
   },
   {
    "duration": 103,
    "start_time": "2023-10-27T11:07:39.036Z"
   },
   {
    "duration": 34,
    "start_time": "2023-10-27T11:08:14.166Z"
   },
   {
    "duration": 98,
    "start_time": "2023-10-27T11:08:19.093Z"
   },
   {
    "duration": 106,
    "start_time": "2023-10-27T11:09:18.873Z"
   },
   {
    "duration": 144,
    "start_time": "2023-10-27T11:36:11.365Z"
   },
   {
    "duration": 7,
    "start_time": "2023-10-27T11:36:24.229Z"
   },
   {
    "duration": 2047,
    "start_time": "2023-10-27T11:36:34.306Z"
   },
   {
    "duration": 9,
    "start_time": "2023-10-27T11:36:36.355Z"
   },
   {
    "duration": 70,
    "start_time": "2023-10-27T11:36:36.366Z"
   },
   {
    "duration": 84,
    "start_time": "2023-10-27T11:36:36.438Z"
   },
   {
    "duration": 19,
    "start_time": "2023-10-27T11:36:36.524Z"
   },
   {
    "duration": 311,
    "start_time": "2023-10-27T11:36:36.544Z"
   },
   {
    "duration": 7,
    "start_time": "2023-10-27T11:36:36.857Z"
   },
   {
    "duration": 1986,
    "start_time": "2023-10-27T11:36:45.656Z"
   },
   {
    "duration": 2008,
    "start_time": "2023-10-27T11:36:48.271Z"
   },
   {
    "duration": 12,
    "start_time": "2023-10-27T11:36:50.281Z"
   },
   {
    "duration": 43,
    "start_time": "2023-10-27T11:36:50.307Z"
   },
   {
    "duration": 73,
    "start_time": "2023-10-27T11:36:50.351Z"
   },
   {
    "duration": 17,
    "start_time": "2023-10-27T11:36:50.427Z"
   },
   {
    "duration": 290,
    "start_time": "2023-10-27T11:36:50.445Z"
   },
   {
    "duration": 7,
    "start_time": "2023-10-27T11:36:50.737Z"
   },
   {
    "duration": 8,
    "start_time": "2023-10-27T11:36:51.378Z"
   },
   {
    "duration": 3,
    "start_time": "2023-10-27T11:38:46.730Z"
   },
   {
    "duration": 125,
    "start_time": "2023-10-27T11:38:53.835Z"
   },
   {
    "duration": 189,
    "start_time": "2023-10-27T11:39:13.855Z"
   },
   {
    "duration": 124,
    "start_time": "2023-10-27T11:39:24.533Z"
   },
   {
    "duration": 118,
    "start_time": "2023-10-27T11:39:29.036Z"
   },
   {
    "duration": 1365,
    "start_time": "2023-10-27T11:39:34.031Z"
   },
   {
    "duration": 115,
    "start_time": "2023-10-27T11:39:42.901Z"
   },
   {
    "duration": 284,
    "start_time": "2023-10-27T11:39:48.873Z"
   },
   {
    "duration": 112,
    "start_time": "2023-10-27T11:42:27.395Z"
   },
   {
    "duration": 117,
    "start_time": "2023-10-27T11:50:38.876Z"
   },
   {
    "duration": 152,
    "start_time": "2023-10-27T11:50:45.705Z"
   },
   {
    "duration": 161,
    "start_time": "2023-10-27T11:50:50.316Z"
   },
   {
    "duration": 662,
    "start_time": "2023-10-27T11:50:54.613Z"
   },
   {
    "duration": 1521,
    "start_time": "2023-10-27T11:51:02.121Z"
   },
   {
    "duration": 942,
    "start_time": "2023-10-27T11:51:09.673Z"
   },
   {
    "duration": 978,
    "start_time": "2023-10-27T11:51:18.702Z"
   },
   {
    "duration": 135,
    "start_time": "2023-10-27T11:51:31.182Z"
   },
   {
    "duration": 280,
    "start_time": "2023-10-27T11:51:44.507Z"
   },
   {
    "duration": 9,
    "start_time": "2023-10-27T12:00:05.134Z"
   },
   {
    "duration": 141,
    "start_time": "2023-10-27T12:21:05.882Z"
   },
   {
    "duration": 149,
    "start_time": "2023-10-27T12:21:16.645Z"
   },
   {
    "duration": 517,
    "start_time": "2023-10-27T12:21:28.862Z"
   },
   {
    "duration": 2673,
    "start_time": "2023-10-27T12:22:00.646Z"
   },
   {
    "duration": 854,
    "start_time": "2023-10-27T12:22:06.895Z"
   },
   {
    "duration": 1273,
    "start_time": "2023-10-27T12:22:26.678Z"
   },
   {
    "duration": 600,
    "start_time": "2023-10-27T12:22:32.488Z"
   },
   {
    "duration": 712,
    "start_time": "2023-10-27T12:22:36.882Z"
   },
   {
    "duration": 112,
    "start_time": "2023-10-27T12:22:45.290Z"
   },
   {
    "duration": 136,
    "start_time": "2023-10-27T12:23:23.398Z"
   },
   {
    "duration": 133,
    "start_time": "2023-10-27T12:23:30.761Z"
   },
   {
    "duration": 3146,
    "start_time": "2023-10-28T13:26:28.816Z"
   },
   {
    "duration": 72,
    "start_time": "2023-10-28T13:27:26.274Z"
   },
   {
    "duration": 569,
    "start_time": "2023-10-28T13:27:36.810Z"
   },
   {
    "duration": 17,
    "start_time": "2023-10-28T13:35:42.152Z"
   },
   {
    "duration": 17,
    "start_time": "2023-10-28T13:35:52.902Z"
   },
   {
    "duration": 14,
    "start_time": "2023-10-28T13:36:04.325Z"
   },
   {
    "duration": 3112,
    "start_time": "2023-10-29T13:09:50.116Z"
   },
   {
    "duration": 14,
    "start_time": "2023-10-29T13:09:53.231Z"
   },
   {
    "duration": 109,
    "start_time": "2023-10-29T13:09:53.247Z"
   },
   {
    "duration": 65,
    "start_time": "2023-10-29T13:09:53.358Z"
   },
   {
    "duration": 39,
    "start_time": "2023-10-29T13:09:53.424Z"
   },
   {
    "duration": 419,
    "start_time": "2023-10-29T13:09:53.465Z"
   },
   {
    "duration": 68,
    "start_time": "2023-10-29T13:21:08.591Z"
   },
   {
    "duration": 6,
    "start_time": "2023-10-29T13:25:45.572Z"
   },
   {
    "duration": 121,
    "start_time": "2023-10-29T13:25:48.992Z"
   },
   {
    "duration": 78,
    "start_time": "2023-10-29T13:28:02.187Z"
   },
   {
    "duration": 156,
    "start_time": "2023-10-29T13:29:15.292Z"
   },
   {
    "duration": 184,
    "start_time": "2023-10-29T13:29:22.470Z"
   },
   {
    "duration": 69,
    "start_time": "2023-10-29T13:30:14.965Z"
   },
   {
    "duration": 73,
    "start_time": "2023-10-29T13:30:36.517Z"
   },
   {
    "duration": 164,
    "start_time": "2023-10-29T13:33:03.835Z"
   },
   {
    "duration": 93,
    "start_time": "2023-10-29T13:34:31.393Z"
   },
   {
    "duration": 9,
    "start_time": "2023-10-29T13:34:39.845Z"
   },
   {
    "duration": 3676,
    "start_time": "2023-10-29T15:27:31.734Z"
   },
   {
    "duration": 121,
    "start_time": "2023-10-29T15:30:24.731Z"
   },
   {
    "duration": 15,
    "start_time": "2023-10-29T15:30:39.678Z"
   },
   {
    "duration": 2354,
    "start_time": "2023-10-29T15:38:50.641Z"
   },
   {
    "duration": 2317,
    "start_time": "2023-10-29T15:40:21.099Z"
   },
   {
    "duration": 3434,
    "start_time": "2023-10-30T16:56:14.125Z"
   },
   {
    "duration": 2161,
    "start_time": "2023-10-30T16:58:01.150Z"
   },
   {
    "duration": 2138,
    "start_time": "2023-10-30T16:58:56.137Z"
   },
   {
    "duration": 2208,
    "start_time": "2023-10-30T16:59:01.521Z"
   },
   {
    "duration": 5473,
    "start_time": "2023-11-02T11:11:04.808Z"
   },
   {
    "duration": 4020,
    "start_time": "2023-11-02T11:11:53.862Z"
   },
   {
    "duration": 4117,
    "start_time": "2023-11-02T11:12:14.681Z"
   },
   {
    "duration": 2214,
    "start_time": "2023-11-02T11:13:50.039Z"
   },
   {
    "duration": 124,
    "start_time": "2023-11-02T11:20:11.832Z"
   },
   {
    "duration": 45,
    "start_time": "2023-11-02T11:28:12.379Z"
   },
   {
    "duration": 36,
    "start_time": "2023-11-02T11:29:32.257Z"
   },
   {
    "duration": 17,
    "start_time": "2023-11-02T11:37:50.005Z"
   },
   {
    "duration": 95,
    "start_time": "2023-11-02T11:43:30.354Z"
   },
   {
    "duration": 74,
    "start_time": "2023-11-02T11:44:55.390Z"
   },
   {
    "duration": 10,
    "start_time": "2023-11-02T11:45:07.918Z"
   },
   {
    "duration": 81,
    "start_time": "2023-11-02T11:45:27.545Z"
   },
   {
    "duration": 83,
    "start_time": "2023-11-02T11:45:34.584Z"
   },
   {
    "duration": 2226,
    "start_time": "2023-11-02T11:50:15.300Z"
   },
   {
    "duration": 25,
    "start_time": "2023-11-02T11:51:05.347Z"
   },
   {
    "duration": 30,
    "start_time": "2023-11-02T11:51:23.424Z"
   },
   {
    "duration": 40,
    "start_time": "2023-11-02T11:51:26.876Z"
   },
   {
    "duration": 85,
    "start_time": "2023-11-02T11:51:31.173Z"
   },
   {
    "duration": 297,
    "start_time": "2023-11-02T11:51:34.179Z"
   },
   {
    "duration": 323,
    "start_time": "2023-11-02T11:51:48.696Z"
   },
   {
    "duration": 405,
    "start_time": "2023-11-02T11:51:58.439Z"
   },
   {
    "duration": 298,
    "start_time": "2023-11-02T11:52:15.272Z"
   },
   {
    "duration": 48,
    "start_time": "2023-11-03T17:40:01.781Z"
   },
   {
    "duration": 3239,
    "start_time": "2023-11-03T17:40:07.364Z"
   },
   {
    "duration": 10,
    "start_time": "2023-11-03T17:40:10.606Z"
   },
   {
    "duration": 39,
    "start_time": "2023-11-03T17:40:10.618Z"
   },
   {
    "duration": 29,
    "start_time": "2023-11-03T17:40:10.659Z"
   },
   {
    "duration": 103,
    "start_time": "2023-11-03T17:40:10.690Z"
   },
   {
    "duration": 329,
    "start_time": "2023-11-03T17:40:10.795Z"
   },
   {
    "duration": 2722,
    "start_time": "2023-11-03T17:40:11.126Z"
   },
   {
    "duration": 0,
    "start_time": "2023-11-03T17:40:13.850Z"
   },
   {
    "duration": 0,
    "start_time": "2023-11-03T17:40:13.852Z"
   },
   {
    "duration": 0,
    "start_time": "2023-11-03T17:40:13.853Z"
   },
   {
    "duration": 0,
    "start_time": "2023-11-03T17:40:13.855Z"
   },
   {
    "duration": 0,
    "start_time": "2023-11-03T17:40:13.858Z"
   },
   {
    "duration": 198,
    "start_time": "2023-11-03T17:40:22.923Z"
   },
   {
    "duration": 5,
    "start_time": "2023-11-03T17:40:35.424Z"
   },
   {
    "duration": 6,
    "start_time": "2023-11-03T17:40:40.388Z"
   },
   {
    "duration": 8,
    "start_time": "2023-11-03T17:40:46.004Z"
   },
   {
    "duration": 190,
    "start_time": "2023-11-03T17:41:37.717Z"
   },
   {
    "duration": 189,
    "start_time": "2023-11-03T17:41:44.681Z"
   },
   {
    "duration": 273,
    "start_time": "2023-11-03T17:41:51.468Z"
   },
   {
    "duration": 199,
    "start_time": "2023-11-03T17:42:09.232Z"
   },
   {
    "duration": 196,
    "start_time": "2023-11-03T17:42:13.139Z"
   },
   {
    "duration": 193,
    "start_time": "2023-11-03T17:42:47.131Z"
   },
   {
    "duration": 195,
    "start_time": "2023-11-03T17:44:21.515Z"
   },
   {
    "duration": 977,
    "start_time": "2023-11-03T17:44:33.983Z"
   },
   {
    "duration": 5,
    "start_time": "2023-11-03T17:44:47.232Z"
   },
   {
    "duration": 6,
    "start_time": "2023-11-03T17:44:56.490Z"
   },
   {
    "duration": 5,
    "start_time": "2023-11-03T17:45:06.760Z"
   },
   {
    "duration": 194,
    "start_time": "2023-11-03T17:45:55.470Z"
   },
   {
    "duration": 264,
    "start_time": "2023-11-03T17:46:13.554Z"
   },
   {
    "duration": 257,
    "start_time": "2023-11-03T17:46:27.485Z"
   },
   {
    "duration": 158,
    "start_time": "2023-11-03T17:46:34.719Z"
   },
   {
    "duration": 1457,
    "start_time": "2023-11-03T17:46:40.031Z"
   },
   {
    "duration": 225,
    "start_time": "2023-11-03T17:46:51.482Z"
   },
   {
    "duration": 416,
    "start_time": "2023-11-03T17:47:02.128Z"
   },
   {
    "duration": 266,
    "start_time": "2023-11-03T17:47:09.063Z"
   },
   {
    "duration": 271,
    "start_time": "2023-11-03T17:48:34.962Z"
   },
   {
    "duration": 4,
    "start_time": "2023-11-03T17:49:10.582Z"
   },
   {
    "duration": 6,
    "start_time": "2023-11-03T17:49:16.058Z"
   },
   {
    "duration": 7,
    "start_time": "2023-11-03T17:49:21.747Z"
   },
   {
    "duration": 200,
    "start_time": "2023-11-03T17:49:44.405Z"
   },
   {
    "duration": 184,
    "start_time": "2023-11-03T17:49:53.221Z"
   },
   {
    "duration": 148,
    "start_time": "2023-11-03T17:50:00.320Z"
   },
   {
    "duration": 293,
    "start_time": "2023-11-03T17:50:05.598Z"
   },
   {
    "duration": 133,
    "start_time": "2023-11-03T17:50:09.791Z"
   },
   {
    "duration": 141,
    "start_time": "2023-11-03T17:50:16.501Z"
   },
   {
    "duration": 157,
    "start_time": "2023-11-03T17:50:23.250Z"
   },
   {
    "duration": 157,
    "start_time": "2023-11-03T17:50:32.312Z"
   },
   {
    "duration": 350,
    "start_time": "2023-11-03T17:50:43.031Z"
   },
   {
    "duration": 132,
    "start_time": "2023-11-03T17:50:48.629Z"
   },
   {
    "duration": 136,
    "start_time": "2023-11-03T17:51:02.875Z"
   },
   {
    "duration": 155,
    "start_time": "2023-11-03T17:51:17.109Z"
   },
   {
    "duration": 176,
    "start_time": "2023-11-03T17:51:32.948Z"
   },
   {
    "duration": 170,
    "start_time": "2023-11-03T17:51:38.932Z"
   },
   {
    "duration": 184,
    "start_time": "2023-11-03T17:51:43.683Z"
   },
   {
    "duration": 147,
    "start_time": "2023-11-03T17:51:47.591Z"
   },
   {
    "duration": 136,
    "start_time": "2023-11-03T17:52:44.955Z"
   },
   {
    "duration": 181,
    "start_time": "2023-11-03T17:52:54.375Z"
   },
   {
    "duration": 149,
    "start_time": "2023-11-03T17:53:07.289Z"
   },
   {
    "duration": 143,
    "start_time": "2023-11-03T17:53:11.295Z"
   },
   {
    "duration": 188,
    "start_time": "2023-11-03T17:53:15.130Z"
   },
   {
    "duration": 266,
    "start_time": "2023-11-03T17:53:19.554Z"
   },
   {
    "duration": 144,
    "start_time": "2023-11-03T17:53:29.430Z"
   },
   {
    "duration": 187,
    "start_time": "2023-11-03T17:53:38.744Z"
   },
   {
    "duration": 117,
    "start_time": "2023-11-03T17:54:23.287Z"
   },
   {
    "duration": 144,
    "start_time": "2023-11-03T17:54:31.506Z"
   },
   {
    "duration": 246,
    "start_time": "2023-11-03T17:54:35.101Z"
   },
   {
    "duration": 193,
    "start_time": "2023-11-03T17:54:40.207Z"
   },
   {
    "duration": 405,
    "start_time": "2023-11-03T17:54:44.274Z"
   },
   {
    "duration": 143,
    "start_time": "2023-11-03T17:57:42.660Z"
   },
   {
    "duration": 1265,
    "start_time": "2023-11-03T17:58:06.788Z"
   },
   {
    "duration": 166,
    "start_time": "2023-11-03T17:58:33.971Z"
   },
   {
    "duration": 7,
    "start_time": "2023-11-03T18:00:24.503Z"
   },
   {
    "duration": 6,
    "start_time": "2023-11-03T18:00:42.381Z"
   },
   {
    "duration": 168,
    "start_time": "2023-11-03T18:01:41.049Z"
   },
   {
    "duration": 144,
    "start_time": "2023-11-03T18:03:26.732Z"
   },
   {
    "duration": 228,
    "start_time": "2023-11-03T18:03:33.612Z"
   },
   {
    "duration": 201,
    "start_time": "2023-11-03T18:04:29.522Z"
   },
   {
    "duration": 193,
    "start_time": "2023-11-03T18:04:40.311Z"
   },
   {
    "duration": 196,
    "start_time": "2023-11-03T18:04:45.397Z"
   },
   {
    "duration": 216,
    "start_time": "2023-11-03T18:04:51.063Z"
   },
   {
    "duration": 243,
    "start_time": "2023-11-03T18:04:56.260Z"
   },
   {
    "duration": 243,
    "start_time": "2023-11-03T18:05:00.303Z"
   },
   {
    "duration": 254,
    "start_time": "2023-11-03T18:05:06.767Z"
   },
   {
    "duration": 247,
    "start_time": "2023-11-03T18:06:45.378Z"
   },
   {
    "duration": 496,
    "start_time": "2023-11-03T18:06:52.850Z"
   },
   {
    "duration": 244,
    "start_time": "2023-11-03T18:07:45.740Z"
   },
   {
    "duration": 239,
    "start_time": "2023-11-03T18:08:39.297Z"
   },
   {
    "duration": 259,
    "start_time": "2023-11-03T18:08:45.735Z"
   },
   {
    "duration": 220,
    "start_time": "2023-11-03T18:39:04.411Z"
   },
   {
    "duration": 191,
    "start_time": "2023-11-03T18:42:05.840Z"
   },
   {
    "duration": 90,
    "start_time": "2023-11-03T18:44:00.174Z"
   },
   {
    "duration": 189,
    "start_time": "2023-11-03T18:45:18.976Z"
   },
   {
    "duration": 798,
    "start_time": "2023-11-03T18:48:04.068Z"
   },
   {
    "duration": 257,
    "start_time": "2023-11-03T18:48:18.338Z"
   },
   {
    "duration": 288,
    "start_time": "2023-11-03T18:56:06.103Z"
   },
   {
    "duration": 192,
    "start_time": "2023-11-03T18:56:22.056Z"
   },
   {
    "duration": 151,
    "start_time": "2023-11-03T18:58:13.314Z"
   },
   {
    "duration": 435,
    "start_time": "2023-11-03T18:58:28.554Z"
   },
   {
    "duration": 166,
    "start_time": "2023-11-03T18:58:32.567Z"
   },
   {
    "duration": 192,
    "start_time": "2023-11-03T18:58:39.400Z"
   },
   {
    "duration": 190,
    "start_time": "2023-11-03T19:01:16.679Z"
   },
   {
    "duration": 349,
    "start_time": "2023-11-03T19:06:24.408Z"
   },
   {
    "duration": 261,
    "start_time": "2023-11-03T19:06:37.198Z"
   },
   {
    "duration": 269,
    "start_time": "2023-11-03T19:11:32.846Z"
   },
   {
    "duration": 240,
    "start_time": "2023-11-03T19:11:41.273Z"
   },
   {
    "duration": 3302,
    "start_time": "2023-11-03T22:20:51.608Z"
   },
   {
    "duration": 10,
    "start_time": "2023-11-03T22:20:54.912Z"
   },
   {
    "duration": 33,
    "start_time": "2023-11-03T22:20:54.923Z"
   },
   {
    "duration": 44,
    "start_time": "2023-11-03T22:20:54.958Z"
   },
   {
    "duration": 80,
    "start_time": "2023-11-03T22:20:55.004Z"
   },
   {
    "duration": 311,
    "start_time": "2023-11-03T22:20:55.085Z"
   },
   {
    "duration": 2707,
    "start_time": "2023-11-03T22:20:55.400Z"
   },
   {
    "duration": 0,
    "start_time": "2023-11-03T22:20:58.109Z"
   },
   {
    "duration": 0,
    "start_time": "2023-11-03T22:20:58.110Z"
   },
   {
    "duration": 0,
    "start_time": "2023-11-03T22:20:58.112Z"
   },
   {
    "duration": 0,
    "start_time": "2023-11-03T22:20:58.113Z"
   },
   {
    "duration": 0,
    "start_time": "2023-11-03T22:20:58.114Z"
   },
   {
    "duration": 0,
    "start_time": "2023-11-03T22:20:58.116Z"
   },
   {
    "duration": 0,
    "start_time": "2023-11-03T22:20:58.117Z"
   },
   {
    "duration": 0,
    "start_time": "2023-11-03T22:20:58.118Z"
   },
   {
    "duration": 0,
    "start_time": "2023-11-03T22:20:58.119Z"
   },
   {
    "duration": 0,
    "start_time": "2023-11-03T22:20:58.120Z"
   },
   {
    "duration": 0,
    "start_time": "2023-11-03T22:20:58.121Z"
   },
   {
    "duration": 0,
    "start_time": "2023-11-03T22:20:58.122Z"
   },
   {
    "duration": 0,
    "start_time": "2023-11-03T22:20:58.123Z"
   },
   {
    "duration": 0,
    "start_time": "2023-11-03T22:20:58.124Z"
   },
   {
    "duration": 1,
    "start_time": "2023-11-03T22:20:58.125Z"
   },
   {
    "duration": 0,
    "start_time": "2023-11-03T22:20:58.127Z"
   },
   {
    "duration": 21,
    "start_time": "2023-11-03T22:21:01.561Z"
   },
   {
    "duration": 21,
    "start_time": "2023-11-03T22:21:41.077Z"
   },
   {
    "duration": 18,
    "start_time": "2023-11-03T22:21:58.537Z"
   },
   {
    "duration": 46,
    "start_time": "2023-11-03T22:22:44.314Z"
   },
   {
    "duration": 0,
    "start_time": "2023-11-03T22:24:32.113Z"
   },
   {
    "duration": 0,
    "start_time": "2023-11-03T22:24:32.115Z"
   },
   {
    "duration": 193,
    "start_time": "2023-11-03T22:28:28.032Z"
   },
   {
    "duration": 85,
    "start_time": "2023-11-03T22:28:28.227Z"
   },
   {
    "duration": 7502,
    "start_time": "2023-11-03T22:28:36.732Z"
   },
   {
    "duration": 66,
    "start_time": "2023-11-03T22:29:14.848Z"
   },
   {
    "duration": 36,
    "start_time": "2023-11-03T22:29:34.588Z"
   },
   {
    "duration": 27,
    "start_time": "2023-11-03T22:30:41.056Z"
   },
   {
    "duration": 32,
    "start_time": "2023-11-03T22:30:59.635Z"
   },
   {
    "duration": 27,
    "start_time": "2023-11-03T22:31:09.161Z"
   },
   {
    "duration": 30,
    "start_time": "2023-11-03T22:31:28.106Z"
   },
   {
    "duration": 176,
    "start_time": "2023-11-03T22:32:19.638Z"
   },
   {
    "duration": 159,
    "start_time": "2023-11-03T22:32:56.031Z"
   },
   {
    "duration": 15,
    "start_time": "2023-11-03T22:33:57.776Z"
   },
   {
    "duration": 17,
    "start_time": "2023-11-03T22:34:34.654Z"
   },
   {
    "duration": 1417,
    "start_time": "2023-11-03T22:35:07.051Z"
   },
   {
    "duration": 1818,
    "start_time": "2023-11-03T22:35:13.087Z"
   },
   {
    "duration": 170,
    "start_time": "2023-11-03T22:35:35.382Z"
   },
   {
    "duration": 1262,
    "start_time": "2023-11-03T22:36:56.967Z"
   },
   {
    "duration": 185,
    "start_time": "2023-11-03T22:37:28.122Z"
   },
   {
    "duration": 174,
    "start_time": "2023-11-03T22:37:49.323Z"
   },
   {
    "duration": 39,
    "start_time": "2023-11-03T22:40:10.302Z"
   },
   {
    "duration": 38,
    "start_time": "2023-11-03T22:40:51.612Z"
   },
   {
    "duration": 1218,
    "start_time": "2023-11-03T22:41:56.899Z"
   },
   {
    "duration": 746,
    "start_time": "2023-11-03T22:42:53.489Z"
   },
   {
    "duration": 766,
    "start_time": "2023-11-03T22:43:31.940Z"
   },
   {
    "duration": 742,
    "start_time": "2023-11-03T22:45:00.521Z"
   },
   {
    "duration": 1478,
    "start_time": "2023-11-03T22:45:47.386Z"
   },
   {
    "duration": 3217,
    "start_time": "2023-11-04T09:08:45.537Z"
   },
   {
    "duration": 10,
    "start_time": "2023-11-04T09:08:48.756Z"
   },
   {
    "duration": 32,
    "start_time": "2023-11-04T09:08:48.768Z"
   },
   {
    "duration": 36,
    "start_time": "2023-11-04T09:08:48.802Z"
   },
   {
    "duration": 94,
    "start_time": "2023-11-04T09:08:48.840Z"
   },
   {
    "duration": 323,
    "start_time": "2023-11-04T09:08:48.935Z"
   },
   {
    "duration": 3209,
    "start_time": "2023-11-04T09:08:49.259Z"
   },
   {
    "duration": 0,
    "start_time": "2023-11-04T09:08:52.470Z"
   },
   {
    "duration": 0,
    "start_time": "2023-11-04T09:08:52.472Z"
   },
   {
    "duration": 0,
    "start_time": "2023-11-04T09:08:52.473Z"
   },
   {
    "duration": 0,
    "start_time": "2023-11-04T09:08:52.474Z"
   },
   {
    "duration": 0,
    "start_time": "2023-11-04T09:08:52.475Z"
   },
   {
    "duration": 0,
    "start_time": "2023-11-04T09:08:52.476Z"
   },
   {
    "duration": 0,
    "start_time": "2023-11-04T09:08:52.477Z"
   },
   {
    "duration": 0,
    "start_time": "2023-11-04T09:08:52.478Z"
   },
   {
    "duration": 0,
    "start_time": "2023-11-04T09:08:52.480Z"
   },
   {
    "duration": 0,
    "start_time": "2023-11-04T09:08:52.481Z"
   },
   {
    "duration": 0,
    "start_time": "2023-11-04T09:08:52.481Z"
   },
   {
    "duration": 0,
    "start_time": "2023-11-04T09:08:52.483Z"
   },
   {
    "duration": 0,
    "start_time": "2023-11-04T09:08:52.484Z"
   },
   {
    "duration": 0,
    "start_time": "2023-11-04T09:08:52.485Z"
   },
   {
    "duration": 0,
    "start_time": "2023-11-04T09:08:52.486Z"
   },
   {
    "duration": 0,
    "start_time": "2023-11-04T09:08:52.488Z"
   },
   {
    "duration": 0,
    "start_time": "2023-11-04T09:08:52.489Z"
   },
   {
    "duration": 0,
    "start_time": "2023-11-04T09:08:52.490Z"
   },
   {
    "duration": 0,
    "start_time": "2023-11-04T09:08:52.491Z"
   },
   {
    "duration": 254,
    "start_time": "2023-11-04T09:08:54.935Z"
   },
   {
    "duration": 1733,
    "start_time": "2023-11-04T09:08:58.253Z"
   },
   {
    "duration": 37,
    "start_time": "2023-11-04T09:12:46.075Z"
   },
   {
    "duration": 1383,
    "start_time": "2023-11-04T09:13:22.595Z"
   },
   {
    "duration": 27699,
    "start_time": "2023-11-04T09:14:22.179Z"
   },
   {
    "duration": 44,
    "start_time": "2023-11-04T09:14:49.881Z"
   },
   {
    "duration": 1370,
    "start_time": "2023-11-04T09:14:51.365Z"
   },
   {
    "duration": 44,
    "start_time": "2023-11-04T09:18:37.272Z"
   },
   {
    "duration": 23,
    "start_time": "2023-11-04T09:18:50.658Z"
   },
   {
    "duration": 30,
    "start_time": "2023-11-04T09:19:02.619Z"
   },
   {
    "duration": 30,
    "start_time": "2023-11-04T09:19:27.016Z"
   },
   {
    "duration": 31,
    "start_time": "2023-11-04T09:19:34.195Z"
   },
   {
    "duration": 38,
    "start_time": "2023-11-04T09:19:49.130Z"
   },
   {
    "duration": 34,
    "start_time": "2023-11-04T09:19:58.049Z"
   },
   {
    "duration": 178,
    "start_time": "2023-11-04T09:20:02.270Z"
   },
   {
    "duration": 97,
    "start_time": "2023-11-04T09:21:48.188Z"
   },
   {
    "duration": 149,
    "start_time": "2023-11-04T09:22:02.762Z"
   },
   {
    "duration": 29,
    "start_time": "2023-11-04T09:22:11.527Z"
   },
   {
    "duration": 157,
    "start_time": "2023-11-04T09:22:35.521Z"
   },
   {
    "duration": 187,
    "start_time": "2023-11-04T09:57:42.100Z"
   },
   {
    "duration": 193,
    "start_time": "2023-11-04T10:24:22.787Z"
   },
   {
    "duration": 473,
    "start_time": "2023-11-04T10:24:41.763Z"
   },
   {
    "duration": 155,
    "start_time": "2023-11-04T10:26:10.452Z"
   },
   {
    "duration": 163,
    "start_time": "2023-11-04T10:26:55.944Z"
   },
   {
    "duration": 38,
    "start_time": "2023-11-04T10:55:45.518Z"
   },
   {
    "duration": 35,
    "start_time": "2023-11-04T10:56:01.410Z"
   },
   {
    "duration": 3457,
    "start_time": "2023-11-05T10:32:02.172Z"
   },
   {
    "duration": 12,
    "start_time": "2023-11-05T10:32:05.631Z"
   },
   {
    "duration": 43,
    "start_time": "2023-11-05T10:32:05.645Z"
   },
   {
    "duration": 47,
    "start_time": "2023-11-05T10:32:05.690Z"
   },
   {
    "duration": 104,
    "start_time": "2023-11-05T10:32:05.739Z"
   },
   {
    "duration": 339,
    "start_time": "2023-11-05T10:32:05.845Z"
   },
   {
    "duration": 149,
    "start_time": "2023-11-05T10:32:06.185Z"
   },
   {
    "duration": 202,
    "start_time": "2023-11-05T10:32:06.336Z"
   },
   {
    "duration": 212,
    "start_time": "2023-11-05T10:32:06.540Z"
   },
   {
    "duration": 9,
    "start_time": "2023-11-05T10:32:06.755Z"
   },
   {
    "duration": 275,
    "start_time": "2023-11-05T10:32:06.766Z"
   },
   {
    "duration": 196,
    "start_time": "2023-11-05T10:32:07.042Z"
   },
   {
    "duration": 185,
    "start_time": "2023-11-05T10:32:07.240Z"
   },
   {
    "duration": 306,
    "start_time": "2023-11-05T10:32:07.427Z"
   },
   {
    "duration": 167,
    "start_time": "2023-11-05T10:32:07.734Z"
   },
   {
    "duration": 200,
    "start_time": "2023-11-05T10:32:07.903Z"
   },
   {
    "duration": 177,
    "start_time": "2023-11-05T10:32:08.105Z"
   },
   {
    "duration": 268,
    "start_time": "2023-11-05T10:32:08.284Z"
   },
   {
    "duration": 292,
    "start_time": "2023-11-05T10:32:08.554Z"
   },
   {
    "duration": 283,
    "start_time": "2023-11-05T10:32:08.847Z"
   },
   {
    "duration": 287,
    "start_time": "2023-11-05T10:32:09.132Z"
   },
   {
    "duration": 2069,
    "start_time": "2023-11-05T10:32:09.421Z"
   },
   {
    "duration": 52,
    "start_time": "2023-11-05T10:32:11.491Z"
   },
   {
    "duration": 195,
    "start_time": "2023-11-05T10:32:11.545Z"
   },
   {
    "duration": 73,
    "start_time": "2023-11-05T10:36:44.760Z"
   },
   {
    "duration": 98,
    "start_time": "2023-11-05T10:45:47.560Z"
   },
   {
    "duration": 53,
    "start_time": "2023-11-05T10:50:13.565Z"
   },
   {
    "duration": 3498,
    "start_time": "2023-11-05T10:50:17.211Z"
   },
   {
    "duration": 12,
    "start_time": "2023-11-05T10:50:20.712Z"
   },
   {
    "duration": 16,
    "start_time": "2023-11-05T10:50:20.726Z"
   },
   {
    "duration": 21,
    "start_time": "2023-11-05T10:50:20.744Z"
   },
   {
    "duration": 7,
    "start_time": "2023-11-05T10:50:20.766Z"
   },
   {
    "duration": 11,
    "start_time": "2023-11-05T10:50:20.775Z"
   },
   {
    "duration": 4,
    "start_time": "2023-11-05T10:50:20.787Z"
   },
   {
    "duration": 13,
    "start_time": "2023-11-05T10:50:20.793Z"
   },
   {
    "duration": 4,
    "start_time": "2023-11-05T10:50:20.807Z"
   },
   {
    "duration": 49,
    "start_time": "2023-11-05T10:50:20.814Z"
   },
   {
    "duration": 111,
    "start_time": "2023-11-05T10:50:20.865Z"
   },
   {
    "duration": 353,
    "start_time": "2023-11-05T10:50:20.978Z"
   },
   {
    "duration": 141,
    "start_time": "2023-11-05T10:50:21.333Z"
   },
   {
    "duration": 214,
    "start_time": "2023-11-05T10:50:21.476Z"
   },
   {
    "duration": 134,
    "start_time": "2023-11-05T10:50:21.692Z"
   },
   {
    "duration": 10,
    "start_time": "2023-11-05T10:50:21.827Z"
   },
   {
    "duration": 358,
    "start_time": "2023-11-05T10:50:21.847Z"
   },
   {
    "duration": 201,
    "start_time": "2023-11-05T10:50:22.207Z"
   },
   {
    "duration": 198,
    "start_time": "2023-11-05T10:50:22.409Z"
   },
   {
    "duration": 297,
    "start_time": "2023-11-05T10:50:22.609Z"
   },
   {
    "duration": 162,
    "start_time": "2023-11-05T10:50:22.907Z"
   },
   {
    "duration": 202,
    "start_time": "2023-11-05T10:50:23.071Z"
   },
   {
    "duration": 149,
    "start_time": "2023-11-05T10:50:23.274Z"
   },
   {
    "duration": 211,
    "start_time": "2023-11-05T10:50:23.424Z"
   },
   {
    "duration": 291,
    "start_time": "2023-11-05T10:50:23.637Z"
   },
   {
    "duration": 298,
    "start_time": "2023-11-05T10:50:23.929Z"
   },
   {
    "duration": 299,
    "start_time": "2023-11-05T10:50:24.229Z"
   },
   {
    "duration": 2174,
    "start_time": "2023-11-05T10:50:24.532Z"
   },
   {
    "duration": 47,
    "start_time": "2023-11-05T10:50:26.708Z"
   },
   {
    "duration": 184,
    "start_time": "2023-11-05T10:50:26.757Z"
   },
   {
    "duration": 6,
    "start_time": "2023-11-05T10:51:58.624Z"
   },
   {
    "duration": 195,
    "start_time": "2023-11-05T10:53:51.631Z"
   },
   {
    "duration": 177,
    "start_time": "2023-11-05T10:54:20.748Z"
   },
   {
    "duration": 821,
    "start_time": "2023-11-05T10:55:23.538Z"
   },
   {
    "duration": 186,
    "start_time": "2023-11-05T10:56:20.549Z"
   },
   {
    "duration": 3,
    "start_time": "2023-11-05T10:57:18.273Z"
   },
   {
    "duration": 214,
    "start_time": "2023-11-05T11:12:52.150Z"
   },
   {
    "duration": 230,
    "start_time": "2023-11-05T11:13:58.529Z"
   },
   {
    "duration": 214,
    "start_time": "2023-11-05T11:14:21.377Z"
   },
   {
    "duration": 250,
    "start_time": "2023-11-05T11:16:24.088Z"
   },
   {
    "duration": 222,
    "start_time": "2023-11-05T11:23:26.968Z"
   },
   {
    "duration": 226,
    "start_time": "2023-11-05T11:23:35.678Z"
   },
   {
    "duration": 3077,
    "start_time": "2023-11-05T22:25:25.573Z"
   },
   {
    "duration": 9,
    "start_time": "2023-11-05T22:25:28.652Z"
   },
   {
    "duration": 16,
    "start_time": "2023-11-05T22:25:28.663Z"
   },
   {
    "duration": 16,
    "start_time": "2023-11-05T22:25:28.681Z"
   },
   {
    "duration": 6,
    "start_time": "2023-11-05T22:25:28.698Z"
   },
   {
    "duration": 16,
    "start_time": "2023-11-05T22:25:28.706Z"
   },
   {
    "duration": 8,
    "start_time": "2023-11-05T22:25:28.723Z"
   },
   {
    "duration": 6,
    "start_time": "2023-11-05T22:25:28.732Z"
   },
   {
    "duration": 8,
    "start_time": "2023-11-05T22:25:28.739Z"
   },
   {
    "duration": 30,
    "start_time": "2023-11-05T22:25:28.750Z"
   },
   {
    "duration": 82,
    "start_time": "2023-11-05T22:25:28.781Z"
   },
   {
    "duration": 3,
    "start_time": "2023-11-05T22:25:28.865Z"
   },
   {
    "duration": 9,
    "start_time": "2023-11-05T22:25:28.870Z"
   },
   {
    "duration": 12,
    "start_time": "2023-11-05T22:25:28.881Z"
   },
   {
    "duration": 33,
    "start_time": "2023-11-05T22:25:28.894Z"
   },
   {
    "duration": 260,
    "start_time": "2023-11-05T22:25:28.929Z"
   },
   {
    "duration": 4,
    "start_time": "2023-11-05T22:25:29.191Z"
   },
   {
    "duration": 32,
    "start_time": "2023-11-05T22:25:29.196Z"
   },
   {
    "duration": 119,
    "start_time": "2023-11-05T22:25:29.229Z"
   },
   {
    "duration": 182,
    "start_time": "2023-11-05T22:25:29.349Z"
   },
   {
    "duration": 123,
    "start_time": "2023-11-05T22:25:29.532Z"
   },
   {
    "duration": 10,
    "start_time": "2023-11-05T22:25:29.657Z"
   },
   {
    "duration": 313,
    "start_time": "2023-11-05T22:25:29.669Z"
   },
   {
    "duration": 185,
    "start_time": "2023-11-05T22:25:29.984Z"
   },
   {
    "duration": 175,
    "start_time": "2023-11-05T22:25:30.171Z"
   },
   {
    "duration": 250,
    "start_time": "2023-11-05T22:25:30.348Z"
   },
   {
    "duration": 142,
    "start_time": "2023-11-05T22:25:30.600Z"
   },
   {
    "duration": 186,
    "start_time": "2023-11-05T22:25:30.746Z"
   },
   {
    "duration": 138,
    "start_time": "2023-11-05T22:25:30.934Z"
   },
   {
    "duration": 185,
    "start_time": "2023-11-05T22:25:31.074Z"
   },
   {
    "duration": 278,
    "start_time": "2023-11-05T22:25:31.261Z"
   },
   {
    "duration": 242,
    "start_time": "2023-11-05T22:25:31.541Z"
   },
   {
    "duration": 248,
    "start_time": "2023-11-05T22:25:31.785Z"
   },
   {
    "duration": 536,
    "start_time": "2023-11-05T22:25:32.035Z"
   },
   {
    "duration": 185,
    "start_time": "2023-11-05T22:25:32.573Z"
   },
   {
    "duration": 203,
    "start_time": "2023-11-05T22:25:32.760Z"
   },
   {
    "duration": 188,
    "start_time": "2023-11-05T22:25:32.965Z"
   },
   {
    "duration": 199,
    "start_time": "2023-11-05T22:25:33.155Z"
   },
   {
    "duration": 122,
    "start_time": "2023-11-05T22:25:33.356Z"
   },
   {
    "duration": 162,
    "start_time": "2023-11-05T22:25:33.480Z"
   },
   {
    "duration": 187,
    "start_time": "2023-11-05T22:25:33.643Z"
   },
   {
    "duration": 155,
    "start_time": "2023-11-05T22:25:33.832Z"
   },
   {
    "duration": 37,
    "start_time": "2023-11-05T22:25:33.988Z"
   },
   {
    "duration": 150,
    "start_time": "2023-11-05T22:25:34.026Z"
   }
  ],
  "kernelspec": {
   "display_name": "Python 3 (ipykernel)",
   "language": "python",
   "name": "python3"
  },
  "language_info": {
   "codemirror_mode": {
    "name": "ipython",
    "version": 3
   },
   "file_extension": ".py",
   "mimetype": "text/x-python",
   "name": "python",
   "nbconvert_exporter": "python",
   "pygments_lexer": "ipython3",
   "version": "3.11.7"
  },
  "toc": {
   "base_numbering": 1,
   "nav_menu": {},
   "number_sections": true,
   "sideBar": true,
   "skip_h1_title": true,
   "title_cell": "Table of Contents",
   "title_sidebar": "Contents",
   "toc_cell": false,
   "toc_position": {},
   "toc_section_display": true,
   "toc_window_display": false
  }
 },
 "nbformat": 4,
 "nbformat_minor": 4
}
