{
 "cells": [
  {
   "cell_type": "markdown",
   "metadata": {},
   "source": [
    "# Выбор локации для скважины"
   ]
  },
  {
   "cell_type": "markdown",
   "metadata": {},
   "source": [
    "Допустим, вы работаете в добывающей компании «ГлавРосГосНефть». Нужно решить, где бурить новую скважину.\n",
    "\n",
    "Вам предоставлены пробы нефти в трёх регионах: в каждом 10 000 месторождений, где измерили качество нефти и объём её запасов. Постройте модель машинного обучения, которая поможет определить регион, где добыча принесёт наибольшую прибыль. Проанализируйте возможную прибыль и риски техникой *Bootstrap.*\n",
    "\n",
    "Шаги для выбора локации:\n",
    "\n",
    "- В избранном регионе ищут месторождения, для каждого определяют значения признаков;\n",
    "- Строят модель и оценивают объём запасов;\n",
    "- Выбирают месторождения с самым высокими оценками значений. Количество месторождений зависит от бюджета компании и стоимости разработки одной скважины;\n",
    "- Прибыль равна суммарной прибыли отобранных месторождений."
   ]
  },
  {
   "cell_type": "markdown",
   "metadata": {},
   "source": [
    "## Загрузка и подготовка данных"
   ]
  },
  {
   "cell_type": "code",
   "execution_count": 1,
   "metadata": {},
   "outputs": [],
   "source": [
    "import pandas as pd\n",
    "import matplotlib.pyplot as plt\n",
    "import seaborn as sns\n",
    "import numpy as np\n",
    "import scipy.stats as st\n",
    "\n",
    "from sklearn.model_selection import train_test_split\n",
    "from sklearn.linear_model import LinearRegression\n",
    "from sklearn.metrics import mean_squared_error\n",
    "from sklearn.preprocessing import MinMaxScaler\n",
    "\n",
    "state = np.random.RandomState(42)"
   ]
  },
  {
   "cell_type": "markdown",
   "metadata": {},
   "source": [
    "### Общая информация о датасетах и проверка на дубликаты"
   ]
  },
  {
   "cell_type": "markdown",
   "metadata": {},
   "source": [
    "Посмотрим, как выглядят датасеты и типы данных в их столбцах:"
   ]
  },
  {
   "cell_type": "code",
   "execution_count": 2,
   "metadata": {},
   "outputs": [
    {
     "data": {
      "text/html": [
       "<div>\n",
       "<style scoped>\n",
       "    .dataframe tbody tr th:only-of-type {\n",
       "        vertical-align: middle;\n",
       "    }\n",
       "\n",
       "    .dataframe tbody tr th {\n",
       "        vertical-align: top;\n",
       "    }\n",
       "\n",
       "    .dataframe thead th {\n",
       "        text-align: right;\n",
       "    }\n",
       "</style>\n",
       "<table border=\"1\" class=\"dataframe\">\n",
       "  <thead>\n",
       "    <tr style=\"text-align: right;\">\n",
       "      <th></th>\n",
       "      <th>id</th>\n",
       "      <th>f0</th>\n",
       "      <th>f1</th>\n",
       "      <th>f2</th>\n",
       "      <th>product</th>\n",
       "    </tr>\n",
       "  </thead>\n",
       "  <tbody>\n",
       "    <tr>\n",
       "      <th>0</th>\n",
       "      <td>txEyH</td>\n",
       "      <td>0.705745</td>\n",
       "      <td>-0.497823</td>\n",
       "      <td>1.221170</td>\n",
       "      <td>105.280062</td>\n",
       "    </tr>\n",
       "    <tr>\n",
       "      <th>1</th>\n",
       "      <td>2acmU</td>\n",
       "      <td>1.334711</td>\n",
       "      <td>-0.340164</td>\n",
       "      <td>4.365080</td>\n",
       "      <td>73.037750</td>\n",
       "    </tr>\n",
       "    <tr>\n",
       "      <th>2</th>\n",
       "      <td>409Wp</td>\n",
       "      <td>1.022732</td>\n",
       "      <td>0.151990</td>\n",
       "      <td>1.419926</td>\n",
       "      <td>85.265647</td>\n",
       "    </tr>\n",
       "    <tr>\n",
       "      <th>3</th>\n",
       "      <td>iJLyR</td>\n",
       "      <td>-0.032172</td>\n",
       "      <td>0.139033</td>\n",
       "      <td>2.978566</td>\n",
       "      <td>168.620776</td>\n",
       "    </tr>\n",
       "    <tr>\n",
       "      <th>4</th>\n",
       "      <td>Xdl7t</td>\n",
       "      <td>1.988431</td>\n",
       "      <td>0.155413</td>\n",
       "      <td>4.751769</td>\n",
       "      <td>154.036647</td>\n",
       "    </tr>\n",
       "  </tbody>\n",
       "</table>\n",
       "</div>"
      ],
      "text/plain": [
       "      id        f0        f1        f2     product\n",
       "0  txEyH  0.705745 -0.497823  1.221170  105.280062\n",
       "1  2acmU  1.334711 -0.340164  4.365080   73.037750\n",
       "2  409Wp  1.022732  0.151990  1.419926   85.265647\n",
       "3  iJLyR -0.032172  0.139033  2.978566  168.620776\n",
       "4  Xdl7t  1.988431  0.155413  4.751769  154.036647"
      ]
     },
     "metadata": {},
     "output_type": "display_data"
    }
   ],
   "source": [
    "f = pd.read_csv('/datasets/geo_data_0.csv')\n",
    "display(f.head())"
   ]
  },
  {
   "cell_type": "code",
   "execution_count": 3,
   "metadata": {},
   "outputs": [
    {
     "name": "stdout",
     "output_type": "stream",
     "text": [
      "<class 'pandas.core.frame.DataFrame'>\n",
      "RangeIndex: 100000 entries, 0 to 99999\n",
      "Data columns (total 5 columns):\n",
      " #   Column   Non-Null Count   Dtype  \n",
      "---  ------   --------------   -----  \n",
      " 0   id       100000 non-null  object \n",
      " 1   f0       100000 non-null  float64\n",
      " 2   f1       100000 non-null  float64\n",
      " 3   f2       100000 non-null  float64\n",
      " 4   product  100000 non-null  float64\n",
      "dtypes: float64(4), object(1)\n",
      "memory usage: 3.8+ MB\n"
     ]
    }
   ],
   "source": [
    "f.info()"
   ]
  },
  {
   "cell_type": "code",
   "execution_count": 4,
   "metadata": {},
   "outputs": [
    {
     "data": {
      "text/plain": [
       "0"
      ]
     },
     "execution_count": 4,
     "metadata": {},
     "output_type": "execute_result"
    }
   ],
   "source": [
    "f.duplicated().sum()"
   ]
  },
  {
   "cell_type": "code",
   "execution_count": 5,
   "metadata": {},
   "outputs": [
    {
     "data": {
      "text/html": [
       "<div>\n",
       "<style scoped>\n",
       "    .dataframe tbody tr th:only-of-type {\n",
       "        vertical-align: middle;\n",
       "    }\n",
       "\n",
       "    .dataframe tbody tr th {\n",
       "        vertical-align: top;\n",
       "    }\n",
       "\n",
       "    .dataframe thead th {\n",
       "        text-align: right;\n",
       "    }\n",
       "</style>\n",
       "<table border=\"1\" class=\"dataframe\">\n",
       "  <thead>\n",
       "    <tr style=\"text-align: right;\">\n",
       "      <th></th>\n",
       "      <th>id</th>\n",
       "      <th>f0</th>\n",
       "      <th>f1</th>\n",
       "      <th>f2</th>\n",
       "      <th>product</th>\n",
       "    </tr>\n",
       "  </thead>\n",
       "  <tbody>\n",
       "    <tr>\n",
       "      <th>0</th>\n",
       "      <td>kBEdx</td>\n",
       "      <td>-15.001348</td>\n",
       "      <td>-8.276000</td>\n",
       "      <td>-0.005876</td>\n",
       "      <td>3.179103</td>\n",
       "    </tr>\n",
       "    <tr>\n",
       "      <th>1</th>\n",
       "      <td>62mP7</td>\n",
       "      <td>14.272088</td>\n",
       "      <td>-3.475083</td>\n",
       "      <td>0.999183</td>\n",
       "      <td>26.953261</td>\n",
       "    </tr>\n",
       "    <tr>\n",
       "      <th>2</th>\n",
       "      <td>vyE1P</td>\n",
       "      <td>6.263187</td>\n",
       "      <td>-5.948386</td>\n",
       "      <td>5.001160</td>\n",
       "      <td>134.766305</td>\n",
       "    </tr>\n",
       "    <tr>\n",
       "      <th>3</th>\n",
       "      <td>KcrkZ</td>\n",
       "      <td>-13.081196</td>\n",
       "      <td>-11.506057</td>\n",
       "      <td>4.999415</td>\n",
       "      <td>137.945408</td>\n",
       "    </tr>\n",
       "    <tr>\n",
       "      <th>4</th>\n",
       "      <td>AHL4O</td>\n",
       "      <td>12.702195</td>\n",
       "      <td>-8.147433</td>\n",
       "      <td>5.004363</td>\n",
       "      <td>134.766305</td>\n",
       "    </tr>\n",
       "  </tbody>\n",
       "</table>\n",
       "</div>"
      ],
      "text/plain": [
       "      id         f0         f1        f2     product\n",
       "0  kBEdx -15.001348  -8.276000 -0.005876    3.179103\n",
       "1  62mP7  14.272088  -3.475083  0.999183   26.953261\n",
       "2  vyE1P   6.263187  -5.948386  5.001160  134.766305\n",
       "3  KcrkZ -13.081196 -11.506057  4.999415  137.945408\n",
       "4  AHL4O  12.702195  -8.147433  5.004363  134.766305"
      ]
     },
     "metadata": {},
     "output_type": "display_data"
    }
   ],
   "source": [
    "s = pd.read_csv('/datasets/geo_data_1.csv')\n",
    "display(s.head())"
   ]
  },
  {
   "cell_type": "code",
   "execution_count": 6,
   "metadata": {},
   "outputs": [
    {
     "name": "stdout",
     "output_type": "stream",
     "text": [
      "<class 'pandas.core.frame.DataFrame'>\n",
      "RangeIndex: 100000 entries, 0 to 99999\n",
      "Data columns (total 5 columns):\n",
      " #   Column   Non-Null Count   Dtype  \n",
      "---  ------   --------------   -----  \n",
      " 0   id       100000 non-null  object \n",
      " 1   f0       100000 non-null  float64\n",
      " 2   f1       100000 non-null  float64\n",
      " 3   f2       100000 non-null  float64\n",
      " 4   product  100000 non-null  float64\n",
      "dtypes: float64(4), object(1)\n",
      "memory usage: 3.8+ MB\n"
     ]
    }
   ],
   "source": [
    "s.info()"
   ]
  },
  {
   "cell_type": "code",
   "execution_count": 7,
   "metadata": {},
   "outputs": [
    {
     "data": {
      "text/plain": [
       "0"
      ]
     },
     "execution_count": 7,
     "metadata": {},
     "output_type": "execute_result"
    }
   ],
   "source": [
    "s.duplicated().sum()"
   ]
  },
  {
   "cell_type": "code",
   "execution_count": 8,
   "metadata": {},
   "outputs": [
    {
     "data": {
      "text/html": [
       "<div>\n",
       "<style scoped>\n",
       "    .dataframe tbody tr th:only-of-type {\n",
       "        vertical-align: middle;\n",
       "    }\n",
       "\n",
       "    .dataframe tbody tr th {\n",
       "        vertical-align: top;\n",
       "    }\n",
       "\n",
       "    .dataframe thead th {\n",
       "        text-align: right;\n",
       "    }\n",
       "</style>\n",
       "<table border=\"1\" class=\"dataframe\">\n",
       "  <thead>\n",
       "    <tr style=\"text-align: right;\">\n",
       "      <th></th>\n",
       "      <th>id</th>\n",
       "      <th>f0</th>\n",
       "      <th>f1</th>\n",
       "      <th>f2</th>\n",
       "      <th>product</th>\n",
       "    </tr>\n",
       "  </thead>\n",
       "  <tbody>\n",
       "    <tr>\n",
       "      <th>0</th>\n",
       "      <td>fwXo0</td>\n",
       "      <td>-1.146987</td>\n",
       "      <td>0.963328</td>\n",
       "      <td>-0.828965</td>\n",
       "      <td>27.758673</td>\n",
       "    </tr>\n",
       "    <tr>\n",
       "      <th>1</th>\n",
       "      <td>WJtFt</td>\n",
       "      <td>0.262778</td>\n",
       "      <td>0.269839</td>\n",
       "      <td>-2.530187</td>\n",
       "      <td>56.069697</td>\n",
       "    </tr>\n",
       "    <tr>\n",
       "      <th>2</th>\n",
       "      <td>ovLUW</td>\n",
       "      <td>0.194587</td>\n",
       "      <td>0.289035</td>\n",
       "      <td>-5.586433</td>\n",
       "      <td>62.871910</td>\n",
       "    </tr>\n",
       "    <tr>\n",
       "      <th>3</th>\n",
       "      <td>q6cA6</td>\n",
       "      <td>2.236060</td>\n",
       "      <td>-0.553760</td>\n",
       "      <td>0.930038</td>\n",
       "      <td>114.572842</td>\n",
       "    </tr>\n",
       "    <tr>\n",
       "      <th>4</th>\n",
       "      <td>WPMUX</td>\n",
       "      <td>-0.515993</td>\n",
       "      <td>1.716266</td>\n",
       "      <td>5.899011</td>\n",
       "      <td>149.600746</td>\n",
       "    </tr>\n",
       "  </tbody>\n",
       "</table>\n",
       "</div>"
      ],
      "text/plain": [
       "      id        f0        f1        f2     product\n",
       "0  fwXo0 -1.146987  0.963328 -0.828965   27.758673\n",
       "1  WJtFt  0.262778  0.269839 -2.530187   56.069697\n",
       "2  ovLUW  0.194587  0.289035 -5.586433   62.871910\n",
       "3  q6cA6  2.236060 -0.553760  0.930038  114.572842\n",
       "4  WPMUX -0.515993  1.716266  5.899011  149.600746"
      ]
     },
     "metadata": {},
     "output_type": "display_data"
    }
   ],
   "source": [
    "t = pd.read_csv('/datasets/geo_data_2.csv')\n",
    "display(t.head())"
   ]
  },
  {
   "cell_type": "code",
   "execution_count": 9,
   "metadata": {},
   "outputs": [
    {
     "name": "stdout",
     "output_type": "stream",
     "text": [
      "<class 'pandas.core.frame.DataFrame'>\n",
      "RangeIndex: 100000 entries, 0 to 99999\n",
      "Data columns (total 5 columns):\n",
      " #   Column   Non-Null Count   Dtype  \n",
      "---  ------   --------------   -----  \n",
      " 0   id       100000 non-null  object \n",
      " 1   f0       100000 non-null  float64\n",
      " 2   f1       100000 non-null  float64\n",
      " 3   f2       100000 non-null  float64\n",
      " 4   product  100000 non-null  float64\n",
      "dtypes: float64(4), object(1)\n",
      "memory usage: 3.8+ MB\n"
     ]
    }
   ],
   "source": [
    "t.info()"
   ]
  },
  {
   "cell_type": "code",
   "execution_count": 10,
   "metadata": {},
   "outputs": [
    {
     "data": {
      "text/plain": [
       "0"
      ]
     },
     "execution_count": 10,
     "metadata": {},
     "output_type": "execute_result"
    }
   ],
   "source": [
    "t.duplicated().sum()"
   ]
  },
  {
   "cell_type": "markdown",
   "metadata": {},
   "source": [
    "Вывод: в каждом датасете по 100000 строк, нет дубликатов и установлен верный формат данных в столбцах."
   ]
  },
  {
   "cell_type": "markdown",
   "metadata": {},
   "source": [
    "### Исследовательский анализ данных"
   ]
  },
  {
   "cell_type": "markdown",
   "metadata": {},
   "source": [
    "Посмотрим распределение данных:"
   ]
  },
  {
   "cell_type": "code",
   "execution_count": 11,
   "metadata": {},
   "outputs": [],
   "source": [
    "numeric_columns = ['f0', 'f1', 'f2', 'product']"
   ]
  },
  {
   "cell_type": "code",
   "execution_count": 12,
   "metadata": {},
   "outputs": [
    {
     "data": {
      "image/png": "[encoded data removed]",
      "text/plain": [
       "<Figure size 576x432 with 1 Axes>"
      ]
     },
     "metadata": {
      "needs_background": "light"
     },
     "output_type": "display_data"
    },
    {
     "data": {
      "image/png": "[encoded data removed]",
      "text/plain": [
       "<Figure size 432x288 with 1 Axes>"
      ]
     },
     "metadata": {
      "needs_background": "light"
     },
     "output_type": "display_data"
    },
    {
     "data": {
      "image/png": "[encoded data removed]",
      "text/plain": [
       "<Figure size 576x432 with 1 Axes>"
      ]
     },
     "metadata": {
      "needs_background": "light"
     },
     "output_type": "display_data"
    },
    {
     "data": {
      "image/png": "[encoded data removed]",
      "text/plain": [
       "<Figure size 432x288 with 1 Axes>"
      ]
     },
     "metadata": {
      "needs_background": "light"
     },
     "output_type": "display_data"
    },
    {
     "data": {
      "image/png": "[encoded data removed]",
      "text/plain": [
       "<Figure size 576x432 with 1 Axes>"
      ]
     },
     "metadata": {
      "needs_background": "light"
     },
     "output_type": "display_data"
    },
    {
     "data": {
      "image/png": "[encoded data removed]",
      "text/plain": [
       "<Figure size 432x288 with 1 Axes>"
      ]
     },
     "metadata": {
      "needs_background": "light"
     },
     "output_type": "display_data"
    },
    {
     "data": {
      "image/png": "[encoded data removed]",
      "text/plain": [
       "<Figure size 576x432 with 1 Axes>"
      ]
     },
     "metadata": {
      "needs_background": "light"
     },
     "output_type": "display_data"
    },
    {
     "data": {
      "image/png": "[encoded data removed]",
      "text/plain": [
       "<Figure size 432x288 with 1 Axes>"
      ]
     },
     "metadata": {
      "needs_background": "light"
     },
     "output_type": "display_data"
    }
   ],
   "source": [
    "for column in numeric_columns:\n",
    "    plt.figure(figsize=(8, 6))\n",
    "    sns.histplot(f[column], kde=True)\n",
    "    plt.title(f'Распределение такого признака, как {column}')\n",
    "    plt.xlabel(column)\n",
    "    plt.ylabel('Частота')\n",
    "    plt.show()\n",
    "    \n",
    "    plt.subplot(1, 2, 2)\n",
    "    sns.boxplot(x=f[column])\n",
    "    plt.title(f'Ящик с усами, {column}')\n",
    "    plt.xlabel(column)\n",
    "    \n",
    "    plt.show()"
   ]
  },
  {
   "cell_type": "code",
   "execution_count": 13,
   "metadata": {},
   "outputs": [
    {
     "data": {
      "image/png": "[encoded data removed]",
      "text/plain": [
       "<Figure size 576x432 with 1 Axes>"
      ]
     },
     "metadata": {
      "needs_background": "light"
     },
     "output_type": "display_data"
    },
    {
     "data": {
      "image/png": "[encoded data removed]",
      "text/plain": [
       "<Figure size 432x288 with 1 Axes>"
      ]
     },
     "metadata": {
      "needs_background": "light"
     },
     "output_type": "display_data"
    },
    {
     "data": {
      "image/png": "[encoded data removed]",
      "text/plain": [
       "<Figure size 576x432 with 1 Axes>"
      ]
     },
     "metadata": {
      "needs_background": "light"
     },
     "output_type": "display_data"
    },
    {
     "data": {
      "image/png": "[encoded data removed]",
      "text/plain": [
       "<Figure size 432x288 with 1 Axes>"
      ]
     },
     "metadata": {
      "needs_background": "light"
     },
     "output_type": "display_data"
    },
    {
     "data": {
      "image/png": "[encoded data removed]",
      "text/plain": [
       "<Figure size 576x432 with 1 Axes>"
      ]
     },
     "metadata": {
      "needs_background": "light"
     },
     "output_type": "display_data"
    },
    {
     "data": {
      "image/png": "[encoded data removed]",
      "text/plain": [
       "<Figure size 432x288 with 1 Axes>"
      ]
     },
     "metadata": {
      "needs_background": "light"
     },
     "output_type": "display_data"
    },
    {
     "data": {
      "image/png": "[encoded data removed]",
      "text/plain": [
       "<Figure size 576x432 with 1 Axes>"
      ]
     },
     "metadata": {
      "needs_background": "light"
     },
     "output_type": "display_data"
    },
    {
     "data": {
      "image/png": "[encoded data removed]",
      "text/plain": [
       "<Figure size 432x288 with 1 Axes>"
      ]
     },
     "metadata": {
      "needs_background": "light"
     },
     "output_type": "display_data"
    }
   ],
   "source": [
    "for column in numeric_columns:\n",
    "    plt.figure(figsize=(8, 6))\n",
    "    sns.histplot(s[column], kde=True)\n",
    "    plt.title(f'Распределение такого признака, как {column}')\n",
    "    plt.xlabel(column)\n",
    "    plt.ylabel('Частота')\n",
    "    plt.show()\n",
    "    \n",
    "    plt.subplot(1, 2, 2)\n",
    "    sns.boxplot(x=s[column])\n",
    "    plt.title(f'Ящик с усами, {column}')\n",
    "    plt.xlabel(column)\n",
    "    \n",
    "    plt.show()"
   ]
  },
  {
   "cell_type": "code",
   "execution_count": 14,
   "metadata": {},
   "outputs": [
    {
     "data": {
      "image/png": "[encoded data removed]",
      "text/plain": [
       "<Figure size 576x432 with 1 Axes>"
      ]
     },
     "metadata": {
      "needs_background": "light"
     },
     "output_type": "display_data"
    },
    {
     "data": {
      "image/png": "[encoded data removed]",
      "text/plain": [
       "<Figure size 432x288 with 1 Axes>"
      ]
     },
     "metadata": {
      "needs_background": "light"
     },
     "output_type": "display_data"
    },
    {
     "data": {
      "image/png": "[encoded data removed]",
      "text/plain": [
       "<Figure size 576x432 with 1 Axes>"
      ]
     },
     "metadata": {
      "needs_background": "light"
     },
     "output_type": "display_data"
    },
    {
     "data": {
      "image/png": "[encoded data removed]",
      "text/plain": [
       "<Figure size 432x288 with 1 Axes>"
      ]
     },
     "metadata": {
      "needs_background": "light"
     },
     "output_type": "display_data"
    },
    {
     "data": {
      "image/png": "[encoded data removed]",
      "text/plain": [
       "<Figure size 576x432 with 1 Axes>"
      ]
     },
     "metadata": {
      "needs_background": "light"
     },
     "output_type": "display_data"
    },
    {
     "data": {
      "image/png": "[encoded data removed]",
      "text/plain": [
       "<Figure size 432x288 with 1 Axes>"
      ]
     },
     "metadata": {
      "needs_background": "light"
     },
     "output_type": "display_data"
    },
    {
     "data": {
      "image/png": "[encoded data removed]",
      "text/plain": [
       "<Figure size 576x432 with 1 Axes>"
      ]
     },
     "metadata": {
      "needs_background": "light"
     },
     "output_type": "display_data"
    },
    {
     "data": {
      "image/png": "[encoded data removed]",
      "text/plain": [
       "<Figure size 432x288 with 1 Axes>"
      ]
     },
     "metadata": {
      "needs_background": "light"
     },
     "output_type": "display_data"
    }
   ],
   "source": [
    "for column in numeric_columns:\n",
    "    plt.figure(figsize=(8, 6))\n",
    "    sns.histplot(t[column], kde=True)\n",
    "    plt.title(f'Распределение такого признака, как {column}')\n",
    "    plt.xlabel(column)\n",
    "    plt.ylabel('Частота')\n",
    "    plt.show()\n",
    "    \n",
    "    plt.subplot(1, 2, 2)\n",
    "    sns.boxplot(x=t[column])\n",
    "    plt.title(f'Ящик с усами, {column}')\n",
    "    plt.xlabel(column)\n",
    "    \n",
    "    plt.show()"
   ]
  },
  {
   "cell_type": "markdown",
   "metadata": {},
   "source": [
    "Вывод: распределение данных в преимущественном большинстве ненормальное, в столбцах с признаками есть выбросы. Выбросы обрабатывать возможности и необходимости нет: признаки закодированы, и то, что значения не распределны по правилу трех сигм, не говорит о том, что они неверны, ведь это могут быть вполне реальные данные."
   ]
  },
  {
   "cell_type": "markdown",
   "metadata": {},
   "source": [
    "### Корреляционный анализ данных"
   ]
  },
  {
   "cell_type": "markdown",
   "metadata": {},
   "source": [
    "Так как распределение данных ненормальное, для построения корреляционных матриц будем использовать коэффициент корреляции Спирмена:"
   ]
  },
  {
   "cell_type": "code",
   "execution_count": 17,
   "metadata": {},
   "outputs": [
    {
     "data": {
      "image/png": "[encoded data removed]",
      "text/plain": [
       "<Figure size 720x576 with 2 Axes>"
      ]
     },
     "metadata": {
      "needs_background": "light"
     },
     "output_type": "display_data"
    }
   ],
   "source": [
    "correlation_matrix = f.corr(method='spearman')\n",
    "\n",
    "plt.figure(figsize=(10, 8))\n",
    "sns.heatmap(correlation_matrix, annot=True, cmap='coolwarm', fmt=\".4f\", linewidths=0.5)\n",
    "plt.title('Correlation Heatmap')\n",
    "plt.show()"
   ]
  },
  {
   "cell_type": "code",
   "execution_count": 18,
   "metadata": {},
   "outputs": [
    {
     "data": {
      "image/png": "[encoded data removed]",
      "text/plain": [
       "<Figure size 720x576 with 2 Axes>"
      ]
     },
     "metadata": {
      "needs_background": "light"
     },
     "output_type": "display_data"
    }
   ],
   "source": [
    "correlation_matrix = s.corr(method='spearman')\n",
    "\n",
    "plt.figure(figsize=(10, 8))\n",
    "sns.heatmap(correlation_matrix, annot=True, cmap='coolwarm', fmt=\".4f\", linewidths=0.5)\n",
    "plt.title('Correlation Heatmap')\n",
    "plt.show()"
   ]
  },
  {
   "cell_type": "code",
   "execution_count": 19,
   "metadata": {},
   "outputs": [
    {
     "data": {
      "image/png": "[encoded data removed]",
      "text/plain": [
       "<Figure size 720x576 with 2 Axes>"
      ]
     },
     "metadata": {
      "needs_background": "light"
     },
     "output_type": "display_data"
    }
   ],
   "source": [
    "correlation_matrix = t.corr(method='spearman')\n",
    "\n",
    "plt.figure(figsize=(10, 8))\n",
    "sns.heatmap(correlation_matrix, annot=True, cmap='coolwarm', fmt=\".4f\", linewidths=0.5)\n",
    "plt.title('Correlation Heatmap')\n",
    "plt.show()"
   ]
  },
  {
   "cell_type": "markdown",
   "metadata": {},
   "source": [
    "Как видно из корреляционных матриц, в преимущественном большинстве между входными и целевым признаками есть слабая положительая линейная взаимосвязь. Мультиколлинеарности не нанблюдается, можно переходить к этапу обучения моделей!"
   ]
  },
  {
   "cell_type": "markdown",
   "metadata": {},
   "source": [
    "## Обучение и проверка модели"
   ]
  },
  {
   "cell_type": "code",
   "execution_count": 20,
   "metadata": {},
   "outputs": [],
   "source": [
    "def train_and_evaluate(data):\n",
    "    \"\"\"\n",
    "    Функция берет на вход датасет.\n",
    "    \n",
    "    Оставляет только нужные признаки,\n",
    "    Делит df на train и test, шкалирует.\n",
    "    \n",
    "    Обучает линейную модель\n",
    "    \n",
    "    Возвращает tuple с предсказаниями, labelы, RMSE\n",
    "    \"\"\"\n",
    "    \n",
    "    features = data.drop(['id', 'product'], axis=1)\n",
    "    target = data['product']\n",
    "    features_train, features_valid, target_train, target_valid = train_test_split(features, \n",
    "                                                                                  target, \n",
    "                                                                                  test_size=0.25, \n",
    "                                                                                  random_state=1)\n",
    "    scaler = MinMaxScaler()\n",
    "    features_train = scaler.fit_transform(features_train)\n",
    "    features_valid = scaler.transform(features_valid)\n",
    "    \n",
    "    lr = LinearRegression(normalize=False)\n",
    "    lr.fit(features_train, target_train)\n",
    "    predictions = lr.predict(features_valid)\n",
    "    predictions = pd.Series(predictions)\n",
    "    rmse = (mean_squared_error(predictions, target_valid))**(0.5)\n",
    "    average_product = sum(predictions) / len(predictions)\n",
    "    \n",
    "    print(\"RMSE: {0:.2f}\".format(rmse))\n",
    "    print(\"Average product: {0:.2f}\".format(average_product))\n",
    "    \n",
    "    return (predictions, target_valid.reset_index(drop=True), rmse)"
   ]
  },
  {
   "cell_type": "code",
   "execution_count": 21,
   "metadata": {},
   "outputs": [
    {
     "name": "stdout",
     "output_type": "stream",
     "text": [
      "Для первого региона:\n",
      "RMSE: 37.74\n",
      "Average product: 92.49\n",
      "\n",
      "Для второго региона:\n",
      "RMSE: 0.89\n",
      "Average product: 69.12\n",
      "\n",
      "Для третьего региона:\n",
      "RMSE: 39.87\n",
      "Average product: 94.96\n"
     ]
    }
   ],
   "source": [
    "print('Для первого региона:')\n",
    "predictions_1, validation_1, rmse_1 = train_and_evaluate(f)\n",
    "print('\\nДля второго региона:')\n",
    "predictions_2, validation_2, rmse_2 = train_and_evaluate(s)\n",
    "print('\\nДля третьего региона:')\n",
    "predictions_3, validation_3, rmse_3 = train_and_evaluate(t)"
   ]
  },
  {
   "cell_type": "markdown",
   "metadata": {},
   "source": [
    "## Подготовка к расчёту прибыли"
   ]
  },
  {
   "cell_type": "code",
   "execution_count": 23,
   "metadata": {},
   "outputs": [
    {
     "name": "stdout",
     "output_type": "stream",
     "text": [
      "Достаточный объем сырья для безубыточной разработки новой скважины: 111.111 баррелей\n"
     ]
    }
   ],
   "source": [
    "BUDGET_PER_REGION = 10*(10**9)\n",
    "PRE_MAX_POINTS = 500\n",
    "FINAL_MAX_POINTS = 200\n",
    "PRICE_PER_BARREL = 450000\n",
    "DAMAGE_THRESHOLD =  0.025\n",
    "NON_DAMAGE_VOLUME = (BUDGET_PER_REGION/(PRICE_PER_BARREL))/(FINAL_MAX_POINTS)\n",
    "print(\"Достаточный объем сырья для безубыточной разработки новой скважины:\", round(NON_DAMAGE_VOLUME, 3), \"баррелей\")"
   ]
  },
  {
   "cell_type": "code",
   "execution_count": 24,
   "metadata": {},
   "outputs": [
    {
     "data": {
      "text/html": [
       "<div>\n",
       "<style scoped>\n",
       "    .dataframe tbody tr th:only-of-type {\n",
       "        vertical-align: middle;\n",
       "    }\n",
       "\n",
       "    .dataframe tbody tr th {\n",
       "        vertical-align: top;\n",
       "    }\n",
       "\n",
       "    .dataframe thead th {\n",
       "        text-align: right;\n",
       "    }\n",
       "</style>\n",
       "<table border=\"1\" class=\"dataframe\">\n",
       "  <thead>\n",
       "    <tr style=\"text-align: right;\">\n",
       "      <th></th>\n",
       "      <th>f0</th>\n",
       "      <th>f1</th>\n",
       "      <th>f2</th>\n",
       "      <th>product</th>\n",
       "    </tr>\n",
       "  </thead>\n",
       "  <tbody>\n",
       "    <tr>\n",
       "      <th>count</th>\n",
       "      <td>100000.000000</td>\n",
       "      <td>100000.000000</td>\n",
       "      <td>100000.000000</td>\n",
       "      <td>100000.000000</td>\n",
       "    </tr>\n",
       "    <tr>\n",
       "      <th>mean</th>\n",
       "      <td>0.500419</td>\n",
       "      <td>0.250143</td>\n",
       "      <td>2.502647</td>\n",
       "      <td>92.500000</td>\n",
       "    </tr>\n",
       "    <tr>\n",
       "      <th>std</th>\n",
       "      <td>0.871832</td>\n",
       "      <td>0.504433</td>\n",
       "      <td>3.248248</td>\n",
       "      <td>44.288691</td>\n",
       "    </tr>\n",
       "    <tr>\n",
       "      <th>min</th>\n",
       "      <td>-1.408605</td>\n",
       "      <td>-0.848218</td>\n",
       "      <td>-12.088328</td>\n",
       "      <td>0.000000</td>\n",
       "    </tr>\n",
       "    <tr>\n",
       "      <th>25%</th>\n",
       "      <td>-0.072580</td>\n",
       "      <td>-0.200881</td>\n",
       "      <td>0.287748</td>\n",
       "      <td>56.497507</td>\n",
       "    </tr>\n",
       "    <tr>\n",
       "      <th>50%</th>\n",
       "      <td>0.502360</td>\n",
       "      <td>0.250252</td>\n",
       "      <td>2.515969</td>\n",
       "      <td>91.849972</td>\n",
       "    </tr>\n",
       "    <tr>\n",
       "      <th>75%</th>\n",
       "      <td>1.073581</td>\n",
       "      <td>0.700646</td>\n",
       "      <td>4.715088</td>\n",
       "      <td>128.564089</td>\n",
       "    </tr>\n",
       "    <tr>\n",
       "      <th>max</th>\n",
       "      <td>2.362331</td>\n",
       "      <td>1.343769</td>\n",
       "      <td>16.003790</td>\n",
       "      <td>185.364347</td>\n",
       "    </tr>\n",
       "  </tbody>\n",
       "</table>\n",
       "</div>"
      ],
      "text/plain": [
       "                  f0             f1             f2        product\n",
       "count  100000.000000  100000.000000  100000.000000  100000.000000\n",
       "mean        0.500419       0.250143       2.502647      92.500000\n",
       "std         0.871832       0.504433       3.248248      44.288691\n",
       "min        -1.408605      -0.848218     -12.088328       0.000000\n",
       "25%        -0.072580      -0.200881       0.287748      56.497507\n",
       "50%         0.502360       0.250252       2.515969      91.849972\n",
       "75%         1.073581       0.700646       4.715088     128.564089\n",
       "max         2.362331       1.343769      16.003790     185.364347"
      ]
     },
     "execution_count": 24,
     "metadata": {},
     "output_type": "execute_result"
    }
   ],
   "source": [
    "f.describe()"
   ]
  },
  {
   "cell_type": "code",
   "execution_count": 25,
   "metadata": {},
   "outputs": [
    {
     "data": {
      "text/html": [
       "<div>\n",
       "<style scoped>\n",
       "    .dataframe tbody tr th:only-of-type {\n",
       "        vertical-align: middle;\n",
       "    }\n",
       "\n",
       "    .dataframe tbody tr th {\n",
       "        vertical-align: top;\n",
       "    }\n",
       "\n",
       "    .dataframe thead th {\n",
       "        text-align: right;\n",
       "    }\n",
       "</style>\n",
       "<table border=\"1\" class=\"dataframe\">\n",
       "  <thead>\n",
       "    <tr style=\"text-align: right;\">\n",
       "      <th></th>\n",
       "      <th>f0</th>\n",
       "      <th>f1</th>\n",
       "      <th>f2</th>\n",
       "      <th>product</th>\n",
       "    </tr>\n",
       "  </thead>\n",
       "  <tbody>\n",
       "    <tr>\n",
       "      <th>count</th>\n",
       "      <td>100000.000000</td>\n",
       "      <td>100000.000000</td>\n",
       "      <td>100000.000000</td>\n",
       "      <td>100000.000000</td>\n",
       "    </tr>\n",
       "    <tr>\n",
       "      <th>mean</th>\n",
       "      <td>1.141296</td>\n",
       "      <td>-4.796579</td>\n",
       "      <td>2.494541</td>\n",
       "      <td>68.825000</td>\n",
       "    </tr>\n",
       "    <tr>\n",
       "      <th>std</th>\n",
       "      <td>8.965932</td>\n",
       "      <td>5.119872</td>\n",
       "      <td>1.703572</td>\n",
       "      <td>45.944423</td>\n",
       "    </tr>\n",
       "    <tr>\n",
       "      <th>min</th>\n",
       "      <td>-31.609576</td>\n",
       "      <td>-26.358598</td>\n",
       "      <td>-0.018144</td>\n",
       "      <td>0.000000</td>\n",
       "    </tr>\n",
       "    <tr>\n",
       "      <th>25%</th>\n",
       "      <td>-6.298551</td>\n",
       "      <td>-8.267985</td>\n",
       "      <td>1.000021</td>\n",
       "      <td>26.953261</td>\n",
       "    </tr>\n",
       "    <tr>\n",
       "      <th>50%</th>\n",
       "      <td>1.153055</td>\n",
       "      <td>-4.813172</td>\n",
       "      <td>2.011479</td>\n",
       "      <td>57.085625</td>\n",
       "    </tr>\n",
       "    <tr>\n",
       "      <th>75%</th>\n",
       "      <td>8.621015</td>\n",
       "      <td>-1.332816</td>\n",
       "      <td>3.999904</td>\n",
       "      <td>107.813044</td>\n",
       "    </tr>\n",
       "    <tr>\n",
       "      <th>max</th>\n",
       "      <td>29.421755</td>\n",
       "      <td>18.734063</td>\n",
       "      <td>5.019721</td>\n",
       "      <td>137.945408</td>\n",
       "    </tr>\n",
       "  </tbody>\n",
       "</table>\n",
       "</div>"
      ],
      "text/plain": [
       "                  f0             f1             f2        product\n",
       "count  100000.000000  100000.000000  100000.000000  100000.000000\n",
       "mean        1.141296      -4.796579       2.494541      68.825000\n",
       "std         8.965932       5.119872       1.703572      45.944423\n",
       "min       -31.609576     -26.358598      -0.018144       0.000000\n",
       "25%        -6.298551      -8.267985       1.000021      26.953261\n",
       "50%         1.153055      -4.813172       2.011479      57.085625\n",
       "75%         8.621015      -1.332816       3.999904     107.813044\n",
       "max        29.421755      18.734063       5.019721     137.945408"
      ]
     },
     "execution_count": 25,
     "metadata": {},
     "output_type": "execute_result"
    }
   ],
   "source": [
    "s.describe()"
   ]
  },
  {
   "cell_type": "code",
   "execution_count": 26,
   "metadata": {},
   "outputs": [
    {
     "data": {
      "text/html": [
       "<div>\n",
       "<style scoped>\n",
       "    .dataframe tbody tr th:only-of-type {\n",
       "        vertical-align: middle;\n",
       "    }\n",
       "\n",
       "    .dataframe tbody tr th {\n",
       "        vertical-align: top;\n",
       "    }\n",
       "\n",
       "    .dataframe thead th {\n",
       "        text-align: right;\n",
       "    }\n",
       "</style>\n",
       "<table border=\"1\" class=\"dataframe\">\n",
       "  <thead>\n",
       "    <tr style=\"text-align: right;\">\n",
       "      <th></th>\n",
       "      <th>f0</th>\n",
       "      <th>f1</th>\n",
       "      <th>f2</th>\n",
       "      <th>product</th>\n",
       "    </tr>\n",
       "  </thead>\n",
       "  <tbody>\n",
       "    <tr>\n",
       "      <th>count</th>\n",
       "      <td>100000.000000</td>\n",
       "      <td>100000.000000</td>\n",
       "      <td>100000.000000</td>\n",
       "      <td>100000.000000</td>\n",
       "    </tr>\n",
       "    <tr>\n",
       "      <th>mean</th>\n",
       "      <td>0.002023</td>\n",
       "      <td>-0.002081</td>\n",
       "      <td>2.495128</td>\n",
       "      <td>95.000000</td>\n",
       "    </tr>\n",
       "    <tr>\n",
       "      <th>std</th>\n",
       "      <td>1.732045</td>\n",
       "      <td>1.730417</td>\n",
       "      <td>3.473445</td>\n",
       "      <td>44.749921</td>\n",
       "    </tr>\n",
       "    <tr>\n",
       "      <th>min</th>\n",
       "      <td>-8.760004</td>\n",
       "      <td>-7.084020</td>\n",
       "      <td>-11.970335</td>\n",
       "      <td>0.000000</td>\n",
       "    </tr>\n",
       "    <tr>\n",
       "      <th>25%</th>\n",
       "      <td>-1.162288</td>\n",
       "      <td>-1.174820</td>\n",
       "      <td>0.130359</td>\n",
       "      <td>59.450441</td>\n",
       "    </tr>\n",
       "    <tr>\n",
       "      <th>50%</th>\n",
       "      <td>0.009424</td>\n",
       "      <td>-0.009482</td>\n",
       "      <td>2.484236</td>\n",
       "      <td>94.925613</td>\n",
       "    </tr>\n",
       "    <tr>\n",
       "      <th>75%</th>\n",
       "      <td>1.158535</td>\n",
       "      <td>1.163678</td>\n",
       "      <td>4.858794</td>\n",
       "      <td>130.595027</td>\n",
       "    </tr>\n",
       "    <tr>\n",
       "      <th>max</th>\n",
       "      <td>7.238262</td>\n",
       "      <td>7.844801</td>\n",
       "      <td>16.739402</td>\n",
       "      <td>190.029838</td>\n",
       "    </tr>\n",
       "  </tbody>\n",
       "</table>\n",
       "</div>"
      ],
      "text/plain": [
       "                  f0             f1             f2        product\n",
       "count  100000.000000  100000.000000  100000.000000  100000.000000\n",
       "mean        0.002023      -0.002081       2.495128      95.000000\n",
       "std         1.732045       1.730417       3.473445      44.749921\n",
       "min        -8.760004      -7.084020     -11.970335       0.000000\n",
       "25%        -1.162288      -1.174820       0.130359      59.450441\n",
       "50%         0.009424      -0.009482       2.484236      94.925613\n",
       "75%         1.158535       1.163678       4.858794     130.595027\n",
       "max         7.238262       7.844801      16.739402     190.029838"
      ]
     },
     "execution_count": 26,
     "metadata": {},
     "output_type": "execute_result"
    }
   ],
   "source": [
    "t.describe()"
   ]
  },
  {
   "cell_type": "markdown",
   "metadata": {},
   "source": [
    "Таким образом, учитывая найденное значение точки безубыточности, которое превышает сердний запас сырья во всех трех регионах, необходимо провести Bootstrap для того, чтобы проанализировать прибыль и риски."
   ]
  },
  {
   "cell_type": "markdown",
   "metadata": {},
   "source": [
    "## Расчёт прибыли и рисков "
   ]
  },
  {
   "cell_type": "code",
   "execution_count": 27,
   "metadata": {},
   "outputs": [],
   "source": [
    "def profit(predictions, target):\n",
    "    top_preds = predictions.sort_values(ascending=False)\n",
    "    top_target = target[top_preds.index][:200]\n",
    "    revenue = top_target.sum() * PRICE_PER_BARREL\n",
    "    return revenue - BUDGET_PER_REGION"
   ]
  },
  {
   "cell_type": "code",
   "execution_count": 28,
   "metadata": {},
   "outputs": [],
   "source": [
    "def conf_interval_and_loss_risk(predictions, target):\n",
    "    revenue = []\n",
    "    for _ in range(1000):\n",
    "        target_sample = target.sample(500, replace=True, random_state=state)\n",
    "        predictions_sample = predictions[target_sample.index]\n",
    "        revenue.append(profit(predictions_sample, target_sample))   # ПОДСТАВИЛ НОВУЮ ФУНКЦИЮ profit_1\n",
    "        \n",
    "    lower = int(np.percentile(revenue, 2.5))\n",
    "    higher = int(np.percentile(revenue, 97.5))\n",
    "    mean_revenue = int(sum(revenue) / len(revenue))\n",
    "    risk = st.percentileofscore(revenue, 0)\n",
    "\n",
    "    return ((lower, higher), mean_revenue, risk)"
   ]
  },
  {
   "cell_type": "code",
   "execution_count": 29,
   "metadata": {},
   "outputs": [
    {
     "name": "stdout",
     "output_type": "stream",
     "text": [
      "\n",
      "Region 1:\n",
      "Mean: 483620.02 thousand\n",
      "95% confidence interval: (-54499686, 999922208)\n",
      "Risk of loss: 3.2%\n",
      "\n",
      "Region 2:\n",
      "Mean: 541232.38 thousand\n",
      "95% confidence interval: (99573508, 963619380)\n",
      "Risk of loss: 1.1%\n",
      "\n",
      "Region 3:\n",
      "Mean: 408477.74 thousand\n",
      "95% confidence interval: (-147436391, 964607821)\n",
      "Risk of loss: 7.300000000000001%\n"
     ]
    }
   ],
   "source": [
    "i = 1\n",
    "for preds, target in zip([predictions_1, predictions_2, predictions_3], \n",
    "                         [validation_1, validation_2, validation_3]):\n",
    "    interval, mean_revenue, risk = conf_interval_and_loss_risk(preds, target)\n",
    "    print(f\"\\nRegion {i}:\")\n",
    "    print(f\"Mean: {round(mean_revenue/1000, 2)} thousand\")\n",
    "    print(f\"95% confidence interval: {interval}\")\n",
    "    print(f\"Risk of loss: {risk}%\")\n",
    "    i+=1"
   ]
  },
  {
   "cell_type": "markdown",
   "metadata": {},
   "source": [
    "После подсчета прибыли и рисков, а также доверительного интервала в 95%, можно сделать следующий вывод: наиболее подходящим для разработки месторождений является второй регион: относительно других регионов у него минимальный риск убытков и максимальная прибыль."
   ]
  },
  {
   "cell_type": "markdown",
   "metadata": {},
   "source": [
    "## Общий вывод"
   ]
  },
  {
   "cell_type": "markdown",
   "metadata": {},
   "source": [
    "Во время работы над проектом был выполнен исследовательский анализ данных, который показал наличие статистических выбросов и ненормального распределения данных. Выбросы не были обработаны, так как они закодированы и неизвестно, что они значат, а также потому что реальные данные могут не укладываться в правило трех сигм.\n",
    "\n",
    "После корреляционного анализа были обучены модели с предварительным масштабированием данных и выведены результаты среднего запаса сырья и среднеквадратичной ошибки.\n",
    "\n",
    "На основе полученных данных была посчитана прибыль, доверительный инетрвал и риск убытков, выраженный в процентах (также для каждого региона). Был предложен наиболее перспективный регион для разработки месторождений."
   ]
  }
 ],
 "metadata": {
  "ExecuteTimeLog": [
   {
    "duration": 399,
    "start_time": "2024-05-11T18:30:24.401Z"
   },
   {
    "duration": 590,
    "start_time": "2024-05-11T18:30:57.519Z"
   },
   {
    "duration": 587,
    "start_time": "2024-05-11T18:31:42.782Z"
   },
   {
    "duration": 586,
    "start_time": "2024-05-11T18:32:14.218Z"
   },
   {
    "duration": 20,
    "start_time": "2024-05-11T18:35:25.990Z"
   },
   {
    "duration": 21,
    "start_time": "2024-05-11T18:35:40.040Z"
   },
   {
    "duration": 14,
    "start_time": "2024-05-11T18:35:49.306Z"
   },
   {
    "duration": 72,
    "start_time": "2024-05-11T18:36:20.726Z"
   },
   {
    "duration": 55,
    "start_time": "2024-05-11T18:36:27.369Z"
   },
   {
    "duration": 40,
    "start_time": "2024-05-11T18:36:37.025Z"
   },
   {
    "duration": 47,
    "start_time": "2024-05-11T18:36:45.470Z"
   },
   {
    "duration": 3,
    "start_time": "2024-05-11T18:37:30.006Z"
   },
   {
    "duration": 8,
    "start_time": "2024-05-11T18:37:51.706Z"
   },
   {
    "duration": 1018,
    "start_time": "2024-05-11T18:38:15.190Z"
   },
   {
    "duration": 163,
    "start_time": "2024-05-11T18:38:16.210Z"
   },
   {
    "duration": 16,
    "start_time": "2024-05-11T18:38:16.374Z"
   },
   {
    "duration": 44,
    "start_time": "2024-05-11T18:38:16.415Z"
   },
   {
    "duration": 147,
    "start_time": "2024-05-11T18:38:16.855Z"
   },
   {
    "duration": 19,
    "start_time": "2024-05-11T18:38:17.217Z"
   },
   {
    "duration": 44,
    "start_time": "2024-05-11T18:38:17.600Z"
   },
   {
    "duration": 147,
    "start_time": "2024-05-11T18:38:17.936Z"
   },
   {
    "duration": 13,
    "start_time": "2024-05-11T18:38:18.276Z"
   },
   {
    "duration": 50,
    "start_time": "2024-05-11T18:38:18.680Z"
   },
   {
    "duration": 2,
    "start_time": "2024-05-11T18:38:19.158Z"
   },
   {
    "duration": 3431,
    "start_time": "2024-05-11T18:38:19.990Z"
   },
   {
    "duration": 3461,
    "start_time": "2024-05-11T18:38:51.720Z"
   },
   {
    "duration": 3512,
    "start_time": "2024-05-11T18:39:25.271Z"
   },
   {
    "duration": 352,
    "start_time": "2024-05-11T18:43:32.088Z"
   },
   {
    "duration": 385,
    "start_time": "2024-05-11T18:43:44.321Z"
   },
   {
    "duration": 375,
    "start_time": "2024-05-11T18:44:14.696Z"
   },
   {
    "duration": 348,
    "start_time": "2024-05-11T18:44:25.975Z"
   },
   {
    "duration": 492,
    "start_time": "2024-05-11T18:45:30.400Z"
   },
   {
    "duration": 366,
    "start_time": "2024-05-11T18:45:37.256Z"
   },
   {
    "duration": 359,
    "start_time": "2024-05-11T18:45:49.761Z"
   },
   {
    "duration": 1274,
    "start_time": "2024-05-12T14:30:25.788Z"
   },
   {
    "duration": 246,
    "start_time": "2024-05-12T14:30:29.697Z"
   },
   {
    "duration": 15,
    "start_time": "2024-05-12T14:30:30.540Z"
   },
   {
    "duration": 46,
    "start_time": "2024-05-12T14:30:30.945Z"
   },
   {
    "duration": 219,
    "start_time": "2024-05-12T14:30:31.560Z"
   },
   {
    "duration": 13,
    "start_time": "2024-05-12T14:30:31.899Z"
   },
   {
    "duration": 44,
    "start_time": "2024-05-12T14:30:32.347Z"
   },
   {
    "duration": 220,
    "start_time": "2024-05-12T14:30:32.771Z"
   },
   {
    "duration": 14,
    "start_time": "2024-05-12T14:30:33.177Z"
   },
   {
    "duration": 45,
    "start_time": "2024-05-12T14:30:33.706Z"
   },
   {
    "duration": 3,
    "start_time": "2024-05-12T14:30:35.130Z"
   },
   {
    "duration": 3403,
    "start_time": "2024-05-12T14:30:35.772Z"
   },
   {
    "duration": 3264,
    "start_time": "2024-05-12T14:30:39.177Z"
   },
   {
    "duration": 3591,
    "start_time": "2024-05-12T14:30:42.442Z"
   },
   {
    "duration": 972,
    "start_time": "2024-05-12T14:32:05.073Z"
   },
   {
    "duration": 74,
    "start_time": "2024-05-12T14:32:41.477Z"
   },
   {
    "duration": 13,
    "start_time": "2024-05-12T14:33:07.252Z"
   },
   {
    "duration": 79,
    "start_time": "2024-05-12T14:33:27.335Z"
   },
   {
    "duration": 14,
    "start_time": "2024-05-12T14:33:30.714Z"
   },
   {
    "duration": 15,
    "start_time": "2024-05-12T14:33:34.620Z"
   },
   {
    "duration": 15,
    "start_time": "2024-05-12T14:33:38.569Z"
   },
   {
    "duration": 128,
    "start_time": "2024-05-12T14:35:59.281Z"
   },
   {
    "duration": 13,
    "start_time": "2024-05-12T14:36:09.308Z"
   },
   {
    "duration": 12,
    "start_time": "2024-05-12T14:36:20.207Z"
   },
   {
    "duration": 58,
    "start_time": "2024-05-12T14:38:36.166Z"
   },
   {
    "duration": 14,
    "start_time": "2024-05-12T14:38:44.118Z"
   },
   {
    "duration": 3357,
    "start_time": "2024-05-12T14:39:05.440Z"
   },
   {
    "duration": 57,
    "start_time": "2024-05-12T14:39:26.887Z"
   },
   {
    "duration": 11,
    "start_time": "2024-05-12T14:39:28.645Z"
   },
   {
    "duration": 7,
    "start_time": "2024-05-12T14:39:49.109Z"
   },
   {
    "duration": 10,
    "start_time": "2024-05-12T14:40:26.475Z"
   },
   {
    "duration": 11,
    "start_time": "2024-05-12T14:40:50.587Z"
   },
   {
    "duration": 10,
    "start_time": "2024-05-12T14:41:26.188Z"
   },
   {
    "duration": 11,
    "start_time": "2024-05-12T14:43:27.524Z"
   },
   {
    "duration": 3,
    "start_time": "2024-05-12T14:43:41.500Z"
   },
   {
    "duration": 142,
    "start_time": "2024-05-12T14:43:42.623Z"
   },
   {
    "duration": 15,
    "start_time": "2024-05-12T14:43:43.387Z"
   },
   {
    "duration": 43,
    "start_time": "2024-05-12T14:43:43.787Z"
   },
   {
    "duration": 155,
    "start_time": "2024-05-12T14:43:44.276Z"
   },
   {
    "duration": 14,
    "start_time": "2024-05-12T14:43:44.698Z"
   },
   {
    "duration": 38,
    "start_time": "2024-05-12T14:43:45.137Z"
   },
   {
    "duration": 142,
    "start_time": "2024-05-12T14:43:45.512Z"
   },
   {
    "duration": 13,
    "start_time": "2024-05-12T14:43:46.147Z"
   },
   {
    "duration": 44,
    "start_time": "2024-05-12T14:43:46.481Z"
   },
   {
    "duration": 2,
    "start_time": "2024-05-12T14:43:47.426Z"
   },
   {
    "duration": 3144,
    "start_time": "2024-05-12T14:43:47.717Z"
   },
   {
    "duration": 3239,
    "start_time": "2024-05-12T14:43:50.863Z"
   },
   {
    "duration": 3528,
    "start_time": "2024-05-12T14:43:54.104Z"
   },
   {
    "duration": 35,
    "start_time": "2024-05-12T14:43:57.634Z"
   },
   {
    "duration": 99,
    "start_time": "2024-05-12T14:44:21.127Z"
   },
   {
    "duration": 89,
    "start_time": "2024-05-12T14:44:36.809Z"
   },
   {
    "duration": 3,
    "start_time": "2024-05-12T14:44:46.583Z"
   },
   {
    "duration": 143,
    "start_time": "2024-05-12T14:44:47.030Z"
   },
   {
    "duration": 13,
    "start_time": "2024-05-12T14:44:47.256Z"
   },
   {
    "duration": 40,
    "start_time": "2024-05-12T14:44:47.453Z"
   },
   {
    "duration": 128,
    "start_time": "2024-05-12T14:44:47.656Z"
   },
   {
    "duration": 13,
    "start_time": "2024-05-12T14:44:47.852Z"
   },
   {
    "duration": 40,
    "start_time": "2024-05-12T14:44:48.047Z"
   },
   {
    "duration": 143,
    "start_time": "2024-05-12T14:44:48.268Z"
   },
   {
    "duration": 15,
    "start_time": "2024-05-12T14:44:48.485Z"
   },
   {
    "duration": 42,
    "start_time": "2024-05-12T14:44:48.689Z"
   },
   {
    "duration": 2,
    "start_time": "2024-05-12T14:44:49.137Z"
   },
   {
    "duration": 3191,
    "start_time": "2024-05-12T14:44:49.356Z"
   },
   {
    "duration": 3248,
    "start_time": "2024-05-12T14:44:52.553Z"
   },
   {
    "duration": 3757,
    "start_time": "2024-05-12T14:44:55.802Z"
   },
   {
    "duration": 95,
    "start_time": "2024-05-12T14:44:59.561Z"
   },
   {
    "duration": 319,
    "start_time": "2024-05-12T14:45:09.544Z"
   },
   {
    "duration": 8,
    "start_time": "2024-05-12T14:45:48.488Z"
   },
   {
    "duration": 14,
    "start_time": "2024-05-12T14:45:52.415Z"
   },
   {
    "duration": 59,
    "start_time": "2024-05-12T14:50:12.920Z"
   },
   {
    "duration": 3,
    "start_time": "2024-05-12T14:50:21.545Z"
   },
   {
    "duration": 134,
    "start_time": "2024-05-12T14:50:22.377Z"
   },
   {
    "duration": 15,
    "start_time": "2024-05-12T14:50:22.798Z"
   },
   {
    "duration": 41,
    "start_time": "2024-05-12T14:50:23.224Z"
   },
   {
    "duration": 121,
    "start_time": "2024-05-12T14:50:23.598Z"
   },
   {
    "duration": 14,
    "start_time": "2024-05-12T14:50:23.973Z"
   },
   {
    "duration": 38,
    "start_time": "2024-05-12T14:50:24.346Z"
   },
   {
    "duration": 134,
    "start_time": "2024-05-12T14:50:24.785Z"
   },
   {
    "duration": 14,
    "start_time": "2024-05-12T14:50:25.192Z"
   },
   {
    "duration": 42,
    "start_time": "2024-05-12T14:50:25.663Z"
   },
   {
    "duration": 3,
    "start_time": "2024-05-12T14:50:26.713Z"
   },
   {
    "duration": 3204,
    "start_time": "2024-05-12T14:50:27.139Z"
   },
   {
    "duration": 3290,
    "start_time": "2024-05-12T14:50:30.345Z"
   },
   {
    "duration": 3508,
    "start_time": "2024-05-12T14:50:33.636Z"
   },
   {
    "duration": 65,
    "start_time": "2024-05-12T14:50:37.146Z"
   },
   {
    "duration": 8,
    "start_time": "2024-05-12T14:50:39.186Z"
   },
   {
    "duration": 1054,
    "start_time": "2024-05-12T14:54:55.387Z"
   },
   {
    "duration": 157,
    "start_time": "2024-05-12T14:54:56.443Z"
   },
   {
    "duration": 16,
    "start_time": "2024-05-12T14:54:56.601Z"
   },
   {
    "duration": 52,
    "start_time": "2024-05-12T14:54:56.619Z"
   },
   {
    "duration": 125,
    "start_time": "2024-05-12T14:54:56.672Z"
   },
   {
    "duration": 13,
    "start_time": "2024-05-12T14:54:56.798Z"
   },
   {
    "duration": 44,
    "start_time": "2024-05-12T14:54:56.812Z"
   },
   {
    "duration": 135,
    "start_time": "2024-05-12T14:54:56.858Z"
   },
   {
    "duration": 15,
    "start_time": "2024-05-12T14:54:56.995Z"
   },
   {
    "duration": 60,
    "start_time": "2024-05-12T14:54:57.012Z"
   },
   {
    "duration": 3,
    "start_time": "2024-05-12T14:54:57.073Z"
   },
   {
    "duration": 3389,
    "start_time": "2024-05-12T14:54:57.077Z"
   },
   {
    "duration": 3266,
    "start_time": "2024-05-12T14:55:00.467Z"
   },
   {
    "duration": 3501,
    "start_time": "2024-05-12T14:55:03.735Z"
   },
   {
    "duration": 110,
    "start_time": "2024-05-12T14:55:07.237Z"
   },
   {
    "duration": 9,
    "start_time": "2024-05-12T14:55:07.353Z"
   },
   {
    "duration": 411,
    "start_time": "2024-05-12T14:55:07.364Z"
   },
   {
    "duration": 380,
    "start_time": "2024-05-12T14:55:07.777Z"
   },
   {
    "duration": 366,
    "start_time": "2024-05-12T14:55:08.158Z"
   },
   {
    "duration": 314,
    "start_time": "2024-05-12T15:01:45.592Z"
   },
   {
    "duration": 173,
    "start_time": "2024-05-12T15:01:59.085Z"
   },
   {
    "duration": 3,
    "start_time": "2024-05-12T15:03:30.048Z"
   },
   {
    "duration": 3,
    "start_time": "2024-05-12T15:03:35.411Z"
   },
   {
    "duration": 106,
    "start_time": "2024-05-12T15:03:53.081Z"
   },
   {
    "duration": 16,
    "start_time": "2024-05-12T15:04:08.952Z"
   },
   {
    "duration": 1120,
    "start_time": "2024-05-12T15:05:44.038Z"
   },
   {
    "duration": 157,
    "start_time": "2024-05-12T15:05:45.160Z"
   },
   {
    "duration": 17,
    "start_time": "2024-05-12T15:05:45.319Z"
   },
   {
    "duration": 58,
    "start_time": "2024-05-12T15:05:45.339Z"
   },
   {
    "duration": 132,
    "start_time": "2024-05-12T15:05:45.399Z"
   },
   {
    "duration": 20,
    "start_time": "2024-05-12T15:05:45.533Z"
   },
   {
    "duration": 43,
    "start_time": "2024-05-12T15:05:45.555Z"
   },
   {
    "duration": 133,
    "start_time": "2024-05-12T15:05:45.600Z"
   },
   {
    "duration": 20,
    "start_time": "2024-05-12T15:05:45.735Z"
   },
   {
    "duration": 42,
    "start_time": "2024-05-12T15:05:45.757Z"
   },
   {
    "duration": 2,
    "start_time": "2024-05-12T15:05:45.801Z"
   },
   {
    "duration": 3235,
    "start_time": "2024-05-12T15:05:45.805Z"
   },
   {
    "duration": 3172,
    "start_time": "2024-05-12T15:05:49.041Z"
   },
   {
    "duration": 3530,
    "start_time": "2024-05-12T15:05:52.215Z"
   },
   {
    "duration": 109,
    "start_time": "2024-05-12T15:05:55.752Z"
   },
   {
    "duration": 402,
    "start_time": "2024-05-12T15:05:55.862Z"
   },
   {
    "duration": 389,
    "start_time": "2024-05-12T15:05:56.265Z"
   },
   {
    "duration": 386,
    "start_time": "2024-05-12T15:05:56.656Z"
   },
   {
    "duration": 307,
    "start_time": "2024-05-12T15:05:57.044Z"
   },
   {
    "duration": 203,
    "start_time": "2024-05-12T15:05:57.352Z"
   },
   {
    "duration": 4,
    "start_time": "2024-05-12T15:05:57.557Z"
   },
   {
    "duration": 3,
    "start_time": "2024-05-12T15:05:57.653Z"
   },
   {
    "duration": 16,
    "start_time": "2024-05-12T15:05:57.658Z"
   },
   {
    "duration": 3,
    "start_time": "2024-05-12T15:11:00.880Z"
   },
   {
    "duration": 149,
    "start_time": "2024-05-12T15:11:01.218Z"
   },
   {
    "duration": 15,
    "start_time": "2024-05-12T15:11:01.381Z"
   },
   {
    "duration": 41,
    "start_time": "2024-05-12T15:11:01.559Z"
   },
   {
    "duration": 135,
    "start_time": "2024-05-12T15:11:01.738Z"
   },
   {
    "duration": 16,
    "start_time": "2024-05-12T15:11:01.924Z"
   },
   {
    "duration": 39,
    "start_time": "2024-05-12T15:11:02.080Z"
   },
   {
    "duration": 150,
    "start_time": "2024-05-12T15:11:02.243Z"
   },
   {
    "duration": 15,
    "start_time": "2024-05-12T15:11:02.414Z"
   },
   {
    "duration": 43,
    "start_time": "2024-05-12T15:11:02.575Z"
   },
   {
    "duration": 2,
    "start_time": "2024-05-12T15:11:02.930Z"
   },
   {
    "duration": 3256,
    "start_time": "2024-05-12T15:11:03.082Z"
   },
   {
    "duration": 3193,
    "start_time": "2024-05-12T15:11:06.340Z"
   },
   {
    "duration": 3513,
    "start_time": "2024-05-12T15:11:09.535Z"
   },
   {
    "duration": 87,
    "start_time": "2024-05-12T15:11:13.052Z"
   },
   {
    "duration": 379,
    "start_time": "2024-05-12T15:11:15.560Z"
   },
   {
    "duration": 365,
    "start_time": "2024-05-12T15:11:15.941Z"
   },
   {
    "duration": 378,
    "start_time": "2024-05-12T15:11:16.393Z"
   },
   {
    "duration": 115,
    "start_time": "2024-05-12T15:11:18.358Z"
   },
   {
    "duration": 348,
    "start_time": "2024-05-12T15:12:19.008Z"
   },
   {
    "duration": 3,
    "start_time": "2024-05-12T15:14:52.546Z"
   },
   {
    "duration": 146,
    "start_time": "2024-05-12T15:14:52.839Z"
   },
   {
    "duration": 14,
    "start_time": "2024-05-12T15:14:53.137Z"
   },
   {
    "duration": 41,
    "start_time": "2024-05-12T15:14:53.618Z"
   },
   {
    "duration": 144,
    "start_time": "2024-05-12T15:14:54.214Z"
   },
   {
    "duration": 15,
    "start_time": "2024-05-12T15:14:54.424Z"
   },
   {
    "duration": 37,
    "start_time": "2024-05-12T15:14:54.596Z"
   },
   {
    "duration": 131,
    "start_time": "2024-05-12T15:14:54.746Z"
   },
   {
    "duration": 14,
    "start_time": "2024-05-12T15:14:54.931Z"
   },
   {
    "duration": 40,
    "start_time": "2024-05-12T15:14:55.108Z"
   },
   {
    "duration": 2,
    "start_time": "2024-05-12T15:14:55.482Z"
   },
   {
    "duration": 3268,
    "start_time": "2024-05-12T15:14:55.670Z"
   },
   {
    "duration": 3286,
    "start_time": "2024-05-12T15:14:58.940Z"
   },
   {
    "duration": 3611,
    "start_time": "2024-05-12T15:15:02.228Z"
   },
   {
    "duration": 153,
    "start_time": "2024-05-12T15:15:24.101Z"
   },
   {
    "duration": 50,
    "start_time": "2024-05-12T15:15:38.522Z"
   },
   {
    "duration": 159,
    "start_time": "2024-05-12T15:15:48.381Z"
   },
   {
    "duration": 152,
    "start_time": "2024-05-12T15:16:00.045Z"
   },
   {
    "duration": 2,
    "start_time": "2024-05-12T15:17:56.351Z"
   },
   {
    "duration": 136,
    "start_time": "2024-05-12T15:17:56.643Z"
   },
   {
    "duration": 14,
    "start_time": "2024-05-12T15:17:56.781Z"
   },
   {
    "duration": 42,
    "start_time": "2024-05-12T15:17:56.942Z"
   },
   {
    "duration": 132,
    "start_time": "2024-05-12T15:17:57.113Z"
   },
   {
    "duration": 15,
    "start_time": "2024-05-12T15:17:57.431Z"
   },
   {
    "duration": 39,
    "start_time": "2024-05-12T15:17:57.759Z"
   },
   {
    "duration": 141,
    "start_time": "2024-05-12T15:17:57.935Z"
   },
   {
    "duration": 15,
    "start_time": "2024-05-12T15:17:58.206Z"
   },
   {
    "duration": 43,
    "start_time": "2024-05-12T15:17:58.400Z"
   },
   {
    "duration": 2,
    "start_time": "2024-05-12T15:17:59.206Z"
   },
   {
    "duration": 3285,
    "start_time": "2024-05-12T15:17:59.838Z"
   },
   {
    "duration": 3293,
    "start_time": "2024-05-12T15:18:03.124Z"
   },
   {
    "duration": 3546,
    "start_time": "2024-05-12T15:18:06.419Z"
   },
   {
    "duration": 169,
    "start_time": "2024-05-12T15:18:09.966Z"
   },
   {
    "duration": 356,
    "start_time": "2024-05-12T15:18:13.726Z"
   },
   {
    "duration": 386,
    "start_time": "2024-05-12T15:18:14.193Z"
   },
   {
    "duration": 369,
    "start_time": "2024-05-12T15:18:14.588Z"
   },
   {
    "duration": 53,
    "start_time": "2024-05-12T15:18:16.063Z"
   },
   {
    "duration": 403,
    "start_time": "2024-05-12T15:18:27.151Z"
   },
   {
    "duration": 295,
    "start_time": "2024-05-12T15:19:18.262Z"
   },
   {
    "duration": 4,
    "start_time": "2024-05-12T15:20:32.325Z"
   },
   {
    "duration": 3,
    "start_time": "2024-05-12T15:20:59.831Z"
   },
   {
    "duration": 3,
    "start_time": "2024-05-12T15:21:08.257Z"
   },
   {
    "duration": 4,
    "start_time": "2024-05-12T15:21:21.999Z"
   },
   {
    "duration": 4,
    "start_time": "2024-05-12T15:21:37.744Z"
   },
   {
    "duration": 4,
    "start_time": "2024-05-12T15:22:51.404Z"
   },
   {
    "duration": 95,
    "start_time": "2024-05-12T15:25:28.268Z"
   },
   {
    "duration": 34,
    "start_time": "2024-05-12T15:25:55.864Z"
   },
   {
    "duration": 35,
    "start_time": "2024-05-12T15:26:10.502Z"
   },
   {
    "duration": 34,
    "start_time": "2024-05-12T15:26:21.549Z"
   },
   {
    "duration": 3,
    "start_time": "2024-05-12T15:31:43.657Z"
   },
   {
    "duration": 30,
    "start_time": "2024-05-12T15:32:01.821Z"
   },
   {
    "duration": 1084,
    "start_time": "2024-05-12T16:12:42.777Z"
   },
   {
    "duration": 149,
    "start_time": "2024-05-12T16:12:43.863Z"
   },
   {
    "duration": 13,
    "start_time": "2024-05-12T16:12:44.014Z"
   },
   {
    "duration": 52,
    "start_time": "2024-05-12T16:12:44.029Z"
   },
   {
    "duration": 130,
    "start_time": "2024-05-12T16:12:44.082Z"
   },
   {
    "duration": 13,
    "start_time": "2024-05-12T16:12:44.214Z"
   },
   {
    "duration": 53,
    "start_time": "2024-05-12T16:12:44.229Z"
   },
   {
    "duration": 135,
    "start_time": "2024-05-12T16:12:44.283Z"
   },
   {
    "duration": 13,
    "start_time": "2024-05-12T16:12:44.419Z"
   },
   {
    "duration": 55,
    "start_time": "2024-05-12T16:12:44.434Z"
   },
   {
    "duration": 3,
    "start_time": "2024-05-12T16:12:44.491Z"
   },
   {
    "duration": 3240,
    "start_time": "2024-05-12T16:12:44.495Z"
   },
   {
    "duration": 3179,
    "start_time": "2024-05-12T16:12:47.736Z"
   },
   {
    "duration": 3526,
    "start_time": "2024-05-12T16:12:50.917Z"
   },
   {
    "duration": 174,
    "start_time": "2024-05-12T16:12:54.445Z"
   },
   {
    "duration": 362,
    "start_time": "2024-05-12T16:12:54.621Z"
   },
   {
    "duration": 375,
    "start_time": "2024-05-12T16:12:54.985Z"
   },
   {
    "duration": 389,
    "start_time": "2024-05-12T16:12:55.362Z"
   },
   {
    "duration": 589,
    "start_time": "2024-05-12T16:12:55.752Z"
   },
   {
    "duration": 0,
    "start_time": "2024-05-12T16:12:56.353Z"
   },
   {
    "duration": 0,
    "start_time": "2024-05-12T16:12:56.354Z"
   },
   {
    "duration": 0,
    "start_time": "2024-05-12T16:12:56.355Z"
   },
   {
    "duration": 0,
    "start_time": "2024-05-12T16:12:56.356Z"
   },
   {
    "duration": 0,
    "start_time": "2024-05-12T16:12:56.357Z"
   },
   {
    "duration": 0,
    "start_time": "2024-05-12T16:12:56.359Z"
   },
   {
    "duration": 0,
    "start_time": "2024-05-12T16:12:56.360Z"
   },
   {
    "duration": 384,
    "start_time": "2024-05-12T16:13:17.869Z"
   },
   {
    "duration": 4,
    "start_time": "2024-05-12T16:13:25.753Z"
   },
   {
    "duration": 36,
    "start_time": "2024-05-12T16:13:27.090Z"
   },
   {
    "duration": 36,
    "start_time": "2024-05-12T16:13:27.543Z"
   },
   {
    "duration": 32,
    "start_time": "2024-05-12T16:13:28.522Z"
   },
   {
    "duration": 3,
    "start_time": "2024-05-12T16:13:29.929Z"
   },
   {
    "duration": 31,
    "start_time": "2024-05-12T16:14:01.233Z"
   },
   {
    "duration": 38,
    "start_time": "2024-05-12T16:15:41.546Z"
   },
   {
    "duration": 94,
    "start_time": "2024-05-12T16:16:06.770Z"
   },
   {
    "duration": 335,
    "start_time": "2024-05-12T16:16:22.526Z"
   },
   {
    "duration": 162,
    "start_time": "2024-05-12T16:21:11.830Z"
   },
   {
    "duration": 3,
    "start_time": "2024-05-12T16:21:25.083Z"
   },
   {
    "duration": 145,
    "start_time": "2024-05-12T16:21:25.624Z"
   },
   {
    "duration": 14,
    "start_time": "2024-05-12T16:21:25.789Z"
   },
   {
    "duration": 43,
    "start_time": "2024-05-12T16:21:25.978Z"
   },
   {
    "duration": 130,
    "start_time": "2024-05-12T16:21:26.165Z"
   },
   {
    "duration": 14,
    "start_time": "2024-05-12T16:21:26.348Z"
   },
   {
    "duration": 40,
    "start_time": "2024-05-12T16:21:26.529Z"
   },
   {
    "duration": 138,
    "start_time": "2024-05-12T16:21:26.692Z"
   },
   {
    "duration": 14,
    "start_time": "2024-05-12T16:21:27.036Z"
   },
   {
    "duration": 46,
    "start_time": "2024-05-12T16:21:27.323Z"
   },
   {
    "duration": 2,
    "start_time": "2024-05-12T16:21:28.974Z"
   },
   {
    "duration": 3237,
    "start_time": "2024-05-12T16:21:29.511Z"
   },
   {
    "duration": 3261,
    "start_time": "2024-05-12T16:21:32.752Z"
   },
   {
    "duration": 3632,
    "start_time": "2024-05-12T16:21:36.015Z"
   },
   {
    "duration": 166,
    "start_time": "2024-05-12T16:21:39.648Z"
   },
   {
    "duration": 151,
    "start_time": "2024-05-12T16:21:57.007Z"
   },
   {
    "duration": 161,
    "start_time": "2024-05-12T16:22:28.165Z"
   },
   {
    "duration": 150,
    "start_time": "2024-05-12T16:23:19.928Z"
   },
   {
    "duration": 148,
    "start_time": "2024-05-12T16:23:36.087Z"
   },
   {
    "duration": 1118,
    "start_time": "2024-05-12T16:24:05.438Z"
   },
   {
    "duration": 151,
    "start_time": "2024-05-12T16:24:06.558Z"
   },
   {
    "duration": 14,
    "start_time": "2024-05-12T16:24:06.710Z"
   },
   {
    "duration": 53,
    "start_time": "2024-05-12T16:24:06.726Z"
   },
   {
    "duration": 129,
    "start_time": "2024-05-12T16:24:06.780Z"
   },
   {
    "duration": 14,
    "start_time": "2024-05-12T16:24:06.910Z"
   },
   {
    "duration": 55,
    "start_time": "2024-05-12T16:24:06.925Z"
   },
   {
    "duration": 140,
    "start_time": "2024-05-12T16:24:06.981Z"
   },
   {
    "duration": 13,
    "start_time": "2024-05-12T16:24:07.123Z"
   },
   {
    "duration": 53,
    "start_time": "2024-05-12T16:24:07.138Z"
   },
   {
    "duration": 3,
    "start_time": "2024-05-12T16:24:07.193Z"
   },
   {
    "duration": 3349,
    "start_time": "2024-05-12T16:24:07.197Z"
   },
   {
    "duration": 3174,
    "start_time": "2024-05-12T16:24:10.548Z"
   },
   {
    "duration": 3519,
    "start_time": "2024-05-12T16:24:13.723Z"
   },
   {
    "duration": 172,
    "start_time": "2024-05-12T16:24:17.243Z"
   },
   {
    "duration": 100,
    "start_time": "2024-05-12T16:24:17.416Z"
   },
   {
    "duration": 0,
    "start_time": "2024-05-12T16:24:17.517Z"
   },
   {
    "duration": 0,
    "start_time": "2024-05-12T16:24:17.519Z"
   },
   {
    "duration": 0,
    "start_time": "2024-05-12T16:24:17.519Z"
   },
   {
    "duration": 0,
    "start_time": "2024-05-12T16:24:17.521Z"
   },
   {
    "duration": 0,
    "start_time": "2024-05-12T16:24:17.522Z"
   },
   {
    "duration": 1,
    "start_time": "2024-05-12T16:24:17.522Z"
   },
   {
    "duration": 0,
    "start_time": "2024-05-12T16:24:17.523Z"
   },
   {
    "duration": 0,
    "start_time": "2024-05-12T16:24:17.524Z"
   },
   {
    "duration": 0,
    "start_time": "2024-05-12T16:24:17.525Z"
   },
   {
    "duration": 0,
    "start_time": "2024-05-12T16:24:17.527Z"
   },
   {
    "duration": 0,
    "start_time": "2024-05-12T16:24:17.528Z"
   },
   {
    "duration": 137,
    "start_time": "2024-05-12T16:25:37.857Z"
   },
   {
    "duration": 1140,
    "start_time": "2024-05-12T16:25:45.551Z"
   },
   {
    "duration": 151,
    "start_time": "2024-05-12T16:25:46.693Z"
   },
   {
    "duration": 15,
    "start_time": "2024-05-12T16:25:46.846Z"
   },
   {
    "duration": 44,
    "start_time": "2024-05-12T16:25:46.863Z"
   },
   {
    "duration": 131,
    "start_time": "2024-05-12T16:25:46.909Z"
   },
   {
    "duration": 19,
    "start_time": "2024-05-12T16:25:47.042Z"
   },
   {
    "duration": 62,
    "start_time": "2024-05-12T16:25:47.063Z"
   },
   {
    "duration": 131,
    "start_time": "2024-05-12T16:25:47.127Z"
   },
   {
    "duration": 14,
    "start_time": "2024-05-12T16:25:47.260Z"
   },
   {
    "duration": 44,
    "start_time": "2024-05-12T16:25:47.276Z"
   },
   {
    "duration": 3,
    "start_time": "2024-05-12T16:25:47.321Z"
   },
   {
    "duration": 3231,
    "start_time": "2024-05-12T16:25:47.325Z"
   },
   {
    "duration": 3262,
    "start_time": "2024-05-12T16:25:50.558Z"
   },
   {
    "duration": 3533,
    "start_time": "2024-05-12T16:25:53.822Z"
   },
   {
    "duration": 177,
    "start_time": "2024-05-12T16:25:57.356Z"
   },
   {
    "duration": 101,
    "start_time": "2024-05-12T16:25:57.535Z"
   },
   {
    "duration": 0,
    "start_time": "2024-05-12T16:25:57.637Z"
   },
   {
    "duration": 0,
    "start_time": "2024-05-12T16:25:57.639Z"
   },
   {
    "duration": 0,
    "start_time": "2024-05-12T16:25:57.640Z"
   },
   {
    "duration": 0,
    "start_time": "2024-05-12T16:25:57.653Z"
   },
   {
    "duration": 0,
    "start_time": "2024-05-12T16:25:57.654Z"
   },
   {
    "duration": 0,
    "start_time": "2024-05-12T16:25:57.655Z"
   },
   {
    "duration": 0,
    "start_time": "2024-05-12T16:25:57.656Z"
   },
   {
    "duration": 0,
    "start_time": "2024-05-12T16:25:57.658Z"
   },
   {
    "duration": 0,
    "start_time": "2024-05-12T16:25:57.659Z"
   },
   {
    "duration": 0,
    "start_time": "2024-05-12T16:25:57.661Z"
   },
   {
    "duration": 0,
    "start_time": "2024-05-12T16:25:57.662Z"
   },
   {
    "duration": 389,
    "start_time": "2024-05-12T16:27:28.084Z"
   },
   {
    "duration": 375,
    "start_time": "2024-05-12T16:27:34.685Z"
   },
   {
    "duration": 384,
    "start_time": "2024-05-12T16:27:35.875Z"
   },
   {
    "duration": 1299,
    "start_time": "2024-05-12T16:30:54.763Z"
   },
   {
    "duration": 154,
    "start_time": "2024-05-12T16:30:56.064Z"
   },
   {
    "duration": 15,
    "start_time": "2024-05-12T16:30:56.220Z"
   },
   {
    "duration": 59,
    "start_time": "2024-05-12T16:30:56.237Z"
   },
   {
    "duration": 133,
    "start_time": "2024-05-12T16:30:56.297Z"
   },
   {
    "duration": 21,
    "start_time": "2024-05-12T16:30:56.432Z"
   },
   {
    "duration": 45,
    "start_time": "2024-05-12T16:30:56.454Z"
   },
   {
    "duration": 143,
    "start_time": "2024-05-12T16:30:56.500Z"
   },
   {
    "duration": 15,
    "start_time": "2024-05-12T16:30:56.645Z"
   },
   {
    "duration": 44,
    "start_time": "2024-05-12T16:30:56.662Z"
   },
   {
    "duration": 2,
    "start_time": "2024-05-12T16:30:56.708Z"
   },
   {
    "duration": 3358,
    "start_time": "2024-05-12T16:30:56.712Z"
   },
   {
    "duration": 3260,
    "start_time": "2024-05-12T16:31:00.071Z"
   },
   {
    "duration": 3636,
    "start_time": "2024-05-12T16:31:03.333Z"
   },
   {
    "duration": 196,
    "start_time": "2024-05-12T16:31:06.971Z"
   },
   {
    "duration": 420,
    "start_time": "2024-05-12T16:31:07.168Z"
   },
   {
    "duration": 382,
    "start_time": "2024-05-12T16:31:07.590Z"
   },
   {
    "duration": 400,
    "start_time": "2024-05-12T16:31:07.974Z"
   },
   {
    "duration": 385,
    "start_time": "2024-05-12T16:31:08.376Z"
   },
   {
    "duration": 96,
    "start_time": "2024-05-12T16:31:08.763Z"
   },
   {
    "duration": 124,
    "start_time": "2024-05-12T16:31:08.861Z"
   },
   {
    "duration": 32,
    "start_time": "2024-05-12T16:31:08.986Z"
   },
   {
    "duration": 47,
    "start_time": "2024-05-12T16:31:09.020Z"
   },
   {
    "duration": 2,
    "start_time": "2024-05-12T16:31:09.069Z"
   },
   {
    "duration": 295,
    "start_time": "2024-05-12T16:31:09.073Z"
   },
   {
    "duration": 14,
    "start_time": "2024-05-12T16:31:09.454Z"
   },
   {
    "duration": 117,
    "start_time": "2024-05-12T16:41:46.759Z"
   },
   {
    "duration": 26,
    "start_time": "2024-05-12T16:42:00.965Z"
   },
   {
    "duration": 11,
    "start_time": "2024-05-12T16:44:16.746Z"
   },
   {
    "duration": 159,
    "start_time": "2024-05-12T16:49:35.797Z"
   },
   {
    "duration": 206,
    "start_time": "2024-05-12T16:49:52.351Z"
   },
   {
    "duration": 75,
    "start_time": "2024-05-12T16:50:46.184Z"
   },
   {
    "duration": 192,
    "start_time": "2024-05-12T16:51:39.663Z"
   },
   {
    "duration": 10,
    "start_time": "2024-05-13T07:43:35.671Z"
   },
   {
    "duration": 1819,
    "start_time": "2024-05-13T09:29:59.153Z"
   },
   {
    "duration": 605,
    "start_time": "2024-05-13T09:30:00.974Z"
   },
   {
    "duration": 16,
    "start_time": "2024-05-13T09:30:01.581Z"
   },
   {
    "duration": 77,
    "start_time": "2024-05-13T09:30:01.599Z"
   },
   {
    "duration": 576,
    "start_time": "2024-05-13T09:30:01.678Z"
   },
   {
    "duration": 18,
    "start_time": "2024-05-13T09:30:02.256Z"
   },
   {
    "duration": 97,
    "start_time": "2024-05-13T09:30:02.275Z"
   },
   {
    "duration": 566,
    "start_time": "2024-05-13T09:30:02.374Z"
   },
   {
    "duration": 17,
    "start_time": "2024-05-13T09:30:02.942Z"
   },
   {
    "duration": 75,
    "start_time": "2024-05-13T09:30:02.963Z"
   },
   {
    "duration": 11,
    "start_time": "2024-05-13T09:30:03.040Z"
   },
   {
    "duration": 3682,
    "start_time": "2024-05-13T09:30:03.053Z"
   },
   {
    "duration": 3547,
    "start_time": "2024-05-13T09:30:06.736Z"
   },
   {
    "duration": 4062,
    "start_time": "2024-05-13T09:30:10.284Z"
   },
   {
    "duration": 228,
    "start_time": "2024-05-13T09:30:14.347Z"
   },
   {
    "duration": 435,
    "start_time": "2024-05-13T09:30:14.581Z"
   },
   {
    "duration": 407,
    "start_time": "2024-05-13T09:30:15.018Z"
   },
   {
    "duration": 486,
    "start_time": "2024-05-13T09:30:15.427Z"
   },
   {
    "duration": 579,
    "start_time": "2024-05-13T09:30:15.915Z"
   },
   {
    "duration": 83,
    "start_time": "2024-05-13T09:30:16.496Z"
   },
   {
    "duration": 165,
    "start_time": "2024-05-13T09:30:16.582Z"
   },
   {
    "duration": 37,
    "start_time": "2024-05-13T09:30:16.748Z"
   },
   {
    "duration": 35,
    "start_time": "2024-05-13T09:30:16.787Z"
   },
   {
    "duration": 358,
    "start_time": "2024-05-13T09:30:16.824Z"
   },
   {
    "duration": 1472,
    "start_time": "2024-05-13T09:30:28.787Z"
   },
   {
    "duration": 169,
    "start_time": "2024-05-13T09:30:30.261Z"
   },
   {
    "duration": 15,
    "start_time": "2024-05-13T09:30:30.432Z"
   },
   {
    "duration": 149,
    "start_time": "2024-05-13T09:30:30.449Z"
   },
   {
    "duration": 176,
    "start_time": "2024-05-13T09:30:30.600Z"
   },
   {
    "duration": 15,
    "start_time": "2024-05-13T09:30:30.778Z"
   },
   {
    "duration": 145,
    "start_time": "2024-05-13T09:30:30.795Z"
   },
   {
    "duration": 206,
    "start_time": "2024-05-13T09:30:30.942Z"
   },
   {
    "duration": 17,
    "start_time": "2024-05-13T09:30:31.150Z"
   },
   {
    "duration": 87,
    "start_time": "2024-05-13T09:30:31.170Z"
   },
   {
    "duration": 12,
    "start_time": "2024-05-13T09:30:31.258Z"
   },
   {
    "duration": 3696,
    "start_time": "2024-05-13T09:30:31.271Z"
   },
   {
    "duration": 3615,
    "start_time": "2024-05-13T09:30:34.968Z"
   },
   {
    "duration": 3979,
    "start_time": "2024-05-13T09:30:38.584Z"
   },
   {
    "duration": 3,
    "start_time": "2024-05-13T09:30:42.565Z"
   },
   {
    "duration": 450,
    "start_time": "2024-05-13T09:30:42.581Z"
   },
   {
    "duration": 386,
    "start_time": "2024-05-13T09:30:43.032Z"
   },
   {
    "duration": 399,
    "start_time": "2024-05-13T09:30:43.420Z"
   },
   {
    "duration": 479,
    "start_time": "2024-05-13T09:30:43.820Z"
   },
   {
    "duration": 6,
    "start_time": "2024-05-13T09:30:44.382Z"
   },
   {
    "duration": 136,
    "start_time": "2024-05-13T09:30:44.390Z"
   },
   {
    "duration": 62,
    "start_time": "2024-05-13T09:30:44.529Z"
   },
   {
    "duration": 47,
    "start_time": "2024-05-13T09:30:44.593Z"
   },
   {
    "duration": 348,
    "start_time": "2024-05-13T09:30:44.642Z"
   },
   {
    "duration": 225,
    "start_time": "2024-05-13T09:35:58.158Z"
   },
   {
    "duration": 1447,
    "start_time": "2024-05-13T13:04:32.600Z"
   },
   {
    "duration": 244,
    "start_time": "2024-05-13T13:04:34.050Z"
   },
   {
    "duration": 15,
    "start_time": "2024-05-13T13:04:34.296Z"
   },
   {
    "duration": 45,
    "start_time": "2024-05-13T13:04:34.312Z"
   },
   {
    "duration": 211,
    "start_time": "2024-05-13T13:04:34.359Z"
   },
   {
    "duration": 13,
    "start_time": "2024-05-13T13:04:34.571Z"
   },
   {
    "duration": 51,
    "start_time": "2024-05-13T13:04:34.586Z"
   },
   {
    "duration": 211,
    "start_time": "2024-05-13T13:04:34.638Z"
   },
   {
    "duration": 13,
    "start_time": "2024-05-13T13:04:34.850Z"
   },
   {
    "duration": 65,
    "start_time": "2024-05-13T13:04:34.865Z"
   },
   {
    "duration": 3,
    "start_time": "2024-05-13T13:04:34.931Z"
   },
   {
    "duration": 3206,
    "start_time": "2024-05-13T13:04:34.935Z"
   },
   {
    "duration": 3146,
    "start_time": "2024-05-13T13:04:38.145Z"
   },
   {
    "duration": 3603,
    "start_time": "2024-05-13T13:04:41.293Z"
   },
   {
    "duration": 4,
    "start_time": "2024-05-13T13:04:44.897Z"
   },
   {
    "duration": 389,
    "start_time": "2024-05-13T13:04:44.902Z"
   },
   {
    "duration": 384,
    "start_time": "2024-05-13T13:04:45.293Z"
   },
   {
    "duration": 408,
    "start_time": "2024-05-13T13:04:45.679Z"
   },
   {
    "duration": 558,
    "start_time": "2024-05-13T13:04:46.088Z"
   },
   {
    "duration": 5,
    "start_time": "2024-05-13T13:04:46.648Z"
   },
   {
    "duration": 149,
    "start_time": "2024-05-13T13:04:46.655Z"
   },
   {
    "duration": 32,
    "start_time": "2024-05-13T13:04:46.805Z"
   },
   {
    "duration": 32,
    "start_time": "2024-05-13T13:04:46.838Z"
   },
   {
    "duration": 122,
    "start_time": "2024-05-13T13:04:46.871Z"
   },
   {
    "duration": 1278,
    "start_time": "2024-05-13T13:08:30.492Z"
   },
   {
    "duration": 155,
    "start_time": "2024-05-13T13:08:31.772Z"
   },
   {
    "duration": 17,
    "start_time": "2024-05-13T13:08:31.929Z"
   },
   {
    "duration": 101,
    "start_time": "2024-05-13T13:08:31.948Z"
   },
   {
    "duration": 128,
    "start_time": "2024-05-13T13:08:32.051Z"
   },
   {
    "duration": 14,
    "start_time": "2024-05-13T13:08:32.182Z"
   },
   {
    "duration": 57,
    "start_time": "2024-05-13T13:08:32.198Z"
   },
   {
    "duration": 132,
    "start_time": "2024-05-13T13:08:32.257Z"
   },
   {
    "duration": 15,
    "start_time": "2024-05-13T13:08:32.391Z"
   },
   {
    "duration": 62,
    "start_time": "2024-05-13T13:08:32.409Z"
   },
   {
    "duration": 3,
    "start_time": "2024-05-13T13:08:32.473Z"
   },
   {
    "duration": 3356,
    "start_time": "2024-05-13T13:08:32.477Z"
   },
   {
    "duration": 3238,
    "start_time": "2024-05-13T13:08:35.835Z"
   },
   {
    "duration": 3695,
    "start_time": "2024-05-13T13:08:39.074Z"
   },
   {
    "duration": 2,
    "start_time": "2024-05-13T13:08:42.770Z"
   },
   {
    "duration": 4,
    "start_time": "2024-05-13T13:08:42.774Z"
   },
   {
    "duration": 47,
    "start_time": "2024-05-13T13:08:42.779Z"
   },
   {
    "duration": 0,
    "start_time": "2024-05-13T13:08:42.827Z"
   },
   {
    "duration": 0,
    "start_time": "2024-05-13T13:08:42.828Z"
   },
   {
    "duration": 1,
    "start_time": "2024-05-13T13:08:42.829Z"
   },
   {
    "duration": 0,
    "start_time": "2024-05-13T13:08:42.830Z"
   },
   {
    "duration": 0,
    "start_time": "2024-05-13T13:08:42.831Z"
   },
   {
    "duration": 0,
    "start_time": "2024-05-13T13:08:42.832Z"
   },
   {
    "duration": 0,
    "start_time": "2024-05-13T13:08:42.833Z"
   },
   {
    "duration": 0,
    "start_time": "2024-05-13T13:08:42.834Z"
   },
   {
    "duration": 0,
    "start_time": "2024-05-13T13:08:42.835Z"
   },
   {
    "duration": 1338,
    "start_time": "2024-05-13T13:10:07.621Z"
   },
   {
    "duration": 151,
    "start_time": "2024-05-13T13:10:08.961Z"
   },
   {
    "duration": 14,
    "start_time": "2024-05-13T13:10:09.113Z"
   },
   {
    "duration": 61,
    "start_time": "2024-05-13T13:10:09.129Z"
   },
   {
    "duration": 125,
    "start_time": "2024-05-13T13:10:09.192Z"
   },
   {
    "duration": 13,
    "start_time": "2024-05-13T13:10:09.319Z"
   },
   {
    "duration": 46,
    "start_time": "2024-05-13T13:10:09.333Z"
   },
   {
    "duration": 130,
    "start_time": "2024-05-13T13:10:09.381Z"
   },
   {
    "duration": 14,
    "start_time": "2024-05-13T13:10:09.512Z"
   },
   {
    "duration": 56,
    "start_time": "2024-05-13T13:10:09.528Z"
   },
   {
    "duration": 3,
    "start_time": "2024-05-13T13:10:09.585Z"
   },
   {
    "duration": 3251,
    "start_time": "2024-05-13T13:10:09.589Z"
   },
   {
    "duration": 3249,
    "start_time": "2024-05-13T13:10:12.845Z"
   },
   {
    "duration": 3518,
    "start_time": "2024-05-13T13:10:16.095Z"
   },
   {
    "duration": 3,
    "start_time": "2024-05-13T13:10:19.614Z"
   },
   {
    "duration": 11,
    "start_time": "2024-05-13T13:10:19.618Z"
   },
   {
    "duration": 382,
    "start_time": "2024-05-13T13:10:19.630Z"
   },
   {
    "duration": 351,
    "start_time": "2024-05-13T13:10:20.013Z"
   },
   {
    "duration": 381,
    "start_time": "2024-05-13T13:10:20.366Z"
   },
   {
    "duration": 407,
    "start_time": "2024-05-13T13:10:20.749Z"
   },
   {
    "duration": 95,
    "start_time": "2024-05-13T13:10:21.251Z"
   },
   {
    "duration": 44,
    "start_time": "2024-05-13T13:10:21.349Z"
   },
   {
    "duration": 39,
    "start_time": "2024-05-13T13:10:21.394Z"
   },
   {
    "duration": 41,
    "start_time": "2024-05-13T13:10:21.435Z"
   },
   {
    "duration": 121,
    "start_time": "2024-05-13T13:10:21.478Z"
   },
   {
    "duration": 46,
    "start_time": "2024-05-13T13:12:40.850Z"
   },
   {
    "duration": 233,
    "start_time": "2024-05-13T13:17:59.317Z"
   },
   {
    "duration": 229,
    "start_time": "2024-05-13T13:18:22.619Z"
   },
   {
    "duration": 186,
    "start_time": "2024-05-13T13:20:09.376Z"
   },
   {
    "duration": 30,
    "start_time": "2024-05-13T13:27:57.690Z"
   },
   {
    "duration": 7,
    "start_time": "2024-05-13T13:28:54.806Z"
   },
   {
    "duration": 27,
    "start_time": "2024-05-13T13:29:17.842Z"
   },
   {
    "duration": 21,
    "start_time": "2024-05-13T13:31:23.075Z"
   },
   {
    "duration": 47,
    "start_time": "2024-05-18T15:29:42.891Z"
   },
   {
    "duration": 8,
    "start_time": "2024-05-18T15:29:57.445Z"
   },
   {
    "duration": 75,
    "start_time": "2024-05-18T15:31:54.349Z"
   },
   {
    "duration": 8,
    "start_time": "2024-05-18T15:32:33.641Z"
   },
   {
    "duration": 1556,
    "start_time": "2024-05-18T15:32:42.224Z"
   },
   {
    "duration": 237,
    "start_time": "2024-05-18T15:32:43.782Z"
   },
   {
    "duration": 15,
    "start_time": "2024-05-18T15:32:44.021Z"
   },
   {
    "duration": 41,
    "start_time": "2024-05-18T15:32:44.038Z"
   },
   {
    "duration": 197,
    "start_time": "2024-05-18T15:32:44.081Z"
   },
   {
    "duration": 12,
    "start_time": "2024-05-18T15:32:44.279Z"
   },
   {
    "duration": 51,
    "start_time": "2024-05-18T15:32:44.293Z"
   },
   {
    "duration": 224,
    "start_time": "2024-05-18T15:32:45.422Z"
   },
   {
    "duration": 12,
    "start_time": "2024-05-18T15:32:45.795Z"
   },
   {
    "duration": 44,
    "start_time": "2024-05-18T15:32:46.222Z"
   },
   {
    "duration": 2,
    "start_time": "2024-05-18T15:32:47.326Z"
   },
   {
    "duration": 3284,
    "start_time": "2024-05-18T15:32:48.041Z"
   },
   {
    "duration": 3253,
    "start_time": "2024-05-18T15:32:51.327Z"
   },
   {
    "duration": 3527,
    "start_time": "2024-05-18T15:32:54.581Z"
   },
   {
    "duration": 11,
    "start_time": "2024-05-18T15:32:58.110Z"
   },
   {
    "duration": 2,
    "start_time": "2024-05-18T15:32:58.123Z"
   },
   {
    "duration": 400,
    "start_time": "2024-05-18T15:33:00.122Z"
   },
   {
    "duration": 375,
    "start_time": "2024-05-18T15:33:01.073Z"
   },
   {
    "duration": 414,
    "start_time": "2024-05-18T15:33:02.010Z"
   },
   {
    "duration": 5,
    "start_time": "2024-05-18T15:33:05.786Z"
   },
   {
    "duration": 96,
    "start_time": "2024-05-18T15:33:07.560Z"
   },
   {
    "duration": 3,
    "start_time": "2024-05-18T15:34:33.423Z"
   },
   {
    "duration": 151,
    "start_time": "2024-05-18T15:34:35.123Z"
   },
   {
    "duration": 24,
    "start_time": "2024-05-18T15:34:35.309Z"
   },
   {
    "duration": 53,
    "start_time": "2024-05-18T15:34:35.493Z"
   },
   {
    "duration": 213,
    "start_time": "2024-05-18T15:34:35.722Z"
   },
   {
    "duration": 13,
    "start_time": "2024-05-18T15:34:35.937Z"
   },
   {
    "duration": 36,
    "start_time": "2024-05-18T15:34:36.131Z"
   },
   {
    "duration": 140,
    "start_time": "2024-05-18T15:34:36.324Z"
   },
   {
    "duration": 14,
    "start_time": "2024-05-18T15:34:36.538Z"
   },
   {
    "duration": 40,
    "start_time": "2024-05-18T15:34:36.732Z"
   },
   {
    "duration": 2,
    "start_time": "2024-05-18T15:34:37.522Z"
   },
   {
    "duration": 3206,
    "start_time": "2024-05-18T15:34:37.693Z"
   },
   {
    "duration": 3340,
    "start_time": "2024-05-18T15:34:40.901Z"
   },
   {
    "duration": 3683,
    "start_time": "2024-05-18T15:34:44.243Z"
   },
   {
    "duration": 2,
    "start_time": "2024-05-18T15:34:47.928Z"
   },
   {
    "duration": 29,
    "start_time": "2024-05-18T15:34:47.931Z"
   },
   {
    "duration": 392,
    "start_time": "2024-05-18T15:34:47.962Z"
   },
   {
    "duration": 368,
    "start_time": "2024-05-18T15:34:48.356Z"
   },
   {
    "duration": 398,
    "start_time": "2024-05-18T15:34:48.726Z"
   },
   {
    "duration": 6,
    "start_time": "2024-05-18T15:34:49.126Z"
   },
   {
    "duration": 296,
    "start_time": "2024-05-18T15:34:49.135Z"
   },
   {
    "duration": 385,
    "start_time": "2024-05-18T15:36:34.546Z"
   },
   {
    "duration": 357,
    "start_time": "2024-05-18T15:36:55.764Z"
   },
   {
    "duration": 407,
    "start_time": "2024-05-18T15:37:04.918Z"
   },
   {
    "duration": 3,
    "start_time": "2024-05-18T15:38:08.147Z"
   },
   {
    "duration": 4,
    "start_time": "2024-05-18T15:38:21.276Z"
   },
   {
    "duration": 45,
    "start_time": "2024-05-18T15:38:21.887Z"
   },
   {
    "duration": 40,
    "start_time": "2024-05-18T15:38:22.687Z"
   },
   {
    "duration": 44,
    "start_time": "2024-05-18T15:38:23.294Z"
   },
   {
    "duration": 2,
    "start_time": "2024-05-18T15:39:13.051Z"
   },
   {
    "duration": 8,
    "start_time": "2024-05-18T15:39:33.919Z"
   },
   {
    "duration": 8,
    "start_time": "2024-05-18T15:42:11.287Z"
   },
   {
    "duration": 9,
    "start_time": "2024-05-18T15:42:21.322Z"
   },
   {
    "duration": 2,
    "start_time": "2024-05-18T15:42:24.970Z"
   },
   {
    "duration": 10,
    "start_time": "2024-05-18T15:42:25.507Z"
   },
   {
    "duration": 13,
    "start_time": "2024-05-18T15:42:26.526Z"
   },
   {
    "duration": 4,
    "start_time": "2024-05-18T15:42:55.158Z"
   },
   {
    "duration": 16,
    "start_time": "2024-05-18T15:42:55.732Z"
   },
   {
    "duration": 4,
    "start_time": "2024-05-18T15:43:44.341Z"
   },
   {
    "duration": 4,
    "start_time": "2024-05-18T15:43:44.853Z"
   },
   {
    "duration": 16,
    "start_time": "2024-05-18T15:43:45.131Z"
   },
   {
    "duration": 3,
    "start_time": "2024-05-18T15:44:13.364Z"
   },
   {
    "duration": 4,
    "start_time": "2024-05-18T15:44:13.779Z"
   },
   {
    "duration": 1099,
    "start_time": "2024-05-18T15:44:14.297Z"
   },
   {
    "duration": 3,
    "start_time": "2024-05-18T15:46:37.051Z"
   },
   {
    "duration": 128,
    "start_time": "2024-05-18T15:46:38.156Z"
   },
   {
    "duration": 14,
    "start_time": "2024-05-18T15:46:38.287Z"
   },
   {
    "duration": 43,
    "start_time": "2024-05-18T15:46:38.473Z"
   },
   {
    "duration": 116,
    "start_time": "2024-05-18T15:46:38.653Z"
   },
   {
    "duration": 12,
    "start_time": "2024-05-18T15:46:38.825Z"
   },
   {
    "duration": 36,
    "start_time": "2024-05-18T15:46:38.994Z"
   },
   {
    "duration": 128,
    "start_time": "2024-05-18T15:46:39.174Z"
   },
   {
    "duration": 14,
    "start_time": "2024-05-18T15:46:39.353Z"
   },
   {
    "duration": 39,
    "start_time": "2024-05-18T15:46:39.523Z"
   },
   {
    "duration": 3,
    "start_time": "2024-05-18T15:46:40.254Z"
   },
   {
    "duration": 3176,
    "start_time": "2024-05-18T15:46:40.421Z"
   },
   {
    "duration": 3283,
    "start_time": "2024-05-18T15:46:43.599Z"
   },
   {
    "duration": 3414,
    "start_time": "2024-05-18T15:46:46.884Z"
   },
   {
    "duration": 3,
    "start_time": "2024-05-18T15:46:50.299Z"
   },
   {
    "duration": 2,
    "start_time": "2024-05-18T15:46:50.311Z"
   },
   {
    "duration": 400,
    "start_time": "2024-05-18T15:46:50.314Z"
   },
   {
    "duration": 377,
    "start_time": "2024-05-18T15:46:50.716Z"
   },
   {
    "duration": 370,
    "start_time": "2024-05-18T15:46:51.095Z"
   },
   {
    "duration": 5,
    "start_time": "2024-05-18T15:46:51.467Z"
   },
   {
    "duration": 339,
    "start_time": "2024-05-18T15:46:51.474Z"
   },
   {
    "duration": 95,
    "start_time": "2024-05-18T15:46:51.817Z"
   },
   {
    "duration": 7,
    "start_time": "2024-05-18T15:46:51.914Z"
   },
   {
    "duration": 34,
    "start_time": "2024-05-18T15:46:51.922Z"
   },
   {
    "duration": 125,
    "start_time": "2024-05-18T15:46:51.957Z"
   },
   {
    "duration": 39,
    "start_time": "2024-05-18T15:46:52.083Z"
   },
   {
    "duration": 3,
    "start_time": "2024-05-18T15:46:59.419Z"
   },
   {
    "duration": 4,
    "start_time": "2024-05-18T15:46:59.917Z"
   },
   {
    "duration": 1085,
    "start_time": "2024-05-18T15:47:00.475Z"
   },
   {
    "duration": 3,
    "start_time": "2024-05-18T15:47:08.692Z"
   },
   {
    "duration": 5,
    "start_time": "2024-05-18T15:47:09.110Z"
   },
   {
    "duration": 3230,
    "start_time": "2024-05-18T15:47:09.757Z"
   },
   {
    "duration": 3370,
    "start_time": "2024-05-18T15:50:58.230Z"
   },
   {
    "duration": 3399,
    "start_time": "2024-05-18T15:51:04.854Z"
   },
   {
    "duration": 3467,
    "start_time": "2024-05-18T15:51:30.737Z"
   },
   {
    "duration": 3412,
    "start_time": "2024-05-18T15:52:58.955Z"
   },
   {
    "duration": 1306,
    "start_time": "2024-05-18T15:53:29.346Z"
   },
   {
    "duration": 151,
    "start_time": "2024-05-18T15:53:30.654Z"
   },
   {
    "duration": 30,
    "start_time": "2024-05-18T15:53:30.806Z"
   },
   {
    "duration": 102,
    "start_time": "2024-05-18T15:53:30.838Z"
   },
   {
    "duration": 135,
    "start_time": "2024-05-18T15:53:30.942Z"
   },
   {
    "duration": 13,
    "start_time": "2024-05-18T15:53:31.078Z"
   },
   {
    "duration": 75,
    "start_time": "2024-05-18T15:53:31.092Z"
   },
   {
    "duration": 128,
    "start_time": "2024-05-18T15:53:31.168Z"
   },
   {
    "duration": 16,
    "start_time": "2024-05-18T15:53:31.298Z"
   },
   {
    "duration": 64,
    "start_time": "2024-05-18T15:53:31.316Z"
   },
   {
    "duration": 3,
    "start_time": "2024-05-18T15:53:31.381Z"
   },
   {
    "duration": 3243,
    "start_time": "2024-05-18T15:53:31.385Z"
   },
   {
    "duration": 3244,
    "start_time": "2024-05-18T15:53:34.630Z"
   },
   {
    "duration": 3663,
    "start_time": "2024-05-18T15:53:37.876Z"
   },
   {
    "duration": 2,
    "start_time": "2024-05-18T15:53:41.541Z"
   },
   {
    "duration": 4,
    "start_time": "2024-05-18T15:53:41.545Z"
   },
   {
    "duration": 391,
    "start_time": "2024-05-18T15:53:41.552Z"
   },
   {
    "duration": 388,
    "start_time": "2024-05-18T15:53:41.945Z"
   },
   {
    "duration": 383,
    "start_time": "2024-05-18T15:53:42.335Z"
   },
   {
    "duration": 11,
    "start_time": "2024-05-18T15:53:42.719Z"
   },
   {
    "duration": 398,
    "start_time": "2024-05-18T15:53:42.731Z"
   },
   {
    "duration": 6,
    "start_time": "2024-05-18T15:53:43.131Z"
   },
   {
    "duration": 7,
    "start_time": "2024-05-18T15:53:43.139Z"
   },
   {
    "duration": 103,
    "start_time": "2024-05-18T15:53:43.150Z"
   },
   {
    "duration": 72,
    "start_time": "2024-05-18T15:53:43.254Z"
   },
   {
    "duration": 34,
    "start_time": "2024-05-18T15:53:43.334Z"
   },
   {
    "duration": 4,
    "start_time": "2024-05-18T15:53:43.372Z"
   },
   {
    "duration": 14,
    "start_time": "2024-05-18T15:53:43.378Z"
   },
   {
    "duration": 3756,
    "start_time": "2024-05-18T15:53:43.394Z"
   }
  ],
  "kernelspec": {
   "display_name": "Python 3 (ipykernel)",
   "language": "python",
   "name": "python3"
  },
  "language_info": {
   "codemirror_mode": {
    "name": "ipython",
    "version": 3
   },
   "file_extension": ".py",
   "mimetype": "text/x-python",
   "name": "python",
   "nbconvert_exporter": "python",
   "pygments_lexer": "ipython3",
   "version": "3.11.7"
  },
  "toc": {
   "base_numbering": 1,
   "nav_menu": {},
   "number_sections": true,
   "sideBar": true,
   "skip_h1_title": true,
   "title_cell": "Table of Contents",
   "title_sidebar": "Contents",
   "toc_cell": false,
   "toc_position": {},
   "toc_section_display": true,
   "toc_window_display": false
  }
 },
 "nbformat": 4,
 "nbformat_minor": 4
}
