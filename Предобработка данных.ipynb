{
 "cells": [
  {
   "cell_type": "markdown",
   "id": "66d0cb63",
   "metadata": {
    "deletable": false,
    "editable": false,
    "id": "c81daeeb"
   },
   "source": [
    "# Исследование надежности заемщиков\n"
   ]
  },
  {
   "cell_type": "markdown",
   "id": "a6ee29c1",
   "metadata": {},
   "source": [
    "**Цель исследования:** изучить влияние различных факторов на факт погашения кредита заемщика в срок. "
   ]
  },
  {
   "cell_type": "markdown",
   "id": "6bcd1fee",
   "metadata": {},
   "source": [
    "**Описание данных:** статистика о платежеспособности клиентов, представленная в виде таблицы с 12 различными столбцами."
   ]
  },
  {
   "cell_type": "markdown",
   "id": "cd1f0aa2",
   "metadata": {},
   "source": [
    "**Краткий план работы:**\n",
    "1) просмотр таблицы, обнаружение пропусков/опечаток/изначально невозможных значений;\n",
    "\n",
    "2) предобработка данных: удаление пропусков, обработка аномальных значений и т.д.;\n",
    "\n",
    "3) исследование обработанных значений в таблице;\n",
    "\n",
    "4) подведение итогов работы, написание выводов."
   ]
  },
  {
   "cell_type": "markdown",
   "id": "a8bdb236",
   "metadata": {
    "deletable": false,
    "editable": false,
    "id": "827c20bf"
   },
   "source": [
    "Во второй части проекта вы выполните шаги 3 и 4. Их вручную проверит ревьюер.\n",
    "Чтобы вам не пришлось писать код заново для шагов 1 и 2, мы добавили авторские решения в ячейки с кодом. \n",
    "\n"
   ]
  },
  {
   "cell_type": "markdown",
   "id": "4057076a",
   "metadata": {
    "deletable": false,
    "editable": false,
    "id": "744d7639"
   },
   "source": [
    "## Откройте таблицу и изучите общую информацию о данных"
   ]
  },
  {
   "cell_type": "markdown",
   "id": "6a97d8bd",
   "metadata": {
    "deletable": false,
    "editable": false,
    "id": "e7a14c31"
   },
   "source": [
    "**Задание 1. Импортируйте библиотеку pandas. Считайте данные из csv-файла в датафрейм и сохраните в переменную `data`. Путь к файлу:**\n",
    "\n",
    "`/datasets/data.csv`"
   ]
  },
  {
   "cell_type": "code",
   "execution_count": 1,
   "id": "5ee430f4",
   "metadata": {
    "deletable": false,
    "id": "7bcf75c9"
   },
   "outputs": [],
   "source": [
    "import pandas as pd\n",
    "data = pd.read_csv('/datasets/data.csv')"
   ]
  },
  {
   "cell_type": "markdown",
   "id": "7ecf0d73",
   "metadata": {
    "deletable": false,
    "editable": false,
    "id": "b8038fe3"
   },
   "source": [
    "**Задание 2. Выведите первые 20 строчек датафрейма `data` на экран.**"
   ]
  },
  {
   "cell_type": "code",
   "execution_count": 2,
   "id": "fe198fa6",
   "metadata": {
    "deletable": false,
    "id": "2a7cab99",
    "outputId": "1a8f3ef2-d323-4ec2-ddf7-89670b5944c4"
   },
   "outputs": [
    {
     "data": {
      "text/html": [
       "<div>\n",
       "<style scoped>\n",
       "    .dataframe tbody tr th:only-of-type {\n",
       "        vertical-align: middle;\n",
       "    }\n",
       "\n",
       "    .dataframe tbody tr th {\n",
       "        vertical-align: top;\n",
       "    }\n",
       "\n",
       "    .dataframe thead th {\n",
       "        text-align: right;\n",
       "    }\n",
       "</style>\n",
       "<table border=\"1\" class=\"dataframe\">\n",
       "  <thead>\n",
       "    <tr style=\"text-align: right;\">\n",
       "      <th></th>\n",
       "      <th>children</th>\n",
       "      <th>days_employed</th>\n",
       "      <th>dob_years</th>\n",
       "      <th>education</th>\n",
       "      <th>education_id</th>\n",
       "      <th>family_status</th>\n",
       "      <th>family_status_id</th>\n",
       "      <th>gender</th>\n",
       "      <th>income_type</th>\n",
       "      <th>debt</th>\n",
       "      <th>total_income</th>\n",
       "      <th>purpose</th>\n",
       "    </tr>\n",
       "  </thead>\n",
       "  <tbody>\n",
       "    <tr>\n",
       "      <th>0</th>\n",
       "      <td>1</td>\n",
       "      <td>-8437.673028</td>\n",
       "      <td>42</td>\n",
       "      <td>высшее</td>\n",
       "      <td>0</td>\n",
       "      <td>женат / замужем</td>\n",
       "      <td>0</td>\n",
       "      <td>F</td>\n",
       "      <td>сотрудник</td>\n",
       "      <td>0</td>\n",
       "      <td>253875.639453</td>\n",
       "      <td>покупка жилья</td>\n",
       "    </tr>\n",
       "    <tr>\n",
       "      <th>1</th>\n",
       "      <td>1</td>\n",
       "      <td>-4024.803754</td>\n",
       "      <td>36</td>\n",
       "      <td>среднее</td>\n",
       "      <td>1</td>\n",
       "      <td>женат / замужем</td>\n",
       "      <td>0</td>\n",
       "      <td>F</td>\n",
       "      <td>сотрудник</td>\n",
       "      <td>0</td>\n",
       "      <td>112080.014102</td>\n",
       "      <td>приобретение автомобиля</td>\n",
       "    </tr>\n",
       "    <tr>\n",
       "      <th>2</th>\n",
       "      <td>0</td>\n",
       "      <td>-5623.422610</td>\n",
       "      <td>33</td>\n",
       "      <td>Среднее</td>\n",
       "      <td>1</td>\n",
       "      <td>женат / замужем</td>\n",
       "      <td>0</td>\n",
       "      <td>M</td>\n",
       "      <td>сотрудник</td>\n",
       "      <td>0</td>\n",
       "      <td>145885.952297</td>\n",
       "      <td>покупка жилья</td>\n",
       "    </tr>\n",
       "    <tr>\n",
       "      <th>3</th>\n",
       "      <td>3</td>\n",
       "      <td>-4124.747207</td>\n",
       "      <td>32</td>\n",
       "      <td>среднее</td>\n",
       "      <td>1</td>\n",
       "      <td>женат / замужем</td>\n",
       "      <td>0</td>\n",
       "      <td>M</td>\n",
       "      <td>сотрудник</td>\n",
       "      <td>0</td>\n",
       "      <td>267628.550329</td>\n",
       "      <td>дополнительное образование</td>\n",
       "    </tr>\n",
       "    <tr>\n",
       "      <th>4</th>\n",
       "      <td>0</td>\n",
       "      <td>340266.072047</td>\n",
       "      <td>53</td>\n",
       "      <td>среднее</td>\n",
       "      <td>1</td>\n",
       "      <td>гражданский брак</td>\n",
       "      <td>1</td>\n",
       "      <td>F</td>\n",
       "      <td>пенсионер</td>\n",
       "      <td>0</td>\n",
       "      <td>158616.077870</td>\n",
       "      <td>сыграть свадьбу</td>\n",
       "    </tr>\n",
       "    <tr>\n",
       "      <th>5</th>\n",
       "      <td>0</td>\n",
       "      <td>-926.185831</td>\n",
       "      <td>27</td>\n",
       "      <td>высшее</td>\n",
       "      <td>0</td>\n",
       "      <td>гражданский брак</td>\n",
       "      <td>1</td>\n",
       "      <td>M</td>\n",
       "      <td>компаньон</td>\n",
       "      <td>0</td>\n",
       "      <td>255763.565419</td>\n",
       "      <td>покупка жилья</td>\n",
       "    </tr>\n",
       "    <tr>\n",
       "      <th>6</th>\n",
       "      <td>0</td>\n",
       "      <td>-2879.202052</td>\n",
       "      <td>43</td>\n",
       "      <td>высшее</td>\n",
       "      <td>0</td>\n",
       "      <td>женат / замужем</td>\n",
       "      <td>0</td>\n",
       "      <td>F</td>\n",
       "      <td>компаньон</td>\n",
       "      <td>0</td>\n",
       "      <td>240525.971920</td>\n",
       "      <td>операции с жильем</td>\n",
       "    </tr>\n",
       "    <tr>\n",
       "      <th>7</th>\n",
       "      <td>0</td>\n",
       "      <td>-152.779569</td>\n",
       "      <td>50</td>\n",
       "      <td>СРЕДНЕЕ</td>\n",
       "      <td>1</td>\n",
       "      <td>женат / замужем</td>\n",
       "      <td>0</td>\n",
       "      <td>M</td>\n",
       "      <td>сотрудник</td>\n",
       "      <td>0</td>\n",
       "      <td>135823.934197</td>\n",
       "      <td>образование</td>\n",
       "    </tr>\n",
       "    <tr>\n",
       "      <th>8</th>\n",
       "      <td>2</td>\n",
       "      <td>-6929.865299</td>\n",
       "      <td>35</td>\n",
       "      <td>ВЫСШЕЕ</td>\n",
       "      <td>0</td>\n",
       "      <td>гражданский брак</td>\n",
       "      <td>1</td>\n",
       "      <td>F</td>\n",
       "      <td>сотрудник</td>\n",
       "      <td>0</td>\n",
       "      <td>95856.832424</td>\n",
       "      <td>на проведение свадьбы</td>\n",
       "    </tr>\n",
       "    <tr>\n",
       "      <th>9</th>\n",
       "      <td>0</td>\n",
       "      <td>-2188.756445</td>\n",
       "      <td>41</td>\n",
       "      <td>среднее</td>\n",
       "      <td>1</td>\n",
       "      <td>женат / замужем</td>\n",
       "      <td>0</td>\n",
       "      <td>M</td>\n",
       "      <td>сотрудник</td>\n",
       "      <td>0</td>\n",
       "      <td>144425.938277</td>\n",
       "      <td>покупка жилья для семьи</td>\n",
       "    </tr>\n",
       "    <tr>\n",
       "      <th>10</th>\n",
       "      <td>2</td>\n",
       "      <td>-4171.483647</td>\n",
       "      <td>36</td>\n",
       "      <td>высшее</td>\n",
       "      <td>0</td>\n",
       "      <td>женат / замужем</td>\n",
       "      <td>0</td>\n",
       "      <td>M</td>\n",
       "      <td>компаньон</td>\n",
       "      <td>0</td>\n",
       "      <td>113943.491460</td>\n",
       "      <td>покупка недвижимости</td>\n",
       "    </tr>\n",
       "    <tr>\n",
       "      <th>11</th>\n",
       "      <td>0</td>\n",
       "      <td>-792.701887</td>\n",
       "      <td>40</td>\n",
       "      <td>среднее</td>\n",
       "      <td>1</td>\n",
       "      <td>женат / замужем</td>\n",
       "      <td>0</td>\n",
       "      <td>F</td>\n",
       "      <td>сотрудник</td>\n",
       "      <td>0</td>\n",
       "      <td>77069.234271</td>\n",
       "      <td>покупка коммерческой недвижимости</td>\n",
       "    </tr>\n",
       "    <tr>\n",
       "      <th>12</th>\n",
       "      <td>0</td>\n",
       "      <td>NaN</td>\n",
       "      <td>65</td>\n",
       "      <td>среднее</td>\n",
       "      <td>1</td>\n",
       "      <td>гражданский брак</td>\n",
       "      <td>1</td>\n",
       "      <td>M</td>\n",
       "      <td>пенсионер</td>\n",
       "      <td>0</td>\n",
       "      <td>NaN</td>\n",
       "      <td>сыграть свадьбу</td>\n",
       "    </tr>\n",
       "    <tr>\n",
       "      <th>13</th>\n",
       "      <td>0</td>\n",
       "      <td>-1846.641941</td>\n",
       "      <td>54</td>\n",
       "      <td>неоконченное высшее</td>\n",
       "      <td>2</td>\n",
       "      <td>женат / замужем</td>\n",
       "      <td>0</td>\n",
       "      <td>F</td>\n",
       "      <td>сотрудник</td>\n",
       "      <td>0</td>\n",
       "      <td>130458.228857</td>\n",
       "      <td>приобретение автомобиля</td>\n",
       "    </tr>\n",
       "    <tr>\n",
       "      <th>14</th>\n",
       "      <td>0</td>\n",
       "      <td>-1844.956182</td>\n",
       "      <td>56</td>\n",
       "      <td>высшее</td>\n",
       "      <td>0</td>\n",
       "      <td>гражданский брак</td>\n",
       "      <td>1</td>\n",
       "      <td>F</td>\n",
       "      <td>компаньон</td>\n",
       "      <td>1</td>\n",
       "      <td>165127.911772</td>\n",
       "      <td>покупка жилой недвижимости</td>\n",
       "    </tr>\n",
       "    <tr>\n",
       "      <th>15</th>\n",
       "      <td>1</td>\n",
       "      <td>-972.364419</td>\n",
       "      <td>26</td>\n",
       "      <td>среднее</td>\n",
       "      <td>1</td>\n",
       "      <td>женат / замужем</td>\n",
       "      <td>0</td>\n",
       "      <td>F</td>\n",
       "      <td>сотрудник</td>\n",
       "      <td>0</td>\n",
       "      <td>116820.904450</td>\n",
       "      <td>строительство собственной недвижимости</td>\n",
       "    </tr>\n",
       "    <tr>\n",
       "      <th>16</th>\n",
       "      <td>0</td>\n",
       "      <td>-1719.934226</td>\n",
       "      <td>35</td>\n",
       "      <td>среднее</td>\n",
       "      <td>1</td>\n",
       "      <td>женат / замужем</td>\n",
       "      <td>0</td>\n",
       "      <td>F</td>\n",
       "      <td>сотрудник</td>\n",
       "      <td>0</td>\n",
       "      <td>289202.704229</td>\n",
       "      <td>недвижимость</td>\n",
       "    </tr>\n",
       "    <tr>\n",
       "      <th>17</th>\n",
       "      <td>0</td>\n",
       "      <td>-2369.999720</td>\n",
       "      <td>33</td>\n",
       "      <td>высшее</td>\n",
       "      <td>0</td>\n",
       "      <td>гражданский брак</td>\n",
       "      <td>1</td>\n",
       "      <td>M</td>\n",
       "      <td>сотрудник</td>\n",
       "      <td>0</td>\n",
       "      <td>90410.586745</td>\n",
       "      <td>строительство недвижимости</td>\n",
       "    </tr>\n",
       "    <tr>\n",
       "      <th>18</th>\n",
       "      <td>0</td>\n",
       "      <td>400281.136913</td>\n",
       "      <td>53</td>\n",
       "      <td>среднее</td>\n",
       "      <td>1</td>\n",
       "      <td>вдовец / вдова</td>\n",
       "      <td>2</td>\n",
       "      <td>F</td>\n",
       "      <td>пенсионер</td>\n",
       "      <td>0</td>\n",
       "      <td>56823.777243</td>\n",
       "      <td>на покупку подержанного автомобиля</td>\n",
       "    </tr>\n",
       "    <tr>\n",
       "      <th>19</th>\n",
       "      <td>0</td>\n",
       "      <td>-10038.818549</td>\n",
       "      <td>48</td>\n",
       "      <td>СРЕДНЕЕ</td>\n",
       "      <td>1</td>\n",
       "      <td>в разводе</td>\n",
       "      <td>3</td>\n",
       "      <td>F</td>\n",
       "      <td>сотрудник</td>\n",
       "      <td>0</td>\n",
       "      <td>242831.107982</td>\n",
       "      <td>на покупку своего автомобиля</td>\n",
       "    </tr>\n",
       "  </tbody>\n",
       "</table>\n",
       "</div>"
      ],
      "text/plain": [
       "    children  days_employed  dob_years            education  education_id  \\\n",
       "0          1   -8437.673028         42               высшее             0   \n",
       "1          1   -4024.803754         36              среднее             1   \n",
       "2          0   -5623.422610         33              Среднее             1   \n",
       "3          3   -4124.747207         32              среднее             1   \n",
       "4          0  340266.072047         53              среднее             1   \n",
       "5          0    -926.185831         27               высшее             0   \n",
       "6          0   -2879.202052         43               высшее             0   \n",
       "7          0    -152.779569         50              СРЕДНЕЕ             1   \n",
       "8          2   -6929.865299         35               ВЫСШЕЕ             0   \n",
       "9          0   -2188.756445         41              среднее             1   \n",
       "10         2   -4171.483647         36               высшее             0   \n",
       "11         0    -792.701887         40              среднее             1   \n",
       "12         0            NaN         65              среднее             1   \n",
       "13         0   -1846.641941         54  неоконченное высшее             2   \n",
       "14         0   -1844.956182         56               высшее             0   \n",
       "15         1    -972.364419         26              среднее             1   \n",
       "16         0   -1719.934226         35              среднее             1   \n",
       "17         0   -2369.999720         33               высшее             0   \n",
       "18         0  400281.136913         53              среднее             1   \n",
       "19         0  -10038.818549         48              СРЕДНЕЕ             1   \n",
       "\n",
       "       family_status  family_status_id gender income_type  debt  \\\n",
       "0    женат / замужем                 0      F   сотрудник     0   \n",
       "1    женат / замужем                 0      F   сотрудник     0   \n",
       "2    женат / замужем                 0      M   сотрудник     0   \n",
       "3    женат / замужем                 0      M   сотрудник     0   \n",
       "4   гражданский брак                 1      F   пенсионер     0   \n",
       "5   гражданский брак                 1      M   компаньон     0   \n",
       "6    женат / замужем                 0      F   компаньон     0   \n",
       "7    женат / замужем                 0      M   сотрудник     0   \n",
       "8   гражданский брак                 1      F   сотрудник     0   \n",
       "9    женат / замужем                 0      M   сотрудник     0   \n",
       "10   женат / замужем                 0      M   компаньон     0   \n",
       "11   женат / замужем                 0      F   сотрудник     0   \n",
       "12  гражданский брак                 1      M   пенсионер     0   \n",
       "13   женат / замужем                 0      F   сотрудник     0   \n",
       "14  гражданский брак                 1      F   компаньон     1   \n",
       "15   женат / замужем                 0      F   сотрудник     0   \n",
       "16   женат / замужем                 0      F   сотрудник     0   \n",
       "17  гражданский брак                 1      M   сотрудник     0   \n",
       "18    вдовец / вдова                 2      F   пенсионер     0   \n",
       "19         в разводе                 3      F   сотрудник     0   \n",
       "\n",
       "     total_income                                 purpose  \n",
       "0   253875.639453                           покупка жилья  \n",
       "1   112080.014102                 приобретение автомобиля  \n",
       "2   145885.952297                           покупка жилья  \n",
       "3   267628.550329              дополнительное образование  \n",
       "4   158616.077870                         сыграть свадьбу  \n",
       "5   255763.565419                           покупка жилья  \n",
       "6   240525.971920                       операции с жильем  \n",
       "7   135823.934197                             образование  \n",
       "8    95856.832424                   на проведение свадьбы  \n",
       "9   144425.938277                 покупка жилья для семьи  \n",
       "10  113943.491460                    покупка недвижимости  \n",
       "11   77069.234271       покупка коммерческой недвижимости  \n",
       "12            NaN                         сыграть свадьбу  \n",
       "13  130458.228857                 приобретение автомобиля  \n",
       "14  165127.911772              покупка жилой недвижимости  \n",
       "15  116820.904450  строительство собственной недвижимости  \n",
       "16  289202.704229                            недвижимость  \n",
       "17   90410.586745              строительство недвижимости  \n",
       "18   56823.777243      на покупку подержанного автомобиля  \n",
       "19  242831.107982            на покупку своего автомобиля  "
      ]
     },
     "execution_count": 2,
     "metadata": {},
     "output_type": "execute_result"
    }
   ],
   "source": [
    "data.head(20)"
   ]
  },
  {
   "cell_type": "markdown",
   "id": "b8a02389",
   "metadata": {
    "deletable": false,
    "editable": false,
    "id": "1c12e233"
   },
   "source": [
    "**Задание 3. Выведите основную информацию о датафрейме с помощью метода `info()`.**"
   ]
  },
  {
   "cell_type": "code",
   "execution_count": 3,
   "id": "f799f07f",
   "metadata": {
    "deletable": false,
    "id": "2b757bca",
    "outputId": "15376089-8dad-46c9-b520-c05248d43158"
   },
   "outputs": [
    {
     "name": "stdout",
     "output_type": "stream",
     "text": [
      "<class 'pandas.core.frame.DataFrame'>\n",
      "RangeIndex: 21525 entries, 0 to 21524\n",
      "Data columns (total 12 columns):\n",
      " #   Column            Non-Null Count  Dtype  \n",
      "---  ------            --------------  -----  \n",
      " 0   children          21525 non-null  int64  \n",
      " 1   days_employed     19351 non-null  float64\n",
      " 2   dob_years         21525 non-null  int64  \n",
      " 3   education         21525 non-null  object \n",
      " 4   education_id      21525 non-null  int64  \n",
      " 5   family_status     21525 non-null  object \n",
      " 6   family_status_id  21525 non-null  int64  \n",
      " 7   gender            21525 non-null  object \n",
      " 8   income_type       21525 non-null  object \n",
      " 9   debt              21525 non-null  int64  \n",
      " 10  total_income      19351 non-null  float64\n",
      " 11  purpose           21525 non-null  object \n",
      "dtypes: float64(2), int64(5), object(5)\n",
      "memory usage: 2.0+ MB\n"
     ]
    }
   ],
   "source": [
    "data.info()"
   ]
  },
  {
   "cell_type": "markdown",
   "id": "144a7689",
   "metadata": {
    "deletable": false,
    "editable": false,
    "id": "333ec665"
   },
   "source": [
    "## Предобработка данных"
   ]
  },
  {
   "cell_type": "markdown",
   "id": "ed02aca6",
   "metadata": {
    "deletable": false,
    "editable": false,
    "id": "02d92d53"
   },
   "source": [
    "### Удаление пропусков"
   ]
  },
  {
   "cell_type": "markdown",
   "id": "348edff4",
   "metadata": {
    "deletable": false,
    "editable": false,
    "id": "cd84967c"
   },
   "source": [
    "**Задание 4. Выведите количество пропущенных значений для каждого столбца. Используйте комбинацию двух методов.**"
   ]
  },
  {
   "cell_type": "code",
   "execution_count": 4,
   "id": "95740d16",
   "metadata": {
    "deletable": false,
    "id": "7f9b2309",
    "outputId": "81f4d817-781c-465c-ed15-91ce4446810d"
   },
   "outputs": [
    {
     "data": {
      "text/plain": [
       "children               0\n",
       "days_employed       2174\n",
       "dob_years              0\n",
       "education              0\n",
       "education_id           0\n",
       "family_status          0\n",
       "family_status_id       0\n",
       "gender                 0\n",
       "income_type            0\n",
       "debt                   0\n",
       "total_income        2174\n",
       "purpose                0\n",
       "dtype: int64"
      ]
     },
     "execution_count": 4,
     "metadata": {},
     "output_type": "execute_result"
    }
   ],
   "source": [
    "data.isna().sum()"
   ]
  },
  {
   "cell_type": "markdown",
   "id": "07e10c9d",
   "metadata": {
    "deletable": false,
    "editable": false,
    "id": "db86e27b"
   },
   "source": [
    "**Задание 5. В двух столбцах есть пропущенные значения. Один из них — `days_employed`. Пропуски в этом столбце вы обработаете на следующем этапе. Другой столбец с пропущенными значениями — `total_income` — хранит данные о доходах. На сумму дохода сильнее всего влияет тип занятости, поэтому заполнить пропуски в этом столбце нужно медианным значением по каждому типу из столбца `income_type`. Например, у человека с типом занятости `сотрудник` пропуск в столбце `total_income` должен быть заполнен медианным доходом среди всех записей с тем же типом.**"
   ]
  },
  {
   "cell_type": "code",
   "execution_count": 5,
   "id": "f7be44d0",
   "metadata": {
    "deletable": false,
    "id": "42006a93"
   },
   "outputs": [],
   "source": [
    "for t in data['income_type'].unique():\n",
    "    data.loc[(data['income_type'] == t) & (data['total_income'].isna()), 'total_income'] = \\\n",
    "    data.loc[(data['income_type'] == t), 'total_income'].median()"
   ]
  },
  {
   "cell_type": "markdown",
   "id": "12841236",
   "metadata": {
    "deletable": false,
    "editable": false,
    "id": "89da5ece"
   },
   "source": [
    "### Обработка аномальных значений"
   ]
  },
  {
   "cell_type": "markdown",
   "id": "b6d25340",
   "metadata": {
    "deletable": false,
    "editable": false,
    "id": "57964554"
   },
   "source": [
    "**Задание 6. В данных могут встречаться артефакты (аномалии) — значения, которые не отражают действительность и появились по какой-то ошибке. таким артефактом будет отрицательное количество дней трудового стажа в столбце `days_employed`. Для реальных данных это нормально. Обработайте значения в этом столбце: замените все отрицательные значения положительными с помощью метода `abs()`.**"
   ]
  },
  {
   "cell_type": "code",
   "execution_count": 6,
   "id": "0ec47d93",
   "metadata": {
    "deletable": false,
    "id": "f6f055bf"
   },
   "outputs": [],
   "source": [
    "data['days_employed'] = data['days_employed'].abs()"
   ]
  },
  {
   "cell_type": "markdown",
   "id": "7deca50c",
   "metadata": {
    "deletable": false,
    "editable": false,
    "id": "6107dd2f"
   },
   "source": [
    "**Задание 7. Для каждого типа занятости выведите медианное значение трудового стажа `days_employed` в днях.**"
   ]
  },
  {
   "cell_type": "code",
   "execution_count": 7,
   "id": "67fb3434",
   "metadata": {
    "deletable": false,
    "id": "85a5faf6",
    "outputId": "801ef80e-522b-4668-f34e-565af7432bcf"
   },
   "outputs": [
    {
     "data": {
      "text/plain": [
       "income_type\n",
       "безработный        366413.652744\n",
       "в декрете            3296.759962\n",
       "госслужащий          2689.368353\n",
       "компаньон            1547.382223\n",
       "пенсионер          365213.306266\n",
       "предприниматель       520.848083\n",
       "сотрудник            1574.202821\n",
       "студент               578.751554\n",
       "Name: days_employed, dtype: float64"
      ]
     },
     "execution_count": 7,
     "metadata": {},
     "output_type": "execute_result"
    }
   ],
   "source": [
    "data.groupby('income_type')['days_employed'].agg('median')"
   ]
  },
  {
   "cell_type": "markdown",
   "id": "76696dae",
   "metadata": {
    "deletable": false,
    "editable": false,
    "id": "38d1a030"
   },
   "source": [
    "У двух типов (безработные и пенсионеры) получатся аномально большие значения. Исправить такие значения сложно, поэтому оставьте их как есть. Тем более этот столбец не понадобится вам для исследования."
   ]
  },
  {
   "cell_type": "markdown",
   "id": "95c7680a",
   "metadata": {
    "deletable": false,
    "editable": false,
    "id": "d8a9f147"
   },
   "source": [
    "**Задание 8. Выведите перечень уникальных значений столбца `children`.**"
   ]
  },
  {
   "cell_type": "code",
   "execution_count": 8,
   "id": "0dbd9bbe",
   "metadata": {
    "deletable": false,
    "id": "ef5056eb",
    "outputId": "6975b15c-7f95-4697-d16d-a0c79b657b03"
   },
   "outputs": [
    {
     "data": {
      "text/plain": [
       "array([ 1,  0,  3,  2, -1,  4, 20,  5])"
      ]
     },
     "execution_count": 8,
     "metadata": {},
     "output_type": "execute_result"
    }
   ],
   "source": [
    "data['children'].unique()"
   ]
  },
  {
   "cell_type": "markdown",
   "id": "5e1b08f3",
   "metadata": {
    "deletable": false,
    "editable": false,
    "id": "40b9ebf2"
   },
   "source": [
    "**Задание 9. В столбце `children` есть два аномальных значения. Удалите строки, в которых встречаются такие аномальные значения из датафрейма `data`.**"
   ]
  },
  {
   "cell_type": "code",
   "execution_count": 9,
   "id": "b4cb80dc",
   "metadata": {
    "deletable": false,
    "id": "3ff9801d"
   },
   "outputs": [],
   "source": [
    "data = data[(data['children'] != -1) & (data['children'] != 20)]"
   ]
  },
  {
   "cell_type": "markdown",
   "id": "975108cd",
   "metadata": {
    "deletable": false,
    "editable": false,
    "id": "bbc4d0ce"
   },
   "source": [
    "**Задание 10. Ещё раз выведите перечень уникальных значений столбца `children`, чтобы убедиться, что артефакты удалены.**"
   ]
  },
  {
   "cell_type": "code",
   "execution_count": 10,
   "id": "5b78bc0f",
   "metadata": {
    "deletable": false,
    "id": "ad4fa8b7",
    "outputId": "b2097101-d49d-44d9-901b-32a65c9463d1"
   },
   "outputs": [
    {
     "data": {
      "text/plain": [
       "array([1, 0, 3, 2, 4, 5])"
      ]
     },
     "execution_count": 10,
     "metadata": {},
     "output_type": "execute_result"
    }
   ],
   "source": [
    "data['children'].unique()"
   ]
  },
  {
   "cell_type": "markdown",
   "id": "79445d8b",
   "metadata": {
    "deletable": false,
    "editable": false,
    "id": "75440b63"
   },
   "source": [
    "### Удаление пропусков (продолжение)"
   ]
  },
  {
   "cell_type": "markdown",
   "id": "1a62e591",
   "metadata": {
    "deletable": false,
    "editable": false,
    "id": "f4ea573f"
   },
   "source": [
    "**Задание 11. Заполните пропуски в столбце `days_employed` медианными значениями по каждого типа занятости `income_type`.**"
   ]
  },
  {
   "cell_type": "code",
   "execution_count": 11,
   "id": "fc37bae7",
   "metadata": {
    "deletable": false,
    "id": "af6b1a7e"
   },
   "outputs": [],
   "source": [
    "for t in data['income_type'].unique():\n",
    "    data.loc[(data['income_type'] == t) & (data['days_employed'].isna()), 'days_employed'] = \\\n",
    "    data.loc[(data['income_type'] == t), 'days_employed'].median()"
   ]
  },
  {
   "cell_type": "markdown",
   "id": "27bd0ad7",
   "metadata": {
    "deletable": false,
    "editable": false,
    "id": "2753f40d"
   },
   "source": [
    "**Задание 12. Убедитесь, что все пропуски заполнены. Проверьте себя и ещё раз выведите количество пропущенных значений для каждого столбца с помощью двух методов.**"
   ]
  },
  {
   "cell_type": "code",
   "execution_count": 12,
   "id": "129d1a56",
   "metadata": {
    "deletable": false,
    "id": "55f78bc2",
    "outputId": "8da1e4e1-358e-4e87-98c9-f261bce0a7b2"
   },
   "outputs": [
    {
     "data": {
      "text/plain": [
       "children            0\n",
       "days_employed       0\n",
       "dob_years           0\n",
       "education           0\n",
       "education_id        0\n",
       "family_status       0\n",
       "family_status_id    0\n",
       "gender              0\n",
       "income_type         0\n",
       "debt                0\n",
       "total_income        0\n",
       "purpose             0\n",
       "dtype: int64"
      ]
     },
     "execution_count": 12,
     "metadata": {},
     "output_type": "execute_result"
    }
   ],
   "source": [
    "data.isna().sum()"
   ]
  },
  {
   "cell_type": "markdown",
   "id": "bee25c70",
   "metadata": {
    "deletable": false,
    "editable": false,
    "id": "ddc81e43"
   },
   "source": [
    "### Изменение типов данных"
   ]
  },
  {
   "cell_type": "markdown",
   "id": "4927df5c",
   "metadata": {
    "deletable": false,
    "editable": false,
    "id": "42d19d24"
   },
   "source": [
    "**Задание 13. Замените вещественный тип данных в столбце `total_income` на целочисленный с помощью метода `astype()`.**"
   ]
  },
  {
   "cell_type": "code",
   "execution_count": 13,
   "id": "088e111f",
   "metadata": {
    "deletable": false,
    "id": "920b65ad"
   },
   "outputs": [],
   "source": [
    "data['total_income'] = data['total_income'].astype(int)"
   ]
  },
  {
   "cell_type": "markdown",
   "id": "a29311dd",
   "metadata": {
    "deletable": false,
    "editable": false,
    "id": "80c420ba"
   },
   "source": [
    "### Обработка дубликатов"
   ]
  },
  {
   "cell_type": "markdown",
   "id": "7ca525ba",
   "metadata": {
    "deletable": false,
    "editable": false
   },
   "source": [
    "**Задание 14. Обработайте неявные дубликаты в столбце `education`. В этом столбце есть одни и те же значения, но записанные по-разному: с использованием заглавных и строчных букв. Приведите их к нижнему регистру. Проверьте остальные столбцы.**"
   ]
  },
  {
   "cell_type": "code",
   "execution_count": 14,
   "id": "c5aaa1f7",
   "metadata": {
    "deletable": false
   },
   "outputs": [],
   "source": [
    "data['education'] = data['education'].str.lower()"
   ]
  },
  {
   "cell_type": "markdown",
   "id": "3aeff828",
   "metadata": {
    "deletable": false,
    "editable": false,
    "id": "dc587695"
   },
   "source": [
    "**Задание 15. Выведите на экран количество строк-дубликатов в данных. Если такие строки присутствуют, удалите их.**"
   ]
  },
  {
   "cell_type": "code",
   "execution_count": 15,
   "id": "d1fd9e86",
   "metadata": {
    "deletable": false,
    "id": "3ee445e4",
    "outputId": "9684deba-1934-42d1-99e1-cda61740f822"
   },
   "outputs": [
    {
     "data": {
      "text/plain": [
       "71"
      ]
     },
     "execution_count": 15,
     "metadata": {},
     "output_type": "execute_result"
    }
   ],
   "source": [
    "data.duplicated().sum()"
   ]
  },
  {
   "cell_type": "code",
   "execution_count": 16,
   "id": "7932fb4c",
   "metadata": {
    "deletable": false,
    "id": "8575fe05"
   },
   "outputs": [],
   "source": [
    "data = data.drop_duplicates()"
   ]
  },
  {
   "cell_type": "markdown",
   "id": "de7cb6e6",
   "metadata": {
    "deletable": false,
    "editable": false,
    "id": "9904cf55"
   },
   "source": [
    "### Категоризация данных"
   ]
  },
  {
   "cell_type": "markdown",
   "id": "1cc89e22",
   "metadata": {
    "deletable": false,
    "editable": false,
    "id": "72fcc8a2"
   },
   "source": [
    "**Задание 16. На основании диапазонов, указанных ниже, создайте в датафрейме `data` столбец `total_income_category` с категориями:**\n",
    "\n",
    "- 0–30000 — `'E'`;\n",
    "- 30001–50000 — `'D'`;\n",
    "- 50001–200000 — `'C'`;\n",
    "- 200001–1000000 — `'B'`;\n",
    "- 1000001 и выше — `'A'`.\n",
    "\n",
    "\n",
    "**Например, кредитополучателю с доходом 25000 нужно назначить категорию `'E'`, а клиенту, получающему 235000, — `'B'`. Используйте собственную функцию с именем `categorize_income()` и метод `apply()`.**"
   ]
  },
  {
   "cell_type": "code",
   "execution_count": 17,
   "id": "752775be",
   "metadata": {
    "deletable": false,
    "id": "e1771346"
   },
   "outputs": [],
   "source": [
    "def categorize_income(income):\n",
    "    try:\n",
    "        if 0 <= income <= 30000:\n",
    "            return 'E'\n",
    "        elif 30001 <= income <= 50000:\n",
    "            return 'D'\n",
    "        elif 50001 <= income <= 200000:\n",
    "            return 'C'\n",
    "        elif 200001 <= income <= 1000000:\n",
    "            return 'B'\n",
    "        elif income >= 1000001:\n",
    "            return 'A'\n",
    "    except:\n",
    "        pass"
   ]
  },
  {
   "cell_type": "code",
   "execution_count": 18,
   "id": "9299c0c0",
   "metadata": {
    "deletable": false,
    "id": "d5f3586d"
   },
   "outputs": [],
   "source": [
    "data['total_income_category'] = data['total_income'].apply(categorize_income)"
   ]
  },
  {
   "cell_type": "markdown",
   "id": "2fd0b70a",
   "metadata": {
    "deletable": false,
    "editable": false,
    "id": "dde49b5c"
   },
   "source": [
    "**Задание 17. Выведите на экран перечень уникальных целей взятия кредита из столбца `purpose`.**"
   ]
  },
  {
   "cell_type": "code",
   "execution_count": 19,
   "id": "82283568",
   "metadata": {
    "deletable": false,
    "id": "f67ce9b3",
    "outputId": "673c12d9-7d7e-4ae0-9812-c622c89dd244"
   },
   "outputs": [
    {
     "data": {
      "text/plain": [
       "array(['покупка жилья', 'приобретение автомобиля',\n",
       "       'дополнительное образование', 'сыграть свадьбу',\n",
       "       'операции с жильем', 'образование', 'на проведение свадьбы',\n",
       "       'покупка жилья для семьи', 'покупка недвижимости',\n",
       "       'покупка коммерческой недвижимости', 'покупка жилой недвижимости',\n",
       "       'строительство собственной недвижимости', 'недвижимость',\n",
       "       'строительство недвижимости', 'на покупку подержанного автомобиля',\n",
       "       'на покупку своего автомобиля',\n",
       "       'операции с коммерческой недвижимостью',\n",
       "       'строительство жилой недвижимости', 'жилье',\n",
       "       'операции со своей недвижимостью', 'автомобили',\n",
       "       'заняться образованием', 'сделка с подержанным автомобилем',\n",
       "       'получение образования', 'автомобиль', 'свадьба',\n",
       "       'получение дополнительного образования', 'покупка своего жилья',\n",
       "       'операции с недвижимостью', 'получение высшего образования',\n",
       "       'свой автомобиль', 'сделка с автомобилем',\n",
       "       'профильное образование', 'высшее образование',\n",
       "       'покупка жилья для сдачи', 'на покупку автомобиля', 'ремонт жилью',\n",
       "       'заняться высшим образованием'], dtype=object)"
      ]
     },
     "execution_count": 19,
     "metadata": {},
     "output_type": "execute_result"
    }
   ],
   "source": [
    "data['purpose'].unique()"
   ]
  },
  {
   "cell_type": "markdown",
   "id": "38360da4",
   "metadata": {
    "deletable": false,
    "editable": false,
    "id": "85d0aef0"
   },
   "source": [
    "**Задание 18. Создайте функцию, которая на основании данных из столбца `purpose` сформирует новый столбец `purpose_category`, в который войдут следующие категории:**\n",
    "\n",
    "- `'операции с автомобилем'`,\n",
    "- `'операции с недвижимостью'`,\n",
    "- `'проведение свадьбы'`,\n",
    "- `'получение образования'`.\n",
    "\n",
    "**Например, если в столбце `purpose` находится подстрока `'на покупку автомобиля'`, то в столбце `purpose_category` должна появиться строка `'операции с автомобилем'`.**\n",
    "\n",
    "**Используйте собственную функцию с именем `categorize_purpose()` и метод `apply()`. Изучите данные в столбце `purpose` и определите, какие подстроки помогут вам правильно определить категорию.**"
   ]
  },
  {
   "cell_type": "code",
   "execution_count": 20,
   "id": "2a324fc6",
   "metadata": {
    "deletable": false,
    "id": "e149fab4"
   },
   "outputs": [],
   "source": [
    "def categorize_purpose(row):\n",
    "    try:\n",
    "        if 'автом' in row:\n",
    "            return 'операции с автомобилем'\n",
    "        elif 'жил' in row or 'недвиж' in row:\n",
    "            return 'операции с недвижимостью'\n",
    "        elif 'свад' in row:\n",
    "            return 'проведение свадьбы'\n",
    "        elif 'образов' in row:\n",
    "            return 'получение образования'\n",
    "    except:\n",
    "        return 'нет категории'"
   ]
  },
  {
   "cell_type": "code",
   "execution_count": 21,
   "id": "f3e76bab",
   "metadata": {
    "deletable": false,
    "id": "bf36e69b"
   },
   "outputs": [],
   "source": [
    "data['purpose_category'] = data['purpose'].apply(categorize_purpose)"
   ]
  },
  {
   "cell_type": "markdown",
   "id": "cf08698c",
   "metadata": {
    "deletable": false,
    "editable": false,
    "id": "09b242bf"
   },
   "source": [
    "### Шаг 3. Исследуйте данные и ответьте на вопросы"
   ]
  },
  {
   "cell_type": "markdown",
   "id": "fe76c130",
   "metadata": {
    "deletable": false,
    "editable": false,
    "id": "c5d66278"
   },
   "source": [
    "#### 3.1 Есть ли зависимость между количеством детей и возвратом кредита в срок?"
   ]
  },
  {
   "cell_type": "code",
   "execution_count": 22,
   "id": "0445349b",
   "metadata": {
    "deletable": false,
    "id": "2cacfc4a"
   },
   "outputs": [
    {
     "data": {
      "text/html": [
       "<div>\n",
       "<style scoped>\n",
       "    .dataframe tbody tr th:only-of-type {\n",
       "        vertical-align: middle;\n",
       "    }\n",
       "\n",
       "    .dataframe tbody tr th {\n",
       "        vertical-align: top;\n",
       "    }\n",
       "\n",
       "    .dataframe thead th {\n",
       "        text-align: right;\n",
       "    }\n",
       "</style>\n",
       "<table border=\"1\" class=\"dataframe\">\n",
       "  <thead>\n",
       "    <tr style=\"text-align: right;\">\n",
       "      <th></th>\n",
       "      <th>Количество записей</th>\n",
       "      <th>Среднее</th>\n",
       "    </tr>\n",
       "    <tr>\n",
       "      <th>children</th>\n",
       "      <th></th>\n",
       "      <th></th>\n",
       "    </tr>\n",
       "  </thead>\n",
       "  <tbody>\n",
       "    <tr>\n",
       "      <th>5</th>\n",
       "      <td>9.0</td>\n",
       "      <td>0.00%</td>\n",
       "    </tr>\n",
       "    <tr>\n",
       "      <th>4</th>\n",
       "      <td>41.0</td>\n",
       "      <td>9.76%</td>\n",
       "    </tr>\n",
       "    <tr>\n",
       "      <th>3</th>\n",
       "      <td>330.0</td>\n",
       "      <td>8.18%</td>\n",
       "    </tr>\n",
       "    <tr>\n",
       "      <th>2</th>\n",
       "      <td>2052.0</td>\n",
       "      <td>9.45%</td>\n",
       "    </tr>\n",
       "    <tr>\n",
       "      <th>1</th>\n",
       "      <td>4808.0</td>\n",
       "      <td>9.23%</td>\n",
       "    </tr>\n",
       "    <tr>\n",
       "      <th>0</th>\n",
       "      <td>14091.0</td>\n",
       "      <td>7.54%</td>\n",
       "    </tr>\n",
       "  </tbody>\n",
       "</table>\n",
       "</div>"
      ],
      "text/plain": [
       "          Количество записей Среднее\n",
       "children                            \n",
       "5                        9.0   0.00%\n",
       "4                       41.0   9.76%\n",
       "3                      330.0   8.18%\n",
       "2                     2052.0   9.45%\n",
       "1                     4808.0   9.23%\n",
       "0                    14091.0   7.54%"
      ]
     },
     "execution_count": 22,
     "metadata": {},
     "output_type": "execute_result"
    }
   ],
   "source": [
    "#print(data['debt'].unique()) #проверка значений долга; сделан вывод, что долг либо есть (debt=1 <=> debt=True), либо его нет\n",
    "mean = data.groupby('children')['debt'].mean() #считаем среднее значение для групп семей с разным количеством детей\n",
    "f = data.pivot_table(index = ['children'], values='debt', aggfunc = ('mean', lambda X:\n",
    "                                                                       X.count())) #создаем сводную таблицу\n",
    "\n",
    "def pt(x): #делаем вывод процентов с двумя знаками после запятой через функцию, которую потом применим к значениям вероятности просрока семей\n",
    "    return \"{0:.2%}\".format(x)\n",
    "\n",
    "f['mean'] = f['mean'].apply(pt) #применяем функцию\n",
    "f = f.rename(columns={'<lambda_0>': 'Количество записей', 'mean': 'Среднее'}) #оформляем таблицу, называем столбцы\n",
    "f.sort_values(by='children', ascending=False) #сортируем таблицу по убыванию количества детей в семье"
   ]
  },
  {
   "cell_type": "markdown",
   "id": "5309458c",
   "metadata": {
    "deletable": false,
    "id": "3a6b99ec"
   },
   "source": [
    "**Вывод:** полученная таблица дает информацию о том, какова средняя доля просрочки задолженности у семей с разным количеством детей. Из представленных значений можно сделать вывод: наиболее добропорядочно себя ведут семьи с 5-ю детьми (вероятность просрочки у них составляет 0%); у семей без детей вероятность просрочки одна из минимальшейших - 7,51%; далее по возрастанию доли просрочки идут семьи с 3-мя детьми, значение возможности просрочки для которых составляет 8,18%; практически равные вероятности невыплаты кредита в срок у семей с одним, двумя и четырьмя детьми - показатели находятся между 9 и 10 процентами. Семьи с пятью детьми, согласно полученным значениям, абсолютно не склонны \"просрачивать\" кредиты, однако исходя из значений доли просрочки у семей с другим количеством детей, можно сделать вывод, что данные некорректны. Выборки не сбалансированы: наибольшее количество семей либо не имеют детей, либо у них 1 или 2 продолжений рода. Сравнивая долю просрочки среди этих категорий, можно сделать следующее умозаключение: чем больше детей в семье, тем выше процент просрочки у семей."
   ]
  },
  {
   "cell_type": "markdown",
   "id": "0b20c47d",
   "metadata": {
    "deletable": false,
    "editable": false,
    "id": "97be82ca"
   },
   "source": [
    "#### 3.2 Есть ли зависимость между семейным положением и возвратом кредита в срок?"
   ]
  },
  {
   "cell_type": "code",
   "execution_count": 23,
   "id": "1f360536",
   "metadata": {
    "deletable": false,
    "id": "dc3f7ee8"
   },
   "outputs": [
    {
     "data": {
      "text/html": [
       "<div>\n",
       "<style scoped>\n",
       "    .dataframe tbody tr th:only-of-type {\n",
       "        vertical-align: middle;\n",
       "    }\n",
       "\n",
       "    .dataframe tbody tr th {\n",
       "        vertical-align: top;\n",
       "    }\n",
       "\n",
       "    .dataframe thead th {\n",
       "        text-align: right;\n",
       "    }\n",
       "</style>\n",
       "<table border=\"1\" class=\"dataframe\">\n",
       "  <thead>\n",
       "    <tr style=\"text-align: right;\">\n",
       "      <th></th>\n",
       "      <th>Количество записей</th>\n",
       "      <th>Среднее</th>\n",
       "    </tr>\n",
       "    <tr>\n",
       "      <th>family_status</th>\n",
       "      <th></th>\n",
       "      <th></th>\n",
       "    </tr>\n",
       "  </thead>\n",
       "  <tbody>\n",
       "    <tr>\n",
       "      <th>Не женат / не замужем</th>\n",
       "      <td>2796.0</td>\n",
       "      <td>9.76%</td>\n",
       "    </tr>\n",
       "    <tr>\n",
       "      <th>гражданский брак</th>\n",
       "      <td>4134.0</td>\n",
       "      <td>9.31%</td>\n",
       "    </tr>\n",
       "    <tr>\n",
       "      <th>женат / замужем</th>\n",
       "      <td>12261.0</td>\n",
       "      <td>7.56%</td>\n",
       "    </tr>\n",
       "    <tr>\n",
       "      <th>в разводе</th>\n",
       "      <td>1189.0</td>\n",
       "      <td>7.06%</td>\n",
       "    </tr>\n",
       "    <tr>\n",
       "      <th>вдовец / вдова</th>\n",
       "      <td>951.0</td>\n",
       "      <td>6.62%</td>\n",
       "    </tr>\n",
       "  </tbody>\n",
       "</table>\n",
       "</div>"
      ],
      "text/plain": [
       "                       Количество записей Среднее\n",
       "family_status                                    \n",
       "Не женат / не замужем              2796.0   9.76%\n",
       "гражданский брак                   4134.0   9.31%\n",
       "женат / замужем                   12261.0   7.56%\n",
       "в разводе                          1189.0   7.06%\n",
       "вдовец / вдова                      951.0   6.62%"
      ]
     },
     "execution_count": 23,
     "metadata": {},
     "output_type": "execute_result"
    }
   ],
   "source": [
    "m = data.pivot_table(index = ['family_status'], values='debt', aggfunc = ('mean', lambda X:\n",
    "                                                                       X.count()))\n",
    "\n",
    "def pt(x):\n",
    "    return \"{0:.2%}\".format(x)\n",
    "\n",
    "m['mean'] = m['mean'].apply(pt)\n",
    "m = m.rename(columns={'<lambda_0>': 'Количество записей', 'mean': 'Среднее'})\n",
    "m.sort_values(by='Среднее', ascending=False)"
   ]
  },
  {
   "cell_type": "markdown",
   "id": "1772b73d",
   "metadata": {
    "deletable": false,
    "id": "1cef7837"
   },
   "source": [
    "**Вывод:** полученная таблица дает информацию о том, какова средняя доля задолженности у семей с разным количеством детей. Из представленных значений можно сделать вывод: наиболее высока вероятность просрока у нежененатых/незамужних людей; минимальнейшая же вероятность у тех, кто потерял своего супруга. Если сравнивать доли просрочки, то становится очевидным следующий факт: до официального оформления отношений у людей доля просрочки выше, чем после после этого события."
   ]
  },
  {
   "cell_type": "markdown",
   "id": "c94e6cbe",
   "metadata": {
    "deletable": false,
    "editable": false,
    "id": "1e8b2fca"
   },
   "source": [
    "#### 3.3 Есть ли зависимость между уровнем дохода и возвратом кредита в срок?"
   ]
  },
  {
   "cell_type": "code",
   "execution_count": 24,
   "id": "2ebe1301",
   "metadata": {
    "deletable": false,
    "id": "cd7e3720"
   },
   "outputs": [
    {
     "data": {
      "text/html": [
       "<div>\n",
       "<style scoped>\n",
       "    .dataframe tbody tr th:only-of-type {\n",
       "        vertical-align: middle;\n",
       "    }\n",
       "\n",
       "    .dataframe tbody tr th {\n",
       "        vertical-align: top;\n",
       "    }\n",
       "\n",
       "    .dataframe thead th {\n",
       "        text-align: right;\n",
       "    }\n",
       "</style>\n",
       "<table border=\"1\" class=\"dataframe\">\n",
       "  <thead>\n",
       "    <tr style=\"text-align: right;\">\n",
       "      <th></th>\n",
       "      <th>Количество записей</th>\n",
       "      <th>Среднее</th>\n",
       "    </tr>\n",
       "    <tr>\n",
       "      <th>total_income_category</th>\n",
       "      <th></th>\n",
       "      <th></th>\n",
       "    </tr>\n",
       "  </thead>\n",
       "  <tbody>\n",
       "    <tr>\n",
       "      <th>E</th>\n",
       "      <td>22.0</td>\n",
       "      <td>9.09%</td>\n",
       "    </tr>\n",
       "    <tr>\n",
       "      <th>C</th>\n",
       "      <td>15921.0</td>\n",
       "      <td>8.50%</td>\n",
       "    </tr>\n",
       "    <tr>\n",
       "      <th>A</th>\n",
       "      <td>25.0</td>\n",
       "      <td>8.00%</td>\n",
       "    </tr>\n",
       "    <tr>\n",
       "      <th>B</th>\n",
       "      <td>5014.0</td>\n",
       "      <td>7.06%</td>\n",
       "    </tr>\n",
       "    <tr>\n",
       "      <th>D</th>\n",
       "      <td>349.0</td>\n",
       "      <td>6.02%</td>\n",
       "    </tr>\n",
       "  </tbody>\n",
       "</table>\n",
       "</div>"
      ],
      "text/plain": [
       "                       Количество записей Среднее\n",
       "total_income_category                            \n",
       "E                                    22.0   9.09%\n",
       "C                                 15921.0   8.50%\n",
       "A                                    25.0   8.00%\n",
       "B                                  5014.0   7.06%\n",
       "D                                   349.0   6.02%"
      ]
     },
     "execution_count": 24,
     "metadata": {},
     "output_type": "execute_result"
    }
   ],
   "source": [
    "c = data.pivot_table(index = ['total_income_category'], values='debt', aggfunc = ('mean', lambda X:\n",
    "                                                                       X.count()))\n",
    "\n",
    "def pt(x):\n",
    "    return \"{0:.2%}\".format(x)\n",
    "\n",
    "c['mean'] = c['mean'].apply(pt)\n",
    "c = c.rename(columns={'<lambda_0>': 'Количество записей', 'mean': 'Среднее'})\n",
    "c.sort_values(by='Среднее', ascending=False)"
   ]
  },
  {
   "cell_type": "markdown",
   "id": "71286d40",
   "metadata": {
    "deletable": false,
    "id": "e8593def"
   },
   "source": [
    "**Вывод:** полученная таблица дает информацию о том, какова средняя вероятность задолженности у людей с разным уровнем дохода. Из представленных значений можно сделать вывод: наиболее высока вероятность просрока у людей, чей доход меньше или равен 30000 - категория 'E'; минимальнейшая же вероятность у тех, чей доход находится в диапазоне от 30000 до 50000 - категория 'D'. Выборки не сбалансированы: наибольшее количество людей имеют зарплаты в диапазонах 50001–200000 —  категория 'C' и 200001–1000000 - категория 'B'. Сравнивая долю просрочки среди этих категорий, можно сделать следующее умозаключение: чем выше доход, тем ниже доля просрока платежей по кредиту."
   ]
  },
  {
   "cell_type": "markdown",
   "id": "73c4df27",
   "metadata": {
    "deletable": false,
    "editable": false,
    "id": "99ecbd1f"
   },
   "source": [
    "#### 3.4 Как разные цели кредита влияют на его возврат в срок?"
   ]
  },
  {
   "cell_type": "code",
   "execution_count": 25,
   "id": "328fb85c",
   "metadata": {
    "deletable": false,
    "id": "2b687290"
   },
   "outputs": [
    {
     "data": {
      "text/html": [
       "<div>\n",
       "<style scoped>\n",
       "    .dataframe tbody tr th:only-of-type {\n",
       "        vertical-align: middle;\n",
       "    }\n",
       "\n",
       "    .dataframe tbody tr th {\n",
       "        vertical-align: top;\n",
       "    }\n",
       "\n",
       "    .dataframe thead th {\n",
       "        text-align: right;\n",
       "    }\n",
       "</style>\n",
       "<table border=\"1\" class=\"dataframe\">\n",
       "  <thead>\n",
       "    <tr style=\"text-align: right;\">\n",
       "      <th></th>\n",
       "      <th>Количество записей</th>\n",
       "      <th>Среднее по задолжностям</th>\n",
       "    </tr>\n",
       "    <tr>\n",
       "      <th>purpose_category</th>\n",
       "      <th></th>\n",
       "      <th></th>\n",
       "    </tr>\n",
       "  </thead>\n",
       "  <tbody>\n",
       "    <tr>\n",
       "      <th>операции с автомобилем</th>\n",
       "      <td>4279.0</td>\n",
       "      <td>9.35%</td>\n",
       "    </tr>\n",
       "    <tr>\n",
       "      <th>получение образования</th>\n",
       "      <td>3988.0</td>\n",
       "      <td>9.25%</td>\n",
       "    </tr>\n",
       "    <tr>\n",
       "      <th>проведение свадьбы</th>\n",
       "      <td>2313.0</td>\n",
       "      <td>7.91%</td>\n",
       "    </tr>\n",
       "    <tr>\n",
       "      <th>операции с недвижимостью</th>\n",
       "      <td>10751.0</td>\n",
       "      <td>7.26%</td>\n",
       "    </tr>\n",
       "  </tbody>\n",
       "</table>\n",
       "</div>"
      ],
      "text/plain": [
       "                          Количество записей Среднее по задолжностям\n",
       "purpose_category                                                    \n",
       "операции с автомобилем                4279.0                   9.35%\n",
       "получение образования                 3988.0                   9.25%\n",
       "проведение свадьбы                    2313.0                   7.91%\n",
       "операции с недвижимостью             10751.0                   7.26%"
      ]
     },
     "execution_count": 25,
     "metadata": {},
     "output_type": "execute_result"
    }
   ],
   "source": [
    "pc = data.pivot_table(index = ['purpose_category'], values='debt', aggfunc = ('mean', lambda X:\n",
    "                                                                       X.count()))\n",
    "def pt(x):\n",
    "    return \"{0:.2%}\".format(x)\n",
    "\n",
    "pc['mean'] = pc['mean'].apply(pt)\n",
    "pc = pc.rename(columns={'<lambda_0>': 'Количество записей', 'mean': 'Среднее по задолжностям'})\n",
    "pc.sort_values(by='Среднее по задолжностям', ascending=False)"
   ]
  },
  {
   "cell_type": "markdown",
   "id": "eae53317",
   "metadata": {
    "deletable": false,
    "id": "b4bb2ce6"
   },
   "source": [
    "**Вывод:** полученная таблица дает информацию о том, какова средняя вероятность задолженности по кредиту в зависимости от того, какова цель, на которую он был взят. Из представленных значений можно сделать вывод: наиболее высока вероятность просрока у тех, кто брал в долг у банка, чтобы покрыть расходы на операции с автомобилем; минимальнейшая же вероятность у тех, кто берет деньги для того, чтобы  провести операции с недвижимостью."
   ]
  },
  {
   "cell_type": "markdown",
   "id": "9491ae39",
   "metadata": {
    "deletable": false,
    "editable": false,
    "id": "09c3ac4c"
   },
   "source": [
    "#### 3.5 Приведите возможные причины появления пропусков в исходных данных."
   ]
  },
  {
   "cell_type": "markdown",
   "id": "888a9bf8",
   "metadata": {
    "deletable": false,
    "id": "9da2ceda"
   },
   "source": [
    "*Ответ:* если данные вводились вручную, то имеет место быть человеческий фактор: что-то нечаянно было пропущено, через какую-то строку \"перепрыгнули\". Если данные считывались с, например, формы (опросника/анкеты), то возможны следующие причины пропусков: 1) пользователь не указал данные, не захотев этого сделать; 2) пользователь не указал данные, не поняв, какие именно значения нужно внести; 3) при передаче данных возникла(-и) техническая(-ие) ошибка(-и), в связи с чем некоторые данные могли быть утеряны как до, так и во время обработки; 4) данные могли поступить в нестандартном формате, в связи с чем при их переносе могут образовываться пропуски."
   ]
  },
  {
   "cell_type": "markdown",
   "id": "fc911a09",
   "metadata": {
    "deletable": false,
    "editable": false,
    "id": "7b0487d6"
   },
   "source": [
    "#### 3.6 Объясните, почему заполнить пропуски медианным значением — лучшее решение для количественных переменных."
   ]
  },
  {
   "cell_type": "markdown",
   "id": "33edc6ae",
   "metadata": {
    "deletable": false,
    "id": "7ecf2b8e"
   },
   "source": [
    "*Ответ:* заполнение пропусков медианным значением позволяет сохранить форму и распределение данных. Это важно для поддержания точности и репрезентативности данных. Медиана является устойчивой мерой центральной тенденции и не подвержена выбросам. Это означает, что значения выбросов не будут искажать результаты заполнения пропусков. Заполнение пропусков медианным значением не вызывает существенных изменений в статистических характеристиках данных.\n"
   ]
  },
  {
   "cell_type": "markdown",
   "id": "b4630ba3",
   "metadata": {
    "deletable": false,
    "editable": false,
    "id": "6db5255a"
   },
   "source": [
    "### Шаг 4: общий вывод."
   ]
  },
  {
   "cell_type": "markdown",
   "id": "a0f1bab1",
   "metadata": {
    "deletable": false,
    "id": "bad65432"
   },
   "source": [
    "Исходные данные были представлены в виде таблицы с 12 столбцами, некоторые значения в которой были пропущены; также были обнаружены аномальные значения и дубликаты. На этапе предобработке данных эти значения были обработаны: пропуски в количественных переменных были заменены на медианные значения для того, чтобы не исказить результаты заполнения пропусков, дубликаты и аномальные значения из таблицы оказались удалены. На этом же этапе была проведена категоризация данных, впоследствии оказавшая помощь в анализе влияния различных факторов на своевременное погашение кредита.\n",
    "\n",
    "По итогам анализа можно резюмировать: наиболее надежными заемщиками являются люди, у которых нет детей, они либо состояли (состоят) в узаконенных отношениях, либо потреяли супруга или супругу и имеют доход от двухсот тысяч до миллиона рублей. Наименее вероятны выплаты в срок у людей с низким доходом, находящимся в пределах тридцати тысяч рублей, и некоторым количеством детей, причем явно прослеживается тенденция: чем больше детей в семье - тем выше доля просрока по кредиту. \n",
    "\n",
    "Влияют на своевременные выплаты кредитных платежей также и цели, на которые человек берет деньги у банка в долг: те, кто берет деньги на операции с недвижимостью, наиболее склонны к просрочкам плтаежей, в то время как те, кто берет деньги на операции с недвижимость, возвращают их вовремя наиболее часто относительно людей, взявших деньги на другие цели.\n",
    "\n",
    "По моему мнению, на своевременное погашение кредита может также оказывать влияние и возраст заемщика, который в этой работе не обрабатывался. Я бы также рекомендовала заказчику использовать для оценки надежности заемщика не годовой доход, а ежемесячный, ведь кредиты обычно должны выплачиваться каждый 30-31 день, а годовой доход таким образом лишает заказчика возможности оценить, на сколько вероятен просрок по оплате долга. "
   ]
  }
 ],
 "metadata": {
  "ExecuteTimeLog": [
   {
    "duration": 44,
    "start_time": "2023-09-27T16:14:24.650Z"
   },
   {
    "duration": 711,
    "start_time": "2023-09-27T16:14:54.597Z"
   },
   {
    "duration": 5,
    "start_time": "2023-09-27T16:15:05.780Z"
   },
   {
    "duration": 23,
    "start_time": "2023-09-27T16:15:38.634Z"
   },
   {
    "duration": 8,
    "start_time": "2023-09-27T16:16:18.629Z"
   },
   {
    "duration": 5,
    "start_time": "2023-09-27T16:16:27.374Z"
   },
   {
    "duration": 5,
    "start_time": "2023-09-27T16:19:19.679Z"
   },
   {
    "duration": 9,
    "start_time": "2023-09-27T16:21:31.615Z"
   },
   {
    "duration": 86,
    "start_time": "2023-09-27T16:27:40.011Z"
   },
   {
    "duration": 31,
    "start_time": "2023-09-27T16:28:07.296Z"
   },
   {
    "duration": 12,
    "start_time": "2023-09-27T16:29:27.683Z"
   },
   {
    "duration": 11,
    "start_time": "2023-09-27T16:29:51.961Z"
   },
   {
    "duration": 19,
    "start_time": "2023-09-27T16:29:58.494Z"
   },
   {
    "duration": 11,
    "start_time": "2023-09-27T16:30:32.998Z"
   },
   {
    "duration": 11,
    "start_time": "2023-09-27T16:30:38.184Z"
   },
   {
    "duration": 12,
    "start_time": "2023-09-27T16:31:11.111Z"
   },
   {
    "duration": 15,
    "start_time": "2023-09-27T16:31:17.492Z"
   },
   {
    "duration": 35,
    "start_time": "2023-09-27T16:31:38.539Z"
   },
   {
    "duration": 24,
    "start_time": "2023-09-27T16:31:58.762Z"
   },
   {
    "duration": 29,
    "start_time": "2023-09-27T16:32:14.741Z"
   },
   {
    "duration": 37,
    "start_time": "2023-09-27T16:32:26.524Z"
   },
   {
    "duration": 25,
    "start_time": "2023-09-27T16:32:38.995Z"
   },
   {
    "duration": 26,
    "start_time": "2023-09-27T16:32:58.759Z"
   },
   {
    "duration": 37,
    "start_time": "2023-09-27T16:33:04.626Z"
   },
   {
    "duration": 25,
    "start_time": "2023-09-27T16:33:27.148Z"
   },
   {
    "duration": 24,
    "start_time": "2023-09-27T16:33:54.298Z"
   },
   {
    "duration": 41,
    "start_time": "2023-09-27T16:34:25.919Z"
   },
   {
    "duration": 35,
    "start_time": "2023-09-27T16:34:48.018Z"
   },
   {
    "duration": 6,
    "start_time": "2023-09-27T16:55:50.116Z"
   },
   {
    "duration": 32,
    "start_time": "2023-09-27T16:57:29.526Z"
   },
   {
    "duration": 27,
    "start_time": "2023-09-27T16:58:41.515Z"
   },
   {
    "duration": 31,
    "start_time": "2023-09-27T16:58:50.734Z"
   },
   {
    "duration": 27,
    "start_time": "2023-09-27T16:58:58.432Z"
   },
   {
    "duration": 27,
    "start_time": "2023-09-27T16:59:49.054Z"
   },
   {
    "duration": 4,
    "start_time": "2023-09-27T17:08:40.707Z"
   },
   {
    "duration": 9,
    "start_time": "2023-09-27T17:10:29.131Z"
   },
   {
    "duration": 8,
    "start_time": "2023-09-27T17:10:38.616Z"
   },
   {
    "duration": 3,
    "start_time": "2023-09-27T17:10:54.296Z"
   },
   {
    "duration": 4,
    "start_time": "2023-09-27T17:11:04.193Z"
   },
   {
    "duration": 10,
    "start_time": "2023-09-27T17:13:05.955Z"
   },
   {
    "duration": 8,
    "start_time": "2023-09-27T17:13:17.655Z"
   },
   {
    "duration": 15,
    "start_time": "2023-09-27T17:13:28.445Z"
   },
   {
    "duration": 465,
    "start_time": "2023-09-27T17:13:50.735Z"
   },
   {
    "duration": 459,
    "start_time": "2023-09-27T17:15:09.381Z"
   },
   {
    "duration": 476,
    "start_time": "2023-09-27T17:15:38.322Z"
   },
   {
    "duration": 482,
    "start_time": "2023-09-27T17:16:06.818Z"
   },
   {
    "duration": 17,
    "start_time": "2023-09-27T17:16:37.220Z"
   },
   {
    "duration": 13,
    "start_time": "2023-09-27T17:16:47.234Z"
   },
   {
    "duration": 438,
    "start_time": "2023-09-27T17:16:58.784Z"
   },
   {
    "duration": 11,
    "start_time": "2023-09-27T17:17:07.339Z"
   },
   {
    "duration": 4,
    "start_time": "2023-09-27T17:18:52.799Z"
   },
   {
    "duration": 4,
    "start_time": "2023-09-27T17:19:01.206Z"
   },
   {
    "duration": 5,
    "start_time": "2023-09-27T17:39:54.175Z"
   },
   {
    "duration": 9,
    "start_time": "2023-09-27T17:42:50.443Z"
   },
   {
    "duration": 3,
    "start_time": "2023-09-27T17:42:56.496Z"
   },
   {
    "duration": 3,
    "start_time": "2023-09-27T17:43:12.474Z"
   },
   {
    "duration": 4,
    "start_time": "2023-09-27T17:43:17.127Z"
   },
   {
    "duration": 12,
    "start_time": "2023-09-27T17:53:34.839Z"
   },
   {
    "duration": 16,
    "start_time": "2023-09-27T17:53:52.412Z"
   },
   {
    "duration": 22,
    "start_time": "2023-09-27T17:54:58.313Z"
   },
   {
    "duration": 89,
    "start_time": "2023-09-27T17:56:58.456Z"
   },
   {
    "duration": 19,
    "start_time": "2023-09-27T17:57:00.713Z"
   },
   {
    "duration": 22,
    "start_time": "2023-09-27T17:57:04.220Z"
   },
   {
    "duration": 14,
    "start_time": "2023-09-27T17:57:06.898Z"
   },
   {
    "duration": 39,
    "start_time": "2023-09-27T17:57:09.766Z"
   },
   {
    "duration": 4,
    "start_time": "2023-09-27T17:57:12.637Z"
   },
   {
    "duration": 10,
    "start_time": "2023-09-27T17:57:15.120Z"
   },
   {
    "duration": 4,
    "start_time": "2023-09-27T17:57:18.144Z"
   },
   {
    "duration": 6,
    "start_time": "2023-09-27T17:57:23.206Z"
   },
   {
    "duration": 5,
    "start_time": "2023-09-27T17:57:34.104Z"
   },
   {
    "duration": 46,
    "start_time": "2023-09-27T17:57:36.827Z"
   },
   {
    "duration": 10,
    "start_time": "2023-09-27T17:57:39.186Z"
   },
   {
    "duration": 4,
    "start_time": "2023-09-27T17:57:41.743Z"
   },
   {
    "duration": 12,
    "start_time": "2023-09-27T17:57:43.973Z"
   },
   {
    "duration": 19,
    "start_time": "2023-09-27T17:57:46.595Z"
   },
   {
    "duration": 21,
    "start_time": "2023-09-27T17:57:48.623Z"
   },
   {
    "duration": 4,
    "start_time": "2023-09-27T17:57:51.054Z"
   },
   {
    "duration": 10,
    "start_time": "2023-09-27T17:57:52.813Z"
   },
   {
    "duration": 5,
    "start_time": "2023-09-27T17:57:55.697Z"
   },
   {
    "duration": 3,
    "start_time": "2023-09-27T17:57:59.336Z"
   },
   {
    "duration": 9,
    "start_time": "2023-09-27T17:58:13.163Z"
   },
   {
    "duration": 4,
    "start_time": "2023-09-27T17:58:16.348Z"
   },
   {
    "duration": 41,
    "start_time": "2023-09-27T17:58:20.761Z"
   },
   {
    "duration": 23,
    "start_time": "2023-09-27T17:59:33.268Z"
   },
   {
    "duration": 32,
    "start_time": "2023-09-27T18:00:05.946Z"
   },
   {
    "duration": 28,
    "start_time": "2023-09-27T18:01:40.902Z"
   },
   {
    "duration": 2,
    "start_time": "2023-09-27T18:04:12.312Z"
   },
   {
    "duration": 24,
    "start_time": "2023-09-27T18:05:51.144Z"
   },
   {
    "duration": 6,
    "start_time": "2023-09-27T18:11:12.013Z"
   },
   {
    "duration": 6,
    "start_time": "2023-09-27T18:11:32.415Z"
   },
   {
    "duration": 6,
    "start_time": "2023-09-27T18:11:44.596Z"
   },
   {
    "duration": 5,
    "start_time": "2023-09-27T18:11:54.090Z"
   },
   {
    "duration": 5,
    "start_time": "2023-09-27T18:12:02.209Z"
   },
   {
    "duration": 7,
    "start_time": "2023-09-27T18:12:06.818Z"
   },
   {
    "duration": 8,
    "start_time": "2023-09-27T18:14:54.410Z"
   },
   {
    "duration": 7,
    "start_time": "2023-09-27T18:15:18.351Z"
   },
   {
    "duration": 5,
    "start_time": "2023-09-27T18:20:43.893Z"
   },
   {
    "duration": 4,
    "start_time": "2023-09-27T18:20:53.467Z"
   },
   {
    "duration": 4,
    "start_time": "2023-09-27T18:21:08.471Z"
   },
   {
    "duration": 7,
    "start_time": "2023-09-27T18:21:34.839Z"
   },
   {
    "duration": 4,
    "start_time": "2023-09-27T18:21:49.471Z"
   },
   {
    "duration": 4,
    "start_time": "2023-09-27T18:22:13.096Z"
   },
   {
    "duration": 8,
    "start_time": "2023-09-27T18:22:37.110Z"
   },
   {
    "duration": 13,
    "start_time": "2023-09-27T18:22:46.340Z"
   },
   {
    "duration": 9,
    "start_time": "2023-09-27T18:22:54.539Z"
   },
   {
    "duration": 7,
    "start_time": "2023-09-27T18:23:14.276Z"
   },
   {
    "duration": 7,
    "start_time": "2023-09-27T18:23:30.806Z"
   },
   {
    "duration": 7,
    "start_time": "2023-09-27T18:24:05.355Z"
   },
   {
    "duration": 7,
    "start_time": "2023-09-27T18:24:10.603Z"
   },
   {
    "duration": 4,
    "start_time": "2023-09-27T18:25:44.290Z"
   },
   {
    "duration": 21,
    "start_time": "2023-09-27T18:30:33.343Z"
   },
   {
    "duration": 4,
    "start_time": "2023-09-27T18:30:48.152Z"
   },
   {
    "duration": 19,
    "start_time": "2023-09-27T18:30:57.229Z"
   },
   {
    "duration": 8,
    "start_time": "2023-09-27T18:31:26.057Z"
   },
   {
    "duration": 27,
    "start_time": "2023-09-27T18:31:43.740Z"
   },
   {
    "duration": 10,
    "start_time": "2023-09-27T18:32:03.009Z"
   },
   {
    "duration": 15,
    "start_time": "2023-09-27T18:32:13.814Z"
   },
   {
    "duration": 7,
    "start_time": "2023-09-27T18:32:25.998Z"
   },
   {
    "duration": 12,
    "start_time": "2023-09-27T18:33:52.866Z"
   },
   {
    "duration": 16,
    "start_time": "2023-09-27T18:33:57.368Z"
   },
   {
    "duration": 20,
    "start_time": "2023-09-27T18:41:39.180Z"
   },
   {
    "duration": 53,
    "start_time": "2023-09-28T14:30:45.312Z"
   },
   {
    "duration": 8,
    "start_time": "2023-09-28T14:31:03.810Z"
   },
   {
    "duration": 726,
    "start_time": "2023-09-28T14:31:11.852Z"
   },
   {
    "duration": 23,
    "start_time": "2023-09-28T14:31:14.772Z"
   },
   {
    "duration": 29,
    "start_time": "2023-09-28T14:31:22.713Z"
   },
   {
    "duration": 77,
    "start_time": "2023-09-28T14:31:32.457Z"
   },
   {
    "duration": 19,
    "start_time": "2023-09-28T14:31:35.220Z"
   },
   {
    "duration": 17,
    "start_time": "2023-09-28T14:31:39.263Z"
   },
   {
    "duration": 11,
    "start_time": "2023-09-28T14:31:42.836Z"
   },
   {
    "duration": 39,
    "start_time": "2023-09-28T14:31:45.593Z"
   },
   {
    "duration": 4,
    "start_time": "2023-09-28T14:32:12.650Z"
   },
   {
    "duration": 9,
    "start_time": "2023-09-28T14:32:19.778Z"
   },
   {
    "duration": 5,
    "start_time": "2023-09-28T14:32:23.697Z"
   },
   {
    "duration": 7,
    "start_time": "2023-09-28T14:32:27.327Z"
   },
   {
    "duration": 5,
    "start_time": "2023-09-28T14:32:30.886Z"
   },
   {
    "duration": 37,
    "start_time": "2023-09-28T14:32:34.836Z"
   },
   {
    "duration": 39,
    "start_time": "2023-09-28T14:32:45.572Z"
   },
   {
    "duration": 11,
    "start_time": "2023-09-28T14:32:47.770Z"
   },
   {
    "duration": 10,
    "start_time": "2023-09-28T14:32:59.585Z"
   },
   {
    "duration": 4,
    "start_time": "2023-09-28T14:33:13.619Z"
   },
   {
    "duration": 12,
    "start_time": "2023-09-28T14:33:16.953Z"
   },
   {
    "duration": 20,
    "start_time": "2023-09-28T14:33:19.672Z"
   },
   {
    "duration": 20,
    "start_time": "2023-09-28T14:33:21.882Z"
   },
   {
    "duration": 4,
    "start_time": "2023-09-28T14:33:29.815Z"
   },
   {
    "duration": 12,
    "start_time": "2023-09-28T14:33:31.477Z"
   },
   {
    "duration": 6,
    "start_time": "2023-09-28T14:33:33.731Z"
   },
   {
    "duration": 3,
    "start_time": "2023-09-28T14:33:37.647Z"
   },
   {
    "duration": 9,
    "start_time": "2023-09-28T14:33:39.821Z"
   },
   {
    "duration": 31,
    "start_time": "2023-09-28T14:33:43.437Z"
   },
   {
    "duration": 28,
    "start_time": "2023-09-28T14:33:48.018Z"
   },
   {
    "duration": 27,
    "start_time": "2023-09-28T14:33:51.700Z"
   },
   {
    "duration": 55,
    "start_time": "2023-09-28T14:35:28.537Z"
   },
   {
    "duration": 26,
    "start_time": "2023-09-28T14:35:37.506Z"
   },
   {
    "duration": 725,
    "start_time": "2023-09-29T04:27:53.111Z"
   },
   {
    "duration": 23,
    "start_time": "2023-09-29T04:27:53.838Z"
   },
   {
    "duration": 16,
    "start_time": "2023-09-29T04:27:53.863Z"
   },
   {
    "duration": 11,
    "start_time": "2023-09-29T04:27:53.881Z"
   },
   {
    "duration": 20,
    "start_time": "2023-09-29T04:27:53.987Z"
   },
   {
    "duration": 6,
    "start_time": "2023-09-29T04:27:54.009Z"
   },
   {
    "duration": 41,
    "start_time": "2023-09-29T04:27:54.017Z"
   },
   {
    "duration": 11,
    "start_time": "2023-09-29T04:27:54.060Z"
   },
   {
    "duration": 15,
    "start_time": "2023-09-29T04:27:54.072Z"
   },
   {
    "duration": 17,
    "start_time": "2023-09-29T04:27:54.091Z"
   },
   {
    "duration": 41,
    "start_time": "2023-09-29T04:27:54.109Z"
   },
   {
    "duration": 17,
    "start_time": "2023-09-29T04:27:54.152Z"
   },
   {
    "duration": 18,
    "start_time": "2023-09-29T04:27:54.171Z"
   },
   {
    "duration": 32,
    "start_time": "2023-09-29T04:27:54.191Z"
   },
   {
    "duration": 17,
    "start_time": "2023-09-29T04:27:54.225Z"
   },
   {
    "duration": 12,
    "start_time": "2023-09-29T04:27:54.244Z"
   },
   {
    "duration": 21,
    "start_time": "2023-09-29T04:27:54.258Z"
   },
   {
    "duration": 78,
    "start_time": "2023-09-29T04:27:54.280Z"
   },
   {
    "duration": 24,
    "start_time": "2023-09-29T04:27:54.359Z"
   },
   {
    "duration": 26,
    "start_time": "2023-09-29T04:27:54.385Z"
   },
   {
    "duration": 43,
    "start_time": "2023-09-29T04:27:54.413Z"
   },
   {
    "duration": 713,
    "start_time": "2023-09-29T12:15:21.502Z"
   },
   {
    "duration": 747,
    "start_time": "2023-09-30T03:40:58.872Z"
   },
   {
    "duration": 25,
    "start_time": "2023-09-30T03:40:59.621Z"
   },
   {
    "duration": 17,
    "start_time": "2023-09-30T03:40:59.647Z"
   },
   {
    "duration": 38,
    "start_time": "2023-09-30T03:40:59.665Z"
   },
   {
    "duration": 50,
    "start_time": "2023-09-30T03:40:59.705Z"
   },
   {
    "duration": 4,
    "start_time": "2023-09-30T03:40:59.756Z"
   },
   {
    "duration": 40,
    "start_time": "2023-09-30T03:40:59.762Z"
   },
   {
    "duration": 4,
    "start_time": "2023-09-30T03:40:59.803Z"
   },
   {
    "duration": 15,
    "start_time": "2023-09-30T03:40:59.809Z"
   },
   {
    "duration": 15,
    "start_time": "2023-09-30T03:40:59.826Z"
   },
   {
    "duration": 49,
    "start_time": "2023-09-30T03:40:59.842Z"
   },
   {
    "duration": 10,
    "start_time": "2023-09-30T03:40:59.893Z"
   },
   {
    "duration": 28,
    "start_time": "2023-09-30T03:40:59.904Z"
   },
   {
    "duration": 25,
    "start_time": "2023-09-30T03:40:59.934Z"
   },
   {
    "duration": 38,
    "start_time": "2023-09-30T03:40:59.961Z"
   },
   {
    "duration": 46,
    "start_time": "2023-09-30T03:41:00.001Z"
   },
   {
    "duration": 103,
    "start_time": "2023-09-30T03:41:00.049Z"
   },
   {
    "duration": 42,
    "start_time": "2023-09-30T03:41:00.153Z"
   },
   {
    "duration": 37,
    "start_time": "2023-09-30T03:41:00.197Z"
   },
   {
    "duration": 186,
    "start_time": "2023-09-30T03:41:00.236Z"
   },
   {
    "duration": 34,
    "start_time": "2023-09-30T03:41:00.424Z"
   },
   {
    "duration": 95,
    "start_time": "2023-09-30T03:41:00.460Z"
   },
   {
    "duration": 74,
    "start_time": "2023-09-30T03:41:00.557Z"
   },
   {
    "duration": 51,
    "start_time": "2023-09-30T03:41:00.633Z"
   },
   {
    "duration": 58,
    "start_time": "2023-09-30T03:41:00.686Z"
   }
  ],
  "colab": {
   "name": "dpp_template_part2.ipynb",
   "provenance": []
  },
  "kernelspec": {
   "display_name": "Python 3 (ipykernel)",
   "language": "python",
   "name": "python3"
  },
  "language_info": {
   "codemirror_mode": {
    "name": "ipython",
    "version": 3
   },
   "file_extension": ".py",
   "mimetype": "text/x-python",
   "name": "python",
   "nbconvert_exporter": "python",
   "pygments_lexer": "ipython3",
   "version": "3.11.7"
  },
  "toc": {
   "base_numbering": 1,
   "nav_menu": {},
   "number_sections": true,
   "sideBar": true,
   "skip_h1_title": true,
   "title_cell": "Table of Contents",
   "title_sidebar": "Contents",
   "toc_cell": false,
   "toc_position": {},
   "toc_section_display": true,
   "toc_window_display": true
  }
 },
 "nbformat": 4,
 "nbformat_minor": 5
}
