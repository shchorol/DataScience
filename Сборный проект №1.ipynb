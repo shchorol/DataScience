{
 "cells": [
  {
   "cell_type": "markdown",
   "metadata": {},
   "source": [
    "# СБОРНЫЙ ПРОЕКТ №1 по определению факторов успешности игр и закономерностей между ними\n",
    "Предоставлены данные интернет-магазина «Стримчик», который продаёт по всему миру компьютерные игры, о продажах игр, оценки пользователей и экспертов, жанры и платформы (например, Xbox или PlayStation). Необходимо выявить определяющие успешность игры закономерности, что позволит сделать ставку на потенциально популярный продукт и спланировать рекламные кампании.\n",
    "\n",
    "    Описание данных:\n",
    "    Name — название игры\n",
    "    Platform — платформа\n",
    "    Year_of_Release — год выпуска\n",
    "    Genre — жанр игры\n",
    "    NA_sales — продажи в Северной Америке (миллионы проданных копий)\n",
    "    EU_sales — продажи в Европе (миллионы проданных копий)\n",
    "    JP_sales — продажи в Японии (миллионы проданных копий)\n",
    "    Other_sales — продажи в других странах (миллионы проданных копий)\n",
    "    Critic_Score — оценка критиков (максимум 100)\n",
    "    User_Score — оценка пользователей (максимум 10)\n",
    "    Rating — рейтинг от организации ESRB (англ. Entertainment Software Rating Board). Эта ассоциация определяет рейтинг компьютерных игр и присваивает им подходящую возрастную категорию.\n",
    "\n"
   ]
  },
  {
   "cell_type": "markdown",
   "metadata": {},
   "source": [
    "## Общая информация"
   ]
  },
  {
   "cell_type": "code",
   "execution_count": 1,
   "metadata": {},
   "outputs": [],
   "source": [
    "import pandas as pd\n",
    "import numpy as np\n",
    "import matplotlib.pyplot as plt\n",
    "import seaborn as sns\n",
    "from scipy import stats"
   ]
  },
  {
   "cell_type": "code",
   "execution_count": 2,
   "metadata": {},
   "outputs": [
    {
     "data": {
      "text/html": [
       "<div>\n",
       "<style scoped>\n",
       "    .dataframe tbody tr th:only-of-type {\n",
       "        vertical-align: middle;\n",
       "    }\n",
       "\n",
       "    .dataframe tbody tr th {\n",
       "        vertical-align: top;\n",
       "    }\n",
       "\n",
       "    .dataframe thead th {\n",
       "        text-align: right;\n",
       "    }\n",
       "</style>\n",
       "<table border=\"1\" class=\"dataframe\">\n",
       "  <thead>\n",
       "    <tr style=\"text-align: right;\">\n",
       "      <th></th>\n",
       "      <th>Name</th>\n",
       "      <th>Platform</th>\n",
       "      <th>Year_of_Release</th>\n",
       "      <th>Genre</th>\n",
       "      <th>NA_sales</th>\n",
       "      <th>EU_sales</th>\n",
       "      <th>JP_sales</th>\n",
       "      <th>Other_sales</th>\n",
       "      <th>Critic_Score</th>\n",
       "      <th>User_Score</th>\n",
       "      <th>Rating</th>\n",
       "    </tr>\n",
       "  </thead>\n",
       "  <tbody>\n",
       "    <tr>\n",
       "      <th>0</th>\n",
       "      <td>Wii Sports</td>\n",
       "      <td>Wii</td>\n",
       "      <td>2006.0</td>\n",
       "      <td>Sports</td>\n",
       "      <td>41.36</td>\n",
       "      <td>28.96</td>\n",
       "      <td>3.77</td>\n",
       "      <td>8.45</td>\n",
       "      <td>76.0</td>\n",
       "      <td>8</td>\n",
       "      <td>E</td>\n",
       "    </tr>\n",
       "    <tr>\n",
       "      <th>1</th>\n",
       "      <td>Super Mario Bros.</td>\n",
       "      <td>NES</td>\n",
       "      <td>1985.0</td>\n",
       "      <td>Platform</td>\n",
       "      <td>29.08</td>\n",
       "      <td>3.58</td>\n",
       "      <td>6.81</td>\n",
       "      <td>0.77</td>\n",
       "      <td>NaN</td>\n",
       "      <td>NaN</td>\n",
       "      <td>NaN</td>\n",
       "    </tr>\n",
       "    <tr>\n",
       "      <th>2</th>\n",
       "      <td>Mario Kart Wii</td>\n",
       "      <td>Wii</td>\n",
       "      <td>2008.0</td>\n",
       "      <td>Racing</td>\n",
       "      <td>15.68</td>\n",
       "      <td>12.76</td>\n",
       "      <td>3.79</td>\n",
       "      <td>3.29</td>\n",
       "      <td>82.0</td>\n",
       "      <td>8.3</td>\n",
       "      <td>E</td>\n",
       "    </tr>\n",
       "    <tr>\n",
       "      <th>3</th>\n",
       "      <td>Wii Sports Resort</td>\n",
       "      <td>Wii</td>\n",
       "      <td>2009.0</td>\n",
       "      <td>Sports</td>\n",
       "      <td>15.61</td>\n",
       "      <td>10.93</td>\n",
       "      <td>3.28</td>\n",
       "      <td>2.95</td>\n",
       "      <td>80.0</td>\n",
       "      <td>8</td>\n",
       "      <td>E</td>\n",
       "    </tr>\n",
       "    <tr>\n",
       "      <th>4</th>\n",
       "      <td>Pokemon Red/Pokemon Blue</td>\n",
       "      <td>GB</td>\n",
       "      <td>1996.0</td>\n",
       "      <td>Role-Playing</td>\n",
       "      <td>11.27</td>\n",
       "      <td>8.89</td>\n",
       "      <td>10.22</td>\n",
       "      <td>1.00</td>\n",
       "      <td>NaN</td>\n",
       "      <td>NaN</td>\n",
       "      <td>NaN</td>\n",
       "    </tr>\n",
       "  </tbody>\n",
       "</table>\n",
       "</div>"
      ],
      "text/plain": [
       "                       Name Platform  Year_of_Release         Genre  NA_sales  \\\n",
       "0                Wii Sports      Wii           2006.0        Sports     41.36   \n",
       "1         Super Mario Bros.      NES           1985.0      Platform     29.08   \n",
       "2            Mario Kart Wii      Wii           2008.0        Racing     15.68   \n",
       "3         Wii Sports Resort      Wii           2009.0        Sports     15.61   \n",
       "4  Pokemon Red/Pokemon Blue       GB           1996.0  Role-Playing     11.27   \n",
       "\n",
       "   EU_sales  JP_sales  Other_sales  Critic_Score User_Score Rating  \n",
       "0     28.96      3.77         8.45          76.0          8      E  \n",
       "1      3.58      6.81         0.77           NaN        NaN    NaN  \n",
       "2     12.76      3.79         3.29          82.0        8.3      E  \n",
       "3     10.93      3.28         2.95          80.0          8      E  \n",
       "4      8.89     10.22         1.00           NaN        NaN    NaN  "
      ]
     },
     "metadata": {},
     "output_type": "display_data"
    },
    {
     "name": "stdout",
     "output_type": "stream",
     "text": [
      "<class 'pandas.core.frame.DataFrame'>\n",
      "RangeIndex: 16715 entries, 0 to 16714\n",
      "Data columns (total 11 columns):\n",
      " #   Column           Non-Null Count  Dtype  \n",
      "---  ------           --------------  -----  \n",
      " 0   Name             16713 non-null  object \n",
      " 1   Platform         16715 non-null  object \n",
      " 2   Year_of_Release  16446 non-null  float64\n",
      " 3   Genre            16713 non-null  object \n",
      " 4   NA_sales         16715 non-null  float64\n",
      " 5   EU_sales         16715 non-null  float64\n",
      " 6   JP_sales         16715 non-null  float64\n",
      " 7   Other_sales      16715 non-null  float64\n",
      " 8   Critic_Score     8137 non-null   float64\n",
      " 9   User_Score       10014 non-null  object \n",
      " 10  Rating           9949 non-null   object \n",
      "dtypes: float64(6), object(5)\n",
      "memory usage: 1.4+ MB\n"
     ]
    }
   ],
   "source": [
    "df = pd.read_csv('/datasets/games.csv')\n",
    "display(df.head())\n",
    "df.info()"
   ]
  },
  {
   "cell_type": "markdown",
   "metadata": {},
   "source": [
    "На первом этапе импортируются необходимые библиотеки, далее выводятся первые пять строк таблицы, после - общая информация, из которой становится понятно, что в столбцах name, genre, critic_score, user_score & rating есть пропущенные значения. Представлено всего два типа данных - строки и вещественные числа, но в столбцах year_of_release & user_score типы данных неверные и нуждаются в изменении."
   ]
  },
  {
   "cell_type": "markdown",
   "metadata": {},
   "source": [
    "## Предобработка данных"
   ]
  },
  {
   "cell_type": "code",
   "execution_count": 3,
   "metadata": {},
   "outputs": [
    {
     "data": {
      "text/html": [
       "<div>\n",
       "<style scoped>\n",
       "    .dataframe tbody tr th:only-of-type {\n",
       "        vertical-align: middle;\n",
       "    }\n",
       "\n",
       "    .dataframe tbody tr th {\n",
       "        vertical-align: top;\n",
       "    }\n",
       "\n",
       "    .dataframe thead th {\n",
       "        text-align: right;\n",
       "    }\n",
       "</style>\n",
       "<table border=\"1\" class=\"dataframe\">\n",
       "  <thead>\n",
       "    <tr style=\"text-align: right;\">\n",
       "      <th></th>\n",
       "      <th>name</th>\n",
       "      <th>platform</th>\n",
       "      <th>year_of_release</th>\n",
       "      <th>genre</th>\n",
       "      <th>na_sales</th>\n",
       "      <th>eu_sales</th>\n",
       "      <th>jp_sales</th>\n",
       "      <th>other_sales</th>\n",
       "      <th>critic_score</th>\n",
       "      <th>user_score</th>\n",
       "      <th>rating</th>\n",
       "    </tr>\n",
       "  </thead>\n",
       "  <tbody>\n",
       "    <tr>\n",
       "      <th>0</th>\n",
       "      <td>Wii Sports</td>\n",
       "      <td>Wii</td>\n",
       "      <td>2006.0</td>\n",
       "      <td>Sports</td>\n",
       "      <td>41.36</td>\n",
       "      <td>28.96</td>\n",
       "      <td>3.77</td>\n",
       "      <td>8.45</td>\n",
       "      <td>76.0</td>\n",
       "      <td>8</td>\n",
       "      <td>E</td>\n",
       "    </tr>\n",
       "    <tr>\n",
       "      <th>1</th>\n",
       "      <td>Super Mario Bros.</td>\n",
       "      <td>NES</td>\n",
       "      <td>1985.0</td>\n",
       "      <td>Platform</td>\n",
       "      <td>29.08</td>\n",
       "      <td>3.58</td>\n",
       "      <td>6.81</td>\n",
       "      <td>0.77</td>\n",
       "      <td>NaN</td>\n",
       "      <td>NaN</td>\n",
       "      <td>NaN</td>\n",
       "    </tr>\n",
       "    <tr>\n",
       "      <th>2</th>\n",
       "      <td>Mario Kart Wii</td>\n",
       "      <td>Wii</td>\n",
       "      <td>2008.0</td>\n",
       "      <td>Racing</td>\n",
       "      <td>15.68</td>\n",
       "      <td>12.76</td>\n",
       "      <td>3.79</td>\n",
       "      <td>3.29</td>\n",
       "      <td>82.0</td>\n",
       "      <td>8.3</td>\n",
       "      <td>E</td>\n",
       "    </tr>\n",
       "    <tr>\n",
       "      <th>3</th>\n",
       "      <td>Wii Sports Resort</td>\n",
       "      <td>Wii</td>\n",
       "      <td>2009.0</td>\n",
       "      <td>Sports</td>\n",
       "      <td>15.61</td>\n",
       "      <td>10.93</td>\n",
       "      <td>3.28</td>\n",
       "      <td>2.95</td>\n",
       "      <td>80.0</td>\n",
       "      <td>8</td>\n",
       "      <td>E</td>\n",
       "    </tr>\n",
       "    <tr>\n",
       "      <th>4</th>\n",
       "      <td>Pokemon Red/Pokemon Blue</td>\n",
       "      <td>GB</td>\n",
       "      <td>1996.0</td>\n",
       "      <td>Role-Playing</td>\n",
       "      <td>11.27</td>\n",
       "      <td>8.89</td>\n",
       "      <td>10.22</td>\n",
       "      <td>1.00</td>\n",
       "      <td>NaN</td>\n",
       "      <td>NaN</td>\n",
       "      <td>NaN</td>\n",
       "    </tr>\n",
       "  </tbody>\n",
       "</table>\n",
       "</div>"
      ],
      "text/plain": [
       "                       name platform  year_of_release         genre  na_sales  \\\n",
       "0                Wii Sports      Wii           2006.0        Sports     41.36   \n",
       "1         Super Mario Bros.      NES           1985.0      Platform     29.08   \n",
       "2            Mario Kart Wii      Wii           2008.0        Racing     15.68   \n",
       "3         Wii Sports Resort      Wii           2009.0        Sports     15.61   \n",
       "4  Pokemon Red/Pokemon Blue       GB           1996.0  Role-Playing     11.27   \n",
       "\n",
       "   eu_sales  jp_sales  other_sales  critic_score user_score rating  \n",
       "0     28.96      3.77         8.45          76.0          8      E  \n",
       "1      3.58      6.81         0.77           NaN        NaN    NaN  \n",
       "2     12.76      3.79         3.29          82.0        8.3      E  \n",
       "3     10.93      3.28         2.95          80.0          8      E  \n",
       "4      8.89     10.22         1.00           NaN        NaN    NaN  "
      ]
     },
     "metadata": {},
     "output_type": "display_data"
    },
    {
     "name": "stdout",
     "output_type": "stream",
     "text": [
      "<class 'pandas.core.frame.DataFrame'>\n",
      "RangeIndex: 16715 entries, 0 to 16714\n",
      "Data columns (total 11 columns):\n",
      " #   Column           Non-Null Count  Dtype  \n",
      "---  ------           --------------  -----  \n",
      " 0   name             16713 non-null  object \n",
      " 1   platform         16715 non-null  object \n",
      " 2   year_of_release  16446 non-null  float64\n",
      " 3   genre            16713 non-null  object \n",
      " 4   na_sales         16715 non-null  float64\n",
      " 5   eu_sales         16715 non-null  float64\n",
      " 6   jp_sales         16715 non-null  float64\n",
      " 7   other_sales      16715 non-null  float64\n",
      " 8   critic_score     8137 non-null   float64\n",
      " 9   user_score       10014 non-null  object \n",
      " 10  rating           9949 non-null   object \n",
      "dtypes: float64(6), object(5)\n",
      "memory usage: 1.4+ MB\n"
     ]
    }
   ],
   "source": [
    "#df.columns = ['name', 'platform', 'year_of_release', 'genre', 'NA_sales', 'EU_sales', 'JP_sales', 'other_sales', 'critic_score', 'user_score', 'rating']\n",
    "df.columns = df.columns.str.lower()\n",
    "display(df.head())\n",
    "df.info()"
   ]
  },
  {
   "cell_type": "code",
   "execution_count": 4,
   "metadata": {},
   "outputs": [
    {
     "name": "stdout",
     "output_type": "stream",
     "text": [
      "<class 'pandas.core.frame.DataFrame'>\n",
      "RangeIndex: 16715 entries, 0 to 16714\n",
      "Data columns (total 11 columns):\n",
      " #   Column           Non-Null Count  Dtype  \n",
      "---  ------           --------------  -----  \n",
      " 0   name             16713 non-null  object \n",
      " 1   platform         16715 non-null  object \n",
      " 2   year_of_release  16446 non-null  Int32  \n",
      " 3   genre            16713 non-null  object \n",
      " 4   na_sales         16715 non-null  float64\n",
      " 5   eu_sales         16715 non-null  float64\n",
      " 6   jp_sales         16715 non-null  float64\n",
      " 7   other_sales      16715 non-null  float64\n",
      " 8   critic_score     8137 non-null   float64\n",
      " 9   user_score       7590 non-null   float64\n",
      " 10  rating           9949 non-null   object \n",
      "dtypes: Int32(1), float64(6), object(4)\n",
      "memory usage: 1.4+ MB\n"
     ]
    }
   ],
   "source": [
    "df['year_of_release'] = df['year_of_release'].astype(\"Int32\")\n",
    "df['user_score'] = df['user_score'].replace('tbd', np.nan, regex=True)\n",
    "df['user_score'] = df['user_score'].astype(float)\n",
    "df['user_score'].dtype\n",
    "df.info()"
   ]
  },
  {
   "cell_type": "markdown",
   "metadata": {},
   "source": [
    "Рейтинг - категориальный столбец, замена происходит на \"tbd\" (=to be determined, to be done), так как мы не знаем, какую именно категорию присвоить пропущенным значениям, чтобы не исказить результаты исследований."
   ]
  },
  {
   "cell_type": "code",
   "execution_count": 5,
   "metadata": {},
   "outputs": [
    {
     "name": "stdout",
     "output_type": "stream",
     "text": [
      "name                  2\n",
      "platform              0\n",
      "year_of_release     269\n",
      "genre                 2\n",
      "na_sales              0\n",
      "eu_sales              0\n",
      "jp_sales              0\n",
      "other_sales           0\n",
      "critic_score       8578\n",
      "user_score         9125\n",
      "rating             6766\n",
      "dtype: int64\n"
     ]
    }
   ],
   "source": [
    "print(df.isna().sum())"
   ]
  },
  {
   "cell_type": "code",
   "execution_count": 6,
   "metadata": {},
   "outputs": [
    {
     "name": "stdout",
     "output_type": "stream",
     "text": [
      "name                  0\n",
      "platform              0\n",
      "year_of_release     269\n",
      "genre                 0\n",
      "na_sales              0\n",
      "eu_sales              0\n",
      "jp_sales              0\n",
      "other_sales           0\n",
      "critic_score       8576\n",
      "user_score         9123\n",
      "rating             6764\n",
      "dtype: int64\n"
     ]
    }
   ],
   "source": [
    "df = df.dropna(subset=['name'])\n",
    "print(df.isna().sum())"
   ]
  },
  {
   "cell_type": "code",
   "execution_count": 7,
   "metadata": {},
   "outputs": [
    {
     "name": "stdout",
     "output_type": "stream",
     "text": [
      "<class 'pandas.core.frame.DataFrame'>\n",
      "Int64Index: 16444 entries, 0 to 16714\n",
      "Data columns (total 11 columns):\n",
      " #   Column           Non-Null Count  Dtype  \n",
      "---  ------           --------------  -----  \n",
      " 0   name             16444 non-null  object \n",
      " 1   platform         16444 non-null  object \n",
      " 2   year_of_release  16444 non-null  Int32  \n",
      " 3   genre            16444 non-null  object \n",
      " 4   na_sales         16444 non-null  float64\n",
      " 5   eu_sales         16444 non-null  float64\n",
      " 6   jp_sales         16444 non-null  float64\n",
      " 7   other_sales      16444 non-null  float64\n",
      " 8   critic_score     7983 non-null   float64\n",
      " 9   user_score       7463 non-null   float64\n",
      " 10  rating           9768 non-null   object \n",
      "dtypes: Int32(1), float64(6), object(4)\n",
      "memory usage: 1.5+ MB\n"
     ]
    }
   ],
   "source": [
    "df = df.dropna(subset=['year_of_release'])\n",
    "df.info()"
   ]
  },
  {
   "cell_type": "code",
   "execution_count": 8,
   "metadata": {},
   "outputs": [
    {
     "name": "stdout",
     "output_type": "stream",
     "text": [
      "name               0\n",
      "platform           0\n",
      "year_of_release    0\n",
      "genre              0\n",
      "na_sales           0\n",
      "eu_sales           0\n",
      "jp_sales           0\n",
      "other_sales        0\n",
      "critic_score       0\n",
      "user_score         0\n",
      "rating             0\n",
      "dtype: int64\n"
     ]
    }
   ],
   "source": [
    "df['critic_score'].fillna(-1, inplace=True)\n",
    "df['user_score'].fillna(-1, inplace=True)\n",
    "df['rating'].fillna('tbd', inplace=True)\n",
    "print(df.isna().sum())"
   ]
  },
  {
   "cell_type": "code",
   "execution_count": 9,
   "metadata": {},
   "outputs": [
    {
     "name": "stdout",
     "output_type": "stream",
     "text": [
      "Явные дубликаты:\n",
      "Empty DataFrame\n",
      "Columns: [name, platform, year_of_release, genre, na_sales, eu_sales, jp_sales, other_sales, critic_score, user_score, rating]\n",
      "Index: []\n",
      "\n",
      "Неявные дубликаты:\n",
      "                name platform  year_of_release   genre  na_sales  eu_sales  \\\n",
      "604    Madden NFL 13      PS3             2012  Sports      2.11      0.22   \n",
      "16230  Madden NFL 13      PS3             2012  Sports      0.00      0.01   \n",
      "\n",
      "       jp_sales  other_sales  critic_score  user_score rating  \n",
      "604         0.0         0.23          83.0         5.5      E  \n",
      "16230       0.0         0.00          83.0         5.5      E  \n"
     ]
    }
   ],
   "source": [
    "# явные дубликаты\n",
    "explicit_duplicates = df[df.duplicated()]\n",
    "\n",
    "# неявные дубликаты\n",
    "implicit_duplicates = df[df.duplicated(subset=['name', 'platform', 'year_of_release'], keep=False)]\n",
    "\n",
    "print(\"Явные дубликаты:\")\n",
    "print(explicit_duplicates)\n",
    "\n",
    "print(\"\\nНеявные дубликаты:\")\n",
    "print(implicit_duplicates)\n"
   ]
  },
  {
   "cell_type": "code",
   "execution_count": 10,
   "metadata": {},
   "outputs": [],
   "source": [
    "df.drop_duplicates(subset=['name', 'platform', 'year_of_release'], inplace=True, keep='first')"
   ]
  },
  {
   "cell_type": "markdown",
   "metadata": {},
   "source": [
    "Согласно результатам, полученных при проверке на явные дубликаты, таковых в данных не имеется. Неявные дубликаты были обнаружены и удалены."
   ]
  },
  {
   "cell_type": "code",
   "execution_count": 11,
   "metadata": {},
   "outputs": [
    {
     "data": {
      "text/html": [
       "<div>\n",
       "<style scoped>\n",
       "    .dataframe tbody tr th:only-of-type {\n",
       "        vertical-align: middle;\n",
       "    }\n",
       "\n",
       "    .dataframe tbody tr th {\n",
       "        vertical-align: top;\n",
       "    }\n",
       "\n",
       "    .dataframe thead th {\n",
       "        text-align: right;\n",
       "    }\n",
       "</style>\n",
       "<table border=\"1\" class=\"dataframe\">\n",
       "  <thead>\n",
       "    <tr style=\"text-align: right;\">\n",
       "      <th></th>\n",
       "      <th>name</th>\n",
       "      <th>platform</th>\n",
       "      <th>year_of_release</th>\n",
       "      <th>genre</th>\n",
       "      <th>na_sales</th>\n",
       "      <th>eu_sales</th>\n",
       "      <th>jp_sales</th>\n",
       "      <th>other_sales</th>\n",
       "      <th>critic_score</th>\n",
       "      <th>user_score</th>\n",
       "      <th>rating</th>\n",
       "      <th>global_sales</th>\n",
       "    </tr>\n",
       "  </thead>\n",
       "  <tbody>\n",
       "    <tr>\n",
       "      <th>0</th>\n",
       "      <td>Wii Sports</td>\n",
       "      <td>Wii</td>\n",
       "      <td>2006</td>\n",
       "      <td>Sports</td>\n",
       "      <td>41.36</td>\n",
       "      <td>28.96</td>\n",
       "      <td>3.77</td>\n",
       "      <td>8.45</td>\n",
       "      <td>76.0</td>\n",
       "      <td>8.0</td>\n",
       "      <td>E</td>\n",
       "      <td>82.54</td>\n",
       "    </tr>\n",
       "    <tr>\n",
       "      <th>1</th>\n",
       "      <td>Super Mario Bros.</td>\n",
       "      <td>NES</td>\n",
       "      <td>1985</td>\n",
       "      <td>Platform</td>\n",
       "      <td>29.08</td>\n",
       "      <td>3.58</td>\n",
       "      <td>6.81</td>\n",
       "      <td>0.77</td>\n",
       "      <td>-1.0</td>\n",
       "      <td>-1.0</td>\n",
       "      <td>tbd</td>\n",
       "      <td>40.24</td>\n",
       "    </tr>\n",
       "    <tr>\n",
       "      <th>2</th>\n",
       "      <td>Mario Kart Wii</td>\n",
       "      <td>Wii</td>\n",
       "      <td>2008</td>\n",
       "      <td>Racing</td>\n",
       "      <td>15.68</td>\n",
       "      <td>12.76</td>\n",
       "      <td>3.79</td>\n",
       "      <td>3.29</td>\n",
       "      <td>82.0</td>\n",
       "      <td>8.3</td>\n",
       "      <td>E</td>\n",
       "      <td>35.52</td>\n",
       "    </tr>\n",
       "    <tr>\n",
       "      <th>3</th>\n",
       "      <td>Wii Sports Resort</td>\n",
       "      <td>Wii</td>\n",
       "      <td>2009</td>\n",
       "      <td>Sports</td>\n",
       "      <td>15.61</td>\n",
       "      <td>10.93</td>\n",
       "      <td>3.28</td>\n",
       "      <td>2.95</td>\n",
       "      <td>80.0</td>\n",
       "      <td>8.0</td>\n",
       "      <td>E</td>\n",
       "      <td>32.77</td>\n",
       "    </tr>\n",
       "    <tr>\n",
       "      <th>4</th>\n",
       "      <td>Pokemon Red/Pokemon Blue</td>\n",
       "      <td>GB</td>\n",
       "      <td>1996</td>\n",
       "      <td>Role-Playing</td>\n",
       "      <td>11.27</td>\n",
       "      <td>8.89</td>\n",
       "      <td>10.22</td>\n",
       "      <td>1.00</td>\n",
       "      <td>-1.0</td>\n",
       "      <td>-1.0</td>\n",
       "      <td>tbd</td>\n",
       "      <td>31.38</td>\n",
       "    </tr>\n",
       "  </tbody>\n",
       "</table>\n",
       "</div>"
      ],
      "text/plain": [
       "                       name platform  year_of_release         genre  na_sales  \\\n",
       "0                Wii Sports      Wii             2006        Sports     41.36   \n",
       "1         Super Mario Bros.      NES             1985      Platform     29.08   \n",
       "2            Mario Kart Wii      Wii             2008        Racing     15.68   \n",
       "3         Wii Sports Resort      Wii             2009        Sports     15.61   \n",
       "4  Pokemon Red/Pokemon Blue       GB             1996  Role-Playing     11.27   \n",
       "\n",
       "   eu_sales  jp_sales  other_sales  critic_score  user_score rating  \\\n",
       "0     28.96      3.77         8.45          76.0         8.0      E   \n",
       "1      3.58      6.81         0.77          -1.0        -1.0    tbd   \n",
       "2     12.76      3.79         3.29          82.0         8.3      E   \n",
       "3     10.93      3.28         2.95          80.0         8.0      E   \n",
       "4      8.89     10.22         1.00          -1.0        -1.0    tbd   \n",
       "\n",
       "   global_sales  \n",
       "0         82.54  \n",
       "1         40.24  \n",
       "2         35.52  \n",
       "3         32.77  \n",
       "4         31.38  "
      ]
     },
     "metadata": {},
     "output_type": "display_data"
    }
   ],
   "source": [
    "df['global_sales'] = df['na_sales'] + df['eu_sales'] + df['jp_sales'] + df['other_sales']\n",
    "display(df.head())"
   ]
  },
  {
   "cell_type": "markdown",
   "metadata": {},
   "source": [
    "На этапе предобработки сначала было изменено название всех столбцов, они приведены к строчным буквам. Далее были удалены 2 пропуска (2 из 16715 значений: Раскольников бы сказал, что имеем право) из столбца с названиями, что повлекло за собой исчезновение пропусков в столбце с жанрами, => пропуски были в одинаковых строках. Пропуски в столбце с годом выпуска игр были заменены на 0, чтобы сохранить другие данные из этих строк, а пропуски в столбцах с пользовательской оценкой и оценкой критиков были заменены на -1, чтобы при дальнейших вычислениях пропуски не оказывали влияния на результат (что год выпуска не может быть равен 0, что ни одна оценка не может быть равна -1). Пропуски в столбце с рейтингом заменены на \"tbd\" (=to be determined, to be done): по какой-то причине рейтинг не определен (возможно, будет определен позже). Изменены типы данных в столбцах с годом (на целочисленные значения, потому что год - не вещественное число) и в столбце с пользовательской оценкой (на вещественные значения, для возможности в дальнейшем проводить вычисления) на корректные, добавлен столбец с продажами по всему миру. Проведена проверка на янвые и неявные дубликаты."
   ]
  },
  {
   "cell_type": "markdown",
   "metadata": {},
   "source": [
    " ## Исследовательский анализ данных"
   ]
  },
  {
   "cell_type": "markdown",
   "metadata": {},
   "source": [
    "### Выпуск игр по годам"
   ]
  },
  {
   "cell_type": "code",
   "execution_count": 12,
   "metadata": {},
   "outputs": [
    {
     "data": {
      "image/png": "[encoded data removed]",
      "text/plain": [
       "<Figure size 720x432 with 1 Axes>"
      ]
     },
     "metadata": {
      "needs_background": "light"
     },
     "output_type": "display_data"
    }
   ],
   "source": [
    "games_by_year = df.groupby('year_of_release')['name'].count().sort_index()\n",
    "\n",
    "plt.figure(figsize=(10, 6))\n",
    "games_by_year.plot(kind='bar', color='skyblue')\n",
    "plt.title('Количество выпущенных игр по годам')\n",
    "plt.xlabel('Год выпуска')\n",
    "plt.ylabel('Количество игр')\n",
    "plt.show()"
   ]
  },
  {
   "cell_type": "markdown",
   "metadata": {},
   "source": [
    "Рост выпуска видеоигр начался с 1995 года, что объясняется историей этой индустрии. Период, в котором производилось наибольшее количество игр, - 2007-2011 годы, после чего до 2016 наблюдался спад. Данные за все периоды не очень репрезентативны в связи с тем, что индустрия видеоигр подвергается влиянию множества факторовя, ключевым из которых является спрос потребителей на рынке."
   ]
  },
  {
   "cell_type": "markdown",
   "metadata": {},
   "source": [
    "### Определение актуального периода для анализа"
   ]
  },
  {
   "cell_type": "code",
   "execution_count": 13,
   "metadata": {},
   "outputs": [
    {
     "data": {
      "text/html": [
       "<div>\n",
       "<style scoped>\n",
       "    .dataframe tbody tr th:only-of-type {\n",
       "        vertical-align: middle;\n",
       "    }\n",
       "\n",
       "    .dataframe tbody tr th {\n",
       "        vertical-align: top;\n",
       "    }\n",
       "\n",
       "    .dataframe thead th {\n",
       "        text-align: right;\n",
       "    }\n",
       "</style>\n",
       "<table border=\"1\" class=\"dataframe\">\n",
       "  <thead>\n",
       "    <tr style=\"text-align: right;\">\n",
       "      <th></th>\n",
       "      <th>year_of_release</th>\n",
       "    </tr>\n",
       "    <tr>\n",
       "      <th>platform</th>\n",
       "      <th></th>\n",
       "    </tr>\n",
       "  </thead>\n",
       "  <tbody>\n",
       "    <tr>\n",
       "      <th>GG</th>\n",
       "      <td>1</td>\n",
       "    </tr>\n",
       "    <tr>\n",
       "      <th>PCFX</th>\n",
       "      <td>1</td>\n",
       "    </tr>\n",
       "    <tr>\n",
       "      <th>TG16</th>\n",
       "      <td>1</td>\n",
       "    </tr>\n",
       "    <tr>\n",
       "      <th>3DO</th>\n",
       "      <td>2</td>\n",
       "    </tr>\n",
       "    <tr>\n",
       "      <th>SCD</th>\n",
       "      <td>2</td>\n",
       "    </tr>\n",
       "    <tr>\n",
       "      <th>WS</th>\n",
       "      <td>3</td>\n",
       "    </tr>\n",
       "    <tr>\n",
       "      <th>NG</th>\n",
       "      <td>4</td>\n",
       "    </tr>\n",
       "    <tr>\n",
       "      <th>PS4</th>\n",
       "      <td>4</td>\n",
       "    </tr>\n",
       "    <tr>\n",
       "      <th>XOne</th>\n",
       "      <td>4</td>\n",
       "    </tr>\n",
       "    <tr>\n",
       "      <th>WiiU</th>\n",
       "      <td>5</td>\n",
       "    </tr>\n",
       "    <tr>\n",
       "      <th>GEN</th>\n",
       "      <td>5</td>\n",
       "    </tr>\n",
       "    <tr>\n",
       "      <th>3DS</th>\n",
       "      <td>6</td>\n",
       "    </tr>\n",
       "    <tr>\n",
       "      <th>SAT</th>\n",
       "      <td>6</td>\n",
       "    </tr>\n",
       "    <tr>\n",
       "      <th>PSV</th>\n",
       "      <td>6</td>\n",
       "    </tr>\n",
       "    <tr>\n",
       "      <th>GC</th>\n",
       "      <td>7</td>\n",
       "    </tr>\n",
       "    <tr>\n",
       "      <th>N64</th>\n",
       "      <td>7</td>\n",
       "    </tr>\n",
       "    <tr>\n",
       "      <th>DC</th>\n",
       "      <td>7</td>\n",
       "    </tr>\n",
       "    <tr>\n",
       "      <th>GBA</th>\n",
       "      <td>8</td>\n",
       "    </tr>\n",
       "    <tr>\n",
       "      <th>XB</th>\n",
       "      <td>9</td>\n",
       "    </tr>\n",
       "    <tr>\n",
       "      <th>SNES</th>\n",
       "      <td>10</td>\n",
       "    </tr>\n",
       "    <tr>\n",
       "      <th>2600</th>\n",
       "      <td>10</td>\n",
       "    </tr>\n",
       "    <tr>\n",
       "      <th>PS</th>\n",
       "      <td>10</td>\n",
       "    </tr>\n",
       "    <tr>\n",
       "      <th>PS3</th>\n",
       "      <td>11</td>\n",
       "    </tr>\n",
       "    <tr>\n",
       "      <th>Wii</th>\n",
       "      <td>11</td>\n",
       "    </tr>\n",
       "    <tr>\n",
       "      <th>DS</th>\n",
       "      <td>11</td>\n",
       "    </tr>\n",
       "    <tr>\n",
       "      <th>PS2</th>\n",
       "      <td>12</td>\n",
       "    </tr>\n",
       "    <tr>\n",
       "      <th>NES</th>\n",
       "      <td>12</td>\n",
       "    </tr>\n",
       "    <tr>\n",
       "      <th>X360</th>\n",
       "      <td>12</td>\n",
       "    </tr>\n",
       "    <tr>\n",
       "      <th>PSP</th>\n",
       "      <td>12</td>\n",
       "    </tr>\n",
       "    <tr>\n",
       "      <th>GB</th>\n",
       "      <td>13</td>\n",
       "    </tr>\n",
       "    <tr>\n",
       "      <th>PC</th>\n",
       "      <td>26</td>\n",
       "    </tr>\n",
       "  </tbody>\n",
       "</table>\n",
       "</div>"
      ],
      "text/plain": [
       "          year_of_release\n",
       "platform                 \n",
       "GG                      1\n",
       "PCFX                    1\n",
       "TG16                    1\n",
       "3DO                     2\n",
       "SCD                     2\n",
       "WS                      3\n",
       "NG                      4\n",
       "PS4                     4\n",
       "XOne                    4\n",
       "WiiU                    5\n",
       "GEN                     5\n",
       "3DS                     6\n",
       "SAT                     6\n",
       "PSV                     6\n",
       "GC                      7\n",
       "N64                     7\n",
       "DC                      7\n",
       "GBA                     8\n",
       "XB                      9\n",
       "SNES                   10\n",
       "2600                   10\n",
       "PS                     10\n",
       "PS3                    11\n",
       "Wii                    11\n",
       "DS                     11\n",
       "PS2                    12\n",
       "NES                    12\n",
       "X360                   12\n",
       "PSP                    12\n",
       "GB                     13\n",
       "PC                     26"
      ]
     },
     "metadata": {},
     "output_type": "display_data"
    }
   ],
   "source": [
    "temp = (df.loc[:,['year_of_release', 'platform']]\n",
    "        .drop_duplicates()\n",
    "        .pivot_table(index=['platform'], values='year_of_release', aggfunc='count')\n",
    "        .sort_values(by='year_of_release')\n",
    "       )\n",
    "display(temp)"
   ]
  },
  {
   "cell_type": "code",
   "execution_count": 14,
   "metadata": {},
   "outputs": [
    {
     "data": {
      "text/plain": [
       "count    31.000000\n",
       "mean      7.677419\n",
       "std       5.081910\n",
       "min       1.000000\n",
       "25%       4.000000\n",
       "50%       7.000000\n",
       "75%      11.000000\n",
       "max      26.000000\n",
       "Name: year_of_release, dtype: float64"
      ]
     },
     "execution_count": 14,
     "metadata": {},
     "output_type": "execute_result"
    }
   ],
   "source": [
    "temp.year_of_release.describe() "
   ]
  },
  {
   "cell_type": "markdown",
   "metadata": {},
   "source": [
    "В среднем игровые платформы существуют 7 лет.  Для дальнейшего анализа выберем период за последние 3 года (2012-2016), так как именно он будет отражать данные для проведения качественного анализа: в нем окажутся платформы, которые только начали продажи и которые уже просущестовавали на рынке сколько-то лет, но при этом на момент 2016 года они не находятся \"на последнем издыхании\" и еще играют немалую роль в исследовании."
   ]
  },
  {
   "cell_type": "markdown",
   "metadata": {},
   "source": [
    "### Изменение продаж по платформам"
   ]
  },
  {
   "cell_type": "code",
   "execution_count": 15,
   "metadata": {},
   "outputs": [
    {
     "data": {
      "text/html": [
       "<div>\n",
       "<style scoped>\n",
       "    .dataframe tbody tr th:only-of-type {\n",
       "        vertical-align: middle;\n",
       "    }\n",
       "\n",
       "    .dataframe tbody tr th {\n",
       "        vertical-align: top;\n",
       "    }\n",
       "\n",
       "    .dataframe thead th {\n",
       "        text-align: right;\n",
       "    }\n",
       "</style>\n",
       "<table border=\"1\" class=\"dataframe\">\n",
       "  <thead>\n",
       "    <tr style=\"text-align: right;\">\n",
       "      <th></th>\n",
       "      <th>platform</th>\n",
       "      <th>global_sales</th>\n",
       "    </tr>\n",
       "  </thead>\n",
       "  <tbody>\n",
       "    <tr>\n",
       "      <th>0</th>\n",
       "      <td>PS4</td>\n",
       "      <td>314.14</td>\n",
       "    </tr>\n",
       "    <tr>\n",
       "      <th>1</th>\n",
       "      <td>PS3</td>\n",
       "      <td>288.78</td>\n",
       "    </tr>\n",
       "    <tr>\n",
       "      <th>2</th>\n",
       "      <td>X360</td>\n",
       "      <td>236.54</td>\n",
       "    </tr>\n",
       "    <tr>\n",
       "      <th>3</th>\n",
       "      <td>3DS</td>\n",
       "      <td>194.61</td>\n",
       "    </tr>\n",
       "    <tr>\n",
       "      <th>4</th>\n",
       "      <td>XOne</td>\n",
       "      <td>159.32</td>\n",
       "    </tr>\n",
       "  </tbody>\n",
       "</table>\n",
       "</div>"
      ],
      "text/plain": [
       "  platform  global_sales\n",
       "0      PS4        314.14\n",
       "1      PS3        288.78\n",
       "2     X360        236.54\n",
       "3      3DS        194.61\n",
       "4     XOne        159.32"
      ]
     },
     "metadata": {},
     "output_type": "display_data"
    }
   ],
   "source": [
    "df = df[(df['year_of_release'] >= 2012) & (df['year_of_release'] <= 2016)].reset_index()\n",
    "\n",
    "top_5_platforms = df.pivot_table(index='platform', values='global_sales', aggfunc='sum').sort_values(by='global_sales', ascending=False).head(5)\n",
    "top_5_platforms = top_5_platforms.reset_index().rename_axis(None, axis=1)\n",
    "display(top_5_platforms.head())"
   ]
  },
  {
   "cell_type": "code",
   "execution_count": 16,
   "metadata": {},
   "outputs": [
    {
     "data": {
      "image/png": "[encoded data removed]",
      "text/plain": [
       "<Figure size 864x432 with 1 Axes>"
      ]
     },
     "metadata": {
      "needs_background": "light"
     },
     "output_type": "display_data"
    }
   ],
   "source": [
    "def year_total_sale_for_platform(name, data):\n",
    "    slicee = data[(data['platform'] == name) & (data['year_of_release'] > 2012)]\n",
    "    total = slicee.pivot_table(index='year_of_release', values='global_sales', aggfunc='sum').sort_values('year_of_release', ascending=False)\n",
    "    return total\n",
    "\n",
    "plt.figure(figsize=(12,6))\n",
    "plt.title('Количество продаж популярных игровых платформ')\n",
    "plt.xlabel('Годы игровых релизов')\n",
    "plt.ylabel('Продажи')\n",
    "\n",
    "for i in list(top_5_platforms['platform']):\n",
    "    sns.lineplot(data=year_total_sale_for_platform(i,df)['global_sales'], label=i)\n",
    "    plt.legend()"
   ]
  },
  {
   "cell_type": "code",
   "execution_count": 17,
   "metadata": {},
   "outputs": [
    {
     "data": {
      "image/png": "[encoded data removed]",
      "text/plain": [
       "<Figure size 1008x576 with 1 Axes>"
      ]
     },
     "metadata": {
      "needs_background": "light"
     },
     "output_type": "display_data"
    }
   ],
   "source": [
    "plt.figure(figsize=(14, 8))\n",
    "sns.lineplot(x='year_of_release', y='global_sales', hue='platform', data=df, ci=None, palette=\"Dark2\")\n",
    "plt.title('Динамика продаж по годам для всех платформ (2012-2016)')\n",
    "plt.xlabel('Год выпуска')\n",
    "plt.ylabel('Глобальные продажи')\n",
    "plt.legend(title='Платформа', loc='upper left', bbox_to_anchor=(1, 1))\n",
    "plt.show()"
   ]
  },
  {
   "cell_type": "markdown",
   "metadata": {},
   "source": [
    "Платформы с наибольшими суммарными продажами: XOne, PS3, 3DS, DS, PS4, а распределение продаж по годам изображено на графиках выше."
   ]
  },
  {
   "cell_type": "code",
   "execution_count": 18,
   "metadata": {},
   "outputs": [
    {
     "data": {
      "text/plain": [
       "count    869.000000\n",
       "mean       0.659655\n",
       "std        1.537116\n",
       "min        0.010000\n",
       "25%        0.060000\n",
       "50%        0.220000\n",
       "75%        0.680000\n",
       "max       21.050000\n",
       "Name: global_sales, dtype: float64"
      ]
     },
     "execution_count": 18,
     "metadata": {},
     "output_type": "execute_result"
    }
   ],
   "source": [
    "list_of_top5 = ['PS2', 'X360', 'PS3', 'Wii', 'DS']\n",
    "df_top_5_platforms = df[df['platform'].isin(['PS2', 'X360', 'PS3', 'Wii', 'DS'])]\n",
    "\n",
    "df_top_5_platforms['global_sales'].describe()"
   ]
  },
  {
   "cell_type": "markdown",
   "metadata": {},
   "source": [
    "Исходя из полученных значений, можно седлать вывод, что даже среди самых популярных платформ, у которых наибольшие продажи, происходит спад количества проданных видеоигр: то же самое и подтверждает график распределние продаж по годам выше."
   ]
  },
  {
   "cell_type": "markdown",
   "metadata": {},
   "source": [
    "### Глобальные продажи игр в разбивке по платформам"
   ]
  },
  {
   "cell_type": "code",
   "execution_count": 19,
   "metadata": {},
   "outputs": [
    {
     "data": {
      "text/plain": [
       "Text(0, 0.5, 'Глобальные продажи')"
      ]
     },
     "execution_count": 19,
     "metadata": {},
     "output_type": "execute_result"
    },
    {
     "data": {
      "image/png": "[encoded data removed]",
      "text/plain": [
       "<Figure size 864x432 with 1 Axes>"
      ]
     },
     "metadata": {
      "needs_background": "light"
     },
     "output_type": "display_data"
    }
   ],
   "source": [
    "df_top_5_platforms = df_top_5_platforms[df_top_5_platforms['global_sales'] < 1.4]\n",
    "\n",
    "plt.figure(figsize=(12,6))\n",
    "sns.boxplot(data=df_top_5_platforms, x='platform', y='global_sales')\n",
    "plt.title('Ящик с усами', fontsize=15)\n",
    "plt.xlabel('Платформа', fontsize=12)\n",
    "plt.ylabel('Глобальные продажи',fontsize=12)"
   ]
  },
  {
   "cell_type": "markdown",
   "metadata": {},
   "source": [
    "Наибольшее медианное значение продаж в мире у платформы PS3, далее по убыванию идут X360, Wii, PS2 & DS. Если смотреть \"размеры\" \"ящиков с усами\", то получается такой же \"рейтинг\"."
   ]
  },
  {
   "cell_type": "markdown",
   "metadata": {},
   "source": [
    "### Влияние отзывов пользователей и критиков на продажи внутри платформ"
   ]
  },
  {
   "cell_type": "code",
   "execution_count": 20,
   "metadata": {},
   "outputs": [
    {
     "data": {
      "image/png": "[encoded data removed]",
      "text/plain": [
       "<Figure size 864x576 with 1 Axes>"
      ]
     },
     "metadata": {},
     "output_type": "display_data"
    },
    {
     "name": "stdout",
     "output_type": "stream",
     "text": [
      "Корреляция между отзывами пользователей и продажами на платформе Wii: 0.29619680007479526\n"
     ]
    }
   ],
   "source": [
    "wii_data = df[df['platform'] == 'Wii']\n",
    "\n",
    "filtered_wii_data = wii_data[wii_data['user_score'] != -1]\n",
    "\n",
    "sns.set(style=\"whitegrid\", palette=\"husl\")\n",
    "\n",
    "plt.figure(figsize=(12, 8))\n",
    "scatter_plot = sns.scatterplot(x='user_score', y='global_sales', data=filtered_wii_data, alpha=0.8)\n",
    "sns.regplot(x='user_score', y='global_sales', data=filtered_wii_data, scatter=False, ax=scatter_plot)\n",
    "plt.title('Диаграмма рассеяния и линия тренда между отзывами пользователей и продажами на платформе Wii')\n",
    "plt.xlabel('Отзывы пользователей')\n",
    "plt.ylabel('Глобальные продажи')\n",
    "plt.show()\n",
    "\n",
    "correlation = filtered_wii_data['user_score'].corr(filtered_wii_data['global_sales'])\n",
    "print(f\"Корреляция между отзывами пользователей и продажами на платформе Wii: {correlation}\")"
   ]
  },
  {
   "cell_type": "code",
   "execution_count": 21,
   "metadata": {},
   "outputs": [
    {
     "data": {
      "image/png": "[encoded data removed]",
      "text/plain": [
       "<Figure size 864x576 with 1 Axes>"
      ]
     },
     "metadata": {},
     "output_type": "display_data"
    },
    {
     "name": "stdout",
     "output_type": "stream",
     "text": [
      "Корреляция между отзывами критиков и продажами на платформе Wii: -0.4243413011077494\n"
     ]
    }
   ],
   "source": [
    "wii_data = df[df['platform'] == 'Wii']\n",
    "\n",
    "filtered_wii_data = wii_data[wii_data['critic_score'] != -1]\n",
    "\n",
    "sns.set(style=\"whitegrid\", palette=\"husl\")\n",
    "\n",
    "plt.figure(figsize=(12, 8))\n",
    "scatter_plot = sns.scatterplot(x='critic_score', y='global_sales', data=filtered_wii_data, alpha=0.8)\n",
    "sns.regplot(x='critic_score', y='global_sales', data=filtered_wii_data, scatter=False, ax=scatter_plot)\n",
    "plt.title('Диаграмма рассеяния и линия тренда между отзывами критиков и продажами на платформе Wii')\n",
    "plt.xlabel('Отзывы критиков')\n",
    "plt.ylabel('Глобальные продажи')\n",
    "plt.show()\n",
    "\n",
    "correlation = filtered_wii_data['critic_score'].corr(filtered_wii_data['global_sales'])\n",
    "print(f\"Корреляция между отзывами критиков и продажами на платформе Wii: {correlation}\")"
   ]
  },
  {
   "cell_type": "code",
   "execution_count": 22,
   "metadata": {},
   "outputs": [
    {
     "data": {
      "image/png": "[encoded data removed]",
      "text/plain": [
       "<Figure size 864x576 with 1 Axes>"
      ]
     },
     "metadata": {},
     "output_type": "display_data"
    },
    {
     "name": "stdout",
     "output_type": "stream",
     "text": [
      "Корреляция между отзывами пользователей и продажами на платформе X360: 0.006163978646213326\n"
     ]
    }
   ],
   "source": [
    "x360_data = df[df['platform'] == 'X360']\n",
    "\n",
    "filtered_x360_data = x360_data[x360_data['user_score'] != -1]\n",
    "\n",
    "sns.set(style=\"whitegrid\", palette=\"husl\")\n",
    "\n",
    "plt.figure(figsize=(12, 8))\n",
    "scatter_plot = sns.scatterplot(x='user_score', y='global_sales', data=filtered_x360_data, alpha=0.8)\n",
    "sns.regplot(x='user_score', y='global_sales', data=filtered_x360_data, scatter=False, ax=scatter_plot)\n",
    "plt.title('Диаграмма рассеяния и линия тренда между отзывами пользователей и продажами на платформе X360')\n",
    "plt.xlabel('Отзывы пользователей')\n",
    "plt.ylabel('Глобальные продажи')\n",
    "plt.show()\n",
    "\n",
    "correlation = filtered_x360_data['user_score'].corr(filtered_x360_data['global_sales'])\n",
    "print(f\"Корреляция между отзывами пользователей и продажами на платформе X360: {correlation}\")"
   ]
  },
  {
   "cell_type": "code",
   "execution_count": 23,
   "metadata": {},
   "outputs": [
    {
     "data": {
      "image/png": "[encoded data removed]",
      "text/plain": [
       "<Figure size 864x576 with 1 Axes>"
      ]
     },
     "metadata": {},
     "output_type": "display_data"
    },
    {
     "name": "stdout",
     "output_type": "stream",
     "text": [
      "Корреляция между отзывами критиков и продажами на платформе X360: 0.3605734888507336\n"
     ]
    }
   ],
   "source": [
    "x360_data = df[df['platform'] == 'X360']\n",
    "\n",
    "filtered_x360_data = x360_data[x360_data['critic_score'] != -1]\n",
    "\n",
    "sns.set(style=\"whitegrid\", palette=\"husl\")\n",
    "\n",
    "plt.figure(figsize=(12, 8))\n",
    "scatter_plot = sns.scatterplot(x='critic_score', y='global_sales', data=filtered_x360_data, alpha=0.8)\n",
    "sns.regplot(x='critic_score', y='global_sales', data=filtered_x360_data, scatter=False, ax=scatter_plot)\n",
    "plt.title('Диаграмма рассеяния и линия тренда между отзывами критиков и продажами на платформе X360')\n",
    "plt.xlabel('Отзывы критиков')\n",
    "plt.ylabel('Глобальные продажи')\n",
    "plt.show()\n",
    "\n",
    "correlation = filtered_x360_data['critic_score'].corr(filtered_x360_data['global_sales'])\n",
    "print(f\"Корреляция между отзывами критиков и продажами на платформе X360: {correlation}\")"
   ]
  },
  {
   "cell_type": "code",
   "execution_count": 24,
   "metadata": {},
   "outputs": [
    {
     "data": {
      "image/png": "[encoded data removed]",
      "text/plain": [
       "<Figure size 864x576 with 1 Axes>"
      ]
     },
     "metadata": {},
     "output_type": "display_data"
    },
    {
     "name": "stdout",
     "output_type": "stream",
     "text": [
      "Корреляция между отзывами пользователей и продажами на платформе PS3: -0.006205767686051523\n"
     ]
    }
   ],
   "source": [
    "ps3_data = df[df['platform'] == 'PS3']\n",
    "\n",
    "filtered_ps3_data = ps3_data[ps3_data['user_score'] != -1]\n",
    "\n",
    "sns.set(style=\"whitegrid\", palette=\"husl\")\n",
    "\n",
    "plt.figure(figsize=(12, 8))\n",
    "scatter_plot = sns.scatterplot(x='user_score', y='global_sales', data=filtered_ps3_data, alpha=0.8)\n",
    "sns.regplot(x='user_score', y='global_sales', data=filtered_ps3_data, scatter=False, ax=scatter_plot)\n",
    "plt.title('Диаграмма рассеяния и линия тренда между отзывами пользователей и продажами на платформе PS3')\n",
    "plt.xlabel('Отзывы пользователей')\n",
    "plt.ylabel('Глобальные продажи')\n",
    "plt.show()\n",
    "\n",
    "correlation = filtered_ps3_data['user_score'].corr(filtered_ps3_data['global_sales'])\n",
    "print(f\"Корреляция между отзывами пользователей и продажами на платформе PS3: {correlation}\")"
   ]
  },
  {
   "cell_type": "code",
   "execution_count": 25,
   "metadata": {},
   "outputs": [
    {
     "data": {
      "image/png": "[encoded data removed]",
      "text/plain": [
       "<Figure size 864x576 with 1 Axes>"
      ]
     },
     "metadata": {},
     "output_type": "display_data"
    },
    {
     "name": "stdout",
     "output_type": "stream",
     "text": [
      "Корреляция между отзывами критиков и продажами на платформе PS3: 0.3341517575509856\n"
     ]
    }
   ],
   "source": [
    "ps3_data = df[df['platform'] == 'PS3']\n",
    "\n",
    "filtered_ps3_data = ps3_data[ps3_data['critic_score'] != -1]\n",
    "\n",
    "sns.set(style=\"whitegrid\", palette=\"husl\")\n",
    "\n",
    "plt.figure(figsize=(12, 8))\n",
    "scatter_plot = sns.scatterplot(x='critic_score', y='global_sales', data=filtered_ps3_data, alpha=0.8)\n",
    "sns.regplot(x='critic_score', y='global_sales', data=filtered_ps3_data, scatter=False, ax=scatter_plot)\n",
    "plt.title('Диаграмма рассеяния и линия тренда между отзывами критиков и продажами на платформе PS3')\n",
    "plt.xlabel('Отзывы критиков')\n",
    "plt.ylabel('Глобальные продажи')\n",
    "plt.show()\n",
    "\n",
    "correlation = filtered_ps3_data['critic_score'].corr(filtered_ps3_data['global_sales'])\n",
    "print(f\"Корреляция между отзывами критиков и продажами на платформе PS3: {correlation}\")"
   ]
  },
  {
   "cell_type": "code",
   "execution_count": 26,
   "metadata": {},
   "outputs": [
    {
     "data": {
      "image/png": "[encoded data removed]",
      "text/plain": [
       "<Figure size 864x576 with 1 Axes>"
      ]
     },
     "metadata": {},
     "output_type": "display_data"
    },
    {
     "name": "stdout",
     "output_type": "stream",
     "text": [
      "Корреляция между отзывами пользователей и продажами на платформе DS: 0.88270872757644\n"
     ]
    }
   ],
   "source": [
    "ds_data = df[df['platform'] == 'DS']\n",
    "\n",
    "filtered_ds_data = ds_data[ds_data['user_score'] != -1]\n",
    "\n",
    "sns.set(style=\"whitegrid\", palette=\"husl\")\n",
    "\n",
    "plt.figure(figsize=(12, 8))\n",
    "scatter_plot = sns.scatterplot(x='user_score', y='global_sales', data=filtered_ds_data, alpha=0.8)\n",
    "sns.regplot(x='user_score', y='global_sales', data=filtered_ds_data, scatter=False, ax=scatter_plot)\n",
    "plt.title('Диаграмма рассеяния и линия тренда между отзывами пользователей и продажами на платформе DS')\n",
    "plt.xlabel('Отзывы пользователей')\n",
    "plt.ylabel('Глобальные продажи')\n",
    "plt.show()\n",
    "\n",
    "correlation = filtered_ds_data['user_score'].corr(filtered_ds_data['global_sales'])\n",
    "print(f\"Корреляция между отзывами пользователей и продажами на платформе DS: {correlation}\")"
   ]
  },
  {
   "cell_type": "code",
   "execution_count": 27,
   "metadata": {},
   "outputs": [
    {
     "data": {
      "image/png": "[encoded data removed]",
      "text/plain": [
       "<Figure size 864x576 with 1 Axes>"
      ]
     },
     "metadata": {},
     "output_type": "display_data"
    },
    {
     "name": "stdout",
     "output_type": "stream",
     "text": [
      "Корреляция между отзывами критиков и продажами на платформе DS: nan\n"
     ]
    },
    {
     "name": "stderr",
     "output_type": "stream",
     "text": [
      "/opt/conda/lib/python3.9/site-packages/numpy/lib/function_base.py:2683: RuntimeWarning: Degrees of freedom <= 0 for slice\n",
      "  c = cov(x, y, rowvar, dtype=dtype)\n",
      "/opt/conda/lib/python3.9/site-packages/numpy/lib/function_base.py:2542: RuntimeWarning: divide by zero encountered in true_divide\n",
      "  c *= np.true_divide(1, fact)\n"
     ]
    }
   ],
   "source": [
    "ds_data = df[df['platform'] == 'DS']\n",
    "\n",
    "filtered_ds_data = ds_data[ds_data['critic_score'] != -1]\n",
    "\n",
    "sns.set(style=\"whitegrid\", palette=\"husl\")\n",
    "\n",
    "plt.figure(figsize=(12, 8))\n",
    "scatter_plot = sns.scatterplot(x='critic_score', y='global_sales', data=filtered_ds_data, alpha=0.8)\n",
    "sns.regplot(x='critic_score', y='global_sales', data=filtered_ds_data, scatter=False, ax=scatter_plot)\n",
    "plt.title('Диаграмма рассеяния и линия тренда между отзывами критиков и продажами на платформе DS')\n",
    "plt.xlabel('Отзывы критиков')\n",
    "plt.ylabel('Глобальные продажи')\n",
    "plt.show()\n",
    "\n",
    "correlation = filtered_ds_data['critic_score'].corr(filtered_ds_data['global_sales'])\n",
    "print(f\"Корреляция между отзывами критиков и продажами на платформе DS: {correlation}\")"
   ]
  },
  {
   "cell_type": "code",
   "execution_count": 28,
   "metadata": {},
   "outputs": [
    {
     "data": {
      "image/png": "[encoded data removed]",
      "text/plain": [
       "<Figure size 864x576 with 1 Axes>"
      ]
     },
     "metadata": {},
     "output_type": "display_data"
    },
    {
     "name": "stdout",
     "output_type": "stream",
     "text": [
      "Корреляция между отзывами пользователей и продажами на платформе PS2: nan\n"
     ]
    }
   ],
   "source": [
    "ps2_data = df[df['platform'] == 'PS2']\n",
    "\n",
    "filtered_ps2_data = ps2_data[ps2_data['user_score'] != -1]\n",
    "\n",
    "sns.set(style=\"whitegrid\", palette=\"husl\")\n",
    "\n",
    "plt.figure(figsize=(12, 8))\n",
    "scatter_plot = sns.scatterplot(x='user_score', y='global_sales', data=filtered_ps2_data, alpha=0.8)\n",
    "sns.regplot(x='user_score', y='global_sales', data=filtered_ps3_data, scatter=False, ax=scatter_plot)\n",
    "plt.title('Диаграмма рассеяния и линия тренда между отзывами пользователей и продажами на платформе PS2')\n",
    "plt.xlabel('Отзывы пользователей')\n",
    "plt.ylabel('Глобальные продажи')\n",
    "plt.show()\n",
    "\n",
    "correlation = filtered_ps2_data['user_score'].corr(filtered_ps2_data['global_sales'])\n",
    "print(f\"Корреляция между отзывами пользователей и продажами на платформе PS2: {correlation}\")"
   ]
  },
  {
   "cell_type": "code",
   "execution_count": 29,
   "metadata": {},
   "outputs": [
    {
     "data": {
      "image/png": "[encoded data removed]",
      "text/plain": [
       "<Figure size 864x576 with 1 Axes>"
      ]
     },
     "metadata": {},
     "output_type": "display_data"
    },
    {
     "name": "stdout",
     "output_type": "stream",
     "text": [
      "Корреляция между отзывами критиков и продажами на платформе PS2: nan\n"
     ]
    }
   ],
   "source": [
    "ps2_data = df[df['platform'] == 'PS2']\n",
    "\n",
    "filtered_ps2_data = ps2_data[ps2_data['critic_score'] != -1]\n",
    "\n",
    "sns.set(style=\"whitegrid\", palette=\"husl\")\n",
    "\n",
    "plt.figure(figsize=(12, 8))\n",
    "scatter_plot = sns.scatterplot(x='critic_score', y='global_sales', data=filtered_ps2_data, alpha=0.8)\n",
    "sns.regplot(x='critic_score', y='global_sales', data=filtered_ps3_data, scatter=False, ax=scatter_plot)\n",
    "plt.title('Диаграмма рассеяния и линия тренда между отзывами критиков и продажами на платформе PS3')\n",
    "plt.xlabel('Отзывы критиков')\n",
    "plt.ylabel('Глобальные продажи')\n",
    "plt.show()\n",
    "\n",
    "correlation = filtered_ps2_data['critic_score'].corr(filtered_ps2_data['global_sales'])\n",
    "print(f\"Корреляция между отзывами критиков и продажами на платформе PS2: {correlation}\")"
   ]
  },
  {
   "cell_type": "markdown",
   "metadata": {},
   "source": [
    "Анализируя полученные результаты, можно сделать следующие выводы: 1) корреляция между отзывами пользователей и продажами игр на платформе не превышает значение в 0.18, что говорит о слабой линейной зависимости между рассматриваемыми параметрами; 2) корреляция между отзывами критиков и продажами игр на платформе не превышает значение в 0.43 и не опускается ниже 0.18, что говорит о средней линейной зависимости между рассматриваемыми параметрами, а также о том, что взаимосвязь отзывов критиков и продаж игр на платформе зависит непосредственно от самой платформы."
   ]
  },
  {
   "cell_type": "markdown",
   "metadata": {},
   "source": [
    "### Общее распределение игр по жанрам"
   ]
  },
  {
   "cell_type": "code",
   "execution_count": 30,
   "metadata": {},
   "outputs": [
    {
     "data": {
      "text/html": [
       "<div>\n",
       "<style scoped>\n",
       "    .dataframe tbody tr th:only-of-type {\n",
       "        vertical-align: middle;\n",
       "    }\n",
       "\n",
       "    .dataframe tbody tr th {\n",
       "        vertical-align: top;\n",
       "    }\n",
       "\n",
       "    .dataframe thead th {\n",
       "        text-align: right;\n",
       "    }\n",
       "</style>\n",
       "<table border=\"1\" class=\"dataframe\">\n",
       "  <thead>\n",
       "    <tr style=\"text-align: right;\">\n",
       "      <th></th>\n",
       "      <th>genre</th>\n",
       "      <th>global_sales</th>\n",
       "    </tr>\n",
       "  </thead>\n",
       "  <tbody>\n",
       "    <tr>\n",
       "      <th>0</th>\n",
       "      <td>Action</td>\n",
       "      <td>441.12</td>\n",
       "    </tr>\n",
       "    <tr>\n",
       "      <th>1</th>\n",
       "      <td>Shooter</td>\n",
       "      <td>304.73</td>\n",
       "    </tr>\n",
       "    <tr>\n",
       "      <th>2</th>\n",
       "      <td>Role-Playing</td>\n",
       "      <td>192.80</td>\n",
       "    </tr>\n",
       "    <tr>\n",
       "      <th>3</th>\n",
       "      <td>Sports</td>\n",
       "      <td>181.06</td>\n",
       "    </tr>\n",
       "    <tr>\n",
       "      <th>4</th>\n",
       "      <td>Misc</td>\n",
       "      <td>85.04</td>\n",
       "    </tr>\n",
       "    <tr>\n",
       "      <th>5</th>\n",
       "      <td>Platform</td>\n",
       "      <td>61.00</td>\n",
       "    </tr>\n",
       "    <tr>\n",
       "      <th>6</th>\n",
       "      <td>Racing</td>\n",
       "      <td>53.50</td>\n",
       "    </tr>\n",
       "    <tr>\n",
       "      <th>7</th>\n",
       "      <td>Fighting</td>\n",
       "      <td>44.49</td>\n",
       "    </tr>\n",
       "    <tr>\n",
       "      <th>8</th>\n",
       "      <td>Simulation</td>\n",
       "      <td>35.12</td>\n",
       "    </tr>\n",
       "    <tr>\n",
       "      <th>9</th>\n",
       "      <td>Adventure</td>\n",
       "      <td>29.43</td>\n",
       "    </tr>\n",
       "    <tr>\n",
       "      <th>10</th>\n",
       "      <td>Strategy</td>\n",
       "      <td>13.34</td>\n",
       "    </tr>\n",
       "    <tr>\n",
       "      <th>11</th>\n",
       "      <td>Puzzle</td>\n",
       "      <td>4.89</td>\n",
       "    </tr>\n",
       "  </tbody>\n",
       "</table>\n",
       "</div>"
      ],
      "text/plain": [
       "           genre  global_sales\n",
       "0         Action        441.12\n",
       "1        Shooter        304.73\n",
       "2   Role-Playing        192.80\n",
       "3         Sports        181.06\n",
       "4           Misc         85.04\n",
       "5       Platform         61.00\n",
       "6         Racing         53.50\n",
       "7       Fighting         44.49\n",
       "8     Simulation         35.12\n",
       "9      Adventure         29.43\n",
       "10      Strategy         13.34\n",
       "11        Puzzle          4.89"
      ]
     },
     "metadata": {},
     "output_type": "display_data"
    }
   ],
   "source": [
    "distr_genre = df.pivot_table(\n",
    "    index='genre', values='global_sales', aggfunc='sum').sort_values(by='global_sales', ascending=False)\n",
    "distr_genre = distr_genre.reset_index().rename_axis(None, axis=1)\n",
    "display(distr_genre)"
   ]
  },
  {
   "cell_type": "code",
   "execution_count": 31,
   "metadata": {},
   "outputs": [
    {
     "data": {
      "image/png": "[encoded data removed]",
      "text/plain": [
       "<Figure size 864x576 with 1 Axes>"
      ]
     },
     "metadata": {},
     "output_type": "display_data"
    }
   ],
   "source": [
    "genre_median_sales = df.groupby('genre')['global_sales'].median().sort_values(ascending=False)\n",
    "genre_game_counts = df.groupby('genre')['name'].count().sort_values(ascending=False)\n",
    "genre_info = pd.DataFrame({'median_sales': genre_median_sales, 'game_counts': genre_game_counts})\n",
    "genre_info = genre_info.sort_values(by='median_sales', ascending=False)\n",
    "\n",
    "sns.set(style=\"whitegrid\", palette=\"pastel\")\n",
    "\n",
    "plt.figure(figsize=(12, 8))\n",
    "bar_plot = sns.barplot(x=genre_info['median_sales'].values, y=genre_info.index, palette=\"pastel\")\n",
    "bar_plot.set(xlabel='Медианные продажи', ylabel='Жанр', title='Прибыльность жанров')\n",
    "plt.show()\n"
   ]
  },
  {
   "cell_type": "markdown",
   "metadata": {},
   "source": [
    "Всего в таблице представлено 11 различных жанров, среди которых самым продаваемым из расчета медианного значения продаж является \"Shooter\", а самым не популярным среди пользователей - \"Adventure\". Довольно хорошо продаются такие жанры, как \"Platform\" и \"Sports\", а средние продажи у \"Fighting\" и \"Racing\"."
   ]
  },
  {
   "cell_type": "markdown",
   "metadata": {},
   "source": [
    "## Портрет пользователя каждого региона"
   ]
  },
  {
   "cell_type": "markdown",
   "metadata": {},
   "source": [
    "### Самые популярные платформы"
   ]
  },
  {
   "cell_type": "code",
   "execution_count": 33,
   "metadata": {},
   "outputs": [
    {
     "data": {
      "text/html": [
       "<div>\n",
       "<style scoped>\n",
       "    .dataframe tbody tr th:only-of-type {\n",
       "        vertical-align: middle;\n",
       "    }\n",
       "\n",
       "    .dataframe tbody tr th {\n",
       "        vertical-align: top;\n",
       "    }\n",
       "\n",
       "    .dataframe thead th {\n",
       "        text-align: right;\n",
       "    }\n",
       "</style>\n",
       "<table border=\"1\" class=\"dataframe\">\n",
       "  <thead>\n",
       "    <tr style=\"text-align: right;\">\n",
       "      <th></th>\n",
       "      <th>eu_sales</th>\n",
       "      <th>jp_sales</th>\n",
       "      <th>na_sales</th>\n",
       "    </tr>\n",
       "    <tr>\n",
       "      <th>platform</th>\n",
       "      <th></th>\n",
       "      <th></th>\n",
       "      <th></th>\n",
       "    </tr>\n",
       "  </thead>\n",
       "  <tbody>\n",
       "    <tr>\n",
       "      <th>X360</th>\n",
       "      <td>74.52</td>\n",
       "      <td>1.57</td>\n",
       "      <td>140.05</td>\n",
       "    </tr>\n",
       "    <tr>\n",
       "      <th>PS4</th>\n",
       "      <td>141.09</td>\n",
       "      <td>15.96</td>\n",
       "      <td>108.74</td>\n",
       "    </tr>\n",
       "    <tr>\n",
       "      <th>PS3</th>\n",
       "      <td>106.85</td>\n",
       "      <td>35.29</td>\n",
       "      <td>103.38</td>\n",
       "    </tr>\n",
       "    <tr>\n",
       "      <th>XOne</th>\n",
       "      <td>51.59</td>\n",
       "      <td>0.34</td>\n",
       "      <td>93.12</td>\n",
       "    </tr>\n",
       "    <tr>\n",
       "      <th>3DS</th>\n",
       "      <td>42.64</td>\n",
       "      <td>87.79</td>\n",
       "      <td>55.31</td>\n",
       "    </tr>\n",
       "  </tbody>\n",
       "</table>\n",
       "</div>"
      ],
      "text/plain": [
       "          eu_sales  jp_sales  na_sales\n",
       "platform                              \n",
       "X360         74.52      1.57    140.05\n",
       "PS4         141.09     15.96    108.74\n",
       "PS3         106.85     35.29    103.38\n",
       "XOne         51.59      0.34     93.12\n",
       "3DS          42.64     87.79     55.31"
      ]
     },
     "metadata": {},
     "output_type": "display_data"
    }
   ],
   "source": [
    "stat_df_platform = df.pivot_table(['na_sales','eu_sales','jp_sales'], ['platform'], aggfunc='sum').sort_values(by='na_sales', ascending=False)\n",
    "\n",
    "def func(row):\n",
    "    row.eu_sales = round(row.eu_sales/row.global_sales, 2)\n",
    "    row.jp_sales = round(row.jp_sales/row.global_sales, 2)\n",
    "    row.na_sales = round(row.na_sales/row.global_sales, 2)\n",
    "    return row\n",
    "\n",
    "display(stat_df_platform.head())"
   ]
  },
  {
   "cell_type": "code",
   "execution_count": 34,
   "metadata": {},
   "outputs": [],
   "source": [
    "# fig, axis = plt.subplots(2,2, figsize=(18,7))\n",
    "\n",
    "# stat_df_platform['eu_sales'].sort_values(ascending=True).plot.barh(ax=axis[0,0]).set(ylabel='eu_sales')\n",
    "# stat_df_platform['na_sales'].sort_values(ascending=True).plot.barh(ax=axis[0,1]).set(ylabel='na_sales')\n",
    "# stat_df_platform['jp_sales'].sort_values(ascending=True).plot.barh(ax=axis[1,0]).set(ylabel='jp_sales')"
   ]
  },
  {
   "cell_type": "code",
   "execution_count": 35,
   "metadata": {},
   "outputs": [
    {
     "data": {
      "image/png": "[encoded data removed]",
      "text/plain": [
       "<Figure size 864x720 with 3 Axes>"
      ]
     },
     "metadata": {},
     "output_type": "display_data"
    }
   ],
   "source": [
    "\n",
    "regions = ['na_sales', 'eu_sales', 'jp_sales']\n",
    "\n",
    "\n",
    "plt.figure(figsize=(12, 10))\n",
    "\n",
    "for i, region in enumerate(regions, 1):\n",
    "    plt.subplot(2, 2, i)\n",
    "    \n",
    "    top_platforms = df.groupby('platform')[region].sum().sort_values(ascending=False).head(5)\n",
    "\n",
    "    sns.set(style=\"whitegrid\", palette=\"pastel\")\n",
    "    \n",
    "    bar_plot = sns.barplot(x=top_platforms.index, y=top_platforms.values, palette=\"pastel\")\n",
    "\n",
    "    plt.title(f'Top-5 {region}')\n",
    "    plt.xlabel('Платформа')\n",
    "    plt.ylabel(f'{region} (млн)')\n",
    "\n",
    "plt.tight_layout()\n",
    "plt.show()\n"
   ]
  },
  {
   "cell_type": "markdown",
   "metadata": {},
   "source": [
    "Самыми популярными платформами для пользователей Европейского союза являются PS3, X360, PS4, Wii, DS (по убыванию);\n",
    "Самыми популярными платформами для пользователей Северной Америки являются X360, PS3, Wii, DS, PS4 (по убыванию);\n",
    "Самыми популярными платформами для пользователей Японии являются 3DS, PS3, DS, PSP, Wii (по убыванию).\n",
    "Во всех случаях первая платформа имеет огромный отрыв от второй"
   ]
  },
  {
   "cell_type": "markdown",
   "metadata": {},
   "source": [
    "### Самые популярные жанры"
   ]
  },
  {
   "cell_type": "markdown",
   "metadata": {},
   "source": [
    "<!-- На круговых диаграммах выше представлено распределение продаж на самых популярных платформах по регионам -->"
   ]
  },
  {
   "cell_type": "code",
   "execution_count": 37,
   "metadata": {},
   "outputs": [
    {
     "data": {
      "text/html": [
       "<div>\n",
       "<style scoped>\n",
       "    .dataframe tbody tr th:only-of-type {\n",
       "        vertical-align: middle;\n",
       "    }\n",
       "\n",
       "    .dataframe tbody tr th {\n",
       "        vertical-align: top;\n",
       "    }\n",
       "\n",
       "    .dataframe thead th {\n",
       "        text-align: right;\n",
       "    }\n",
       "</style>\n",
       "<table border=\"1\" class=\"dataframe\">\n",
       "  <thead>\n",
       "    <tr style=\"text-align: right;\">\n",
       "      <th></th>\n",
       "      <th>eu_sales</th>\n",
       "      <th>jp_sales</th>\n",
       "      <th>na_sales</th>\n",
       "    </tr>\n",
       "    <tr>\n",
       "      <th>genre</th>\n",
       "      <th></th>\n",
       "      <th></th>\n",
       "      <th></th>\n",
       "    </tr>\n",
       "  </thead>\n",
       "  <tbody>\n",
       "    <tr>\n",
       "      <th>Action</th>\n",
       "      <td>159.34</td>\n",
       "      <td>52.80</td>\n",
       "      <td>177.84</td>\n",
       "    </tr>\n",
       "    <tr>\n",
       "      <th>Shooter</th>\n",
       "      <td>113.47</td>\n",
       "      <td>9.23</td>\n",
       "      <td>144.77</td>\n",
       "    </tr>\n",
       "    <tr>\n",
       "      <th>Sports</th>\n",
       "      <td>69.08</td>\n",
       "      <td>8.01</td>\n",
       "      <td>81.53</td>\n",
       "    </tr>\n",
       "    <tr>\n",
       "      <th>Role-Playing</th>\n",
       "      <td>48.53</td>\n",
       "      <td>65.44</td>\n",
       "      <td>64.00</td>\n",
       "    </tr>\n",
       "    <tr>\n",
       "      <th>Misc</th>\n",
       "      <td>26.32</td>\n",
       "      <td>12.86</td>\n",
       "      <td>38.19</td>\n",
       "    </tr>\n",
       "    <tr>\n",
       "      <th>Platform</th>\n",
       "      <td>21.41</td>\n",
       "      <td>8.63</td>\n",
       "      <td>25.38</td>\n",
       "    </tr>\n",
       "    <tr>\n",
       "      <th>Fighting</th>\n",
       "      <td>10.79</td>\n",
       "      <td>9.44</td>\n",
       "      <td>19.79</td>\n",
       "    </tr>\n",
       "    <tr>\n",
       "      <th>Racing</th>\n",
       "      <td>27.29</td>\n",
       "      <td>2.50</td>\n",
       "      <td>17.22</td>\n",
       "    </tr>\n",
       "    <tr>\n",
       "      <th>Adventure</th>\n",
       "      <td>9.46</td>\n",
       "      <td>8.24</td>\n",
       "      <td>8.92</td>\n",
       "    </tr>\n",
       "    <tr>\n",
       "      <th>Simulation</th>\n",
       "      <td>14.55</td>\n",
       "      <td>10.41</td>\n",
       "      <td>7.97</td>\n",
       "    </tr>\n",
       "    <tr>\n",
       "      <th>Strategy</th>\n",
       "      <td>5.17</td>\n",
       "      <td>2.88</td>\n",
       "      <td>4.23</td>\n",
       "    </tr>\n",
       "    <tr>\n",
       "      <th>Puzzle</th>\n",
       "      <td>1.40</td>\n",
       "      <td>2.14</td>\n",
       "      <td>1.13</td>\n",
       "    </tr>\n",
       "  </tbody>\n",
       "</table>\n",
       "</div>"
      ],
      "text/plain": [
       "              eu_sales  jp_sales  na_sales\n",
       "genre                                     \n",
       "Action          159.34     52.80    177.84\n",
       "Shooter         113.47      9.23    144.77\n",
       "Sports           69.08      8.01     81.53\n",
       "Role-Playing     48.53     65.44     64.00\n",
       "Misc             26.32     12.86     38.19\n",
       "Platform         21.41      8.63     25.38\n",
       "Fighting         10.79      9.44     19.79\n",
       "Racing           27.29      2.50     17.22\n",
       "Adventure         9.46      8.24      8.92\n",
       "Simulation       14.55     10.41      7.97\n",
       "Strategy          5.17      2.88      4.23\n",
       "Puzzle            1.40      2.14      1.13"
      ]
     },
     "metadata": {},
     "output_type": "display_data"
    }
   ],
   "source": [
    "stat_df_genre = df.pivot_table(['na_sales','eu_sales','jp_sales'], ['genre'], aggfunc='sum').sort_values(by='na_sales', ascending=False)\n",
    "display(stat_df_genre)"
   ]
  },
  {
   "cell_type": "code",
   "execution_count": 40,
   "metadata": {},
   "outputs": [
    {
     "data": {
      "image/png": "[encoded data removed]",
      "text/plain": [
       "<Figure size 1296x864 with 3 Axes>"
      ]
     },
     "metadata": {},
     "output_type": "display_data"
    }
   ],
   "source": [
    "regions = ['na_sales', 'eu_sales', 'jp_sales']\n",
    "\n",
    "plt.figure(figsize=(18, 12))\n",
    "\n",
    "for i, region in enumerate(regions, 1):\n",
    "    plt.subplot(2, 2, i)\n",
    "    \n",
    "    top_genres = df.groupby('genre')[region].sum().sort_values(ascending=False).head(5)\n",
    "    \n",
    "    sns.set(style=\"whitegrid\", palette=\"pastel\")\n",
    "    \n",
    "    bar_plot = sns.barplot(x=top_genres.index, y=top_genres.values, palette=\"pastel\")\n",
    "    \n",
    "    plt.title(f'Top-5 жанров {region}')\n",
    "    plt.xlabel('Жанр')\n",
    "    plt.ylabel(f'{region} (млн)')\n",
    "\n",
    "plt.tight_layout()\n",
    "plt.show()\n"
   ]
  },
  {
   "cell_type": "markdown",
   "metadata": {},
   "source": [
    "Самыми популярными жанрами для пользователей Европейского союза являются Action, Shooter, Sports, Mics, Role-playing (по убыванию);\n",
    "Самыми популярными жанрами для пользователей Северной Америки являются Action, Shooter, Sports, Mics, Role-playing (по убыванию);\n",
    "Самыми популярными жанрами для пользователей Японии являются Role-playing, Action, Mics, Sports, Platform (по убыванию).\n",
    "Во всех случаях наиболее популярный жанр имеет огромный отрыв от второго по популярности"
   ]
  },
  {
   "cell_type": "markdown",
   "metadata": {},
   "source": [
    "### Влияние рейтинга ESRB"
   ]
  },
  {
   "cell_type": "code",
   "execution_count": 41,
   "metadata": {
    "scrolled": true
   },
   "outputs": [
    {
     "data": {
      "text/plain": [
       "<AxesSubplot:xlabel='rating', ylabel='jp_sales'>"
      ]
     },
     "execution_count": 41,
     "metadata": {},
     "output_type": "execute_result"
    },
    {
     "data": {
      "image/png": "[encoded data removed]",
      "text/plain": [
       "<Figure size 1296x504 with 4 Axes>"
      ]
     },
     "metadata": {},
     "output_type": "display_data"
    }
   ],
   "source": [
    "fig, axis = plt.subplots(2,2, figsize=(18,7))\n",
    "sns.barplot(y='na_sales', x='rating', data = df,estimator=sum, ax=axis[0,0])\n",
    "sns.barplot(y='eu_sales', x='rating', data = df,estimator=sum, ax=axis[0,1])\n",
    "sns.barplot(y='jp_sales', x='rating', data = df,estimator=sum, ax=axis[1,0])"
   ]
  },
  {
   "cell_type": "markdown",
   "metadata": {},
   "source": [
    "Рейтинг ESRB влияет на продажи во всех рассматриваемых регионах, кроме Японии: там наибольшее колиечство продаж у игр, рейтинг которых не известен, так как эта рейтинговая система применяется в США и Канаде, а в Японии есть своя - CERO"
   ]
  },
  {
   "cell_type": "markdown",
   "metadata": {},
   "source": [
    "## Проверка гипотез"
   ]
  },
  {
   "cell_type": "markdown",
   "metadata": {},
   "source": [
    "Для проверки статистических гипотез мною выбран двухвыборочный t-критерий, который используется для определения того, равны ли две средние значения генеральной совокупности. Нулевая гипотеза гласит о равенстве средних значений, альтернативная -  о том, что они отличаются. Пороговое значения alpha = 0.05"
   ]
  },
  {
   "cell_type": "markdown",
   "metadata": {},
   "source": [
    "### H0: средние пользовательские рейтинги платформ Xbox One и PC равны; H1: средние пользовательские рейтинги платформ Xbox One и PC не равны.\n"
   ]
  },
  {
   "cell_type": "code",
   "execution_count": 42,
   "metadata": {},
   "outputs": [
    {
     "name": "stdout",
     "output_type": "stream",
     "text": [
      "T-статистика: 0.5930304646661255\n",
      "P-значение: 0.5535080500643661\n",
      "Не удалось отвергнуть нулевую гипотезу\n",
      "Средний пользовательский рейтинг Xbox One (6.521428571428572) выше, чем у PC (6.4286407766990274).\n"
     ]
    }
   ],
   "source": [
    "valid_df = df[df['user_score'].notna() & (df['user_score'] != -1)]\n",
    "\n",
    "xbox_one_scores = valid_df[valid_df['platform'] == 'XOne']['user_score']\n",
    "pc_scores = valid_df[valid_df['platform'] == 'PC']['user_score']\n",
    "\n",
    "if xbox_one_scores.empty or pc_scores.empty:\n",
    "    print(\"Недостаточно данных для проведения t-теста.\")\n",
    "else:\n",
    "    t_statistic, p_value = stats.ttest_ind(xbox_one_scores, pc_scores)\n",
    "   \n",
    "    print(f\"T-статистика: {t_statistic}\")\n",
    "    print(f\"P-значение: {p_value}\")\n",
    "\n",
    "    alpha = 0.05\n",
    "    if p_value < alpha:\n",
    "        print(\"Отвергаем нулевую гипотезу\")\n",
    "    else:\n",
    "        print(\"Не удалось отвергнуть нулевую гипотезу\")\n",
    "\n",
    "    xbox_one_mean = xbox_one_scores.mean()\n",
    "    pc_mean = pc_scores.mean()\n",
    "    if xbox_one_mean > pc_mean:\n",
    "        print(f\"Средний пользовательский рейтинг Xbox One ({xbox_one_mean}) выше, чем у PC ({pc_mean}).\")\n",
    "    elif xbox_one_mean < pc_mean:\n",
    "        print(f\"Средний пользовательский рейтинг PC ({pc_mean}) выше, чем у Xbox One ({xbox_one_mean}).\")\n",
    "    else:\n",
    "        print(\"Средние пользовательские рейтинги Xbox One и PC одинаковы.\")"
   ]
  },
  {
   "cell_type": "markdown",
   "metadata": {},
   "source": [
    "### H0: средние пользовательские рейтинги платформ Action и Sports равны; H1: средние пользовательские рейтинги платформ Action и Sports не равны.\n"
   ]
  },
  {
   "cell_type": "code",
   "execution_count": 43,
   "metadata": {},
   "outputs": [
    {
     "name": "stdout",
     "output_type": "stream",
     "text": [
      "T-статистика: 10.984175532598625\n",
      "P-значение: 4.8045233804629176e-26\n",
      "Отвергаем нулевую гипотезу: средние пользовательские рейтинги жанров Action и Sports различаются.\n",
      "Средний пользовательский рейтинг Action (6.825047801147227) выше, чем у Sports (5.455670103092784).\n"
     ]
    }
   ],
   "source": [
    "valid_df = df[df['user_score'].notna() & (df['user_score'] != -1)]\n",
    "\n",
    "action_scores = valid_df[valid_df['genre'] == 'Action']['user_score']\n",
    "sports_scores = valid_df[valid_df['genre'] == 'Sports']['user_score']\n",
    "\n",
    "if action_scores.empty or sports_scores.empty:\n",
    "    print(\"Недостаточно данных для проведения t-теста.\")\n",
    "else:\n",
    "    t_statistic, p_value = stats.ttest_ind(action_scores, sports_scores)\n",
    "    \n",
    "    print(f\"T-статистика: {t_statistic}\")\n",
    "    print(f\"P-значение: {p_value}\")\n",
    "\n",
    "    alpha = 0.05\n",
    "    if p_value < alpha:\n",
    "        print(\"Отвергаем нулевую гипотезу: средние пользовательские рейтинги жанров Action и Sports различаются.\")\n",
    "    else:\n",
    "        print(\"Не удалось отвергнуть нулевую гипотезу: средние пользовательские рейтинги жанров Action и Sports одинаковы.\")\n",
    "\n",
    "    action_mean = action_scores.mean()\n",
    "    sports_mean = sports_scores.mean()\n",
    "    if action_mean > sports_mean:\n",
    "        print(f\"Средний пользовательский рейтинг Action ({action_mean}) выше, чем у Sports ({sports_mean}).\")\n",
    "    elif action_mean < sports_mean:\n",
    "        print(f\"Средний пользовательский рейтинг Sports ({sports_mean}) выше, чем у Action ({action_mean}).\")\n",
    "    else:\n",
    "        print(\"Средние пользовательские рейтинги Action и Sports одинаковы.\")"
   ]
  },
  {
   "cell_type": "markdown",
   "metadata": {},
   "source": [
    "## Общий вывод"
   ]
  },
  {
   "cell_type": "markdown",
   "metadata": {},
   "source": [
    "На этапе знакомства с данными была получена общая информация о значениях, содержащихся в таблице. Далее сами значения были обработаны, и после этапа обработки их ожидало дальнейшее преобразование в виде проведения с ними математических операций во имя вычисления новых параметров, характеризующих использование сервисом. Были построенны различные графики и проверены гипотезы. Результаты предоставлены ниже.\n",
    "\n",
    "    1) рост выпуска видеоигр начался с 1995 года, что объясняется историей этой индустрии. Период, в котором производилось наибольшее количество игр, - 2007-2011 годы, после чего до 2016 наблюдался спад;\n",
    "    2) актуальный период = отрезок времени с 2012 по 2016 год;\n",
    "    3) корреляция между отзывами пользователей и продажами игр на платформе не превышает значение в 0.18, что говорит о слабой линейной зависимости между рассматриваемыми параметрами; \n",
    "    4) корреляция между отзывами критиков и продажами игр на платформе не превышает значение в 0.43 и не опускается ниже 0.18, что говорит о средней линейной зависимости между рассматриваемыми параметрами, а также о том, что взаимосвязь отзывов критиков и продаж игр на платформе зависит непосредственно от самой платформы.\n",
    "    5) самым продаваемым жанром является \"Action\", а самым не популярным среди пользователей - \"Strategy\";\n",
    "    6) самыми популярными платформами для пользователей Европейского союза являются PS3, X360, Wii, DS, PS4 (по убыванию); для пользователей Северной Америки - X360, Wii, PS3, DS, PS2 (по убыванию); для пользователей Японии - DS, 3DS, PS3, PSP, Wii (по убыванию). Во всех случаях первая платформа имеет огромный отрыв от второй;\n",
    "    7) самыми популярными жанрами для пользователей Европейского союза являются Action, Sports, Shooter, Mics, Racing (по убыванию); для пользователей Северной Америки - Action, Sports, Shooter, Mics, Role-playing (по убыванию); для пользователей Японии - Role-playing, Action, Mics, Sports, Platform (по убыванию). Во всех случаях наиболее популярный жанр имеет огромный отрыв от второго по популярности;\n",
    "    8) рейтинг ESRB влияет на продажи во всех рассматриваемых регионах, кроме Японии: там наибольшее колиечство продаж у игр, рейтинг которых не известен;\n",
    "    9) с большой долей вероятности средние пользовательские рейтинги платформ XOne и PC не имеют статистически значимых отличий;\n",
    "    10) средние пользовательские рейтинги жанров Action и Sports различаются.\n",
    "    \n",
    "На мой взгляд, для более полного исследования также необходимо сообщить ответственным за это лицам об огромном количестве в пропусках в столбцах, являющихся ключевыми для проведения анализа, а также рассмотреть зависимость между продажей каждого жанра и годом продаж. Отделу маркетинга для проведения рекламной кампании я бы рекомендовала обращать внимание на оценку критиков, однако сильно не придавать значения пользовательской оценке. Согласно результатам, в новом году было бы разумным сделать акцент на продаже игр следующих жанров: \"Shooter\", \"Platform\", \"Sports\", \"Fighting\" и \"Racing\"; также важную роль может играть рейтинг ESRB (в Северной Америке и Европе)"
   ]
  }
 ],
 "metadata": {
  "ExecuteTimeLog": [
   {
    "duration": 432,
    "start_time": "2023-12-30T12:30:06.318Z"
   },
   {
    "duration": 111,
    "start_time": "2023-12-30T12:30:46.766Z"
   },
   {
    "duration": 2,
    "start_time": "2023-12-30T12:31:16.874Z"
   },
   {
    "duration": 62,
    "start_time": "2023-12-30T12:44:44.903Z"
   },
   {
    "duration": 78,
    "start_time": "2023-12-30T12:45:10.675Z"
   },
   {
    "duration": 352,
    "start_time": "2024-01-04T14:49:13.924Z"
   },
   {
    "duration": 141,
    "start_time": "2024-01-04T14:49:15.050Z"
   },
   {
    "duration": 70,
    "start_time": "2024-01-04T14:49:23.924Z"
   },
   {
    "duration": 70,
    "start_time": "2024-01-04T14:49:36.327Z"
   },
   {
    "duration": 50,
    "start_time": "2024-01-06T16:47:39.668Z"
   },
   {
    "duration": 418,
    "start_time": "2024-01-06T16:47:45.793Z"
   },
   {
    "duration": 126,
    "start_time": "2024-01-06T16:47:46.213Z"
   },
   {
    "duration": 31,
    "start_time": "2024-01-06T16:47:49.096Z"
   },
   {
    "duration": 36,
    "start_time": "2024-01-06T16:49:52.739Z"
   },
   {
    "duration": 9,
    "start_time": "2024-01-06T16:50:04.088Z"
   },
   {
    "duration": 11,
    "start_time": "2024-01-06T16:50:10.810Z"
   },
   {
    "duration": 7,
    "start_time": "2024-01-06T16:51:47.717Z"
   },
   {
    "duration": 7,
    "start_time": "2024-01-06T16:51:51.735Z"
   },
   {
    "duration": 5,
    "start_time": "2024-01-06T16:52:00.941Z"
   },
   {
    "duration": 9,
    "start_time": "2024-01-06T16:52:47.361Z"
   },
   {
    "duration": 13,
    "start_time": "2024-01-06T16:57:50.265Z"
   },
   {
    "duration": 29,
    "start_time": "2024-01-06T17:05:43.491Z"
   },
   {
    "duration": 56,
    "start_time": "2024-01-06T19:21:17.356Z"
   },
   {
    "duration": 426,
    "start_time": "2024-01-06T19:21:20.968Z"
   },
   {
    "duration": 126,
    "start_time": "2024-01-06T19:21:21.398Z"
   },
   {
    "duration": 25,
    "start_time": "2024-01-06T19:21:21.526Z"
   },
   {
    "duration": 29,
    "start_time": "2024-01-06T19:21:24.149Z"
   },
   {
    "duration": 2,
    "start_time": "2024-01-06T19:21:49.239Z"
   },
   {
    "duration": 29,
    "start_time": "2024-01-06T19:21:52.543Z"
   },
   {
    "duration": 14,
    "start_time": "2024-01-06T19:28:57.259Z"
   },
   {
    "duration": 9,
    "start_time": "2024-01-06T19:29:46.308Z"
   },
   {
    "duration": 9,
    "start_time": "2024-01-06T19:29:55.021Z"
   },
   {
    "duration": 9,
    "start_time": "2024-01-06T19:30:02.284Z"
   },
   {
    "duration": 388,
    "start_time": "2024-01-06T19:30:59.168Z"
   },
   {
    "duration": 238,
    "start_time": "2024-01-06T19:31:02.996Z"
   },
   {
    "duration": 227,
    "start_time": "2024-01-06T19:31:21.971Z"
   },
   {
    "duration": 231,
    "start_time": "2024-01-06T19:32:25.413Z"
   },
   {
    "duration": 234,
    "start_time": "2024-01-06T19:32:35.390Z"
   },
   {
    "duration": 5,
    "start_time": "2024-01-06T19:32:42.250Z"
   },
   {
    "duration": 5,
    "start_time": "2024-01-06T19:32:54.875Z"
   },
   {
    "duration": 10,
    "start_time": "2024-01-06T19:39:33.243Z"
   },
   {
    "duration": 5,
    "start_time": "2024-01-06T19:40:06.531Z"
   },
   {
    "duration": 9,
    "start_time": "2024-01-06T19:40:07.360Z"
   },
   {
    "duration": 13,
    "start_time": "2024-01-06T19:40:09.334Z"
   },
   {
    "duration": 17,
    "start_time": "2024-01-06T19:40:16.256Z"
   },
   {
    "duration": 5,
    "start_time": "2024-01-06T19:40:18.997Z"
   },
   {
    "duration": 17,
    "start_time": "2024-01-06T19:42:29.893Z"
   },
   {
    "duration": 9,
    "start_time": "2024-01-06T19:42:32.251Z"
   },
   {
    "duration": 12,
    "start_time": "2024-01-06T19:42:45.236Z"
   },
   {
    "duration": 421,
    "start_time": "2024-01-06T23:13:27.602Z"
   },
   {
    "duration": 132,
    "start_time": "2024-01-06T23:13:28.025Z"
   },
   {
    "duration": 34,
    "start_time": "2024-01-06T23:13:28.158Z"
   },
   {
    "duration": 29,
    "start_time": "2024-01-06T23:13:28.194Z"
   },
   {
    "duration": 8,
    "start_time": "2024-01-06T23:13:28.224Z"
   },
   {
    "duration": 21,
    "start_time": "2024-01-06T23:13:28.233Z"
   },
   {
    "duration": 385,
    "start_time": "2024-01-06T23:13:28.256Z"
   },
   {
    "duration": 6,
    "start_time": "2024-01-06T23:13:28.643Z"
   },
   {
    "duration": 15,
    "start_time": "2024-01-06T23:14:00.944Z"
   },
   {
    "duration": 597,
    "start_time": "2024-01-06T23:15:32.450Z"
   },
   {
    "duration": 1345,
    "start_time": "2024-01-06T23:15:47.337Z"
   },
   {
    "duration": 260,
    "start_time": "2024-01-06T23:15:54.083Z"
   },
   {
    "duration": 3,
    "start_time": "2024-01-06T23:16:30.706Z"
   },
   {
    "duration": 78,
    "start_time": "2024-01-06T23:16:31.823Z"
   },
   {
    "duration": 25,
    "start_time": "2024-01-06T23:16:32.000Z"
   },
   {
    "duration": 94,
    "start_time": "2024-01-06T23:16:32.191Z"
   },
   {
    "duration": 8,
    "start_time": "2024-01-06T23:16:32.433Z"
   },
   {
    "duration": 12,
    "start_time": "2024-01-06T23:16:32.618Z"
   },
   {
    "duration": 360,
    "start_time": "2024-01-06T23:16:32.790Z"
   },
   {
    "duration": 7,
    "start_time": "2024-01-06T23:16:33.152Z"
   },
   {
    "duration": 17,
    "start_time": "2024-01-06T23:16:33.248Z"
   },
   {
    "duration": 265,
    "start_time": "2024-01-06T23:16:33.734Z"
   },
   {
    "duration": 0,
    "start_time": "2024-01-06T23:19:46.222Z"
   },
   {
    "duration": 0,
    "start_time": "2024-01-06T23:19:46.223Z"
   },
   {
    "duration": 0,
    "start_time": "2024-01-06T23:19:46.224Z"
   },
   {
    "duration": 0,
    "start_time": "2024-01-06T23:19:46.225Z"
   },
   {
    "duration": 0,
    "start_time": "2024-01-06T23:19:46.226Z"
   },
   {
    "duration": 0,
    "start_time": "2024-01-06T23:19:46.227Z"
   },
   {
    "duration": 0,
    "start_time": "2024-01-06T23:19:46.228Z"
   },
   {
    "duration": 0,
    "start_time": "2024-01-06T23:19:46.229Z"
   },
   {
    "duration": 0,
    "start_time": "2024-01-06T23:19:46.230Z"
   },
   {
    "duration": 0,
    "start_time": "2024-01-06T23:19:46.231Z"
   },
   {
    "duration": 24,
    "start_time": "2024-01-06T23:19:47.427Z"
   },
   {
    "duration": 3,
    "start_time": "2024-01-06T23:19:53.179Z"
   },
   {
    "duration": 69,
    "start_time": "2024-01-06T23:19:53.647Z"
   },
   {
    "duration": 27,
    "start_time": "2024-01-06T23:19:54.796Z"
   },
   {
    "duration": 19,
    "start_time": "2024-01-06T23:19:57.978Z"
   },
   {
    "duration": 8,
    "start_time": "2024-01-06T23:19:59.995Z"
   },
   {
    "duration": 12,
    "start_time": "2024-01-06T23:20:02.805Z"
   },
   {
    "duration": 418,
    "start_time": "2024-01-06T23:20:06.147Z"
   },
   {
    "duration": 7,
    "start_time": "2024-01-06T23:20:09.949Z"
   },
   {
    "duration": 16,
    "start_time": "2024-01-06T23:20:12.232Z"
   },
   {
    "duration": 18,
    "start_time": "2024-01-06T23:20:15.081Z"
   },
   {
    "duration": 487,
    "start_time": "2024-01-06T23:20:54.498Z"
   },
   {
    "duration": 184,
    "start_time": "2024-01-06T23:20:58.436Z"
   },
   {
    "duration": 205,
    "start_time": "2024-01-06T23:21:05.146Z"
   },
   {
    "duration": 132,
    "start_time": "2024-01-06T23:23:29.708Z"
   },
   {
    "duration": 42,
    "start_time": "2024-01-06T23:23:41.365Z"
   },
   {
    "duration": 19,
    "start_time": "2024-01-06T23:25:04.362Z"
   },
   {
    "duration": 48,
    "start_time": "2024-01-07T15:47:11.468Z"
   },
   {
    "duration": 1354,
    "start_time": "2024-01-07T15:47:15.382Z"
   },
   {
    "duration": 130,
    "start_time": "2024-01-07T15:47:16.738Z"
   },
   {
    "duration": 25,
    "start_time": "2024-01-07T15:47:16.870Z"
   },
   {
    "duration": 28,
    "start_time": "2024-01-07T15:47:16.898Z"
   },
   {
    "duration": 9,
    "start_time": "2024-01-07T15:47:16.927Z"
   },
   {
    "duration": 13,
    "start_time": "2024-01-07T15:47:16.937Z"
   },
   {
    "duration": 385,
    "start_time": "2024-01-07T15:47:16.952Z"
   },
   {
    "duration": 6,
    "start_time": "2024-01-07T15:47:17.339Z"
   },
   {
    "duration": 16,
    "start_time": "2024-01-07T15:47:17.347Z"
   },
   {
    "duration": 8,
    "start_time": "2024-01-07T15:47:17.616Z"
   },
   {
    "duration": 19,
    "start_time": "2024-01-07T15:47:27.901Z"
   },
   {
    "duration": 2,
    "start_time": "2024-01-07T15:47:36.102Z"
   },
   {
    "duration": 75,
    "start_time": "2024-01-07T15:47:36.387Z"
   },
   {
    "duration": 24,
    "start_time": "2024-01-07T15:47:38.620Z"
   },
   {
    "duration": 19,
    "start_time": "2024-01-07T15:47:40.780Z"
   },
   {
    "duration": 8,
    "start_time": "2024-01-07T15:47:42.130Z"
   },
   {
    "duration": 355,
    "start_time": "2024-01-07T15:47:44.675Z"
   },
   {
    "duration": 7,
    "start_time": "2024-01-07T15:47:47.150Z"
   },
   {
    "duration": 16,
    "start_time": "2024-01-07T15:47:48.049Z"
   },
   {
    "duration": 1281,
    "start_time": "2024-01-07T17:47:53.439Z"
   },
   {
    "duration": 126,
    "start_time": "2024-01-07T17:47:54.722Z"
   },
   {
    "duration": 31,
    "start_time": "2024-01-07T17:47:54.850Z"
   },
   {
    "duration": 32,
    "start_time": "2024-01-07T17:47:54.883Z"
   },
   {
    "duration": 9,
    "start_time": "2024-01-07T17:47:54.917Z"
   },
   {
    "duration": 13,
    "start_time": "2024-01-07T17:47:54.928Z"
   },
   {
    "duration": 363,
    "start_time": "2024-01-07T17:47:54.942Z"
   },
   {
    "duration": 12,
    "start_time": "2024-01-07T17:47:55.307Z"
   },
   {
    "duration": 15,
    "start_time": "2024-01-07T17:47:55.320Z"
   },
   {
    "duration": 97,
    "start_time": "2024-01-07T17:47:56.306Z"
   },
   {
    "duration": 312,
    "start_time": "2024-01-07T17:48:06.358Z"
   },
   {
    "duration": 2,
    "start_time": "2024-01-07T17:54:11.369Z"
   },
   {
    "duration": 74,
    "start_time": "2024-01-07T17:54:11.373Z"
   },
   {
    "duration": 23,
    "start_time": "2024-01-07T17:54:11.480Z"
   },
   {
    "duration": 19,
    "start_time": "2024-01-07T17:54:11.505Z"
   },
   {
    "duration": 8,
    "start_time": "2024-01-07T17:54:11.525Z"
   },
   {
    "duration": 14,
    "start_time": "2024-01-07T17:54:11.534Z"
   },
   {
    "duration": 364,
    "start_time": "2024-01-07T17:54:11.550Z"
   },
   {
    "duration": 7,
    "start_time": "2024-01-07T17:54:11.916Z"
   },
   {
    "duration": 14,
    "start_time": "2024-01-07T17:54:11.924Z"
   },
   {
    "duration": 290,
    "start_time": "2024-01-07T17:54:13.649Z"
   },
   {
    "duration": 298,
    "start_time": "2024-01-07T17:54:29.750Z"
   },
   {
    "duration": 14,
    "start_time": "2024-01-07T17:54:35.942Z"
   },
   {
    "duration": 12,
    "start_time": "2024-01-07T17:54:52.823Z"
   },
   {
    "duration": 17,
    "start_time": "2024-01-07T17:55:05.648Z"
   },
   {
    "duration": 311,
    "start_time": "2024-01-07T17:55:08.450Z"
   },
   {
    "duration": 10,
    "start_time": "2024-01-07T17:57:54.509Z"
   },
   {
    "duration": 215,
    "start_time": "2024-01-07T17:57:59.550Z"
   },
   {
    "duration": 311,
    "start_time": "2024-01-07T17:58:22.359Z"
   },
   {
    "duration": 309,
    "start_time": "2024-01-07T17:58:50.918Z"
   },
   {
    "duration": 8,
    "start_time": "2024-01-07T18:01:03.016Z"
   },
   {
    "duration": 8,
    "start_time": "2024-01-07T18:01:08.095Z"
   },
   {
    "duration": 11,
    "start_time": "2024-01-07T18:01:16.464Z"
   },
   {
    "duration": 11,
    "start_time": "2024-01-07T18:02:51.029Z"
   },
   {
    "duration": 12,
    "start_time": "2024-01-07T18:02:56.467Z"
   },
   {
    "duration": 11,
    "start_time": "2024-01-07T18:03:35.786Z"
   },
   {
    "duration": 15,
    "start_time": "2024-01-07T18:03:42.847Z"
   },
   {
    "duration": 364,
    "start_time": "2024-01-07T18:03:49.379Z"
   },
   {
    "duration": 368,
    "start_time": "2024-01-07T18:04:08.648Z"
   },
   {
    "duration": 359,
    "start_time": "2024-01-07T18:04:20.752Z"
   },
   {
    "duration": 10,
    "start_time": "2024-01-07T18:06:10.583Z"
   },
   {
    "duration": 21,
    "start_time": "2024-01-07T18:06:15.862Z"
   },
   {
    "duration": 9,
    "start_time": "2024-01-07T18:08:18.876Z"
   },
   {
    "duration": 14,
    "start_time": "2024-01-07T18:08:24.394Z"
   },
   {
    "duration": 13,
    "start_time": "2024-01-07T18:08:31.075Z"
   },
   {
    "duration": 21,
    "start_time": "2024-01-07T18:08:36.707Z"
   },
   {
    "duration": 19,
    "start_time": "2024-01-07T18:09:45.377Z"
   },
   {
    "duration": 9,
    "start_time": "2024-01-07T18:10:19.110Z"
   },
   {
    "duration": 230,
    "start_time": "2024-01-07T18:10:48.023Z"
   },
   {
    "duration": 90,
    "start_time": "2024-01-07T18:11:43.680Z"
   },
   {
    "duration": 23,
    "start_time": "2024-01-07T18:14:15.666Z"
   },
   {
    "duration": 24,
    "start_time": "2024-01-07T18:14:24.626Z"
   },
   {
    "duration": 29,
    "start_time": "2024-01-07T18:16:15.203Z"
   },
   {
    "duration": 12,
    "start_time": "2024-01-07T18:17:12.507Z"
   },
   {
    "duration": 396,
    "start_time": "2024-01-07T18:17:32.459Z"
   },
   {
    "duration": 385,
    "start_time": "2024-01-07T18:18:22.152Z"
   },
   {
    "duration": 26,
    "start_time": "2024-01-07T18:19:50.627Z"
   },
   {
    "duration": 425,
    "start_time": "2024-01-07T18:19:58.962Z"
   },
   {
    "duration": 26,
    "start_time": "2024-01-07T18:22:11.743Z"
   },
   {
    "duration": 523,
    "start_time": "2024-01-07T18:22:16.469Z"
   },
   {
    "duration": 9,
    "start_time": "2024-01-07T18:22:33.944Z"
   },
   {
    "duration": 14,
    "start_time": "2024-01-07T18:22:41.952Z"
   },
   {
    "duration": 15,
    "start_time": "2024-01-07T18:23:02.469Z"
   },
   {
    "duration": 8,
    "start_time": "2024-01-07T18:23:25.971Z"
   },
   {
    "duration": 15,
    "start_time": "2024-01-07T18:27:36.429Z"
   },
   {
    "duration": 66,
    "start_time": "2024-01-08T16:47:51.501Z"
   },
   {
    "duration": 1402,
    "start_time": "2024-01-08T16:47:56.000Z"
   },
   {
    "duration": 147,
    "start_time": "2024-01-08T16:47:57.405Z"
   },
   {
    "duration": 39,
    "start_time": "2024-01-08T16:47:57.554Z"
   },
   {
    "duration": 47,
    "start_time": "2024-01-08T16:47:57.595Z"
   },
   {
    "duration": 10,
    "start_time": "2024-01-08T16:47:57.645Z"
   },
   {
    "duration": 36,
    "start_time": "2024-01-08T16:47:57.657Z"
   },
   {
    "duration": 443,
    "start_time": "2024-01-08T16:47:57.695Z"
   },
   {
    "duration": 7,
    "start_time": "2024-01-08T16:47:58.140Z"
   },
   {
    "duration": 23,
    "start_time": "2024-01-08T16:47:58.149Z"
   },
   {
    "duration": 392,
    "start_time": "2024-01-08T16:47:58.174Z"
   },
   {
    "duration": 11,
    "start_time": "2024-01-08T16:47:58.568Z"
   },
   {
    "duration": 87,
    "start_time": "2024-01-08T16:47:59.893Z"
   },
   {
    "duration": 31,
    "start_time": "2024-01-08T16:51:56.238Z"
   },
   {
    "duration": 523,
    "start_time": "2024-01-08T16:52:01.134Z"
   },
   {
    "duration": 14,
    "start_time": "2024-01-08T16:53:24.110Z"
   },
   {
    "duration": 1402,
    "start_time": "2024-01-08T16:54:12.746Z"
   },
   {
    "duration": 1254,
    "start_time": "2024-01-08T16:54:49.413Z"
   },
   {
    "duration": 1699,
    "start_time": "2024-01-08T16:55:28.620Z"
   },
   {
    "duration": 31,
    "start_time": "2024-01-08T16:56:44.710Z"
   },
   {
    "duration": 358,
    "start_time": "2024-01-08T16:57:16.745Z"
   },
   {
    "duration": 17,
    "start_time": "2024-01-08T16:57:59.352Z"
   },
   {
    "duration": 384,
    "start_time": "2024-01-08T16:58:06.216Z"
   },
   {
    "duration": 28,
    "start_time": "2024-01-08T16:58:39.258Z"
   },
   {
    "duration": 19,
    "start_time": "2024-01-08T16:59:47.264Z"
   },
   {
    "duration": 486,
    "start_time": "2024-01-08T17:08:43.550Z"
   },
   {
    "duration": 16,
    "start_time": "2024-01-08T17:08:55.633Z"
   },
   {
    "duration": 37,
    "start_time": "2024-01-08T17:11:15.798Z"
   },
   {
    "duration": 554,
    "start_time": "2024-01-08T17:12:14.379Z"
   },
   {
    "duration": 1183,
    "start_time": "2024-01-08T17:15:34.269Z"
   },
   {
    "duration": 12,
    "start_time": "2024-01-08T17:15:43.286Z"
   },
   {
    "duration": 12,
    "start_time": "2024-01-08T17:16:22.367Z"
   },
   {
    "duration": 17,
    "start_time": "2024-01-08T17:16:47.964Z"
   },
   {
    "duration": 215,
    "start_time": "2024-01-08T17:16:56.084Z"
   },
   {
    "duration": 27,
    "start_time": "2024-01-08T17:17:33.409Z"
   },
   {
    "duration": 303,
    "start_time": "2024-01-08T17:17:37.039Z"
   },
   {
    "duration": 244,
    "start_time": "2024-01-08T17:19:39.066Z"
   },
   {
    "duration": 1297,
    "start_time": "2024-01-08T17:20:09.258Z"
   },
   {
    "duration": 6,
    "start_time": "2024-01-08T17:20:18.947Z"
   },
   {
    "duration": 7,
    "start_time": "2024-01-08T17:20:34.005Z"
   },
   {
    "duration": 8,
    "start_time": "2024-01-08T17:20:47.707Z"
   },
   {
    "duration": 284,
    "start_time": "2024-01-08T17:21:45.637Z"
   },
   {
    "duration": 16,
    "start_time": "2024-01-08T17:22:23.556Z"
   },
   {
    "duration": 8,
    "start_time": "2024-01-08T17:22:25.577Z"
   },
   {
    "duration": 4,
    "start_time": "2024-01-08T17:22:35.449Z"
   },
   {
    "duration": 3,
    "start_time": "2024-01-08T17:22:42.134Z"
   },
   {
    "duration": 81,
    "start_time": "2024-01-08T17:22:42.140Z"
   },
   {
    "duration": 32,
    "start_time": "2024-01-08T17:22:42.234Z"
   },
   {
    "duration": 24,
    "start_time": "2024-01-08T17:22:42.267Z"
   },
   {
    "duration": 9,
    "start_time": "2024-01-08T17:22:42.294Z"
   },
   {
    "duration": 37,
    "start_time": "2024-01-08T17:22:42.305Z"
   },
   {
    "duration": 460,
    "start_time": "2024-01-08T17:22:42.343Z"
   },
   {
    "duration": 7,
    "start_time": "2024-01-08T17:22:42.805Z"
   },
   {
    "duration": 33,
    "start_time": "2024-01-08T17:22:42.813Z"
   },
   {
    "duration": 355,
    "start_time": "2024-01-08T17:22:42.848Z"
   },
   {
    "duration": 48,
    "start_time": "2024-01-08T17:22:43.205Z"
   },
   {
    "duration": 17,
    "start_time": "2024-01-08T17:22:43.256Z"
   },
   {
    "duration": 371,
    "start_time": "2024-01-08T17:22:43.275Z"
   },
   {
    "duration": 515,
    "start_time": "2024-01-08T17:22:43.649Z"
   },
   {
    "duration": 15,
    "start_time": "2024-01-08T17:22:44.166Z"
   },
   {
    "duration": 8,
    "start_time": "2024-01-08T17:22:44.183Z"
   },
   {
    "duration": 43,
    "start_time": "2024-01-08T17:22:44.193Z"
   },
   {
    "duration": 261,
    "start_time": "2024-01-08T17:22:44.238Z"
   },
   {
    "duration": 300,
    "start_time": "2024-01-08T17:22:45.319Z"
   },
   {
    "duration": 6,
    "start_time": "2024-01-08T17:23:47.294Z"
   },
   {
    "duration": 6,
    "start_time": "2024-01-08T17:23:51.321Z"
   },
   {
    "duration": 20,
    "start_time": "2024-01-08T17:24:43.334Z"
   },
   {
    "duration": 8,
    "start_time": "2024-01-08T17:25:15.472Z"
   },
   {
    "duration": 10,
    "start_time": "2024-01-08T17:25:16.633Z"
   },
   {
    "duration": 3,
    "start_time": "2024-01-08T17:25:21.138Z"
   },
   {
    "duration": 115,
    "start_time": "2024-01-08T17:25:21.143Z"
   },
   {
    "duration": 33,
    "start_time": "2024-01-08T17:25:21.259Z"
   },
   {
    "duration": 48,
    "start_time": "2024-01-08T17:25:21.294Z"
   },
   {
    "duration": 10,
    "start_time": "2024-01-08T17:25:21.345Z"
   },
   {
    "duration": 17,
    "start_time": "2024-01-08T17:25:21.357Z"
   },
   {
    "duration": 461,
    "start_time": "2024-01-08T17:25:21.376Z"
   },
   {
    "duration": 9,
    "start_time": "2024-01-08T17:25:21.839Z"
   },
   {
    "duration": 19,
    "start_time": "2024-01-08T17:25:21.849Z"
   },
   {
    "duration": 381,
    "start_time": "2024-01-08T17:25:21.870Z"
   },
   {
    "duration": 30,
    "start_time": "2024-01-08T17:25:22.252Z"
   },
   {
    "duration": 53,
    "start_time": "2024-01-08T17:25:22.284Z"
   },
   {
    "duration": 437,
    "start_time": "2024-01-08T17:25:22.340Z"
   },
   {
    "duration": 561,
    "start_time": "2024-01-08T17:25:22.780Z"
   },
   {
    "duration": 22,
    "start_time": "2024-01-08T17:25:23.343Z"
   },
   {
    "duration": 10,
    "start_time": "2024-01-08T17:25:23.367Z"
   },
   {
    "duration": 14,
    "start_time": "2024-01-08T17:25:23.379Z"
   },
   {
    "duration": 285,
    "start_time": "2024-01-08T17:25:23.395Z"
   },
   {
    "duration": 4,
    "start_time": "2024-01-08T17:25:23.682Z"
   },
   {
    "duration": 5,
    "start_time": "2024-01-08T17:27:02.882Z"
   },
   {
    "duration": 80,
    "start_time": "2024-01-08T17:27:16.240Z"
   },
   {
    "duration": 4,
    "start_time": "2024-01-08T17:27:24.545Z"
   },
   {
    "duration": 16,
    "start_time": "2024-01-08T17:51:04.761Z"
   },
   {
    "duration": 28,
    "start_time": "2024-01-08T17:51:12.518Z"
   },
   {
    "duration": 16,
    "start_time": "2024-01-08T17:51:19.654Z"
   },
   {
    "duration": 174,
    "start_time": "2024-01-08T17:51:38.805Z"
   },
   {
    "duration": 225,
    "start_time": "2024-01-08T17:51:52.122Z"
   },
   {
    "duration": 65,
    "start_time": "2024-01-08T17:59:08.040Z"
   },
   {
    "duration": 12,
    "start_time": "2024-01-08T17:59:20.599Z"
   },
   {
    "duration": 12,
    "start_time": "2024-01-08T18:00:02.408Z"
   },
   {
    "duration": 18,
    "start_time": "2024-01-08T18:00:13.820Z"
   },
   {
    "duration": 27,
    "start_time": "2024-01-08T18:00:44.533Z"
   },
   {
    "duration": 389,
    "start_time": "2024-01-08T18:01:41.995Z"
   },
   {
    "duration": 893,
    "start_time": "2024-01-08T18:02:10.487Z"
   },
   {
    "duration": 957,
    "start_time": "2024-01-08T18:02:37.296Z"
   },
   {
    "duration": 865,
    "start_time": "2024-01-08T18:02:53.048Z"
   },
   {
    "duration": 387,
    "start_time": "2024-01-08T18:03:43.167Z"
   },
   {
    "duration": 330,
    "start_time": "2024-01-08T18:04:01.062Z"
   },
   {
    "duration": 1019,
    "start_time": "2024-01-08T18:11:30.190Z"
   },
   {
    "duration": 329,
    "start_time": "2024-01-08T18:13:40.447Z"
   },
   {
    "duration": 302,
    "start_time": "2024-01-08T18:14:01.154Z"
   },
   {
    "duration": 20,
    "start_time": "2024-01-08T18:16:33.244Z"
   },
   {
    "duration": 794,
    "start_time": "2024-01-08T18:16:35.593Z"
   },
   {
    "duration": 286,
    "start_time": "2024-01-08T18:16:38.833Z"
   },
   {
    "duration": 29,
    "start_time": "2024-01-08T18:17:00.374Z"
   },
   {
    "duration": 20,
    "start_time": "2024-01-08T18:17:14.188Z"
   },
   {
    "duration": 27,
    "start_time": "2024-01-08T18:18:38.207Z"
   },
   {
    "duration": 18,
    "start_time": "2024-01-08T18:19:03.642Z"
   },
   {
    "duration": 23,
    "start_time": "2024-01-08T18:19:12.445Z"
   },
   {
    "duration": 19,
    "start_time": "2024-01-08T18:19:20.472Z"
   },
   {
    "duration": 499,
    "start_time": "2024-01-08T18:20:30.209Z"
   },
   {
    "duration": 723,
    "start_time": "2024-01-08T18:20:41.591Z"
   },
   {
    "duration": 778,
    "start_time": "2024-01-08T18:20:52.116Z"
   },
   {
    "duration": 291,
    "start_time": "2024-01-08T18:21:10.203Z"
   },
   {
    "duration": 941,
    "start_time": "2024-01-08T18:21:15.051Z"
   },
   {
    "duration": 54,
    "start_time": "2024-01-08T18:25:00.063Z"
   },
   {
    "duration": 728,
    "start_time": "2024-01-08T18:25:04.871Z"
   },
   {
    "duration": 350,
    "start_time": "2024-01-08T18:25:11.533Z"
   },
   {
    "duration": 372,
    "start_time": "2024-01-08T18:25:24.808Z"
   },
   {
    "duration": 150,
    "start_time": "2024-01-08T18:25:39.274Z"
   },
   {
    "duration": 354,
    "start_time": "2024-01-08T18:25:50.509Z"
   },
   {
    "duration": 3910,
    "start_time": "2024-01-08T18:32:57.033Z"
   },
   {
    "duration": 3,
    "start_time": "2024-01-08T19:58:15.111Z"
   },
   {
    "duration": 79,
    "start_time": "2024-01-08T19:58:16.666Z"
   },
   {
    "duration": 27,
    "start_time": "2024-01-08T19:58:18.667Z"
   },
   {
    "duration": 12,
    "start_time": "2024-01-08T19:59:01.934Z"
   },
   {
    "duration": 9,
    "start_time": "2024-01-08T19:59:19.949Z"
   },
   {
    "duration": 1341,
    "start_time": "2024-01-09T06:28:09.819Z"
   },
   {
    "duration": 125,
    "start_time": "2024-01-09T06:28:11.162Z"
   },
   {
    "duration": 25,
    "start_time": "2024-01-09T06:28:11.289Z"
   },
   {
    "duration": 30,
    "start_time": "2024-01-09T06:28:11.316Z"
   },
   {
    "duration": 9,
    "start_time": "2024-01-09T06:28:11.349Z"
   },
   {
    "duration": 28,
    "start_time": "2024-01-09T06:28:11.359Z"
   },
   {
    "duration": 407,
    "start_time": "2024-01-09T06:28:11.388Z"
   },
   {
    "duration": 8,
    "start_time": "2024-01-09T06:28:11.797Z"
   },
   {
    "duration": 17,
    "start_time": "2024-01-09T06:28:11.806Z"
   },
   {
    "duration": 354,
    "start_time": "2024-01-09T06:28:11.825Z"
   },
   {
    "duration": 28,
    "start_time": "2024-01-09T06:28:12.180Z"
   },
   {
    "duration": 15,
    "start_time": "2024-01-09T06:28:12.209Z"
   },
   {
    "duration": 326,
    "start_time": "2024-01-09T06:28:12.225Z"
   },
   {
    "duration": 461,
    "start_time": "2024-01-09T06:28:12.553Z"
   },
   {
    "duration": 14,
    "start_time": "2024-01-09T06:28:13.016Z"
   },
   {
    "duration": 19,
    "start_time": "2024-01-09T06:28:13.032Z"
   },
   {
    "duration": 17,
    "start_time": "2024-01-09T06:28:13.052Z"
   },
   {
    "duration": 206,
    "start_time": "2024-01-09T06:28:13.071Z"
   },
   {
    "duration": 104,
    "start_time": "2024-01-09T06:28:13.517Z"
   },
   {
    "duration": 264,
    "start_time": "2024-01-09T06:31:15.274Z"
   },
   {
    "duration": 276,
    "start_time": "2024-01-09T06:31:26.188Z"
   },
   {
    "duration": 248,
    "start_time": "2024-01-09T06:56:32.614Z"
   },
   {
    "duration": 3,
    "start_time": "2024-01-09T06:56:35.942Z"
   },
   {
    "duration": 92,
    "start_time": "2024-01-09T06:56:35.947Z"
   },
   {
    "duration": 23,
    "start_time": "2024-01-09T06:56:36.040Z"
   },
   {
    "duration": 19,
    "start_time": "2024-01-09T06:56:36.065Z"
   },
   {
    "duration": 8,
    "start_time": "2024-01-09T06:56:36.085Z"
   },
   {
    "duration": 13,
    "start_time": "2024-01-09T06:56:36.094Z"
   },
   {
    "duration": 371,
    "start_time": "2024-01-09T06:56:36.109Z"
   },
   {
    "duration": 7,
    "start_time": "2024-01-09T06:56:36.481Z"
   },
   {
    "duration": 14,
    "start_time": "2024-01-09T06:56:36.490Z"
   },
   {
    "duration": 349,
    "start_time": "2024-01-09T06:56:36.506Z"
   },
   {
    "duration": 25,
    "start_time": "2024-01-09T06:56:36.856Z"
   },
   {
    "duration": 13,
    "start_time": "2024-01-09T06:56:36.882Z"
   },
   {
    "duration": 281,
    "start_time": "2024-01-09T06:56:36.896Z"
   },
   {
    "duration": 423,
    "start_time": "2024-01-09T06:56:37.179Z"
   },
   {
    "duration": 13,
    "start_time": "2024-01-09T06:56:37.603Z"
   },
   {
    "duration": 19,
    "start_time": "2024-01-09T06:56:37.617Z"
   },
   {
    "duration": 20,
    "start_time": "2024-01-09T06:56:37.638Z"
   },
   {
    "duration": 191,
    "start_time": "2024-01-09T06:56:37.660Z"
   },
   {
    "duration": 301,
    "start_time": "2024-01-09T06:56:41.025Z"
   },
   {
    "duration": 291,
    "start_time": "2024-01-09T06:56:53.651Z"
   },
   {
    "duration": 311,
    "start_time": "2024-01-09T07:11:23.080Z"
   },
   {
    "duration": 287,
    "start_time": "2024-01-09T07:11:39.559Z"
   },
   {
    "duration": 3,
    "start_time": "2024-01-10T08:20:30.840Z"
   },
   {
    "duration": 2,
    "start_time": "2024-01-10T08:21:11.045Z"
   },
   {
    "duration": 47,
    "start_time": "2024-01-10T08:24:30.672Z"
   },
   {
    "duration": 1335,
    "start_time": "2024-01-10T08:24:33.676Z"
   },
   {
    "duration": 126,
    "start_time": "2024-01-10T08:24:35.013Z"
   },
   {
    "duration": 50,
    "start_time": "2024-01-10T08:24:35.166Z"
   },
   {
    "duration": 29,
    "start_time": "2024-01-10T08:24:35.702Z"
   },
   {
    "duration": 14,
    "start_time": "2024-01-10T08:24:55.428Z"
   },
   {
    "duration": 14,
    "start_time": "2024-01-10T08:25:00.572Z"
   },
   {
    "duration": 6,
    "start_time": "2024-01-10T08:25:22.971Z"
   },
   {
    "duration": 66,
    "start_time": "2024-01-10T08:25:30.172Z"
   },
   {
    "duration": 3,
    "start_time": "2024-01-10T08:25:35.996Z"
   },
   {
    "duration": 90,
    "start_time": "2024-01-10T08:25:36.001Z"
   },
   {
    "duration": 25,
    "start_time": "2024-01-10T08:25:36.092Z"
   },
   {
    "duration": 30,
    "start_time": "2024-01-10T08:25:36.118Z"
   },
   {
    "duration": 8,
    "start_time": "2024-01-10T08:25:36.150Z"
   },
   {
    "duration": 18,
    "start_time": "2024-01-10T08:25:36.159Z"
   },
   {
    "duration": 367,
    "start_time": "2024-01-10T08:25:36.179Z"
   },
   {
    "duration": 5,
    "start_time": "2024-01-10T08:25:36.547Z"
   },
   {
    "duration": 25,
    "start_time": "2024-01-10T08:25:36.553Z"
   },
   {
    "duration": 298,
    "start_time": "2024-01-10T08:25:36.579Z"
   },
   {
    "duration": 33,
    "start_time": "2024-01-10T08:25:36.879Z"
   },
   {
    "duration": 14,
    "start_time": "2024-01-10T08:25:36.913Z"
   },
   {
    "duration": 276,
    "start_time": "2024-01-10T08:25:36.928Z"
   },
   {
    "duration": 446,
    "start_time": "2024-01-10T08:25:37.206Z"
   },
   {
    "duration": 13,
    "start_time": "2024-01-10T08:25:37.653Z"
   },
   {
    "duration": 7,
    "start_time": "2024-01-10T08:25:37.667Z"
   },
   {
    "duration": 10,
    "start_time": "2024-01-10T08:25:37.688Z"
   },
   {
    "duration": 176,
    "start_time": "2024-01-10T08:25:38.010Z"
   },
   {
    "duration": 112,
    "start_time": "2024-01-10T08:26:43.864Z"
   },
   {
    "duration": 75,
    "start_time": "2024-01-10T08:26:51.139Z"
   },
   {
    "duration": 83,
    "start_time": "2024-01-10T08:27:09.366Z"
   },
   {
    "duration": 15,
    "start_time": "2024-01-10T08:27:14.974Z"
   },
   {
    "duration": 1304,
    "start_time": "2024-01-10T08:27:54.360Z"
   },
   {
    "duration": 1298,
    "start_time": "2024-01-10T08:28:08.177Z"
   },
   {
    "duration": 10,
    "start_time": "2024-01-10T08:36:40.868Z"
   },
   {
    "duration": 10,
    "start_time": "2024-01-10T08:39:32.220Z"
   },
   {
    "duration": 163,
    "start_time": "2024-01-10T08:39:43.012Z"
   },
   {
    "duration": 15,
    "start_time": "2024-01-10T08:42:12.949Z"
   },
   {
    "duration": 367,
    "start_time": "2024-01-10T08:42:29.302Z"
   },
   {
    "duration": 290,
    "start_time": "2024-01-10T08:43:59.690Z"
   },
   {
    "duration": 20,
    "start_time": "2024-01-10T08:44:39.675Z"
   },
   {
    "duration": 19,
    "start_time": "2024-01-10T08:45:40.048Z"
   },
   {
    "duration": 328,
    "start_time": "2024-01-10T08:45:49.494Z"
   },
   {
    "duration": 305,
    "start_time": "2024-01-10T08:46:51.609Z"
   },
   {
    "duration": 298,
    "start_time": "2024-01-10T08:47:21.898Z"
   },
   {
    "duration": 310,
    "start_time": "2024-01-10T08:47:52.339Z"
   },
   {
    "duration": 318,
    "start_time": "2024-01-10T08:49:16.221Z"
   },
   {
    "duration": 316,
    "start_time": "2024-01-10T08:50:15.303Z"
   },
   {
    "duration": 321,
    "start_time": "2024-01-10T08:51:18.379Z"
   },
   {
    "duration": 316,
    "start_time": "2024-01-10T08:53:16.618Z"
   },
   {
    "duration": 302,
    "start_time": "2024-01-10T08:54:49.475Z"
   },
   {
    "duration": 314,
    "start_time": "2024-01-10T08:56:39.329Z"
   },
   {
    "duration": 395,
    "start_time": "2024-01-10T08:57:47.476Z"
   },
   {
    "duration": 301,
    "start_time": "2024-01-10T08:58:44.652Z"
   },
   {
    "duration": 3,
    "start_time": "2024-01-10T08:59:08.765Z"
   },
   {
    "duration": 82,
    "start_time": "2024-01-10T08:59:08.770Z"
   },
   {
    "duration": 25,
    "start_time": "2024-01-10T08:59:08.854Z"
   },
   {
    "duration": 51,
    "start_time": "2024-01-10T08:59:08.881Z"
   },
   {
    "duration": 12,
    "start_time": "2024-01-10T08:59:08.934Z"
   },
   {
    "duration": 16,
    "start_time": "2024-01-10T08:59:08.948Z"
   },
   {
    "duration": 373,
    "start_time": "2024-01-10T08:59:08.966Z"
   },
   {
    "duration": 11,
    "start_time": "2024-01-10T08:59:09.340Z"
   },
   {
    "duration": 16,
    "start_time": "2024-01-10T08:59:09.352Z"
   },
   {
    "duration": 385,
    "start_time": "2024-01-10T08:59:09.371Z"
   },
   {
    "duration": 25,
    "start_time": "2024-01-10T08:59:09.758Z"
   },
   {
    "duration": 29,
    "start_time": "2024-01-10T08:59:09.784Z"
   },
   {
    "duration": 314,
    "start_time": "2024-01-10T08:59:09.815Z"
   },
   {
    "duration": 454,
    "start_time": "2024-01-10T08:59:10.131Z"
   },
   {
    "duration": 13,
    "start_time": "2024-01-10T08:59:10.587Z"
   },
   {
    "duration": 8,
    "start_time": "2024-01-10T08:59:10.611Z"
   },
   {
    "duration": 25,
    "start_time": "2024-01-10T08:59:10.620Z"
   },
   {
    "duration": 194,
    "start_time": "2024-01-10T08:59:10.646Z"
   },
   {
    "duration": 284,
    "start_time": "2024-01-10T08:59:10.841Z"
   },
   {
    "duration": 305,
    "start_time": "2024-01-10T08:59:11.126Z"
   },
   {
    "duration": 411,
    "start_time": "2024-01-10T08:59:11.433Z"
   },
   {
    "duration": 342,
    "start_time": "2024-01-10T08:59:11.846Z"
   },
   {
    "duration": 341,
    "start_time": "2024-01-10T08:59:12.190Z"
   },
   {
    "duration": 342,
    "start_time": "2024-01-10T08:59:12.533Z"
   },
   {
    "duration": 304,
    "start_time": "2024-01-10T08:59:12.876Z"
   },
   {
    "duration": 330,
    "start_time": "2024-01-10T08:59:13.182Z"
   },
   {
    "duration": 330,
    "start_time": "2024-01-10T08:59:13.514Z"
   },
   {
    "duration": 333,
    "start_time": "2024-01-10T08:59:13.849Z"
   },
   {
    "duration": 14,
    "start_time": "2024-01-10T08:59:14.184Z"
   },
   {
    "duration": 207,
    "start_time": "2024-01-10T08:59:14.211Z"
   },
   {
    "duration": 16,
    "start_time": "2024-01-10T08:59:14.420Z"
   },
   {
    "duration": 0,
    "start_time": "2024-01-10T08:59:14.437Z"
   },
   {
    "duration": 0,
    "start_time": "2024-01-10T08:59:14.438Z"
   },
   {
    "duration": 0,
    "start_time": "2024-01-10T08:59:14.439Z"
   },
   {
    "duration": 0,
    "start_time": "2024-01-10T08:59:14.440Z"
   },
   {
    "duration": 0,
    "start_time": "2024-01-10T08:59:14.441Z"
   },
   {
    "duration": 0,
    "start_time": "2024-01-10T08:59:14.442Z"
   },
   {
    "duration": 8,
    "start_time": "2024-01-10T08:59:15.827Z"
   },
   {
    "duration": 18,
    "start_time": "2024-01-10T09:00:59.654Z"
   },
   {
    "duration": 16,
    "start_time": "2024-01-10T09:01:18.364Z"
   },
   {
    "duration": 846,
    "start_time": "2024-01-10T09:01:22.440Z"
   },
   {
    "duration": 244,
    "start_time": "2024-01-10T09:01:26.637Z"
   },
   {
    "duration": 16,
    "start_time": "2024-01-10T09:01:44.852Z"
   },
   {
    "duration": 738,
    "start_time": "2024-01-10T09:01:48.704Z"
   },
   {
    "duration": 329,
    "start_time": "2024-01-10T09:01:51.827Z"
   },
   {
    "duration": 3084,
    "start_time": "2024-01-10T09:01:55.536Z"
   },
   {
    "duration": 9,
    "start_time": "2024-01-10T09:05:59.149Z"
   },
   {
    "duration": 10,
    "start_time": "2024-01-10T09:06:01.503Z"
   },
   {
    "duration": 4,
    "start_time": "2024-01-10T09:06:14.296Z"
   },
   {
    "duration": 78,
    "start_time": "2024-01-10T09:06:14.302Z"
   },
   {
    "duration": 27,
    "start_time": "2024-01-10T09:06:14.382Z"
   },
   {
    "duration": 30,
    "start_time": "2024-01-10T09:06:14.411Z"
   },
   {
    "duration": 9,
    "start_time": "2024-01-10T09:06:14.444Z"
   },
   {
    "duration": 16,
    "start_time": "2024-01-10T09:06:14.454Z"
   },
   {
    "duration": 369,
    "start_time": "2024-01-10T09:06:14.472Z"
   },
   {
    "duration": 10,
    "start_time": "2024-01-10T09:06:14.842Z"
   },
   {
    "duration": 18,
    "start_time": "2024-01-10T09:06:14.854Z"
   },
   {
    "duration": 490,
    "start_time": "2024-01-10T09:06:14.873Z"
   },
   {
    "duration": 25,
    "start_time": "2024-01-10T09:06:15.365Z"
   },
   {
    "duration": 29,
    "start_time": "2024-01-10T09:06:15.392Z"
   },
   {
    "duration": 335,
    "start_time": "2024-01-10T09:06:15.422Z"
   },
   {
    "duration": 463,
    "start_time": "2024-01-10T09:06:15.759Z"
   },
   {
    "duration": 14,
    "start_time": "2024-01-10T09:06:16.224Z"
   },
   {
    "duration": 7,
    "start_time": "2024-01-10T09:06:16.240Z"
   },
   {
    "duration": 17,
    "start_time": "2024-01-10T09:06:16.248Z"
   },
   {
    "duration": 216,
    "start_time": "2024-01-10T09:06:16.267Z"
   },
   {
    "duration": 300,
    "start_time": "2024-01-10T09:06:16.485Z"
   },
   {
    "duration": 325,
    "start_time": "2024-01-10T09:06:16.787Z"
   },
   {
    "duration": 368,
    "start_time": "2024-01-10T09:06:17.114Z"
   },
   {
    "duration": 337,
    "start_time": "2024-01-10T09:06:17.484Z"
   },
   {
    "duration": 356,
    "start_time": "2024-01-10T09:06:17.823Z"
   },
   {
    "duration": 352,
    "start_time": "2024-01-10T09:06:18.181Z"
   },
   {
    "duration": 363,
    "start_time": "2024-01-10T09:06:18.535Z"
   },
   {
    "duration": 345,
    "start_time": "2024-01-10T09:06:18.900Z"
   },
   {
    "duration": 321,
    "start_time": "2024-01-10T09:06:19.247Z"
   },
   {
    "duration": 383,
    "start_time": "2024-01-10T09:06:19.570Z"
   },
   {
    "duration": 17,
    "start_time": "2024-01-10T09:06:19.955Z"
   },
   {
    "duration": 348,
    "start_time": "2024-01-10T09:06:19.974Z"
   },
   {
    "duration": 17,
    "start_time": "2024-01-10T09:06:20.324Z"
   },
   {
    "duration": 793,
    "start_time": "2024-01-10T09:06:20.342Z"
   },
   {
    "duration": 266,
    "start_time": "2024-01-10T09:06:21.136Z"
   },
   {
    "duration": 19,
    "start_time": "2024-01-10T09:06:21.403Z"
   },
   {
    "duration": 875,
    "start_time": "2024-01-10T09:06:21.423Z"
   },
   {
    "duration": 339,
    "start_time": "2024-01-10T09:06:22.310Z"
   },
   {
    "duration": 3318,
    "start_time": "2024-01-10T09:06:22.651Z"
   },
   {
    "duration": 10,
    "start_time": "2024-01-10T09:06:25.972Z"
   },
   {
    "duration": 1339,
    "start_time": "2024-01-11T09:24:20.174Z"
   },
   {
    "duration": 216,
    "start_time": "2024-01-11T09:24:21.515Z"
   },
   {
    "duration": 29,
    "start_time": "2024-01-11T09:24:21.732Z"
   },
   {
    "duration": 40,
    "start_time": "2024-01-11T09:24:21.764Z"
   },
   {
    "duration": 8,
    "start_time": "2024-01-11T09:24:21.805Z"
   },
   {
    "duration": 19,
    "start_time": "2024-01-11T09:24:21.814Z"
   },
   {
    "duration": 359,
    "start_time": "2024-01-11T09:24:21.835Z"
   },
   {
    "duration": 21,
    "start_time": "2024-01-11T09:24:22.195Z"
   },
   {
    "duration": 27,
    "start_time": "2024-01-11T09:24:22.218Z"
   },
   {
    "duration": 338,
    "start_time": "2024-01-11T09:24:22.249Z"
   },
   {
    "duration": 33,
    "start_time": "2024-01-11T09:24:22.588Z"
   },
   {
    "duration": 14,
    "start_time": "2024-01-11T09:24:22.622Z"
   },
   {
    "duration": 299,
    "start_time": "2024-01-11T09:24:22.637Z"
   },
   {
    "duration": 423,
    "start_time": "2024-01-11T09:24:22.938Z"
   },
   {
    "duration": 13,
    "start_time": "2024-01-11T09:24:23.362Z"
   },
   {
    "duration": 20,
    "start_time": "2024-01-11T09:24:23.376Z"
   },
   {
    "duration": 38,
    "start_time": "2024-01-11T09:24:23.397Z"
   },
   {
    "duration": 199,
    "start_time": "2024-01-11T09:24:23.436Z"
   },
   {
    "duration": 347,
    "start_time": "2024-01-11T09:24:23.636Z"
   },
   {
    "duration": 308,
    "start_time": "2024-01-11T09:24:23.985Z"
   },
   {
    "duration": 320,
    "start_time": "2024-01-11T09:24:24.294Z"
   },
   {
    "duration": 324,
    "start_time": "2024-01-11T09:24:24.616Z"
   },
   {
    "duration": 315,
    "start_time": "2024-01-11T09:24:24.942Z"
   },
   {
    "duration": 331,
    "start_time": "2024-01-11T09:24:25.259Z"
   },
   {
    "duration": 278,
    "start_time": "2024-01-11T09:24:25.592Z"
   },
   {
    "duration": 316,
    "start_time": "2024-01-11T09:24:25.872Z"
   },
   {
    "duration": 293,
    "start_time": "2024-01-11T09:24:26.190Z"
   },
   {
    "duration": 304,
    "start_time": "2024-01-11T09:24:26.487Z"
   },
   {
    "duration": 18,
    "start_time": "2024-01-11T09:24:26.798Z"
   },
   {
    "duration": 208,
    "start_time": "2024-01-11T09:24:26.817Z"
   },
   {
    "duration": 16,
    "start_time": "2024-01-11T09:24:27.026Z"
   },
   {
    "duration": 881,
    "start_time": "2024-01-11T09:24:27.043Z"
   },
   {
    "duration": 244,
    "start_time": "2024-01-11T09:24:27.926Z"
   },
   {
    "duration": 27,
    "start_time": "2024-01-11T09:24:28.172Z"
   },
   {
    "duration": 744,
    "start_time": "2024-01-11T09:24:28.201Z"
   },
   {
    "duration": 315,
    "start_time": "2024-01-11T09:24:28.946Z"
   },
   {
    "duration": 3265,
    "start_time": "2024-01-11T09:24:29.262Z"
   },
   {
    "duration": 10,
    "start_time": "2024-01-11T09:24:37.093Z"
   },
   {
    "duration": 1480,
    "start_time": "2024-01-11T09:26:07.581Z"
   },
   {
    "duration": 6,
    "start_time": "2024-01-11T09:26:16.123Z"
   },
   {
    "duration": 10,
    "start_time": "2024-01-11T09:26:56.059Z"
   },
   {
    "duration": 10,
    "start_time": "2024-01-11T09:26:58.688Z"
   },
   {
    "duration": 12,
    "start_time": "2024-01-11T09:28:52.348Z"
   },
   {
    "duration": 13,
    "start_time": "2024-01-11T09:31:03.289Z"
   },
   {
    "duration": 11,
    "start_time": "2024-01-11T09:32:43.702Z"
   },
   {
    "duration": 11,
    "start_time": "2024-01-11T09:32:58.179Z"
   },
   {
    "duration": 14,
    "start_time": "2024-01-11T09:34:14.537Z"
   },
   {
    "duration": 18,
    "start_time": "2024-01-11T09:34:39.298Z"
   },
   {
    "duration": 4,
    "start_time": "2024-01-11T09:55:26.975Z"
   },
   {
    "duration": 21,
    "start_time": "2024-01-11T10:01:09.265Z"
   },
   {
    "duration": 490,
    "start_time": "2024-01-11T10:03:42.155Z"
   },
   {
    "duration": 91,
    "start_time": "2024-01-11T10:04:37.273Z"
   },
   {
    "duration": 26,
    "start_time": "2024-01-11T10:05:36.094Z"
   },
   {
    "duration": 335,
    "start_time": "2024-01-11T10:29:21.254Z"
   },
   {
    "duration": 332,
    "start_time": "2024-01-11T10:29:40.528Z"
   },
   {
    "duration": 320,
    "start_time": "2024-01-11T10:31:26.804Z"
   },
   {
    "duration": 63,
    "start_time": "2024-01-11T10:38:47.373Z"
   },
   {
    "duration": 76,
    "start_time": "2024-01-11T10:51:53.086Z"
   },
   {
    "duration": 3401,
    "start_time": "2024-01-11T11:04:27.283Z"
   },
   {
    "duration": 16,
    "start_time": "2024-01-11T11:12:41.618Z"
   },
   {
    "duration": 16,
    "start_time": "2024-01-11T11:14:27.900Z"
   },
   {
    "duration": 1300,
    "start_time": "2024-01-11T14:19:35.424Z"
   },
   {
    "duration": 121,
    "start_time": "2024-01-11T14:19:36.726Z"
   },
   {
    "duration": 24,
    "start_time": "2024-01-11T14:19:36.848Z"
   },
   {
    "duration": 29,
    "start_time": "2024-01-11T14:19:36.873Z"
   },
   {
    "duration": 13,
    "start_time": "2024-01-11T14:19:36.904Z"
   },
   {
    "duration": 17,
    "start_time": "2024-01-11T14:19:36.919Z"
   },
   {
    "duration": 4,
    "start_time": "2024-01-11T14:19:36.937Z"
   },
   {
    "duration": 13,
    "start_time": "2024-01-11T14:19:36.942Z"
   },
   {
    "duration": 15,
    "start_time": "2024-01-11T14:19:36.956Z"
   },
   {
    "duration": 354,
    "start_time": "2024-01-11T14:19:36.974Z"
   },
   {
    "duration": 20,
    "start_time": "2024-01-11T14:19:37.330Z"
   },
   {
    "duration": 294,
    "start_time": "2024-01-11T14:19:37.351Z"
   },
   {
    "duration": 449,
    "start_time": "2024-01-11T14:19:37.647Z"
   },
   {
    "duration": 14,
    "start_time": "2024-01-11T14:19:38.099Z"
   },
   {
    "duration": 7,
    "start_time": "2024-01-11T14:19:38.115Z"
   },
   {
    "duration": 15,
    "start_time": "2024-01-11T14:19:38.123Z"
   },
   {
    "duration": 212,
    "start_time": "2024-01-11T14:19:38.140Z"
   },
   {
    "duration": 318,
    "start_time": "2024-01-11T14:19:38.354Z"
   },
   {
    "duration": 396,
    "start_time": "2024-01-11T14:19:38.674Z"
   },
   {
    "duration": 356,
    "start_time": "2024-01-11T14:19:39.072Z"
   },
   {
    "duration": 351,
    "start_time": "2024-01-11T14:19:39.430Z"
   },
   {
    "duration": 334,
    "start_time": "2024-01-11T14:19:39.783Z"
   },
   {
    "duration": 321,
    "start_time": "2024-01-11T14:19:40.118Z"
   },
   {
    "duration": 317,
    "start_time": "2024-01-11T14:19:40.441Z"
   },
   {
    "duration": 338,
    "start_time": "2024-01-11T14:19:40.760Z"
   },
   {
    "duration": 332,
    "start_time": "2024-01-11T14:19:41.099Z"
   },
   {
    "duration": 342,
    "start_time": "2024-01-11T14:19:41.432Z"
   },
   {
    "duration": 15,
    "start_time": "2024-01-11T14:19:41.776Z"
   },
   {
    "duration": 237,
    "start_time": "2024-01-11T14:19:41.793Z"
   },
   {
    "duration": 18,
    "start_time": "2024-01-11T14:19:42.032Z"
   },
   {
    "duration": 860,
    "start_time": "2024-01-11T14:19:42.051Z"
   },
   {
    "duration": 259,
    "start_time": "2024-01-11T14:19:42.912Z"
   },
   {
    "duration": 20,
    "start_time": "2024-01-11T14:19:43.173Z"
   },
   {
    "duration": 762,
    "start_time": "2024-01-11T14:19:43.195Z"
   },
   {
    "duration": 319,
    "start_time": "2024-01-11T14:19:43.959Z"
   },
   {
    "duration": 3184,
    "start_time": "2024-01-11T14:19:44.279Z"
   },
   {
    "duration": 12,
    "start_time": "2024-01-11T14:19:47.465Z"
   },
   {
    "duration": 113,
    "start_time": "2024-01-11T14:19:47.478Z"
   },
   {
    "duration": 1080,
    "start_time": "2024-01-11T14:37:43.628Z"
   },
   {
    "duration": 78,
    "start_time": "2024-01-11T14:37:44.710Z"
   },
   {
    "duration": 23,
    "start_time": "2024-01-11T14:37:44.790Z"
   },
   {
    "duration": 29,
    "start_time": "2024-01-11T14:37:44.815Z"
   },
   {
    "duration": 8,
    "start_time": "2024-01-11T14:37:44.845Z"
   },
   {
    "duration": 24,
    "start_time": "2024-01-11T14:37:44.855Z"
   },
   {
    "duration": 4,
    "start_time": "2024-01-11T14:37:44.880Z"
   },
   {
    "duration": 30,
    "start_time": "2024-01-11T14:37:44.885Z"
   },
   {
    "duration": 16,
    "start_time": "2024-01-11T14:37:44.916Z"
   },
   {
    "duration": 324,
    "start_time": "2024-01-11T14:37:44.934Z"
   },
   {
    "duration": 19,
    "start_time": "2024-01-11T14:37:45.259Z"
   },
   {
    "duration": 287,
    "start_time": "2024-01-11T14:37:45.280Z"
   },
   {
    "duration": 452,
    "start_time": "2024-01-11T14:37:45.568Z"
   },
   {
    "duration": 14,
    "start_time": "2024-01-11T14:37:46.021Z"
   },
   {
    "duration": 6,
    "start_time": "2024-01-11T14:37:46.037Z"
   },
   {
    "duration": 9,
    "start_time": "2024-01-11T14:37:46.045Z"
   },
   {
    "duration": 185,
    "start_time": "2024-01-11T14:37:46.055Z"
   },
   {
    "duration": 293,
    "start_time": "2024-01-11T14:37:46.242Z"
   },
   {
    "duration": 384,
    "start_time": "2024-01-11T14:37:46.537Z"
   },
   {
    "duration": 350,
    "start_time": "2024-01-11T14:37:46.923Z"
   },
   {
    "duration": 338,
    "start_time": "2024-01-11T14:37:47.275Z"
   },
   {
    "duration": 324,
    "start_time": "2024-01-11T14:37:47.615Z"
   },
   {
    "duration": 334,
    "start_time": "2024-01-11T14:37:47.941Z"
   },
   {
    "duration": 325,
    "start_time": "2024-01-11T14:37:48.277Z"
   },
   {
    "duration": 328,
    "start_time": "2024-01-11T14:37:48.604Z"
   },
   {
    "duration": 313,
    "start_time": "2024-01-11T14:37:48.935Z"
   },
   {
    "duration": 331,
    "start_time": "2024-01-11T14:37:49.250Z"
   },
   {
    "duration": 15,
    "start_time": "2024-01-11T14:37:49.584Z"
   },
   {
    "duration": 215,
    "start_time": "2024-01-11T14:37:49.611Z"
   },
   {
    "duration": 16,
    "start_time": "2024-01-11T14:37:49.827Z"
   },
   {
    "duration": 906,
    "start_time": "2024-01-11T14:37:49.844Z"
   },
   {
    "duration": 276,
    "start_time": "2024-01-11T14:37:50.751Z"
   },
   {
    "duration": 18,
    "start_time": "2024-01-11T14:37:51.029Z"
   },
   {
    "duration": 762,
    "start_time": "2024-01-11T14:37:51.049Z"
   },
   {
    "duration": 349,
    "start_time": "2024-01-11T14:37:51.812Z"
   },
   {
    "duration": 3140,
    "start_time": "2024-01-11T14:37:52.163Z"
   },
   {
    "duration": 15,
    "start_time": "2024-01-11T14:37:55.304Z"
   },
   {
    "duration": 108,
    "start_time": "2024-01-11T14:37:55.320Z"
   },
   {
    "duration": 50,
    "start_time": "2024-01-12T04:42:00.510Z"
   },
   {
    "duration": 1376,
    "start_time": "2024-01-12T04:42:04.189Z"
   },
   {
    "duration": 124,
    "start_time": "2024-01-12T04:42:05.567Z"
   },
   {
    "duration": 24,
    "start_time": "2024-01-12T04:42:05.692Z"
   },
   {
    "duration": 32,
    "start_time": "2024-01-12T04:42:05.718Z"
   },
   {
    "duration": 9,
    "start_time": "2024-01-12T04:42:05.751Z"
   },
   {
    "duration": 17,
    "start_time": "2024-01-12T04:42:05.762Z"
   },
   {
    "duration": 6,
    "start_time": "2024-01-12T04:42:05.781Z"
   },
   {
    "duration": 33,
    "start_time": "2024-01-12T04:42:05.789Z"
   },
   {
    "duration": 17,
    "start_time": "2024-01-12T04:42:05.824Z"
   },
   {
    "duration": 345,
    "start_time": "2024-01-12T04:42:06.924Z"
   },
   {
    "duration": 73,
    "start_time": "2024-01-12T04:46:29.444Z"
   },
   {
    "duration": 3,
    "start_time": "2024-01-12T04:46:34.531Z"
   },
   {
    "duration": 93,
    "start_time": "2024-01-12T04:46:34.537Z"
   },
   {
    "duration": 28,
    "start_time": "2024-01-12T04:46:34.632Z"
   },
   {
    "duration": 32,
    "start_time": "2024-01-12T04:46:34.662Z"
   },
   {
    "duration": 28,
    "start_time": "2024-01-12T04:46:34.697Z"
   },
   {
    "duration": 14,
    "start_time": "2024-01-12T04:46:34.727Z"
   },
   {
    "duration": 3,
    "start_time": "2024-01-12T04:46:34.743Z"
   },
   {
    "duration": 11,
    "start_time": "2024-01-12T04:46:34.747Z"
   },
   {
    "duration": 17,
    "start_time": "2024-01-12T04:46:34.759Z"
   },
   {
    "duration": 370,
    "start_time": "2024-01-12T04:46:34.778Z"
   },
   {
    "duration": 20,
    "start_time": "2024-01-12T04:46:35.150Z"
   },
   {
    "duration": 329,
    "start_time": "2024-01-12T04:46:35.171Z"
   },
   {
    "duration": 563,
    "start_time": "2024-01-12T04:46:35.502Z"
   },
   {
    "duration": 15,
    "start_time": "2024-01-12T04:46:36.067Z"
   },
   {
    "duration": 8,
    "start_time": "2024-01-12T04:46:36.084Z"
   },
   {
    "duration": 10,
    "start_time": "2024-01-12T04:46:36.093Z"
   },
   {
    "duration": 188,
    "start_time": "2024-01-12T04:46:37.190Z"
   },
   {
    "duration": 7,
    "start_time": "2024-01-12T04:52:06.219Z"
   },
   {
    "duration": 16,
    "start_time": "2024-01-12T04:52:17.833Z"
   },
   {
    "duration": 14,
    "start_time": "2024-01-12T04:52:31.260Z"
   },
   {
    "duration": 13,
    "start_time": "2024-01-12T04:53:19.778Z"
   },
   {
    "duration": 16,
    "start_time": "2024-01-12T04:53:24.679Z"
   },
   {
    "duration": 3,
    "start_time": "2024-01-12T04:53:29.575Z"
   },
   {
    "duration": 79,
    "start_time": "2024-01-12T04:53:32.099Z"
   },
   {
    "duration": 28,
    "start_time": "2024-01-12T04:53:37.022Z"
   },
   {
    "duration": 35,
    "start_time": "2024-01-12T04:53:40.699Z"
   },
   {
    "duration": 9,
    "start_time": "2024-01-12T04:53:44.152Z"
   },
   {
    "duration": 16,
    "start_time": "2024-01-12T04:53:47.277Z"
   },
   {
    "duration": 19,
    "start_time": "2024-01-12T04:53:50.820Z"
   },
   {
    "duration": 10,
    "start_time": "2024-01-12T04:56:39.177Z"
   },
   {
    "duration": 27,
    "start_time": "2024-01-12T04:57:02.229Z"
   },
   {
    "duration": 27,
    "start_time": "2024-01-12T05:05:59.954Z"
   },
   {
    "duration": 27,
    "start_time": "2024-01-12T05:08:25.786Z"
   },
   {
    "duration": 10,
    "start_time": "2024-01-12T05:10:09.060Z"
   },
   {
    "duration": 17,
    "start_time": "2024-01-12T05:12:21.406Z"
   },
   {
    "duration": 8,
    "start_time": "2024-01-12T05:12:26.273Z"
   },
   {
    "duration": 17,
    "start_time": "2024-01-12T05:13:26.568Z"
   },
   {
    "duration": 3,
    "start_time": "2024-01-12T05:13:35.190Z"
   },
   {
    "duration": 94,
    "start_time": "2024-01-12T05:13:35.195Z"
   },
   {
    "duration": 26,
    "start_time": "2024-01-12T05:13:35.290Z"
   },
   {
    "duration": 42,
    "start_time": "2024-01-12T05:13:35.318Z"
   },
   {
    "duration": 9,
    "start_time": "2024-01-12T05:13:35.362Z"
   },
   {
    "duration": 21,
    "start_time": "2024-01-12T05:13:35.373Z"
   },
   {
    "duration": 17,
    "start_time": "2024-01-12T05:13:35.395Z"
   },
   {
    "duration": 20,
    "start_time": "2024-01-12T05:13:35.422Z"
   },
   {
    "duration": 26,
    "start_time": "2024-01-12T05:13:35.444Z"
   },
   {
    "duration": 11,
    "start_time": "2024-01-12T05:13:35.472Z"
   },
   {
    "duration": 38,
    "start_time": "2024-01-12T05:13:35.485Z"
   },
   {
    "duration": 349,
    "start_time": "2024-01-12T05:13:35.525Z"
   },
   {
    "duration": 15,
    "start_time": "2024-01-12T05:13:35.876Z"
   },
   {
    "duration": 13,
    "start_time": "2024-01-12T05:13:35.894Z"
   },
   {
    "duration": 19,
    "start_time": "2024-01-12T05:13:42.608Z"
   },
   {
    "duration": 337,
    "start_time": "2024-01-12T05:13:54.994Z"
   },
   {
    "duration": 12,
    "start_time": "2024-01-12T05:28:40.253Z"
   },
   {
    "duration": 9,
    "start_time": "2024-01-12T05:28:48.565Z"
   },
   {
    "duration": 194,
    "start_time": "2024-01-12T05:29:18.843Z"
   },
   {
    "duration": 12,
    "start_time": "2024-01-12T05:36:15.125Z"
   },
   {
    "duration": 257,
    "start_time": "2024-01-12T05:36:30.243Z"
   },
   {
    "duration": 3,
    "start_time": "2024-01-12T05:36:57.946Z"
   },
   {
    "duration": 161,
    "start_time": "2024-01-12T05:41:06.006Z"
   },
   {
    "duration": 787,
    "start_time": "2024-01-12T05:41:13.461Z"
   },
   {
    "duration": 833,
    "start_time": "2024-01-12T05:42:02.910Z"
   },
   {
    "duration": 681,
    "start_time": "2024-01-12T05:42:16.067Z"
   },
   {
    "duration": 635,
    "start_time": "2024-01-12T05:43:41.930Z"
   },
   {
    "duration": 608,
    "start_time": "2024-01-12T05:43:50.564Z"
   },
   {
    "duration": 572,
    "start_time": "2024-01-12T05:43:58.289Z"
   },
   {
    "duration": 658,
    "start_time": "2024-01-12T05:44:05.120Z"
   },
   {
    "duration": 668,
    "start_time": "2024-01-12T05:44:14.694Z"
   },
   {
    "duration": 570,
    "start_time": "2024-01-12T05:46:48.349Z"
   },
   {
    "duration": 3,
    "start_time": "2024-01-12T05:48:19.206Z"
   },
   {
    "duration": 18,
    "start_time": "2024-01-12T05:48:35.953Z"
   },
   {
    "duration": 2,
    "start_time": "2024-01-12T05:49:36.669Z"
   },
   {
    "duration": 3,
    "start_time": "2024-01-12T05:50:08.259Z"
   },
   {
    "duration": 149,
    "start_time": "2024-01-12T05:51:45.030Z"
   },
   {
    "duration": 714,
    "start_time": "2024-01-12T05:51:51.420Z"
   },
   {
    "duration": 663,
    "start_time": "2024-01-12T05:52:07.807Z"
   },
   {
    "duration": 2,
    "start_time": "2024-01-12T05:52:30.184Z"
   },
   {
    "duration": 716,
    "start_time": "2024-01-12T05:53:12.892Z"
   },
   {
    "duration": 624,
    "start_time": "2024-01-12T05:53:35.776Z"
   },
   {
    "duration": 13,
    "start_time": "2024-01-12T05:56:21.333Z"
   },
   {
    "duration": 3,
    "start_time": "2024-01-12T05:56:27.632Z"
   },
   {
    "duration": 81,
    "start_time": "2024-01-12T05:56:27.641Z"
   },
   {
    "duration": 30,
    "start_time": "2024-01-12T05:56:27.725Z"
   },
   {
    "duration": 36,
    "start_time": "2024-01-12T05:56:27.757Z"
   },
   {
    "duration": 11,
    "start_time": "2024-01-12T05:56:27.822Z"
   },
   {
    "duration": 15,
    "start_time": "2024-01-12T05:56:27.836Z"
   },
   {
    "duration": 17,
    "start_time": "2024-01-12T05:56:27.853Z"
   },
   {
    "duration": 12,
    "start_time": "2024-01-12T05:56:27.872Z"
   },
   {
    "duration": 71,
    "start_time": "2024-01-12T05:56:27.886Z"
   },
   {
    "duration": 12,
    "start_time": "2024-01-12T05:56:27.959Z"
   },
   {
    "duration": 18,
    "start_time": "2024-01-12T05:56:27.973Z"
   },
   {
    "duration": 448,
    "start_time": "2024-01-12T05:56:27.993Z"
   },
   {
    "duration": 16,
    "start_time": "2024-01-12T05:56:28.442Z"
   },
   {
    "duration": 7,
    "start_time": "2024-01-12T05:56:28.460Z"
   },
   {
    "duration": 31,
    "start_time": "2024-01-12T05:56:28.470Z"
   },
   {
    "duration": 383,
    "start_time": "2024-01-12T05:56:28.502Z"
   },
   {
    "duration": 470,
    "start_time": "2024-01-12T05:56:28.886Z"
   },
   {
    "duration": 10,
    "start_time": "2024-01-12T05:56:29.358Z"
   },
   {
    "duration": 232,
    "start_time": "2024-01-12T05:56:29.370Z"
   },
   {
    "duration": 343,
    "start_time": "2024-01-12T05:56:29.604Z"
   },
   {
    "duration": 443,
    "start_time": "2024-01-12T05:56:29.948Z"
   },
   {
    "duration": 376,
    "start_time": "2024-01-12T05:56:30.393Z"
   },
   {
    "duration": 357,
    "start_time": "2024-01-12T05:56:30.771Z"
   },
   {
    "duration": 364,
    "start_time": "2024-01-12T05:56:31.129Z"
   },
   {
    "duration": 374,
    "start_time": "2024-01-12T05:56:31.495Z"
   },
   {
    "duration": 359,
    "start_time": "2024-01-12T05:56:31.871Z"
   },
   {
    "duration": 344,
    "start_time": "2024-01-12T05:56:32.232Z"
   },
   {
    "duration": 363,
    "start_time": "2024-01-12T05:56:32.577Z"
   },
   {
    "duration": 377,
    "start_time": "2024-01-12T05:56:32.942Z"
   },
   {
    "duration": 16,
    "start_time": "2024-01-12T05:56:33.322Z"
   },
   {
    "duration": 284,
    "start_time": "2024-01-12T05:56:33.340Z"
   },
   {
    "duration": 2,
    "start_time": "2024-01-12T05:56:33.626Z"
   },
   {
    "duration": 35,
    "start_time": "2024-01-12T05:56:33.629Z"
   },
   {
    "duration": 2,
    "start_time": "2024-01-12T05:56:33.666Z"
   },
   {
    "duration": 694,
    "start_time": "2024-01-12T05:56:33.670Z"
   },
   {
    "duration": 2,
    "start_time": "2024-01-12T05:56:34.366Z"
   },
   {
    "duration": 33,
    "start_time": "2024-01-12T05:56:34.369Z"
   },
   {
    "duration": 3,
    "start_time": "2024-01-12T05:56:34.403Z"
   },
   {
    "duration": 24,
    "start_time": "2024-01-12T05:56:34.407Z"
   },
   {
    "duration": 653,
    "start_time": "2024-01-12T05:56:34.432Z"
   },
   {
    "duration": 2572,
    "start_time": "2024-01-12T05:56:35.086Z"
   },
   {
    "duration": 12,
    "start_time": "2024-01-12T05:56:39.447Z"
   },
   {
    "duration": 12,
    "start_time": "2024-01-12T05:56:58.866Z"
   },
   {
    "duration": 3,
    "start_time": "2024-01-12T07:52:22.209Z"
   },
   {
    "duration": 1165,
    "start_time": "2024-01-12T13:43:34.718Z"
   },
   {
    "duration": 77,
    "start_time": "2024-01-12T13:43:35.884Z"
   },
   {
    "duration": 24,
    "start_time": "2024-01-12T13:43:35.962Z"
   },
   {
    "duration": 33,
    "start_time": "2024-01-12T13:43:35.988Z"
   },
   {
    "duration": 9,
    "start_time": "2024-01-12T13:43:36.022Z"
   },
   {
    "duration": 15,
    "start_time": "2024-01-12T13:43:36.033Z"
   },
   {
    "duration": 19,
    "start_time": "2024-01-12T13:43:36.051Z"
   },
   {
    "duration": 29,
    "start_time": "2024-01-12T13:43:36.072Z"
   },
   {
    "duration": 28,
    "start_time": "2024-01-12T13:43:36.103Z"
   },
   {
    "duration": 10,
    "start_time": "2024-01-12T13:43:36.134Z"
   },
   {
    "duration": 16,
    "start_time": "2024-01-12T13:43:36.146Z"
   },
   {
    "duration": 336,
    "start_time": "2024-01-12T13:43:36.164Z"
   },
   {
    "duration": 20,
    "start_time": "2024-01-12T13:43:36.503Z"
   },
   {
    "duration": 8,
    "start_time": "2024-01-12T13:43:36.525Z"
   },
   {
    "duration": 21,
    "start_time": "2024-01-12T13:43:36.534Z"
   },
   {
    "duration": 336,
    "start_time": "2024-01-12T13:43:36.556Z"
   },
   {
    "duration": 455,
    "start_time": "2024-01-12T13:43:36.894Z"
   },
   {
    "duration": 12,
    "start_time": "2024-01-12T13:43:37.351Z"
   },
   {
    "duration": 187,
    "start_time": "2024-01-12T13:43:37.365Z"
   },
   {
    "duration": 330,
    "start_time": "2024-01-12T13:43:37.554Z"
   },
   {
    "duration": 385,
    "start_time": "2024-01-12T13:43:37.886Z"
   },
   {
    "duration": 327,
    "start_time": "2024-01-12T13:43:38.273Z"
   },
   {
    "duration": 356,
    "start_time": "2024-01-12T13:43:38.602Z"
   },
   {
    "duration": 329,
    "start_time": "2024-01-12T13:43:38.959Z"
   },
   {
    "duration": 348,
    "start_time": "2024-01-12T13:43:39.292Z"
   },
   {
    "duration": 312,
    "start_time": "2024-01-12T13:43:39.641Z"
   },
   {
    "duration": 310,
    "start_time": "2024-01-12T13:43:39.955Z"
   },
   {
    "duration": 331,
    "start_time": "2024-01-12T13:43:40.268Z"
   },
   {
    "duration": 350,
    "start_time": "2024-01-12T13:43:40.601Z"
   },
   {
    "duration": 18,
    "start_time": "2024-01-12T13:43:40.952Z"
   },
   {
    "duration": 249,
    "start_time": "2024-01-12T13:43:40.971Z"
   },
   {
    "duration": 2,
    "start_time": "2024-01-12T13:43:41.222Z"
   },
   {
    "duration": 43,
    "start_time": "2024-01-12T13:43:41.225Z"
   },
   {
    "duration": 9,
    "start_time": "2024-01-12T13:43:41.269Z"
   },
   {
    "duration": 665,
    "start_time": "2024-01-12T13:43:41.279Z"
   },
   {
    "duration": 2,
    "start_time": "2024-01-12T13:43:41.946Z"
   },
   {
    "duration": 45,
    "start_time": "2024-01-12T13:43:41.950Z"
   },
   {
    "duration": 60,
    "start_time": "2024-01-12T13:43:41.997Z"
   },
   {
    "duration": 32,
    "start_time": "2024-01-12T13:43:42.059Z"
   },
   {
    "duration": 606,
    "start_time": "2024-01-12T13:43:42.093Z"
   },
   {
    "duration": 2332,
    "start_time": "2024-01-12T13:43:42.701Z"
   },
   {
    "duration": 10,
    "start_time": "2024-01-12T13:43:45.035Z"
   },
   {
    "duration": 34,
    "start_time": "2024-01-12T13:43:45.047Z"
   },
   {
    "duration": 1189,
    "start_time": "2024-01-12T13:51:06.342Z"
   },
   {
    "duration": 87,
    "start_time": "2024-01-12T13:51:07.533Z"
   },
   {
    "duration": 24,
    "start_time": "2024-01-12T13:51:07.621Z"
   },
   {
    "duration": 50,
    "start_time": "2024-01-12T13:51:07.646Z"
   },
   {
    "duration": 24,
    "start_time": "2024-01-12T13:51:07.698Z"
   },
   {
    "duration": 55,
    "start_time": "2024-01-12T13:51:07.723Z"
   },
   {
    "duration": 34,
    "start_time": "2024-01-12T13:51:07.779Z"
   },
   {
    "duration": 28,
    "start_time": "2024-01-12T13:51:07.814Z"
   },
   {
    "duration": 29,
    "start_time": "2024-01-12T13:51:07.843Z"
   },
   {
    "duration": 10,
    "start_time": "2024-01-12T13:51:07.875Z"
   },
   {
    "duration": 36,
    "start_time": "2024-01-12T13:51:07.886Z"
   },
   {
    "duration": 347,
    "start_time": "2024-01-12T13:51:07.924Z"
   },
   {
    "duration": 33,
    "start_time": "2024-01-12T13:51:08.273Z"
   },
   {
    "duration": 6,
    "start_time": "2024-01-12T13:51:08.308Z"
   },
   {
    "duration": 30,
    "start_time": "2024-01-12T13:51:08.316Z"
   },
   {
    "duration": 358,
    "start_time": "2024-01-12T13:51:08.347Z"
   },
   {
    "duration": 426,
    "start_time": "2024-01-12T13:51:08.707Z"
   },
   {
    "duration": 11,
    "start_time": "2024-01-12T13:51:09.135Z"
   },
   {
    "duration": 222,
    "start_time": "2024-01-12T13:51:09.147Z"
   },
   {
    "duration": 352,
    "start_time": "2024-01-12T13:51:09.370Z"
   },
   {
    "duration": 445,
    "start_time": "2024-01-12T13:51:09.725Z"
   },
   {
    "duration": 381,
    "start_time": "2024-01-12T13:51:10.171Z"
   },
   {
    "duration": 364,
    "start_time": "2024-01-12T13:51:10.554Z"
   },
   {
    "duration": 353,
    "start_time": "2024-01-12T13:51:10.919Z"
   },
   {
    "duration": 354,
    "start_time": "2024-01-12T13:51:11.274Z"
   },
   {
    "duration": 342,
    "start_time": "2024-01-12T13:51:11.630Z"
   },
   {
    "duration": 351,
    "start_time": "2024-01-12T13:51:11.974Z"
   },
   {
    "duration": 353,
    "start_time": "2024-01-12T13:51:12.329Z"
   },
   {
    "duration": 346,
    "start_time": "2024-01-12T13:51:12.683Z"
   },
   {
    "duration": 13,
    "start_time": "2024-01-12T13:51:13.031Z"
   },
   {
    "duration": 273,
    "start_time": "2024-01-12T13:51:13.046Z"
   },
   {
    "duration": 2,
    "start_time": "2024-01-12T13:51:13.320Z"
   },
   {
    "duration": 34,
    "start_time": "2024-01-12T13:51:13.323Z"
   },
   {
    "duration": 14,
    "start_time": "2024-01-12T13:51:13.359Z"
   },
   {
    "duration": 653,
    "start_time": "2024-01-12T13:51:13.374Z"
   },
   {
    "duration": 2,
    "start_time": "2024-01-12T13:51:14.029Z"
   },
   {
    "duration": 31,
    "start_time": "2024-01-12T13:51:14.032Z"
   },
   {
    "duration": 40,
    "start_time": "2024-01-12T13:51:14.065Z"
   },
   {
    "duration": 23,
    "start_time": "2024-01-12T13:51:14.107Z"
   },
   {
    "duration": 576,
    "start_time": "2024-01-12T13:51:14.132Z"
   },
   {
    "duration": 2319,
    "start_time": "2024-01-12T13:51:14.709Z"
   },
   {
    "duration": 11,
    "start_time": "2024-01-12T13:51:17.030Z"
   },
   {
    "duration": 15,
    "start_time": "2024-01-12T13:51:17.043Z"
   },
   {
    "duration": 55,
    "start_time": "2024-01-12T14:49:30.021Z"
   },
   {
    "duration": 1394,
    "start_time": "2024-01-12T14:49:33.813Z"
   },
   {
    "duration": 208,
    "start_time": "2024-01-12T14:49:35.210Z"
   },
   {
    "duration": 26,
    "start_time": "2024-01-12T14:49:35.419Z"
   },
   {
    "duration": 32,
    "start_time": "2024-01-12T14:49:35.446Z"
   },
   {
    "duration": 22,
    "start_time": "2024-01-12T14:49:35.481Z"
   },
   {
    "duration": 22,
    "start_time": "2024-01-12T14:49:35.504Z"
   },
   {
    "duration": 22,
    "start_time": "2024-01-12T14:49:35.527Z"
   },
   {
    "duration": 11,
    "start_time": "2024-01-12T14:49:35.551Z"
   },
   {
    "duration": 43,
    "start_time": "2024-01-12T14:49:35.563Z"
   },
   {
    "duration": 9,
    "start_time": "2024-01-12T14:49:35.608Z"
   },
   {
    "duration": 32,
    "start_time": "2024-01-12T14:49:35.618Z"
   },
   {
    "duration": 355,
    "start_time": "2024-01-12T14:49:35.652Z"
   },
   {
    "duration": 17,
    "start_time": "2024-01-12T14:49:36.009Z"
   },
   {
    "duration": 7,
    "start_time": "2024-01-12T14:49:36.029Z"
   },
   {
    "duration": 43,
    "start_time": "2024-01-12T14:49:36.038Z"
   },
   {
    "duration": 317,
    "start_time": "2024-01-12T14:49:36.083Z"
   },
   {
    "duration": 419,
    "start_time": "2024-01-12T14:49:36.401Z"
   },
   {
    "duration": 11,
    "start_time": "2024-01-12T14:49:36.822Z"
   },
   {
    "duration": 203,
    "start_time": "2024-01-12T14:49:36.834Z"
   },
   {
    "duration": 342,
    "start_time": "2024-01-12T14:49:37.039Z"
   },
   {
    "duration": 412,
    "start_time": "2024-01-12T14:49:37.383Z"
   },
   {
    "duration": 387,
    "start_time": "2024-01-12T14:49:37.797Z"
   },
   {
    "duration": 348,
    "start_time": "2024-01-12T14:49:38.185Z"
   },
   {
    "duration": 358,
    "start_time": "2024-01-12T14:49:38.535Z"
   },
   {
    "duration": 361,
    "start_time": "2024-01-12T14:49:38.895Z"
   },
   {
    "duration": 345,
    "start_time": "2024-01-12T14:49:39.258Z"
   },
   {
    "duration": 356,
    "start_time": "2024-01-12T14:49:39.605Z"
   },
   {
    "duration": 352,
    "start_time": "2024-01-12T14:49:39.963Z"
   },
   {
    "duration": 376,
    "start_time": "2024-01-12T14:49:40.316Z"
   },
   {
    "duration": 20,
    "start_time": "2024-01-12T14:49:40.694Z"
   },
   {
    "duration": 83,
    "start_time": "2024-01-12T14:49:43.656Z"
   },
   {
    "duration": 19,
    "start_time": "2024-01-12T14:50:01.990Z"
   },
   {
    "duration": 260,
    "start_time": "2024-01-12T14:50:13.304Z"
   },
   {
    "duration": 272,
    "start_time": "2024-01-12T14:50:31.097Z"
   },
   {
    "duration": 337,
    "start_time": "2024-01-12T14:50:42.122Z"
   },
   {
    "duration": 17,
    "start_time": "2024-01-12T14:52:36.587Z"
   },
   {
    "duration": 13,
    "start_time": "2024-01-12T14:54:54.884Z"
   },
   {
    "duration": 3,
    "start_time": "2024-01-12T14:54:57.544Z"
   },
   {
    "duration": 95,
    "start_time": "2024-01-12T14:54:57.551Z"
   },
   {
    "duration": 26,
    "start_time": "2024-01-12T14:54:57.648Z"
   },
   {
    "duration": 54,
    "start_time": "2024-01-12T14:54:57.676Z"
   },
   {
    "duration": 9,
    "start_time": "2024-01-12T14:54:57.732Z"
   },
   {
    "duration": 13,
    "start_time": "2024-01-12T14:54:57.743Z"
   },
   {
    "duration": 43,
    "start_time": "2024-01-12T14:54:57.758Z"
   },
   {
    "duration": 12,
    "start_time": "2024-01-12T14:54:57.802Z"
   },
   {
    "duration": 27,
    "start_time": "2024-01-12T14:54:57.816Z"
   },
   {
    "duration": 10,
    "start_time": "2024-01-12T14:54:57.845Z"
   },
   {
    "duration": 44,
    "start_time": "2024-01-12T14:54:57.857Z"
   },
   {
    "duration": 422,
    "start_time": "2024-01-12T14:54:57.903Z"
   },
   {
    "duration": 17,
    "start_time": "2024-01-12T14:54:58.326Z"
   },
   {
    "duration": 7,
    "start_time": "2024-01-12T14:54:58.345Z"
   },
   {
    "duration": 43,
    "start_time": "2024-01-12T14:54:58.357Z"
   },
   {
    "duration": 376,
    "start_time": "2024-01-12T14:54:58.402Z"
   },
   {
    "duration": 455,
    "start_time": "2024-01-12T14:54:58.780Z"
   },
   {
    "duration": 11,
    "start_time": "2024-01-12T14:54:59.237Z"
   },
   {
    "duration": 269,
    "start_time": "2024-01-12T14:54:59.250Z"
   },
   {
    "duration": 380,
    "start_time": "2024-01-12T14:54:59.520Z"
   },
   {
    "duration": 402,
    "start_time": "2024-01-12T14:54:59.902Z"
   },
   {
    "duration": 384,
    "start_time": "2024-01-12T14:55:00.305Z"
   },
   {
    "duration": 542,
    "start_time": "2024-01-12T14:55:00.691Z"
   },
   {
    "duration": 413,
    "start_time": "2024-01-12T14:55:01.235Z"
   },
   {
    "duration": 537,
    "start_time": "2024-01-12T14:55:01.651Z"
   },
   {
    "duration": 403,
    "start_time": "2024-01-12T14:55:02.191Z"
   },
   {
    "duration": 346,
    "start_time": "2024-01-12T14:55:02.599Z"
   },
   {
    "duration": 381,
    "start_time": "2024-01-12T14:55:02.947Z"
   },
   {
    "duration": 421,
    "start_time": "2024-01-12T14:55:03.330Z"
   },
   {
    "duration": 18,
    "start_time": "2024-01-12T14:55:03.752Z"
   },
   {
    "duration": 417,
    "start_time": "2024-01-12T14:55:03.771Z"
   },
   {
    "duration": 3,
    "start_time": "2024-01-12T14:55:04.190Z"
   },
   {
    "duration": 73,
    "start_time": "2024-01-12T14:55:04.194Z"
   },
   {
    "duration": 41,
    "start_time": "2024-01-12T14:55:04.269Z"
   },
   {
    "duration": 718,
    "start_time": "2024-01-12T14:55:04.312Z"
   },
   {
    "duration": 2,
    "start_time": "2024-01-12T14:55:05.032Z"
   },
   {
    "duration": 30,
    "start_time": "2024-01-12T14:55:05.036Z"
   },
   {
    "duration": 17,
    "start_time": "2024-01-12T14:55:05.068Z"
   },
   {
    "duration": 15,
    "start_time": "2024-01-12T14:55:05.087Z"
   },
   {
    "duration": 749,
    "start_time": "2024-01-12T14:55:05.104Z"
   },
   {
    "duration": 2567,
    "start_time": "2024-01-12T14:55:05.855Z"
   },
   {
    "duration": 13,
    "start_time": "2024-01-12T14:55:08.425Z"
   },
   {
    "duration": 14,
    "start_time": "2024-01-12T14:55:13.024Z"
   },
   {
    "duration": 13,
    "start_time": "2024-01-12T14:55:16.477Z"
   },
   {
    "duration": 12,
    "start_time": "2024-01-12T14:55:21.120Z"
   },
   {
    "duration": 3,
    "start_time": "2024-01-12T14:55:25.113Z"
   },
   {
    "duration": 117,
    "start_time": "2024-01-12T14:55:25.118Z"
   },
   {
    "duration": 27,
    "start_time": "2024-01-12T14:55:25.237Z"
   },
   {
    "duration": 48,
    "start_time": "2024-01-12T14:55:25.265Z"
   },
   {
    "duration": 29,
    "start_time": "2024-01-12T14:55:25.316Z"
   },
   {
    "duration": 93,
    "start_time": "2024-01-12T14:55:25.347Z"
   },
   {
    "duration": 16,
    "start_time": "2024-01-12T14:55:25.442Z"
   },
   {
    "duration": 10,
    "start_time": "2024-01-12T14:55:25.460Z"
   },
   {
    "duration": 25,
    "start_time": "2024-01-12T14:55:25.472Z"
   },
   {
    "duration": 10,
    "start_time": "2024-01-12T14:55:25.498Z"
   },
   {
    "duration": 18,
    "start_time": "2024-01-12T14:55:25.511Z"
   },
   {
    "duration": 426,
    "start_time": "2024-01-12T14:55:25.530Z"
   },
   {
    "duration": 16,
    "start_time": "2024-01-12T14:55:25.958Z"
   },
   {
    "duration": 8,
    "start_time": "2024-01-12T14:55:25.975Z"
   },
   {
    "duration": 19,
    "start_time": "2024-01-12T14:55:26.000Z"
   },
   {
    "duration": 395,
    "start_time": "2024-01-12T14:55:26.021Z"
   },
   {
    "duration": 468,
    "start_time": "2024-01-12T14:55:26.417Z"
   },
   {
    "duration": 21,
    "start_time": "2024-01-12T14:55:26.887Z"
   },
   {
    "duration": 226,
    "start_time": "2024-01-12T14:55:26.909Z"
   },
   {
    "duration": 350,
    "start_time": "2024-01-12T14:55:27.137Z"
   },
   {
    "duration": 478,
    "start_time": "2024-01-12T14:55:27.488Z"
   },
   {
    "duration": 399,
    "start_time": "2024-01-12T14:55:27.968Z"
   },
   {
    "duration": 355,
    "start_time": "2024-01-12T14:55:28.368Z"
   },
   {
    "duration": 368,
    "start_time": "2024-01-12T14:55:28.725Z"
   },
   {
    "duration": 358,
    "start_time": "2024-01-12T14:55:29.094Z"
   },
   {
    "duration": 352,
    "start_time": "2024-01-12T14:55:29.453Z"
   },
   {
    "duration": 379,
    "start_time": "2024-01-12T14:55:29.807Z"
   },
   {
    "duration": 379,
    "start_time": "2024-01-12T14:55:30.188Z"
   },
   {
    "duration": 391,
    "start_time": "2024-01-12T14:55:30.570Z"
   },
   {
    "duration": 17,
    "start_time": "2024-01-12T14:55:30.963Z"
   },
   {
    "duration": 369,
    "start_time": "2024-01-12T14:55:30.982Z"
   },
   {
    "duration": 3,
    "start_time": "2024-01-12T14:55:31.353Z"
   },
   {
    "duration": 146,
    "start_time": "2024-01-12T14:55:31.358Z"
   },
   {
    "duration": 59,
    "start_time": "2024-01-12T14:55:31.506Z"
   },
   {
    "duration": 682,
    "start_time": "2024-01-12T14:55:31.566Z"
   },
   {
    "duration": 3,
    "start_time": "2024-01-12T14:55:32.249Z"
   },
   {
    "duration": 89,
    "start_time": "2024-01-12T14:55:32.254Z"
   },
   {
    "duration": 20,
    "start_time": "2024-01-12T14:55:32.345Z"
   },
   {
    "duration": 44,
    "start_time": "2024-01-12T14:55:32.366Z"
   },
   {
    "duration": 853,
    "start_time": "2024-01-12T14:55:32.412Z"
   },
   {
    "duration": 2722,
    "start_time": "2024-01-12T14:55:33.266Z"
   },
   {
    "duration": 1296,
    "start_time": "2024-01-12T16:12:50.783Z"
   },
   {
    "duration": 160,
    "start_time": "2024-01-12T16:12:52.081Z"
   },
   {
    "duration": 31,
    "start_time": "2024-01-12T16:12:52.243Z"
   },
   {
    "duration": 59,
    "start_time": "2024-01-12T16:12:52.277Z"
   },
   {
    "duration": 10,
    "start_time": "2024-01-12T16:12:52.337Z"
   },
   {
    "duration": 15,
    "start_time": "2024-01-12T16:12:52.349Z"
   },
   {
    "duration": 17,
    "start_time": "2024-01-12T16:12:52.366Z"
   },
   {
    "duration": 46,
    "start_time": "2024-01-12T16:12:52.385Z"
   },
   {
    "duration": 29,
    "start_time": "2024-01-12T16:12:52.433Z"
   },
   {
    "duration": 15,
    "start_time": "2024-01-12T16:12:52.466Z"
   },
   {
    "duration": 57,
    "start_time": "2024-01-12T16:12:52.483Z"
   },
   {
    "duration": 364,
    "start_time": "2024-01-12T16:12:52.542Z"
   },
   {
    "duration": 24,
    "start_time": "2024-01-12T16:12:52.908Z"
   },
   {
    "duration": 8,
    "start_time": "2024-01-12T16:12:52.933Z"
   },
   {
    "duration": 30,
    "start_time": "2024-01-12T16:12:52.942Z"
   },
   {
    "duration": 370,
    "start_time": "2024-01-12T16:12:52.974Z"
   },
   {
    "duration": 504,
    "start_time": "2024-01-12T16:12:53.345Z"
   },
   {
    "duration": 13,
    "start_time": "2024-01-12T16:12:53.852Z"
   },
   {
    "duration": 217,
    "start_time": "2024-01-12T16:12:53.867Z"
   },
   {
    "duration": 396,
    "start_time": "2024-01-12T16:12:54.087Z"
   },
   {
    "duration": 555,
    "start_time": "2024-01-12T16:12:54.485Z"
   },
   {
    "duration": 381,
    "start_time": "2024-01-12T16:12:55.042Z"
   },
   {
    "duration": 434,
    "start_time": "2024-01-12T16:12:55.425Z"
   },
   {
    "duration": 422,
    "start_time": "2024-01-12T16:12:55.861Z"
   },
   {
    "duration": 380,
    "start_time": "2024-01-12T16:12:56.285Z"
   },
   {
    "duration": 356,
    "start_time": "2024-01-12T16:12:56.667Z"
   },
   {
    "duration": 368,
    "start_time": "2024-01-12T16:12:57.025Z"
   },
   {
    "duration": 424,
    "start_time": "2024-01-12T16:12:57.397Z"
   },
   {
    "duration": 396,
    "start_time": "2024-01-12T16:12:57.822Z"
   },
   {
    "duration": 19,
    "start_time": "2024-01-12T16:12:58.220Z"
   },
   {
    "duration": 317,
    "start_time": "2024-01-12T16:12:58.241Z"
   },
   {
    "duration": 3,
    "start_time": "2024-01-12T16:12:58.561Z"
   },
   {
    "duration": 38,
    "start_time": "2024-01-12T16:12:58.566Z"
   },
   {
    "duration": 20,
    "start_time": "2024-01-12T16:12:58.606Z"
   },
   {
    "duration": 725,
    "start_time": "2024-01-12T16:12:58.628Z"
   },
   {
    "duration": 3,
    "start_time": "2024-01-12T16:12:59.355Z"
   },
   {
    "duration": 43,
    "start_time": "2024-01-12T16:12:59.359Z"
   },
   {
    "duration": 3,
    "start_time": "2024-01-12T16:12:59.404Z"
   },
   {
    "duration": 29,
    "start_time": "2024-01-12T16:12:59.409Z"
   },
   {
    "duration": 758,
    "start_time": "2024-01-12T16:12:59.440Z"
   },
   {
    "duration": 2782,
    "start_time": "2024-01-12T16:13:00.200Z"
   },
   {
    "duration": 14,
    "start_time": "2024-01-12T16:13:02.983Z"
   },
   {
    "duration": 76,
    "start_time": "2024-01-12T16:13:02.999Z"
   },
   {
    "duration": 1315,
    "start_time": "2024-01-12T16:16:13.201Z"
   },
   {
    "duration": 119,
    "start_time": "2024-01-12T16:16:14.518Z"
   },
   {
    "duration": 37,
    "start_time": "2024-01-12T16:16:14.639Z"
   },
   {
    "duration": 51,
    "start_time": "2024-01-12T16:16:14.679Z"
   },
   {
    "duration": 11,
    "start_time": "2024-01-12T16:16:14.733Z"
   },
   {
    "duration": 22,
    "start_time": "2024-01-12T16:16:14.746Z"
   },
   {
    "duration": 21,
    "start_time": "2024-01-12T16:16:14.770Z"
   },
   {
    "duration": 15,
    "start_time": "2024-01-12T16:16:14.821Z"
   },
   {
    "duration": 33,
    "start_time": "2024-01-12T16:16:14.838Z"
   },
   {
    "duration": 11,
    "start_time": "2024-01-12T16:16:14.874Z"
   },
   {
    "duration": 48,
    "start_time": "2024-01-12T16:16:14.886Z"
   },
   {
    "duration": 386,
    "start_time": "2024-01-12T16:16:14.936Z"
   },
   {
    "duration": 18,
    "start_time": "2024-01-12T16:16:15.323Z"
   },
   {
    "duration": 9,
    "start_time": "2024-01-12T16:16:15.343Z"
   },
   {
    "duration": 39,
    "start_time": "2024-01-12T16:16:15.354Z"
   },
   {
    "duration": 444,
    "start_time": "2024-01-12T16:16:15.396Z"
   },
   {
    "duration": 486,
    "start_time": "2024-01-12T16:16:15.843Z"
   },
   {
    "duration": 12,
    "start_time": "2024-01-12T16:16:16.331Z"
   },
   {
    "duration": 228,
    "start_time": "2024-01-12T16:16:16.345Z"
   },
   {
    "duration": 381,
    "start_time": "2024-01-12T16:16:16.575Z"
   },
   {
    "duration": 470,
    "start_time": "2024-01-12T16:16:16.958Z"
   },
   {
    "duration": 431,
    "start_time": "2024-01-12T16:16:17.430Z"
   },
   {
    "duration": 397,
    "start_time": "2024-01-12T16:16:17.863Z"
   },
   {
    "duration": 448,
    "start_time": "2024-01-12T16:16:18.262Z"
   },
   {
    "duration": 430,
    "start_time": "2024-01-12T16:16:18.713Z"
   },
   {
    "duration": 380,
    "start_time": "2024-01-12T16:16:19.145Z"
   },
   {
    "duration": 400,
    "start_time": "2024-01-12T16:16:19.528Z"
   },
   {
    "duration": 392,
    "start_time": "2024-01-12T16:16:19.932Z"
   },
   {
    "duration": 396,
    "start_time": "2024-01-12T16:16:20.327Z"
   },
   {
    "duration": 19,
    "start_time": "2024-01-12T16:16:20.725Z"
   },
   {
    "duration": 329,
    "start_time": "2024-01-12T16:16:20.746Z"
   },
   {
    "duration": 4,
    "start_time": "2024-01-12T16:16:21.077Z"
   },
   {
    "duration": 40,
    "start_time": "2024-01-12T16:16:21.083Z"
   },
   {
    "duration": 3,
    "start_time": "2024-01-12T16:16:21.126Z"
   },
   {
    "duration": 726,
    "start_time": "2024-01-12T16:16:21.131Z"
   },
   {
    "duration": 3,
    "start_time": "2024-01-12T16:16:21.859Z"
   },
   {
    "duration": 65,
    "start_time": "2024-01-12T16:16:21.864Z"
   },
   {
    "duration": 4,
    "start_time": "2024-01-12T16:16:21.931Z"
   },
   {
    "duration": 17,
    "start_time": "2024-01-12T16:16:21.937Z"
   },
   {
    "duration": 693,
    "start_time": "2024-01-12T16:16:21.956Z"
   },
   {
    "duration": 2689,
    "start_time": "2024-01-12T16:16:22.651Z"
   },
   {
    "duration": 13,
    "start_time": "2024-01-12T16:16:25.343Z"
   },
   {
    "duration": 66,
    "start_time": "2024-01-12T16:16:25.358Z"
   },
   {
    "duration": 1289,
    "start_time": "2024-01-12T17:25:14.464Z"
   },
   {
    "duration": 113,
    "start_time": "2024-01-12T17:25:15.755Z"
   },
   {
    "duration": 20,
    "start_time": "2024-01-12T17:25:15.870Z"
   },
   {
    "duration": 28,
    "start_time": "2024-01-12T17:25:15.891Z"
   },
   {
    "duration": 7,
    "start_time": "2024-01-12T17:25:15.920Z"
   },
   {
    "duration": 33,
    "start_time": "2024-01-12T17:25:15.929Z"
   },
   {
    "duration": 13,
    "start_time": "2024-01-12T17:25:15.963Z"
   },
   {
    "duration": 9,
    "start_time": "2024-01-12T17:25:15.978Z"
   },
   {
    "duration": 22,
    "start_time": "2024-01-12T17:25:15.989Z"
   },
   {
    "duration": 8,
    "start_time": "2024-01-12T17:25:16.013Z"
   },
   {
    "duration": 42,
    "start_time": "2024-01-12T17:25:16.023Z"
   },
   {
    "duration": 308,
    "start_time": "2024-01-12T17:25:16.067Z"
   },
   {
    "duration": 15,
    "start_time": "2024-01-12T17:25:16.376Z"
   },
   {
    "duration": 6,
    "start_time": "2024-01-12T17:25:16.393Z"
   },
   {
    "duration": 17,
    "start_time": "2024-01-12T17:25:24.041Z"
   },
   {
    "duration": 263,
    "start_time": "2024-01-12T17:25:33.683Z"
   },
   {
    "duration": 373,
    "start_time": "2024-01-12T17:25:44.809Z"
   },
   {
    "duration": 1328,
    "start_time": "2024-01-13T11:46:23.327Z"
   },
   {
    "duration": 130,
    "start_time": "2024-01-13T11:46:24.657Z"
   },
   {
    "duration": 24,
    "start_time": "2024-01-13T11:46:24.788Z"
   },
   {
    "duration": 32,
    "start_time": "2024-01-13T11:46:24.814Z"
   },
   {
    "duration": 9,
    "start_time": "2024-01-13T11:46:24.848Z"
   },
   {
    "duration": 34,
    "start_time": "2024-01-13T11:46:24.859Z"
   },
   {
    "duration": 16,
    "start_time": "2024-01-13T11:46:24.895Z"
   },
   {
    "duration": 11,
    "start_time": "2024-01-13T11:46:24.913Z"
   },
   {
    "duration": 27,
    "start_time": "2024-01-13T11:46:24.926Z"
   },
   {
    "duration": 11,
    "start_time": "2024-01-13T11:46:24.981Z"
   },
   {
    "duration": 20,
    "start_time": "2024-01-13T11:46:24.993Z"
   },
   {
    "duration": 368,
    "start_time": "2024-01-13T11:46:25.015Z"
   },
   {
    "duration": 17,
    "start_time": "2024-01-13T11:46:25.385Z"
   },
   {
    "duration": 8,
    "start_time": "2024-01-13T11:46:25.404Z"
   },
   {
    "duration": 16,
    "start_time": "2024-01-13T11:46:25.413Z"
   },
   {
    "duration": 333,
    "start_time": "2024-01-13T11:46:25.430Z"
   },
   {
    "duration": 420,
    "start_time": "2024-01-13T11:46:25.764Z"
   },
   {
    "duration": 9,
    "start_time": "2024-01-13T11:46:26.186Z"
   },
   {
    "duration": 192,
    "start_time": "2024-01-13T11:46:26.197Z"
   },
   {
    "duration": 319,
    "start_time": "2024-01-13T11:46:26.391Z"
   },
   {
    "duration": 379,
    "start_time": "2024-01-13T11:46:26.712Z"
   },
   {
    "duration": 333,
    "start_time": "2024-01-13T11:46:27.093Z"
   },
   {
    "duration": 354,
    "start_time": "2024-01-13T11:46:27.428Z"
   },
   {
    "duration": 333,
    "start_time": "2024-01-13T11:46:27.784Z"
   },
   {
    "duration": 324,
    "start_time": "2024-01-13T11:46:28.119Z"
   },
   {
    "duration": 304,
    "start_time": "2024-01-13T11:46:28.445Z"
   },
   {
    "duration": 233,
    "start_time": "2024-01-13T11:46:28.750Z"
   },
   {
    "duration": 308,
    "start_time": "2024-01-13T11:46:28.987Z"
   },
   {
    "duration": 318,
    "start_time": "2024-01-13T11:46:29.297Z"
   },
   {
    "duration": 17,
    "start_time": "2024-01-13T11:46:29.617Z"
   },
   {
    "duration": 261,
    "start_time": "2024-01-13T11:46:29.636Z"
   },
   {
    "duration": 3,
    "start_time": "2024-01-13T11:46:29.899Z"
   },
   {
    "duration": 19,
    "start_time": "2024-01-13T11:46:29.905Z"
   },
   {
    "duration": 3,
    "start_time": "2024-01-13T11:46:29.925Z"
   },
   {
    "duration": 674,
    "start_time": "2024-01-13T11:46:29.930Z"
   },
   {
    "duration": 3,
    "start_time": "2024-01-13T11:46:30.605Z"
   },
   {
    "duration": 41,
    "start_time": "2024-01-13T11:46:30.609Z"
   },
   {
    "duration": 8,
    "start_time": "2024-01-13T11:46:30.651Z"
   },
   {
    "duration": 11,
    "start_time": "2024-01-13T11:46:30.661Z"
   },
   {
    "duration": 666,
    "start_time": "2024-01-13T11:46:30.674Z"
   },
   {
    "duration": 1443,
    "start_time": "2024-01-13T11:46:31.342Z"
   },
   {
    "duration": 12,
    "start_time": "2024-01-13T11:46:32.787Z"
   },
   {
    "duration": 11,
    "start_time": "2024-01-13T11:46:32.801Z"
   }
  ],
  "kernelspec": {
   "display_name": "Python 3 (ipykernel)",
   "language": "python",
   "name": "python3"
  },
  "language_info": {
   "codemirror_mode": {
    "name": "ipython",
    "version": 3
   },
   "file_extension": ".py",
   "mimetype": "text/x-python",
   "name": "python",
   "nbconvert_exporter": "python",
   "pygments_lexer": "ipython3",
   "version": "3.11.7"
  },
  "toc": {
   "base_numbering": 1,
   "nav_menu": {},
   "number_sections": true,
   "sideBar": true,
   "skip_h1_title": true,
   "title_cell": "Table of Contents",
   "title_sidebar": "Contents",
   "toc_cell": false,
   "toc_position": {},
   "toc_section_display": true,
   "toc_window_display": false
  }
 },
 "nbformat": 4,
 "nbformat_minor": 4
}
