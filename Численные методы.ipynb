{
 "cells": [
  {
   "cell_type": "markdown",
   "id": "e0a8e85c-930e-4a8a-bedd-aa4408dc8a8f",
   "metadata": {},
   "source": [
    "# Определение стоимости автомобилей"
   ]
  },
  {
   "cell_type": "markdown",
   "id": "2c2b0d1c-1f72-4cb6-8d33-5c18257ed5a3",
   "metadata": {},
   "source": [
    "Сервис по продаже автомобилей с пробегом «Не бит, не крашен» разрабатывает приложение для привлечения новых клиентов. В нём можно быстро узнать рыночную стоимость своего автомобиля. В вашем распоряжении исторические данные: технические характеристики, комплектации и цены автомобилей. Вам нужно построить модель для определения стоимости. \n",
    "\n",
    "Заказчику важны:\n",
    "\n",
    "- качество предсказания;\n",
    "- скорость предсказания;\n",
    "- время обучения."
   ]
  },
  {
   "cell_type": "markdown",
   "id": "39add82f-2a7e-4003-a715-203e3f181989",
   "metadata": {},
   "source": [
    "Описание данных:\n",
    "    \n",
    "    DateCrawled — дата скачивания анкеты из базы\n",
    "    VehicleType — тип автомобильного кузова\n",
    "    RegistrationYear — год регистрации автомобиля\n",
    "    Gearbox — тип коробки передач\n",
    "    Power — мощность (л. с.)\n",
    "    Model — модель автомобиля\n",
    "    Kilometer — пробег (км)\n",
    "    RegistrationMonth — месяц регистрации автомобиля\n",
    "    FuelType — тип топлива\n",
    "    Brand — марка автомобиля\n",
    "    Repaired — была машина в ремонте или нет\n",
    "    DateCreated — дата создания анкеты\n",
    "    NumberOfPictures — количество фотографий автомобиля\n",
    "    PostalCode — почтовый индекс владельца анкеты (пользователя)\n",
    "    LastSeen — дата последней активности пользователя\n",
    "Целевой признак - Price — цена (евро)"
   ]
  },
  {
   "cell_type": "markdown",
   "id": "08a10b94-0e31-4e1a-ab53-17455afb77bd",
   "metadata": {},
   "source": [
    "Цель: найти ту модель машинного обучения, которая будет предсказывать стоимость автомобилей наиболее верно и максимально быстро. "
   ]
  },
  {
   "cell_type": "markdown",
   "id": "36f2bf78-5c64-4833-8292-3d7132319408",
   "metadata": {},
   "source": [
    "Задачи: \n",
    "\n",
    "    обучить несколько моделей, одна из которых - LGBM\n",
    "    вычислить метрику качества RMSE (она должна быть меньше 2500)\n",
    "    вывести время работы моделей\n",
    "    проанализировать полученные данные"
   ]
  },
  {
   "cell_type": "markdown",
   "id": "4bcdf00c-8496-4bd1-a693-7cfaa1f5e9b3",
   "metadata": {},
   "source": [
    "План работы: \n",
    "\n",
    "    загрузка и предобработка данных\n",
    "    подготовка данных к обучению\n",
    "    обучение моделей\n",
    "    анализ полученных показателей\n",
    "    выбор лучшей модели"
   ]
  },
  {
   "cell_type": "markdown",
   "id": "1c547975-7969-45e0-8756-3e7ea16f0750",
   "metadata": {},
   "source": [
    "## Подготовка данных"
   ]
  },
  {
   "cell_type": "code",
   "execution_count": 1,
   "id": "7864acc4-2043-4813-90c6-5e1278a15246",
   "metadata": {},
   "outputs": [],
   "source": [
    "import pandas as pd\n",
    "import numpy as np\n",
    "from matplotlib import pyplot as plt\n",
    "import seaborn as sns\n",
    "import lightgbm as lgb\n",
    "\n",
    "from sklearn.linear_model import LinearRegression\n",
    "from sklearn.tree import DecisionTreeRegressor\n",
    "from sklearn.dummy import DummyRegressor\n",
    "from sklearn.model_selection import train_test_split\n",
    "from sklearn.preprocessing import StandardScaler, OrdinalEncoder\n",
    "from sklearn.metrics import mean_squared_error\n",
    "from sklearn.model_selection import ParameterGrid\n",
    "\n",
    "from phik import resources, report\n",
    "from phik.report import plot_correlation_matrix\n",
    "import matplotlib.pyplot as plt"
   ]
  },
  {
   "cell_type": "code",
   "execution_count": 2,
   "id": "8d66fea7-166a-456d-814f-d5f759e1e5a6",
   "metadata": {},
   "outputs": [
    {
     "data": {
      "text/html": [
       "<div>\n",
       "<style scoped>\n",
       "    .dataframe tbody tr th:only-of-type {\n",
       "        vertical-align: middle;\n",
       "    }\n",
       "\n",
       "    .dataframe tbody tr th {\n",
       "        vertical-align: top;\n",
       "    }\n",
       "\n",
       "    .dataframe thead th {\n",
       "        text-align: right;\n",
       "    }\n",
       "</style>\n",
       "<table border=\"1\" class=\"dataframe\">\n",
       "  <thead>\n",
       "    <tr style=\"text-align: right;\">\n",
       "      <th></th>\n",
       "      <th>DateCrawled</th>\n",
       "      <th>Price</th>\n",
       "      <th>VehicleType</th>\n",
       "      <th>RegistrationYear</th>\n",
       "      <th>Gearbox</th>\n",
       "      <th>Power</th>\n",
       "      <th>Model</th>\n",
       "      <th>Kilometer</th>\n",
       "      <th>RegistrationMonth</th>\n",
       "      <th>FuelType</th>\n",
       "      <th>Brand</th>\n",
       "      <th>Repaired</th>\n",
       "      <th>DateCreated</th>\n",
       "      <th>NumberOfPictures</th>\n",
       "      <th>PostalCode</th>\n",
       "      <th>LastSeen</th>\n",
       "    </tr>\n",
       "  </thead>\n",
       "  <tbody>\n",
       "    <tr>\n",
       "      <th>0</th>\n",
       "      <td>2016-03-24 11:52:17</td>\n",
       "      <td>480</td>\n",
       "      <td>NaN</td>\n",
       "      <td>1993</td>\n",
       "      <td>manual</td>\n",
       "      <td>0</td>\n",
       "      <td>golf</td>\n",
       "      <td>150000</td>\n",
       "      <td>0</td>\n",
       "      <td>petrol</td>\n",
       "      <td>volkswagen</td>\n",
       "      <td>NaN</td>\n",
       "      <td>2016-03-24 00:00:00</td>\n",
       "      <td>0</td>\n",
       "      <td>70435</td>\n",
       "      <td>2016-04-07 03:16:57</td>\n",
       "    </tr>\n",
       "    <tr>\n",
       "      <th>1</th>\n",
       "      <td>2016-03-24 10:58:45</td>\n",
       "      <td>18300</td>\n",
       "      <td>coupe</td>\n",
       "      <td>2011</td>\n",
       "      <td>manual</td>\n",
       "      <td>190</td>\n",
       "      <td>NaN</td>\n",
       "      <td>125000</td>\n",
       "      <td>5</td>\n",
       "      <td>gasoline</td>\n",
       "      <td>audi</td>\n",
       "      <td>yes</td>\n",
       "      <td>2016-03-24 00:00:00</td>\n",
       "      <td>0</td>\n",
       "      <td>66954</td>\n",
       "      <td>2016-04-07 01:46:50</td>\n",
       "    </tr>\n",
       "    <tr>\n",
       "      <th>2</th>\n",
       "      <td>2016-03-14 12:52:21</td>\n",
       "      <td>9800</td>\n",
       "      <td>suv</td>\n",
       "      <td>2004</td>\n",
       "      <td>auto</td>\n",
       "      <td>163</td>\n",
       "      <td>grand</td>\n",
       "      <td>125000</td>\n",
       "      <td>8</td>\n",
       "      <td>gasoline</td>\n",
       "      <td>jeep</td>\n",
       "      <td>NaN</td>\n",
       "      <td>2016-03-14 00:00:00</td>\n",
       "      <td>0</td>\n",
       "      <td>90480</td>\n",
       "      <td>2016-04-05 12:47:46</td>\n",
       "    </tr>\n",
       "    <tr>\n",
       "      <th>3</th>\n",
       "      <td>2016-03-17 16:54:04</td>\n",
       "      <td>1500</td>\n",
       "      <td>small</td>\n",
       "      <td>2001</td>\n",
       "      <td>manual</td>\n",
       "      <td>75</td>\n",
       "      <td>golf</td>\n",
       "      <td>150000</td>\n",
       "      <td>6</td>\n",
       "      <td>petrol</td>\n",
       "      <td>volkswagen</td>\n",
       "      <td>no</td>\n",
       "      <td>2016-03-17 00:00:00</td>\n",
       "      <td>0</td>\n",
       "      <td>91074</td>\n",
       "      <td>2016-03-17 17:40:17</td>\n",
       "    </tr>\n",
       "    <tr>\n",
       "      <th>4</th>\n",
       "      <td>2016-03-31 17:25:20</td>\n",
       "      <td>3600</td>\n",
       "      <td>small</td>\n",
       "      <td>2008</td>\n",
       "      <td>manual</td>\n",
       "      <td>69</td>\n",
       "      <td>fabia</td>\n",
       "      <td>90000</td>\n",
       "      <td>7</td>\n",
       "      <td>gasoline</td>\n",
       "      <td>skoda</td>\n",
       "      <td>no</td>\n",
       "      <td>2016-03-31 00:00:00</td>\n",
       "      <td>0</td>\n",
       "      <td>60437</td>\n",
       "      <td>2016-04-06 10:17:21</td>\n",
       "    </tr>\n",
       "  </tbody>\n",
       "</table>\n",
       "</div>"
      ],
      "text/plain": [
       "           DateCrawled  Price VehicleType  RegistrationYear Gearbox  Power  \\\n",
       "0  2016-03-24 11:52:17    480         NaN              1993  manual      0   \n",
       "1  2016-03-24 10:58:45  18300       coupe              2011  manual    190   \n",
       "2  2016-03-14 12:52:21   9800         suv              2004    auto    163   \n",
       "3  2016-03-17 16:54:04   1500       small              2001  manual     75   \n",
       "4  2016-03-31 17:25:20   3600       small              2008  manual     69   \n",
       "\n",
       "   Model  Kilometer  RegistrationMonth  FuelType       Brand Repaired  \\\n",
       "0   golf     150000                  0    petrol  volkswagen      NaN   \n",
       "1    NaN     125000                  5  gasoline        audi      yes   \n",
       "2  grand     125000                  8  gasoline        jeep      NaN   \n",
       "3   golf     150000                  6    petrol  volkswagen       no   \n",
       "4  fabia      90000                  7  gasoline       skoda       no   \n",
       "\n",
       "           DateCreated  NumberOfPictures  PostalCode             LastSeen  \n",
       "0  2016-03-24 00:00:00                 0       70435  2016-04-07 03:16:57  \n",
       "1  2016-03-24 00:00:00                 0       66954  2016-04-07 01:46:50  \n",
       "2  2016-03-14 00:00:00                 0       90480  2016-04-05 12:47:46  \n",
       "3  2016-03-17 00:00:00                 0       91074  2016-03-17 17:40:17  \n",
       "4  2016-03-31 00:00:00                 0       60437  2016-04-06 10:17:21  "
      ]
     },
     "execution_count": 2,
     "metadata": {},
     "output_type": "execute_result"
    }
   ],
   "source": [
    "df_f = pd.read_csv('autos.csv')\n",
    "df_f.head()"
   ]
  },
  {
   "cell_type": "code",
   "execution_count": 3,
   "id": "d87688fa-fcb8-4aef-bcfe-f2b9ead08c48",
   "metadata": {},
   "outputs": [
    {
     "name": "stdout",
     "output_type": "stream",
     "text": [
      "<class 'pandas.core.frame.DataFrame'>\n",
      "RangeIndex: 354369 entries, 0 to 354368\n",
      "Data columns (total 16 columns):\n",
      " #   Column             Non-Null Count   Dtype \n",
      "---  ------             --------------   ----- \n",
      " 0   DateCrawled        354369 non-null  object\n",
      " 1   Price              354369 non-null  int64 \n",
      " 2   VehicleType        316879 non-null  object\n",
      " 3   RegistrationYear   354369 non-null  int64 \n",
      " 4   Gearbox            334536 non-null  object\n",
      " 5   Power              354369 non-null  int64 \n",
      " 6   Model              334664 non-null  object\n",
      " 7   Kilometer          354369 non-null  int64 \n",
      " 8   RegistrationMonth  354369 non-null  int64 \n",
      " 9   FuelType           321474 non-null  object\n",
      " 10  Brand              354369 non-null  object\n",
      " 11  Repaired           283215 non-null  object\n",
      " 12  DateCreated        354369 non-null  object\n",
      " 13  NumberOfPictures   354369 non-null  int64 \n",
      " 14  PostalCode         354369 non-null  int64 \n",
      " 15  LastSeen           354369 non-null  object\n",
      "dtypes: int64(7), object(9)\n",
      "memory usage: 43.3+ MB\n"
     ]
    }
   ],
   "source": [
    "df_f.info()"
   ]
  },
  {
   "cell_type": "markdown",
   "id": "d282e951-67cb-46ff-88a0-fccd81852e3b",
   "metadata": {},
   "source": [
    "Предпросмотр данных проведен: проблем не обнаружено"
   ]
  },
  {
   "cell_type": "markdown",
   "id": "9c5ae647-77dd-4b94-8656-e383a8ebd3ec",
   "metadata": {},
   "source": [
    "Сохраним изначальную длину датасета, чтобы потом проверить, не слишком ли большое количество данных исчезло после предобработки"
   ]
  },
  {
   "cell_type": "code",
   "execution_count": 4,
   "id": "0d97404c-baaf-483d-a850-8e7eb0690188",
   "metadata": {},
   "outputs": [],
   "source": [
    "len_1 = len(df_f)"
   ]
  },
  {
   "cell_type": "markdown",
   "id": "5ab6dc11-002c-4886-8622-2b69d8049129",
   "metadata": {},
   "source": [
    "Переименуем столбцы для удобного к ним обращения:"
   ]
  },
  {
   "cell_type": "code",
   "execution_count": 5,
   "id": "fadc2a06-6961-460c-be40-aff1f67bdfeb",
   "metadata": {},
   "outputs": [
    {
     "data": {
      "text/plain": [
       "Index(['datecrawled', 'price', 'vehicletype', 'registrationyear', 'gearbox',\n",
       "       'power', 'model', 'kilometer', 'registrationmonth', 'fueltype', 'brand',\n",
       "       'repaired', 'datecreated', 'numberofpictures', 'postalcode',\n",
       "       'lastseen'],\n",
       "      dtype='object')"
      ]
     },
     "execution_count": 5,
     "metadata": {},
     "output_type": "execute_result"
    }
   ],
   "source": [
    "df_f.columns = df_f.columns.str.lower()\n",
    "df_f.columns"
   ]
  },
  {
   "cell_type": "code",
   "execution_count": 6,
   "id": "cd0933ba-745d-4af0-90f8-7624f1bab43b",
   "metadata": {},
   "outputs": [
    {
     "data": {
      "text/plain": [
       "Index(['date_crawled', 'price', 'vehicle_type', 'registration_year', 'gearbox',\n",
       "       'power', 'model', 'kilometer', 'registration_month', 'fuel_type',\n",
       "       'brand', 'repaired', 'date_created', 'number_of_pictures',\n",
       "       'postal_code', 'last_seen'],\n",
       "      dtype='object')"
      ]
     },
     "execution_count": 6,
     "metadata": {},
     "output_type": "execute_result"
    }
   ],
   "source": [
    "df_f = df_f.rename(columns={'datecrawled': 'date_crawled', \n",
    "                        'vehicletype': 'vehicle_type', \n",
    "                        'registrationyear': 'registration_year', \n",
    "                        'registrationmonth': 'registration_month', \n",
    "                        'fueltype': 'fuel_type', \n",
    "                        'notrepaired': 'not_repaired', \n",
    "                        'datecreated': 'date_created',\n",
    "                        'numberofpictures': 'number_of_pictures',\n",
    "                        'postalcode': 'postal_code',\n",
    "                        'lastseen': 'last_seen'})\n",
    "df_f.columns"
   ]
  },
  {
   "cell_type": "markdown",
   "id": "057968ad-8cfb-4f3b-bfef-c141fd60bbb8",
   "metadata": {},
   "source": [
    "Избавимся от тех признаков, которые точно не будут влиять на предсказание:"
   ]
  },
  {
   "cell_type": "code",
   "execution_count": 7,
   "id": "9cc9a17b-81d5-4d01-bdd5-6c1c375e4756",
   "metadata": {},
   "outputs": [
    {
     "data": {
      "text/html": [
       "<div>\n",
       "<style scoped>\n",
       "    .dataframe tbody tr th:only-of-type {\n",
       "        vertical-align: middle;\n",
       "    }\n",
       "\n",
       "    .dataframe tbody tr th {\n",
       "        vertical-align: top;\n",
       "    }\n",
       "\n",
       "    .dataframe thead th {\n",
       "        text-align: right;\n",
       "    }\n",
       "</style>\n",
       "<table border=\"1\" class=\"dataframe\">\n",
       "  <thead>\n",
       "    <tr style=\"text-align: right;\">\n",
       "      <th></th>\n",
       "      <th>price</th>\n",
       "      <th>vehicle_type</th>\n",
       "      <th>registration_year</th>\n",
       "      <th>gearbox</th>\n",
       "      <th>power</th>\n",
       "      <th>model</th>\n",
       "      <th>kilometer</th>\n",
       "      <th>fuel_type</th>\n",
       "      <th>brand</th>\n",
       "      <th>repaired</th>\n",
       "    </tr>\n",
       "  </thead>\n",
       "  <tbody>\n",
       "    <tr>\n",
       "      <th>0</th>\n",
       "      <td>480</td>\n",
       "      <td>NaN</td>\n",
       "      <td>1993</td>\n",
       "      <td>manual</td>\n",
       "      <td>0</td>\n",
       "      <td>golf</td>\n",
       "      <td>150000</td>\n",
       "      <td>petrol</td>\n",
       "      <td>volkswagen</td>\n",
       "      <td>NaN</td>\n",
       "    </tr>\n",
       "    <tr>\n",
       "      <th>1</th>\n",
       "      <td>18300</td>\n",
       "      <td>coupe</td>\n",
       "      <td>2011</td>\n",
       "      <td>manual</td>\n",
       "      <td>190</td>\n",
       "      <td>NaN</td>\n",
       "      <td>125000</td>\n",
       "      <td>gasoline</td>\n",
       "      <td>audi</td>\n",
       "      <td>yes</td>\n",
       "    </tr>\n",
       "    <tr>\n",
       "      <th>2</th>\n",
       "      <td>9800</td>\n",
       "      <td>suv</td>\n",
       "      <td>2004</td>\n",
       "      <td>auto</td>\n",
       "      <td>163</td>\n",
       "      <td>grand</td>\n",
       "      <td>125000</td>\n",
       "      <td>gasoline</td>\n",
       "      <td>jeep</td>\n",
       "      <td>NaN</td>\n",
       "    </tr>\n",
       "    <tr>\n",
       "      <th>3</th>\n",
       "      <td>1500</td>\n",
       "      <td>small</td>\n",
       "      <td>2001</td>\n",
       "      <td>manual</td>\n",
       "      <td>75</td>\n",
       "      <td>golf</td>\n",
       "      <td>150000</td>\n",
       "      <td>petrol</td>\n",
       "      <td>volkswagen</td>\n",
       "      <td>no</td>\n",
       "    </tr>\n",
       "    <tr>\n",
       "      <th>4</th>\n",
       "      <td>3600</td>\n",
       "      <td>small</td>\n",
       "      <td>2008</td>\n",
       "      <td>manual</td>\n",
       "      <td>69</td>\n",
       "      <td>fabia</td>\n",
       "      <td>90000</td>\n",
       "      <td>gasoline</td>\n",
       "      <td>skoda</td>\n",
       "      <td>no</td>\n",
       "    </tr>\n",
       "  </tbody>\n",
       "</table>\n",
       "</div>"
      ],
      "text/plain": [
       "   price vehicle_type  registration_year gearbox  power  model  kilometer  \\\n",
       "0    480          NaN               1993  manual      0   golf     150000   \n",
       "1  18300        coupe               2011  manual    190    NaN     125000   \n",
       "2   9800          suv               2004    auto    163  grand     125000   \n",
       "3   1500        small               2001  manual     75   golf     150000   \n",
       "4   3600        small               2008  manual     69  fabia      90000   \n",
       "\n",
       "  fuel_type       brand repaired  \n",
       "0    petrol  volkswagen      NaN  \n",
       "1  gasoline        audi      yes  \n",
       "2  gasoline        jeep      NaN  \n",
       "3    petrol  volkswagen       no  \n",
       "4  gasoline       skoda       no  "
      ]
     },
     "execution_count": 7,
     "metadata": {},
     "output_type": "execute_result"
    }
   ],
   "source": [
    "df = df_f.drop(['number_of_pictures', 'postal_code', 'date_created', \n",
    "              'last_seen', 'registration_month', 'date_crawled'], axis=1)\n",
    "df.head()"
   ]
  },
  {
   "cell_type": "markdown",
   "id": "165204d1-dd26-4bb8-9c92-17feb2294fcf",
   "metadata": {},
   "source": [
    "Проверим датасет на дубликаты:"
   ]
  },
  {
   "cell_type": "code",
   "execution_count": 8,
   "id": "ec343cd0-0455-4c10-a0ef-5c1d55b3f074",
   "metadata": {},
   "outputs": [
    {
     "data": {
      "text/plain": [
       "price                    0\n",
       "vehicle_type         37490\n",
       "registration_year        0\n",
       "gearbox              19833\n",
       "power                    0\n",
       "model                19705\n",
       "kilometer                0\n",
       "fuel_type            32895\n",
       "brand                    0\n",
       "repaired             71154\n",
       "dtype: int64"
      ]
     },
     "execution_count": 8,
     "metadata": {},
     "output_type": "execute_result"
    }
   ],
   "source": [
    "df.isna().sum()"
   ]
  },
  {
   "cell_type": "markdown",
   "id": "af9f6455-5517-442b-9afb-93f3577a38a5",
   "metadata": {},
   "source": [
    "Выведем уникальные значения в каждом из столбцов с пропусками:"
   ]
  },
  {
   "cell_type": "code",
   "execution_count": 11,
   "id": "2b480dbd-2cde-443d-b804-8dba28b985a1",
   "metadata": {},
   "outputs": [
    {
     "name": "stdout",
     "output_type": "stream",
     "text": [
      "vehicle_type :  [nan 'coupe' 'suv' 'small' 'sedan' 'convertible' 'bus' 'wagon' 'other']\n",
      " \n",
      "gearbox :  ['manual' 'auto' nan]\n",
      " \n",
      "model :  ['golf' nan 'grand' 'fabia' '3er' '2_reihe' 'other' 'c_max' '3_reihe'\n",
      " 'passat' 'navara' 'ka' 'polo' 'twingo' 'a_klasse' 'scirocco' '5er'\n",
      " 'meriva' 'arosa' 'c4' 'civic' 'transporter' 'punto' 'e_klasse' 'clio'\n",
      " 'kadett' 'kangoo' 'corsa' 'one' 'fortwo' '1er' 'b_klasse' 'signum'\n",
      " 'astra' 'a8' 'jetta' 'fiesta' 'c_klasse' 'micra' 'vito' 'sprinter' '156'\n",
      " 'escort' 'forester' 'xc_reihe' 'scenic' 'a4' 'a1' 'insignia' 'combo'\n",
      " 'focus' 'tt' 'a6' 'jazz' 'omega' 'slk' '7er' '80' '147' '100' 'z_reihe'\n",
      " 'sportage' 'sorento' 'v40' 'ibiza' 'mustang' 'eos' 'touran' 'getz' 'a3'\n",
      " 'almera' 'megane' 'lupo' 'r19' 'zafira' 'caddy' 'mondeo' 'cordoba' 'colt'\n",
      " 'impreza' 'vectra' 'berlingo' 'tiguan' 'i_reihe' 'espace' 'sharan'\n",
      " '6_reihe' 'panda' 'up' 'seicento' 'ceed' '5_reihe' 'yeti' 'octavia' 'mii'\n",
      " 'rx_reihe' '6er' 'modus' 'fox' 'matiz' 'beetle' 'c1' 'rio' 'touareg'\n",
      " 'logan' 'spider' 'cuore' 's_max' 'a2' 'galaxy' 'c3' 'viano' 's_klasse'\n",
      " '1_reihe' 'avensis' 'roomster' 'sl' 'kaefer' 'santa' 'cooper' 'leon'\n",
      " '4_reihe' 'a5' '500' 'laguna' 'ptcruiser' 'clk' 'primera' 'x_reihe'\n",
      " 'exeo' '159' 'transit' 'juke' 'qashqai' 'carisma' 'accord' 'corolla'\n",
      " 'lanos' 'phaeton' 'verso' 'swift' 'rav' 'picanto' 'boxster' 'kalos'\n",
      " 'superb' 'stilo' 'alhambra' 'mx_reihe' 'roadster' 'ypsilon' 'cayenne'\n",
      " 'galant' 'justy' '90' 'sirion' 'crossfire' 'agila' 'duster' 'cr_reihe'\n",
      " 'v50' 'c_reihe' 'v_klasse' 'm_klasse' 'yaris' 'c5' 'aygo' 'cc' 'carnival'\n",
      " 'fusion' '911' 'bora' 'forfour' 'm_reihe' 'cl' 'tigra' '300c' 'spark'\n",
      " 'v70' 'kuga' 'x_type' 'ducato' 's_type' 'x_trail' 'toledo' 'altea'\n",
      " 'voyager' 'calibra' 'bravo' 'antara' 'tucson' 'citigo' 'jimny' 'wrangler'\n",
      " 'lybra' 'q7' 'lancer' 'captiva' 'c2' 'discovery' 'freelander' 'sandero'\n",
      " 'note' '900' 'cherokee' 'clubman' 'samara' 'defender' '601' 'cx_reihe'\n",
      " 'legacy' 'pajero' 'auris' 'niva' 's60' 'nubira' 'vivaro' 'g_klasse'\n",
      " 'lodgy' '850' 'range_rover' 'q3' 'serie_2' 'glk' 'charade' 'croma'\n",
      " 'outlander' 'doblo' 'musa' 'move' '9000' 'v60' '145' 'aveo' '200' 'b_max'\n",
      " 'range_rover_sport' 'terios' 'rangerover' 'q5' 'range_rover_evoque'\n",
      " 'materia' 'delta' 'gl' 'kalina' 'amarok' 'elefantino' 'i3' 'kappa'\n",
      " 'serie_3' 'serie_1']\n",
      " \n",
      "fuel_type :  ['petrol' 'gasoline' nan 'lpg' 'other' 'hybrid' 'cng' 'electric']\n",
      " \n",
      "brand :  ['volkswagen' 'audi' 'jeep' 'skoda' 'bmw' 'peugeot' 'ford' 'mazda'\n",
      " 'nissan' 'renault' 'mercedes_benz' 'opel' 'seat' 'citroen' 'honda' 'fiat'\n",
      " 'mini' 'smart' 'hyundai' 'sonstige_autos' 'alfa_romeo' 'subaru' 'volvo'\n",
      " 'mitsubishi' 'kia' 'suzuki' 'lancia' 'toyota' 'chevrolet' 'dacia'\n",
      " 'daihatsu' 'trabant' 'saab' 'chrysler' 'jaguar' 'daewoo' 'porsche'\n",
      " 'rover' 'land_rover' 'lada']\n",
      " \n",
      "repaired :  [nan 'yes' 'no']\n",
      " \n"
     ]
    }
   ],
   "source": [
    "for column in df.select_dtypes(exclude='number'):\n",
    "    print (column, ': ',   df.select_dtypes(exclude='number')[column].unique())\n",
    "    print(' ')"
   ]
  },
  {
   "cell_type": "markdown",
   "id": "89f89fbe-f9da-44e4-b131-6850fd96c2d1",
   "metadata": {},
   "source": [
    "Заменим пропущенные значения:"
   ]
  },
  {
   "cell_type": "code",
   "execution_count": 12,
   "id": "d5ccaf48-babd-43b1-856c-d376fb89b869",
   "metadata": {},
   "outputs": [
    {
     "data": {
      "text/plain": [
       "price                0\n",
       "vehicle_type         0\n",
       "registration_year    0\n",
       "gearbox              0\n",
       "power                0\n",
       "model                0\n",
       "kilometer            0\n",
       "fuel_type            0\n",
       "brand                0\n",
       "repaired             0\n",
       "dtype: int64"
      ]
     },
     "execution_count": 12,
     "metadata": {},
     "output_type": "execute_result"
    }
   ],
   "source": [
    "df['vehicle_type'] = df['vehicle_type'].fillna('other')\n",
    "columns_to_fill = ['model', 'fuel_type', 'repaired', 'gearbox']\n",
    "df[columns_to_fill] = df[columns_to_fill].fillna('unknown')\n",
    "\n",
    "df.isna().sum()"
   ]
  },
  {
   "cell_type": "markdown",
   "id": "0a8e370a-5877-4612-b251-4f8336df6fea",
   "metadata": {},
   "source": [
    "Заменим для большей репрезнтативности данных названия топлива: petrol и gasoline - это синонимы"
   ]
  },
  {
   "cell_type": "code",
   "execution_count": 13,
   "id": "7d66d3be-6af9-4b5e-8c6f-fd191c5957c1",
   "metadata": {},
   "outputs": [
    {
     "data": {
      "text/plain": [
       "array(['petrol', 'unknown', 'lpg', 'other', 'hybrid', 'cng', 'electric'],\n",
       "      dtype=object)"
      ]
     },
     "execution_count": 13,
     "metadata": {},
     "output_type": "execute_result"
    }
   ],
   "source": [
    "df['fuel_type'] = df['fuel_type'].replace('gasoline', 'petrol')\n",
    "df['fuel_type'].unique()"
   ]
  },
  {
   "cell_type": "markdown",
   "id": "8a6eb355-0a42-4bbc-924a-c6c1a09eb8c3",
   "metadata": {},
   "source": [
    "Проведем проверку на неявные дубликаты:"
   ]
  },
  {
   "cell_type": "markdown",
   "id": "83ede234-fe0a-4973-ab88-ee0d910486d2",
   "metadata": {},
   "source": [
    "<br/>\n",
    "<div class=\"alert alert-info\">\n",
    "сейчас будет оч странный код, но зато он выполняет свою функцию.... ну и от неявный дубликатов избавляет...\n",
    "</div>"
   ]
  },
  {
   "cell_type": "code",
   "execution_count": 14,
   "id": "f0e9c65b-c0b4-474f-a816-188a2d1c3ca1",
   "metadata": {},
   "outputs": [],
   "source": [
    "models = ['golf', np.nan, 'grand', 'fabia', '3er', '2_reihe', 'other', 'c_max', '3_reihe',\n",
    " 'passat', 'navara', 'ka', 'polo', 'twingo', 'a_klasse', 'scirocco', '5er',\n",
    " 'meriva', 'arosa', 'c4', 'civic', 'transporter', 'punto', 'e_klasse', 'clio',\n",
    " 'kadett', 'kangoo', 'corsa', 'one', 'fortwo', '1er', 'b_klasse', 'signum',\n",
    " 'astra', 'a8', 'jetta', 'fiesta', 'c_klasse', 'micra', 'vito', 'sprinter', '156',\n",
    " 'escort', 'forester', 'xc_reihe', 'scenic', 'a4', 'a1', 'insignia', 'combo',\n",
    " 'focus', 'tt', 'a6', 'jazz', 'omega', 'slk', '7er', '80', '147', '100', 'z_reihe',\n",
    " 'sportage', 'sorento', 'v40', 'ibiza', 'mustang', 'eos', 'touran', 'getz', 'a3',\n",
    " 'almera', 'megane', 'lupo', 'r19', 'zafira', 'caddy', 'mondeo', 'cordoba', 'colt',\n",
    " 'impreza', 'vectra', 'berlingo', 'tiguan', 'i_reihe', 'espace', 'sharan',\n",
    " '6_reihe', 'panda', 'up', 'seicento', 'ceed', '5_reihe', 'yeti', 'octavia', 'mii',\n",
    " 'rx_reihe', '6er', 'modus', 'fox', 'matiz', 'beetle', 'c1', 'rio', 'touareg',\n",
    " 'logan', 'spider', 'cuore', 's_max', 'a2', 'galaxy', 'c3', 'viano', 's_klasse',\n",
    " '1_reihe', 'avensis', 'roomster', 'sl', 'kaefer', 'santa', 'cooper', 'leon',\n",
    " '4_reihe', 'a5', '500', 'laguna', 'ptcruiser', 'clk', 'primera', 'x_reihe',\n",
    " 'exeo', '159', 'transit', 'juke', 'qashqai', 'carisma', 'accord', 'corolla',\n",
    " 'lanos', 'phaeton', 'verso', 'swift', 'rav', 'picanto', 'boxster', 'kalos',\n",
    " 'superb', 'stilo', 'alhambra', 'mx_reihe', 'roadster', 'ypsilon', 'cayenne',\n",
    " 'galant', 'justy', '90', 'sirion', 'crossfire', 'agila', 'duster', 'cr_reihe',\n",
    " 'v50', 'c_reihe', 'v_klasse', 'm_klasse', 'yaris', 'c5', 'aygo', 'cc', 'carnival',\n",
    " 'fusion', '911', 'bora', 'forfour', 'm_reihe', 'cl', 'tigra', '300c', 'spark',\n",
    " 'v70', 'kuga', 'x_type', 'ducato', 's_type', 'x_trail', 'toledo', 'altea',\n",
    " 'voyager', 'calibra', 'bravo', 'antara', 'tucson', 'citigo', 'jimny', 'wrangler',\n",
    " 'lybra', 'q7', 'lancer', 'captiva', 'c2', 'discovery', 'freelander', 'sandero',\n",
    " 'note', '900', 'cherokee', 'clubman', 'samara', 'defender', '601', 'cx_reihe',\n",
    " 'legacy', 'pajero', 'auris', 'niva', 's60', 'nubira', 'vivaro', 'g_klasse',\n",
    " 'lodgy', '850', 'range_rover', 'q3', 'serie_2', 'glk', 'charade', 'croma',\n",
    " 'outlander', 'doblo', 'musa', 'move', '9000', 'v60', '145', 'aveo', '200', 'b_max',\n",
    " 'range_rover_sport', 'terios', 'rangerover', 'q5', 'range_rover_evoque',\n",
    " 'materia', 'delta', 'gl', 'kalina', 'amarok', 'elefantino', 'i3', 'kappa',\n",
    " 'serie_3', 'serie_1']"
   ]
  },
  {
   "cell_type": "code",
   "execution_count": 15,
   "id": "1836f493-ac95-41e9-b1ec-b74c64fd15a1",
   "metadata": {},
   "outputs": [],
   "source": [
    "def normalize_model_name(name):\n",
    "    if pd.isna(name):\n",
    "        return name\n",
    "    return name.lower().replace(' ', '').replace('_', '').replace('-', '')"
   ]
  },
  {
   "cell_type": "code",
   "execution_count": 16,
   "id": "51248b53-06b0-4c68-841b-bcb9f7fd93c8",
   "metadata": {},
   "outputs": [],
   "source": [
    "norm_models = [normalize_model_name(model) for model in models]"
   ]
  },
  {
   "cell_type": "code",
   "execution_count": 17,
   "id": "c2182ce2-f0b4-46ff-932b-15f881730a9e",
   "metadata": {},
   "outputs": [],
   "source": [
    "model_counts = pd.Series(norm_models).value_counts()\n",
    "dupl_model = model_counts[model_counts > 1]"
   ]
  },
  {
   "cell_type": "code",
   "execution_count": 18,
   "id": "853c36ff-feca-424f-8048-1add37f1a9a5",
   "metadata": {},
   "outputs": [
    {
     "name": "stdout",
     "output_type": "stream",
     "text": [
      "rangerover    2\n",
      "Name: count, dtype: int64\n"
     ]
    }
   ],
   "source": [
    "print(dupl_model)"
   ]
  },
  {
   "cell_type": "code",
   "execution_count": 19,
   "id": "79175d63-2de8-4707-98e1-9caa515cbd25",
   "metadata": {},
   "outputs": [],
   "source": [
    "df['model'] = df['model'].replace('rangerover', 'range_rover')"
   ]
  },
  {
   "cell_type": "markdown",
   "id": "e35606bd-ad88-4a55-bf12-21f5d9bfdf42",
   "metadata": {},
   "source": [
    "Проверим уникальные значения в столбце с годом регистрации автомобиля:"
   ]
  },
  {
   "cell_type": "code",
   "execution_count": 20,
   "id": "355cd1d6-2906-4382-8348-23b95a81eca0",
   "metadata": {},
   "outputs": [
    {
     "data": {
      "text/plain": [
       "array([1000, 1001, 1039, 1111, 1200, 1234, 1253, 1255, 1300, 1400, 1500,\n",
       "       1600, 1602, 1688, 1800, 1910, 1915, 1919, 1920, 1923, 1925, 1927,\n",
       "       1928, 1929, 1930, 1931, 1932, 1933, 1934, 1935, 1936, 1937, 1938,\n",
       "       1940, 1941, 1942, 1943, 1944, 1945, 1946, 1947, 1948, 1949, 1950,\n",
       "       1951, 1952, 1953, 1954, 1955, 1956, 1957, 1958, 1959, 1960, 1961,\n",
       "       1962, 1963, 1964, 1965, 1966, 1967, 1968, 1969, 1970, 1971, 1972,\n",
       "       1973, 1974, 1975, 1976, 1977, 1978, 1979, 1980, 1981, 1982, 1983,\n",
       "       1984, 1985, 1986, 1987, 1988, 1989, 1990, 1991, 1992, 1993, 1994,\n",
       "       1995, 1996, 1997, 1998, 1999, 2000, 2001, 2002, 2003, 2004, 2005,\n",
       "       2006, 2007, 2008, 2009, 2010, 2011, 2012, 2013, 2014, 2015, 2016,\n",
       "       2017, 2018, 2019, 2066, 2200, 2222, 2290, 2500, 2800, 2900, 3000,\n",
       "       3200, 3500, 3700, 3800, 4000, 4100, 4500, 4800, 5000, 5300, 5555,\n",
       "       5600, 5900, 5911, 6000, 6500, 7000, 7100, 7500, 7800, 8000, 8200,\n",
       "       8455, 8500, 8888, 9000, 9229, 9450, 9996, 9999])"
      ]
     },
     "execution_count": 20,
     "metadata": {},
     "output_type": "execute_result"
    }
   ],
   "source": [
    "df['registration_year'].sort_values().unique()"
   ]
  },
  {
   "cell_type": "markdown",
   "id": "a5c62d55-83f7-44da-821e-440c55d86246",
   "metadata": {},
   "source": [
    "Сначала отсортируем данные по реальности и посмотрим их распределение:"
   ]
  },
  {
   "cell_type": "code",
   "execution_count": 21,
   "id": "627d2854-aeb3-45df-aade-8b419d98f11a",
   "metadata": {},
   "outputs": [
    {
     "data": {
      "text/plain": [
       "array([1910, 1915, 1919, 1920, 1923, 1925, 1927, 1928, 1929, 1930, 1931,\n",
       "       1932, 1933, 1934, 1935, 1936, 1937, 1938, 1940, 1941, 1942, 1943,\n",
       "       1944, 1945, 1946, 1947, 1948, 1949, 1950, 1951, 1952, 1953, 1954,\n",
       "       1955, 1956, 1957, 1958, 1959, 1960, 1961, 1962, 1963, 1964, 1965,\n",
       "       1966, 1967, 1968, 1969, 1970, 1971, 1972, 1973, 1974, 1975, 1976,\n",
       "       1977, 1978, 1979, 1980, 1981, 1982, 1983, 1984, 1985, 1986, 1987,\n",
       "       1988, 1989, 1990, 1991, 1992, 1993, 1994, 1995, 1996, 1997, 1998,\n",
       "       1999, 2000, 2001, 2002, 2003, 2004, 2005, 2006, 2007, 2008, 2009,\n",
       "       2010, 2011, 2012, 2013, 2014, 2015, 2016])"
      ]
     },
     "execution_count": 21,
     "metadata": {},
     "output_type": "execute_result"
    }
   ],
   "source": [
    "df = df[(df['registration_year'] >= 1910) & (df['registration_year'] <= 2016)]\n",
    "df['registration_year'].sort_values().unique()"
   ]
  },
  {
   "cell_type": "code",
   "execution_count": 22,
   "id": "14e77080-43ce-43f4-b2e4-059bb5f4c5ac",
   "metadata": {},
   "outputs": [
    {
     "data": {
      "image/png": "[encoded data removed]",
      "text/plain": [
       "<Figure size 1000x600 with 1 Axes>"
      ]
     },
     "metadata": {},
     "output_type": "display_data"
    }
   ],
   "source": [
    "value_counts = df['registration_year'].value_counts().sort_index()\n",
    "ax = value_counts.plot(kind='bar', figsize=(10, 6))\n",
    "\n",
    "ax.set_xlabel('Registration Year')\n",
    "ax.set_xticklabels(ax.get_xticklabels(), rotation=-45, ha='right')\n",
    "\n",
    "plt.tight_layout()\n",
    "plt.show()"
   ]
  },
  {
   "cell_type": "markdown",
   "id": "345f7007-4f77-4872-8362-34d37de56da6",
   "metadata": {},
   "source": [
    "Из гистограммы мы видим, что плотность распределения значений годов регистрации до какого-то, пока не видимого года, мала. Снова отсортируем данные и построим гистограмму:"
   ]
  },
  {
   "cell_type": "code",
   "execution_count": 23,
   "id": "de399aa0-7079-4923-a6d6-2dc6c439f4e0",
   "metadata": {},
   "outputs": [
    {
     "data": {
      "text/plain": [
       "array([1950, 1951, 1952, 1953, 1954, 1955, 1956, 1957, 1958, 1959, 1960,\n",
       "       1961, 1962, 1963, 1964, 1965, 1966, 1967, 1968, 1969, 1970, 1971,\n",
       "       1972, 1973, 1974, 1975, 1976, 1977, 1978, 1979, 1980, 1981, 1982,\n",
       "       1983, 1984, 1985, 1986, 1987, 1988, 1989, 1990, 1991, 1992, 1993,\n",
       "       1994, 1995, 1996, 1997, 1998, 1999, 2000, 2001, 2002, 2003, 2004,\n",
       "       2005, 2006, 2007, 2008, 2009, 2010, 2011, 2012, 2013, 2014, 2015,\n",
       "       2016])"
      ]
     },
     "execution_count": 23,
     "metadata": {},
     "output_type": "execute_result"
    }
   ],
   "source": [
    "df = df[(df['registration_year'] >= 1950) & (df['registration_year'] <= 2016)]\n",
    "df['registration_year'].sort_values().unique()"
   ]
  },
  {
   "cell_type": "code",
   "execution_count": 24,
   "id": "9e0a1afb-1c33-4adc-bf76-ab54087a131c",
   "metadata": {},
   "outputs": [
    {
     "data": {
      "image/png": "[encoded data removed]",
      "text/plain": [
       "<Figure size 1000x600 with 1 Axes>"
      ]
     },
     "metadata": {},
     "output_type": "display_data"
    }
   ],
   "source": [
    "value_counts = df['registration_year'].value_counts().sort_index()\n",
    "ax = value_counts.plot(kind='bar', figsize=(10, 6))\n",
    "\n",
    "ax.set_xlabel('Registration Year')\n",
    "ax.set_xticklabels(ax.get_xticklabels(), rotation=-45, ha='right')\n",
    "\n",
    "plt.tight_layout()\n",
    "plt.show()"
   ]
  },
  {
   "cell_type": "markdown",
   "id": "5019b72b-62fa-44cc-a6ac-33b15643245e",
   "metadata": {},
   "source": [
    "Из гистограммы видно, что плотность распределения годов регистрации автомобилей начинает увеличиваться с 1970-х годов. Отсортируруем таблицу по этому признаку в последний раз: "
   ]
  },
  {
   "cell_type": "code",
   "execution_count": 25,
   "id": "a7fc03ee-03d4-4bea-8b98-5a2be86e3290",
   "metadata": {},
   "outputs": [
    {
     "data": {
      "text/plain": [
       "array([1970, 1971, 1972, 1973, 1974, 1975, 1976, 1977, 1978, 1979, 1980,\n",
       "       1981, 1982, 1983, 1984, 1985, 1986, 1987, 1988, 1989, 1990, 1991,\n",
       "       1992, 1993, 1994, 1995, 1996, 1997, 1998, 1999, 2000, 2001, 2002,\n",
       "       2003, 2004, 2005, 2006, 2007, 2008, 2009, 2010, 2011, 2012, 2013,\n",
       "       2014, 2015, 2016])"
      ]
     },
     "execution_count": 25,
     "metadata": {},
     "output_type": "execute_result"
    }
   ],
   "source": [
    "df = df[(df['registration_year'] >= 1970) & (df['registration_year'] <= 2016)]\n",
    "df['registration_year'].sort_values().unique()"
   ]
  },
  {
   "cell_type": "markdown",
   "id": "42ff83de-15da-48ca-b74e-529b1e21d517",
   "metadata": {},
   "source": [
    "Выведем описательные статистики для столбца с мощностью автомобиля:"
   ]
  },
  {
   "cell_type": "code",
   "execution_count": 26,
   "id": "19248a39-11ab-4d40-8a4a-a9e4dc71bf88",
   "metadata": {},
   "outputs": [
    {
     "name": "stdout",
     "output_type": "stream",
     "text": [
      "Описательные статистики для столбца 'power':\n",
      "count    338501.000000\n",
      "mean        111.144410\n",
      "std         185.085461\n",
      "min           0.000000\n",
      "25%          69.000000\n",
      "50%         105.000000\n",
      "75%         143.000000\n",
      "max       20000.000000\n",
      "Name: power, dtype: float64\n"
     ]
    }
   ],
   "source": [
    "stats = df['power'].describe()\n",
    "\n",
    "print(\"Описательные статистики для столбца 'power':\")\n",
    "print(stats)"
   ]
  },
  {
   "cell_type": "markdown",
   "id": "dbde4644-1944-48e8-bbfd-25e4b7fce4ee",
   "metadata": {},
   "source": [
    "В этом признаке много как статистических, так и определнных по здравому смыслу выбросов. Удалим их, используя правило трех сигм:"
   ]
  },
  {
   "cell_type": "code",
   "execution_count": 27,
   "id": "7f466317-ac36-43bb-ba99-9233eba3985f",
   "metadata": {},
   "outputs": [
    {
     "name": "stdout",
     "output_type": "stream",
     "text": [
      "Верхняя граница: 666.4\n"
     ]
    }
   ],
   "source": [
    "mean_power = df['power'].mean()\n",
    "std_power = df['power'].std()\n",
    "upper_bound = mean_power + 3 * std_power\n",
    "\n",
    "print(f\"Верхняя граница: {round(upper_bound, 2)}\")"
   ]
  },
  {
   "cell_type": "code",
   "execution_count": 28,
   "id": "ba4d5302-34f8-4159-8ed2-7f8ee64aec38",
   "metadata": {},
   "outputs": [],
   "source": [
    "df = df[df['power'] <= 667]"
   ]
  },
  {
   "cell_type": "markdown",
   "id": "86917c52-3397-4534-8664-8ccdde816160",
   "metadata": {},
   "source": [
    "Также похожими на правду сделаем значения с ценой автомобиля:"
   ]
  },
  {
   "cell_type": "code",
   "execution_count": 29,
   "id": "77fad835-2ff2-49e9-a1a4-626c0e66f2bb",
   "metadata": {},
   "outputs": [
    {
     "data": {
      "text/plain": [
       "array([    0,     1,     2, ..., 19998, 19999, 20000])"
      ]
     },
     "execution_count": 29,
     "metadata": {},
     "output_type": "execute_result"
    }
   ],
   "source": [
    "df['price'].sort_values().unique()"
   ]
  },
  {
   "cell_type": "code",
   "execution_count": 30,
   "id": "e81a9b69-9d9b-469c-87fc-dec07347fc14",
   "metadata": {},
   "outputs": [],
   "source": [
    "df = df[df['price'] > 50]"
   ]
  },
  {
   "cell_type": "markdown",
   "id": "1721af41-d56e-4b70-b9e9-239f73ce2809",
   "metadata": {},
   "source": [
    "Проверим и пробег:"
   ]
  },
  {
   "cell_type": "code",
   "execution_count": 31,
   "id": "cf2b4038-8203-402b-bb42-dbe9e99d9274",
   "metadata": {},
   "outputs": [
    {
     "data": {
      "text/plain": [
       "count    326497.000000\n",
       "mean     128507.581999\n",
       "std       37119.875385\n",
       "min        5000.000000\n",
       "25%      125000.000000\n",
       "50%      150000.000000\n",
       "75%      150000.000000\n",
       "max      150000.000000\n",
       "Name: kilometer, dtype: float64"
      ]
     },
     "execution_count": 31,
     "metadata": {},
     "output_type": "execute_result"
    }
   ],
   "source": [
    "df['kilometer'].describe()"
   ]
  },
  {
   "cell_type": "markdown",
   "id": "c3dca762-8e24-4d52-b960-f34a74b7340d",
   "metadata": {},
   "source": [
    "Из описательных статистик можно сделать вывод, что данные удовлетворительные и могут быть использованы при построении моделей."
   ]
  },
  {
   "cell_type": "markdown",
   "id": "b6a4e088-40bf-4a30-a46a-363007cf19c2",
   "metadata": {},
   "source": [
    "Проверим датасет после всех удалененных данных на дубликаты и избавимся от них:"
   ]
  },
  {
   "cell_type": "code",
   "execution_count": 33,
   "id": "76b9aa0f-4b71-4b26-ac61-3758139afc3e",
   "metadata": {},
   "outputs": [
    {
     "data": {
      "text/plain": [
       "42947"
      ]
     },
     "execution_count": 33,
     "metadata": {},
     "output_type": "execute_result"
    }
   ],
   "source": [
    "df.duplicated().sum()"
   ]
  },
  {
   "cell_type": "code",
   "execution_count": 34,
   "id": "e8dac033-e0fb-43c1-a6ca-dc30f37ec318",
   "metadata": {},
   "outputs": [],
   "source": [
    "df = df.drop_duplicates().reset_index(drop=True)"
   ]
  },
  {
   "cell_type": "code",
   "execution_count": 35,
   "id": "068bf7a5-2571-41a6-9aec-d29cc423c75d",
   "metadata": {},
   "outputs": [
    {
     "data": {
      "text/plain": [
       "0"
      ]
     },
     "execution_count": 35,
     "metadata": {},
     "output_type": "execute_result"
    }
   ],
   "source": [
    "df.duplicated().sum()"
   ]
  },
  {
   "cell_type": "markdown",
   "id": "07f4006b-85f3-4b98-a581-b1114c016a73",
   "metadata": {},
   "source": [
    "Посмотрим, какая часть датасета была потеряна на этапе предобработки данных:"
   ]
  },
  {
   "cell_type": "code",
   "execution_count": 36,
   "id": "add5051e-9fd0-4ef9-a2b3-17c63b5fb1c5",
   "metadata": {},
   "outputs": [
    {
     "data": {
      "text/plain": [
       "0.2"
      ]
     },
     "execution_count": 36,
     "metadata": {},
     "output_type": "execute_result"
    }
   ],
   "source": [
    "len_3 = len(df)\n",
    "perc = round(1-len_3/len_1, 3)\n",
    "perc"
   ]
  },
  {
   "cell_type": "markdown",
   "id": "f47d7e4d-69d0-4439-a036-ca00ed407b50",
   "metadata": {},
   "source": [
    "Получается, наш датасет стал на 20% меньше! Однако данные теперь могут быть полезными и участвовать в обучении моделей!"
   ]
  },
  {
   "cell_type": "markdown",
   "id": "809d3c86-9bd7-4bf1-9d6e-d5d756d42d3e",
   "metadata": {},
   "source": [
    "## Корреляционный анализ"
   ]
  },
  {
   "cell_type": "code",
   "execution_count": 37,
   "id": "1446bf18-27e2-4963-8a5d-5da54b9327af",
   "metadata": {},
   "outputs": [
    {
     "name": "stdout",
     "output_type": "stream",
     "text": [
      "interval columns not set, guessing: ['price', 'registration_year', 'power', 'kilometer']\n"
     ]
    },
    {
     "data": {
      "image/png": "[encoded data removed]",
      "text/plain": [
       "<Figure size 800x600 with 2 Axes>"
      ]
     },
     "metadata": {},
     "output_type": "display_data"
    }
   ],
   "source": [
    "phik_matrix = df.phik_matrix()\n",
    "\n",
    "plt.figure(figsize=(8, 6))\n",
    "sns.heatmap(phik_matrix, annot=True, cmap='coolwarm', vmin=0, vmax=1)\n",
    "plt.title(\"Phik Correlation Matrix\")\n",
    "plt.show()"
   ]
  },
  {
   "cell_type": "markdown",
   "id": "dba0c987-919c-4d68-bf05-d3fc2fb1eba5",
   "metadata": {},
   "source": [
    "Из корреляционной матрицы можно сделать вывод, что признаки \"brand\" и \"model\" имеют сильную корреляцию, при этом \"brand\" меньше коррелирует с целевым признаком, чем \"model\", поэтому удалим его."
   ]
  },
  {
   "cell_type": "code",
   "execution_count": 38,
   "id": "dc74da3d-db49-4e9e-a888-f09d807c77d5",
   "metadata": {},
   "outputs": [
    {
     "data": {
      "text/html": [
       "<div>\n",
       "<style scoped>\n",
       "    .dataframe tbody tr th:only-of-type {\n",
       "        vertical-align: middle;\n",
       "    }\n",
       "\n",
       "    .dataframe tbody tr th {\n",
       "        vertical-align: top;\n",
       "    }\n",
       "\n",
       "    .dataframe thead th {\n",
       "        text-align: right;\n",
       "    }\n",
       "</style>\n",
       "<table border=\"1\" class=\"dataframe\">\n",
       "  <thead>\n",
       "    <tr style=\"text-align: right;\">\n",
       "      <th></th>\n",
       "      <th>price</th>\n",
       "      <th>vehicle_type</th>\n",
       "      <th>registration_year</th>\n",
       "      <th>gearbox</th>\n",
       "      <th>power</th>\n",
       "      <th>model</th>\n",
       "      <th>kilometer</th>\n",
       "      <th>fuel_type</th>\n",
       "      <th>repaired</th>\n",
       "    </tr>\n",
       "  </thead>\n",
       "  <tbody>\n",
       "    <tr>\n",
       "      <th>0</th>\n",
       "      <td>480</td>\n",
       "      <td>other</td>\n",
       "      <td>1993</td>\n",
       "      <td>manual</td>\n",
       "      <td>0</td>\n",
       "      <td>golf</td>\n",
       "      <td>150000</td>\n",
       "      <td>petrol</td>\n",
       "      <td>unknown</td>\n",
       "    </tr>\n",
       "    <tr>\n",
       "      <th>1</th>\n",
       "      <td>18300</td>\n",
       "      <td>coupe</td>\n",
       "      <td>2011</td>\n",
       "      <td>manual</td>\n",
       "      <td>190</td>\n",
       "      <td>unknown</td>\n",
       "      <td>125000</td>\n",
       "      <td>petrol</td>\n",
       "      <td>yes</td>\n",
       "    </tr>\n",
       "    <tr>\n",
       "      <th>2</th>\n",
       "      <td>9800</td>\n",
       "      <td>suv</td>\n",
       "      <td>2004</td>\n",
       "      <td>auto</td>\n",
       "      <td>163</td>\n",
       "      <td>grand</td>\n",
       "      <td>125000</td>\n",
       "      <td>petrol</td>\n",
       "      <td>unknown</td>\n",
       "    </tr>\n",
       "    <tr>\n",
       "      <th>3</th>\n",
       "      <td>1500</td>\n",
       "      <td>small</td>\n",
       "      <td>2001</td>\n",
       "      <td>manual</td>\n",
       "      <td>75</td>\n",
       "      <td>golf</td>\n",
       "      <td>150000</td>\n",
       "      <td>petrol</td>\n",
       "      <td>no</td>\n",
       "    </tr>\n",
       "    <tr>\n",
       "      <th>4</th>\n",
       "      <td>3600</td>\n",
       "      <td>small</td>\n",
       "      <td>2008</td>\n",
       "      <td>manual</td>\n",
       "      <td>69</td>\n",
       "      <td>fabia</td>\n",
       "      <td>90000</td>\n",
       "      <td>petrol</td>\n",
       "      <td>no</td>\n",
       "    </tr>\n",
       "  </tbody>\n",
       "</table>\n",
       "</div>"
      ],
      "text/plain": [
       "   price vehicle_type  registration_year gearbox  power    model  kilometer  \\\n",
       "0    480        other               1993  manual      0     golf     150000   \n",
       "1  18300        coupe               2011  manual    190  unknown     125000   \n",
       "2   9800          suv               2004    auto    163    grand     125000   \n",
       "3   1500        small               2001  manual     75     golf     150000   \n",
       "4   3600        small               2008  manual     69    fabia      90000   \n",
       "\n",
       "  fuel_type repaired  \n",
       "0    petrol  unknown  \n",
       "1    petrol      yes  \n",
       "2    petrol  unknown  \n",
       "3    petrol       no  \n",
       "4    petrol       no  "
      ]
     },
     "execution_count": 38,
     "metadata": {},
     "output_type": "execute_result"
    }
   ],
   "source": [
    "df.drop('brand', axis=1, inplace=True)\n",
    "df.head()"
   ]
  },
  {
   "cell_type": "markdown",
   "id": "25095c2a-51c0-48cf-8d5e-4a62f6db619a",
   "metadata": {},
   "source": [
    "## Обучение моделей"
   ]
  },
  {
   "cell_type": "markdown",
   "id": "f8adc703-6f74-4972-94d3-43e2c10b4506",
   "metadata": {},
   "source": [
    "Сперва подготовим данные для каждой из моделей и закодируем их:"
   ]
  },
  {
   "cell_type": "markdown",
   "id": "9f6edb96-e79a-4c4b-ae75-c627afcabb3b",
   "metadata": {},
   "source": [
    "### Прямое кодирование"
   ]
  },
  {
   "cell_type": "code",
   "execution_count": 39,
   "id": "11885e08-b22a-4d92-866d-3e521405ec18",
   "metadata": {},
   "outputs": [
    {
     "data": {
      "text/html": [
       "<div>\n",
       "<style scoped>\n",
       "    .dataframe tbody tr th:only-of-type {\n",
       "        vertical-align: middle;\n",
       "    }\n",
       "\n",
       "    .dataframe tbody tr th {\n",
       "        vertical-align: top;\n",
       "    }\n",
       "\n",
       "    .dataframe thead th {\n",
       "        text-align: right;\n",
       "    }\n",
       "</style>\n",
       "<table border=\"1\" class=\"dataframe\">\n",
       "  <thead>\n",
       "    <tr style=\"text-align: right;\">\n",
       "      <th></th>\n",
       "      <th>price</th>\n",
       "      <th>registration_year</th>\n",
       "      <th>power</th>\n",
       "      <th>kilometer</th>\n",
       "      <th>vehicle_type_convertible</th>\n",
       "      <th>vehicle_type_coupe</th>\n",
       "      <th>vehicle_type_other</th>\n",
       "      <th>vehicle_type_sedan</th>\n",
       "      <th>vehicle_type_small</th>\n",
       "      <th>vehicle_type_suv</th>\n",
       "      <th>...</th>\n",
       "      <th>model_z_reihe</th>\n",
       "      <th>model_zafira</th>\n",
       "      <th>fuel_type_electric</th>\n",
       "      <th>fuel_type_hybrid</th>\n",
       "      <th>fuel_type_lpg</th>\n",
       "      <th>fuel_type_other</th>\n",
       "      <th>fuel_type_petrol</th>\n",
       "      <th>fuel_type_unknown</th>\n",
       "      <th>repaired_unknown</th>\n",
       "      <th>repaired_yes</th>\n",
       "    </tr>\n",
       "  </thead>\n",
       "  <tbody>\n",
       "    <tr>\n",
       "      <th>0</th>\n",
       "      <td>480</td>\n",
       "      <td>1993</td>\n",
       "      <td>0</td>\n",
       "      <td>150000</td>\n",
       "      <td>False</td>\n",
       "      <td>False</td>\n",
       "      <td>True</td>\n",
       "      <td>False</td>\n",
       "      <td>False</td>\n",
       "      <td>False</td>\n",
       "      <td>...</td>\n",
       "      <td>False</td>\n",
       "      <td>False</td>\n",
       "      <td>False</td>\n",
       "      <td>False</td>\n",
       "      <td>False</td>\n",
       "      <td>False</td>\n",
       "      <td>True</td>\n",
       "      <td>False</td>\n",
       "      <td>True</td>\n",
       "      <td>False</td>\n",
       "    </tr>\n",
       "    <tr>\n",
       "      <th>1</th>\n",
       "      <td>18300</td>\n",
       "      <td>2011</td>\n",
       "      <td>190</td>\n",
       "      <td>125000</td>\n",
       "      <td>False</td>\n",
       "      <td>True</td>\n",
       "      <td>False</td>\n",
       "      <td>False</td>\n",
       "      <td>False</td>\n",
       "      <td>False</td>\n",
       "      <td>...</td>\n",
       "      <td>False</td>\n",
       "      <td>False</td>\n",
       "      <td>False</td>\n",
       "      <td>False</td>\n",
       "      <td>False</td>\n",
       "      <td>False</td>\n",
       "      <td>True</td>\n",
       "      <td>False</td>\n",
       "      <td>False</td>\n",
       "      <td>True</td>\n",
       "    </tr>\n",
       "    <tr>\n",
       "      <th>2</th>\n",
       "      <td>9800</td>\n",
       "      <td>2004</td>\n",
       "      <td>163</td>\n",
       "      <td>125000</td>\n",
       "      <td>False</td>\n",
       "      <td>False</td>\n",
       "      <td>False</td>\n",
       "      <td>False</td>\n",
       "      <td>False</td>\n",
       "      <td>True</td>\n",
       "      <td>...</td>\n",
       "      <td>False</td>\n",
       "      <td>False</td>\n",
       "      <td>False</td>\n",
       "      <td>False</td>\n",
       "      <td>False</td>\n",
       "      <td>False</td>\n",
       "      <td>True</td>\n",
       "      <td>False</td>\n",
       "      <td>True</td>\n",
       "      <td>False</td>\n",
       "    </tr>\n",
       "    <tr>\n",
       "      <th>3</th>\n",
       "      <td>1500</td>\n",
       "      <td>2001</td>\n",
       "      <td>75</td>\n",
       "      <td>150000</td>\n",
       "      <td>False</td>\n",
       "      <td>False</td>\n",
       "      <td>False</td>\n",
       "      <td>False</td>\n",
       "      <td>True</td>\n",
       "      <td>False</td>\n",
       "      <td>...</td>\n",
       "      <td>False</td>\n",
       "      <td>False</td>\n",
       "      <td>False</td>\n",
       "      <td>False</td>\n",
       "      <td>False</td>\n",
       "      <td>False</td>\n",
       "      <td>True</td>\n",
       "      <td>False</td>\n",
       "      <td>False</td>\n",
       "      <td>False</td>\n",
       "    </tr>\n",
       "    <tr>\n",
       "      <th>4</th>\n",
       "      <td>3600</td>\n",
       "      <td>2008</td>\n",
       "      <td>69</td>\n",
       "      <td>90000</td>\n",
       "      <td>False</td>\n",
       "      <td>False</td>\n",
       "      <td>False</td>\n",
       "      <td>False</td>\n",
       "      <td>True</td>\n",
       "      <td>False</td>\n",
       "      <td>...</td>\n",
       "      <td>False</td>\n",
       "      <td>False</td>\n",
       "      <td>False</td>\n",
       "      <td>False</td>\n",
       "      <td>False</td>\n",
       "      <td>False</td>\n",
       "      <td>True</td>\n",
       "      <td>False</td>\n",
       "      <td>False</td>\n",
       "      <td>False</td>\n",
       "    </tr>\n",
       "    <tr>\n",
       "      <th>...</th>\n",
       "      <td>...</td>\n",
       "      <td>...</td>\n",
       "      <td>...</td>\n",
       "      <td>...</td>\n",
       "      <td>...</td>\n",
       "      <td>...</td>\n",
       "      <td>...</td>\n",
       "      <td>...</td>\n",
       "      <td>...</td>\n",
       "      <td>...</td>\n",
       "      <td>...</td>\n",
       "      <td>...</td>\n",
       "      <td>...</td>\n",
       "      <td>...</td>\n",
       "      <td>...</td>\n",
       "      <td>...</td>\n",
       "      <td>...</td>\n",
       "      <td>...</td>\n",
       "      <td>...</td>\n",
       "      <td>...</td>\n",
       "      <td>...</td>\n",
       "    </tr>\n",
       "    <tr>\n",
       "      <th>283545</th>\n",
       "      <td>3200</td>\n",
       "      <td>2004</td>\n",
       "      <td>225</td>\n",
       "      <td>150000</td>\n",
       "      <td>False</td>\n",
       "      <td>False</td>\n",
       "      <td>False</td>\n",
       "      <td>True</td>\n",
       "      <td>False</td>\n",
       "      <td>False</td>\n",
       "      <td>...</td>\n",
       "      <td>False</td>\n",
       "      <td>False</td>\n",
       "      <td>False</td>\n",
       "      <td>False</td>\n",
       "      <td>False</td>\n",
       "      <td>False</td>\n",
       "      <td>True</td>\n",
       "      <td>False</td>\n",
       "      <td>False</td>\n",
       "      <td>True</td>\n",
       "    </tr>\n",
       "    <tr>\n",
       "      <th>283546</th>\n",
       "      <td>2200</td>\n",
       "      <td>2005</td>\n",
       "      <td>0</td>\n",
       "      <td>20000</td>\n",
       "      <td>False</td>\n",
       "      <td>False</td>\n",
       "      <td>True</td>\n",
       "      <td>False</td>\n",
       "      <td>False</td>\n",
       "      <td>False</td>\n",
       "      <td>...</td>\n",
       "      <td>False</td>\n",
       "      <td>False</td>\n",
       "      <td>False</td>\n",
       "      <td>False</td>\n",
       "      <td>False</td>\n",
       "      <td>False</td>\n",
       "      <td>False</td>\n",
       "      <td>True</td>\n",
       "      <td>True</td>\n",
       "      <td>False</td>\n",
       "    </tr>\n",
       "    <tr>\n",
       "      <th>283547</th>\n",
       "      <td>1199</td>\n",
       "      <td>2000</td>\n",
       "      <td>101</td>\n",
       "      <td>125000</td>\n",
       "      <td>True</td>\n",
       "      <td>False</td>\n",
       "      <td>False</td>\n",
       "      <td>False</td>\n",
       "      <td>False</td>\n",
       "      <td>False</td>\n",
       "      <td>...</td>\n",
       "      <td>False</td>\n",
       "      <td>False</td>\n",
       "      <td>False</td>\n",
       "      <td>False</td>\n",
       "      <td>False</td>\n",
       "      <td>False</td>\n",
       "      <td>True</td>\n",
       "      <td>False</td>\n",
       "      <td>False</td>\n",
       "      <td>False</td>\n",
       "    </tr>\n",
       "    <tr>\n",
       "      <th>283548</th>\n",
       "      <td>9200</td>\n",
       "      <td>1996</td>\n",
       "      <td>102</td>\n",
       "      <td>150000</td>\n",
       "      <td>False</td>\n",
       "      <td>False</td>\n",
       "      <td>False</td>\n",
       "      <td>False</td>\n",
       "      <td>False</td>\n",
       "      <td>False</td>\n",
       "      <td>...</td>\n",
       "      <td>False</td>\n",
       "      <td>False</td>\n",
       "      <td>False</td>\n",
       "      <td>False</td>\n",
       "      <td>False</td>\n",
       "      <td>False</td>\n",
       "      <td>True</td>\n",
       "      <td>False</td>\n",
       "      <td>False</td>\n",
       "      <td>False</td>\n",
       "    </tr>\n",
       "    <tr>\n",
       "      <th>283549</th>\n",
       "      <td>3400</td>\n",
       "      <td>2002</td>\n",
       "      <td>100</td>\n",
       "      <td>150000</td>\n",
       "      <td>False</td>\n",
       "      <td>False</td>\n",
       "      <td>False</td>\n",
       "      <td>False</td>\n",
       "      <td>False</td>\n",
       "      <td>False</td>\n",
       "      <td>...</td>\n",
       "      <td>False</td>\n",
       "      <td>False</td>\n",
       "      <td>False</td>\n",
       "      <td>False</td>\n",
       "      <td>False</td>\n",
       "      <td>False</td>\n",
       "      <td>True</td>\n",
       "      <td>False</td>\n",
       "      <td>True</td>\n",
       "      <td>False</td>\n",
       "    </tr>\n",
       "  </tbody>\n",
       "</table>\n",
       "<p>283550 rows × 270 columns</p>\n",
       "</div>"
      ],
      "text/plain": [
       "        price  registration_year  power  kilometer  vehicle_type_convertible  \\\n",
       "0         480               1993      0     150000                     False   \n",
       "1       18300               2011    190     125000                     False   \n",
       "2        9800               2004    163     125000                     False   \n",
       "3        1500               2001     75     150000                     False   \n",
       "4        3600               2008     69      90000                     False   \n",
       "...       ...                ...    ...        ...                       ...   \n",
       "283545   3200               2004    225     150000                     False   \n",
       "283546   2200               2005      0      20000                     False   \n",
       "283547   1199               2000    101     125000                      True   \n",
       "283548   9200               1996    102     150000                     False   \n",
       "283549   3400               2002    100     150000                     False   \n",
       "\n",
       "        vehicle_type_coupe  vehicle_type_other  vehicle_type_sedan  \\\n",
       "0                    False                True               False   \n",
       "1                     True               False               False   \n",
       "2                    False               False               False   \n",
       "3                    False               False               False   \n",
       "4                    False               False               False   \n",
       "...                    ...                 ...                 ...   \n",
       "283545               False               False                True   \n",
       "283546               False                True               False   \n",
       "283547               False               False               False   \n",
       "283548               False               False               False   \n",
       "283549               False               False               False   \n",
       "\n",
       "        vehicle_type_small  vehicle_type_suv  ...  model_z_reihe  \\\n",
       "0                    False             False  ...          False   \n",
       "1                    False             False  ...          False   \n",
       "2                    False              True  ...          False   \n",
       "3                     True             False  ...          False   \n",
       "4                     True             False  ...          False   \n",
       "...                    ...               ...  ...            ...   \n",
       "283545               False             False  ...          False   \n",
       "283546               False             False  ...          False   \n",
       "283547               False             False  ...          False   \n",
       "283548               False             False  ...          False   \n",
       "283549               False             False  ...          False   \n",
       "\n",
       "        model_zafira  fuel_type_electric  fuel_type_hybrid  fuel_type_lpg  \\\n",
       "0              False               False             False          False   \n",
       "1              False               False             False          False   \n",
       "2              False               False             False          False   \n",
       "3              False               False             False          False   \n",
       "4              False               False             False          False   \n",
       "...              ...                 ...               ...            ...   \n",
       "283545         False               False             False          False   \n",
       "283546         False               False             False          False   \n",
       "283547         False               False             False          False   \n",
       "283548         False               False             False          False   \n",
       "283549         False               False             False          False   \n",
       "\n",
       "        fuel_type_other  fuel_type_petrol  fuel_type_unknown  \\\n",
       "0                 False              True              False   \n",
       "1                 False              True              False   \n",
       "2                 False              True              False   \n",
       "3                 False              True              False   \n",
       "4                 False              True              False   \n",
       "...                 ...               ...                ...   \n",
       "283545            False              True              False   \n",
       "283546            False             False               True   \n",
       "283547            False              True              False   \n",
       "283548            False              True              False   \n",
       "283549            False              True              False   \n",
       "\n",
       "        repaired_unknown  repaired_yes  \n",
       "0                   True         False  \n",
       "1                  False          True  \n",
       "2                   True         False  \n",
       "3                  False         False  \n",
       "4                  False         False  \n",
       "...                  ...           ...  \n",
       "283545             False          True  \n",
       "283546              True         False  \n",
       "283547             False         False  \n",
       "283548             False         False  \n",
       "283549              True         False  \n",
       "\n",
       "[283550 rows x 270 columns]"
      ]
     },
     "execution_count": 39,
     "metadata": {},
     "output_type": "execute_result"
    }
   ],
   "source": [
    "data = pd.get_dummies(df, drop_first=True)\n",
    "data"
   ]
  },
  {
   "cell_type": "code",
   "execution_count": 40,
   "id": "8b1f3553-e7c4-4007-8e77-3fd2816fa761",
   "metadata": {},
   "outputs": [],
   "source": [
    "X = data.drop('price', axis=1)\n",
    "y = data['price']"
   ]
  },
  {
   "cell_type": "code",
   "execution_count": 41,
   "id": "c67b617e-f34b-4fa9-a191-4bcdabf25a41",
   "metadata": {},
   "outputs": [],
   "source": [
    "X_train, X_temp, y_train, y_temp = train_test_split(X, y, test_size=0.3, random_state=42)\n",
    "X_val, X_test, y_val, y_test = train_test_split(X_temp, y_temp, test_size=0.5, random_state=42)"
   ]
  },
  {
   "cell_type": "code",
   "execution_count": 42,
   "id": "7bedf369-ceff-4a26-8112-8e6ed19ed10f",
   "metadata": {},
   "outputs": [],
   "source": [
    "scaler = StandardScaler()\n",
    "X_train_scaled = scaler.fit_transform(X_train)\n",
    "X_val_scaled = scaler.transform(X_val)\n",
    "X_test_scaled = scaler.transform(X_test)"
   ]
  },
  {
   "cell_type": "markdown",
   "id": "6ee41ffd-24e6-4311-ac24-8a5613fb19a4",
   "metadata": {},
   "source": [
    "### Порядковое кодирование"
   ]
  },
  {
   "cell_type": "code",
   "execution_count": 43,
   "id": "a0372431-ef69-4dec-bcc2-7cee0f13727e",
   "metadata": {},
   "outputs": [],
   "source": [
    "target = df['price']\n",
    "features = df.drop('price', axis=1)"
   ]
  },
  {
   "cell_type": "code",
   "execution_count": 44,
   "id": "80ba0e3d-593a-4a40-afe8-833a15c213a9",
   "metadata": {},
   "outputs": [],
   "source": [
    "encoder = OrdinalEncoder()\n",
    "X_encoded = encoder.fit_transform(features)"
   ]
  },
  {
   "cell_type": "code",
   "execution_count": 45,
   "id": "b78ab2a0-8ed0-4aa7-83a6-0e0f7a73133b",
   "metadata": {},
   "outputs": [],
   "source": [
    "X_train_1, X_temp_1, y_train_1, y_temp_1 = train_test_split(X_encoded, y, test_size=0.3, random_state=42)\n",
    "X_val_1, X_test_1, y_val_1, y_test_1 = train_test_split(X_temp_1, y_temp_1, test_size=0.5, random_state=42)"
   ]
  },
  {
   "cell_type": "code",
   "execution_count": 46,
   "id": "e6710526-b677-4998-9641-cca7488c9cf8",
   "metadata": {},
   "outputs": [],
   "source": [
    "scaler = StandardScaler()\n",
    "X_train_scaled_1 = scaler.fit_transform(X_train_1)\n",
    "X_val_scaled_1 = scaler.transform(X_val_1)\n",
    "X_test_scaled_1 = scaler.transform(X_test_1)"
   ]
  },
  {
   "cell_type": "markdown",
   "id": "78e4c215-6e17-4aee-90c5-7f1a105aeab2",
   "metadata": {},
   "source": [
    "Для каждой модели, подбирая гиперпараметры, будем использовать две выборки: тренировочную и валидационную. После выбора лучшей модели воспользуемся, наконец, тестовой."
   ]
  },
  {
   "cell_type": "markdown",
   "id": "ceccbeba-d303-4af7-b2ae-e4f75a2ccef9",
   "metadata": {},
   "source": [
    "### Linear Regression"
   ]
  },
  {
   "cell_type": "markdown",
   "id": "096dd258-7aa7-4452-82c0-76288fac775a",
   "metadata": {},
   "source": [
    "У линейной модели нет гиперпараметров, поэтому обучим ее просто так, предварительно их стандартизировав, и выведем необходимую метрику:"
   ]
  },
  {
   "cell_type": "code",
   "execution_count": 47,
   "id": "ed71546c-48c2-469c-8e24-6688cbdaed7e",
   "metadata": {},
   "outputs": [
    {
     "name": "stdout",
     "output_type": "stream",
     "text": [
      "RMSE on validation set: 2724.973629722926\n"
     ]
    }
   ],
   "source": [
    "model_lr = LinearRegression()\n",
    "model_lr.fit(X_train_scaled, y_train)\n",
    "\n",
    "lr_y_pred_val = model_lr.predict(X_val_scaled)\n",
    "\n",
    "lr_rmse = np.sqrt(mean_squared_error(y_val, lr_y_pred_val))\n",
    "print(f'RMSE on validation set: {lr_rmse}')"
   ]
  },
  {
   "cell_type": "markdown",
   "id": "56e6ebdb-f4d4-4a46-9875-2e95bc999e69",
   "metadata": {},
   "source": [
    "### LGBM"
   ]
  },
  {
   "cell_type": "markdown",
   "id": "0be2e557-1f44-4c5b-955c-b8c06b96ba86",
   "metadata": {},
   "source": [
    "Обучим модель и выведем RMSE:"
   ]
  },
  {
   "cell_type": "code",
   "execution_count": 48,
   "id": "56b6e9a7-72b7-461f-8f48-434057320a26",
   "metadata": {},
   "outputs": [
    {
     "name": "stdout",
     "output_type": "stream",
     "text": [
      "[LightGBM] [Info] Auto-choosing row-wise multi-threading, the overhead of testing was 0.003075 seconds.\n",
      "You can set `force_row_wise=true` to remove the overhead.\n",
      "And if memory is not enough, you can set `force_col_wise=true`.\n",
      "[LightGBM] [Info] Total Bins 591\n",
      "[LightGBM] [Info] Number of data points in the train set: 198485, number of used features: 8\n",
      "[LightGBM] [Info] Start training from score 4710.035106\n",
      "RMSE on validation set: 1792.382905424475\n"
     ]
    }
   ],
   "source": [
    "model_lgbm = lgb.LGBMRegressor(random_state=12345)\n",
    "model_lgbm.fit(X_train_scaled_1, y_train_1)\n",
    "\n",
    "lgbm_y_pred_val = model_lgbm.predict(X_val_scaled_1)\n",
    "lgbm_rmse = np.sqrt(mean_squared_error(y_val_1, lgbm_y_pred_val))\n",
    "print(f'RMSE on validation set: {lgbm_rmse}')"
   ]
  },
  {
   "cell_type": "markdown",
   "id": "e92965b3-be22-406d-9310-0260b875ec73",
   "metadata": {},
   "source": [
    "Определим наилучшие гиперпараметры для модели на валидационной выборке:"
   ]
  },
  {
   "cell_type": "code",
   "execution_count": 49,
   "id": "12ce62ae-c7ae-411b-b0d3-6ce69e8d80db",
   "metadata": {},
   "outputs": [],
   "source": [
    "param_grid = {\n",
    "    'n_estimators': [100, 500],\n",
    "    'num_leaves': [n for n in range(120, 260, 20)]\n",
    "}\n",
    "\n",
    "best_params = None\n",
    "best_rmse = float('inf')"
   ]
  },
  {
   "cell_type": "code",
   "execution_count": 50,
   "id": "ee8f8837-b4f5-4874-83b4-253ffc9bea94",
   "metadata": {},
   "outputs": [
    {
     "name": "stdout",
     "output_type": "stream",
     "text": [
      "[LightGBM] [Info] Auto-choosing row-wise multi-threading, the overhead of testing was 0.003254 seconds.\n",
      "You can set `force_row_wise=true` to remove the overhead.\n",
      "And if memory is not enough, you can set `force_col_wise=true`.\n",
      "[LightGBM] [Info] Total Bins 591\n",
      "[LightGBM] [Info] Number of data points in the train set: 198485, number of used features: 8\n",
      "[LightGBM] [Info] Start training from score 4710.035106\n",
      "Params: {'n_estimators': 100, 'num_leaves': 120}, RMSE: 1671.785169746243\n",
      "[LightGBM] [Info] Auto-choosing row-wise multi-threading, the overhead of testing was 0.006229 seconds.\n",
      "You can set `force_row_wise=true` to remove the overhead.\n",
      "And if memory is not enough, you can set `force_col_wise=true`.\n",
      "[LightGBM] [Info] Total Bins 591\n",
      "[LightGBM] [Info] Number of data points in the train set: 198485, number of used features: 8\n",
      "[LightGBM] [Info] Start training from score 4710.035106\n",
      "Params: {'n_estimators': 100, 'num_leaves': 140}, RMSE: 1660.8554503114904\n",
      "[LightGBM] [Info] Auto-choosing row-wise multi-threading, the overhead of testing was 0.121681 seconds.\n",
      "You can set `force_row_wise=true` to remove the overhead.\n",
      "And if memory is not enough, you can set `force_col_wise=true`.\n",
      "[LightGBM] [Info] Total Bins 591\n",
      "[LightGBM] [Info] Number of data points in the train set: 198485, number of used features: 8\n",
      "[LightGBM] [Info] Start training from score 4710.035106\n",
      "Params: {'n_estimators': 100, 'num_leaves': 160}, RMSE: 1659.5887743197982\n",
      "[LightGBM] [Info] Auto-choosing row-wise multi-threading, the overhead of testing was 0.100271 seconds.\n",
      "You can set `force_row_wise=true` to remove the overhead.\n",
      "And if memory is not enough, you can set `force_col_wise=true`.\n",
      "[LightGBM] [Info] Total Bins 591\n",
      "[LightGBM] [Info] Number of data points in the train set: 198485, number of used features: 8\n",
      "[LightGBM] [Info] Start training from score 4710.035106\n",
      "Params: {'n_estimators': 100, 'num_leaves': 180}, RMSE: 1647.270767790738\n",
      "[LightGBM] [Info] Auto-choosing row-wise multi-threading, the overhead of testing was 0.003020 seconds.\n",
      "You can set `force_row_wise=true` to remove the overhead.\n",
      "And if memory is not enough, you can set `force_col_wise=true`.\n",
      "[LightGBM] [Info] Total Bins 591\n",
      "[LightGBM] [Info] Number of data points in the train set: 198485, number of used features: 8\n",
      "[LightGBM] [Info] Start training from score 4710.035106\n",
      "Params: {'n_estimators': 100, 'num_leaves': 200}, RMSE: 1642.7199702425573\n",
      "[LightGBM] [Info] Auto-choosing row-wise multi-threading, the overhead of testing was 0.003331 seconds.\n",
      "You can set `force_row_wise=true` to remove the overhead.\n",
      "And if memory is not enough, you can set `force_col_wise=true`.\n",
      "[LightGBM] [Info] Total Bins 591\n",
      "[LightGBM] [Info] Number of data points in the train set: 198485, number of used features: 8\n",
      "[LightGBM] [Info] Start training from score 4710.035106\n",
      "Params: {'n_estimators': 100, 'num_leaves': 220}, RMSE: 1640.7260671309134\n",
      "[LightGBM] [Info] Auto-choosing row-wise multi-threading, the overhead of testing was 0.002291 seconds.\n",
      "You can set `force_row_wise=true` to remove the overhead.\n",
      "And if memory is not enough, you can set `force_col_wise=true`.\n",
      "[LightGBM] [Info] Total Bins 591\n",
      "[LightGBM] [Info] Number of data points in the train set: 198485, number of used features: 8\n",
      "[LightGBM] [Info] Start training from score 4710.035106\n",
      "Params: {'n_estimators': 100, 'num_leaves': 240}, RMSE: 1635.2876008336284\n",
      "[LightGBM] [Info] Auto-choosing row-wise multi-threading, the overhead of testing was 0.003203 seconds.\n",
      "You can set `force_row_wise=true` to remove the overhead.\n",
      "And if memory is not enough, you can set `force_col_wise=true`.\n",
      "[LightGBM] [Info] Total Bins 591\n",
      "[LightGBM] [Info] Number of data points in the train set: 198485, number of used features: 8\n",
      "[LightGBM] [Info] Start training from score 4710.035106\n",
      "Params: {'n_estimators': 500, 'num_leaves': 120}, RMSE: 1613.4886947017264\n",
      "[LightGBM] [Info] Auto-choosing row-wise multi-threading, the overhead of testing was 0.022979 seconds.\n",
      "You can set `force_row_wise=true` to remove the overhead.\n",
      "And if memory is not enough, you can set `force_col_wise=true`.\n",
      "[LightGBM] [Info] Total Bins 591\n",
      "[LightGBM] [Info] Number of data points in the train set: 198485, number of used features: 8\n",
      "[LightGBM] [Info] Start training from score 4710.035106\n",
      "Params: {'n_estimators': 500, 'num_leaves': 140}, RMSE: 1610.9607133461122\n",
      "[LightGBM] [Info] Auto-choosing row-wise multi-threading, the overhead of testing was 0.041659 seconds.\n",
      "You can set `force_row_wise=true` to remove the overhead.\n",
      "And if memory is not enough, you can set `force_col_wise=true`.\n",
      "[LightGBM] [Info] Total Bins 591\n",
      "[LightGBM] [Info] Number of data points in the train set: 198485, number of used features: 8\n",
      "[LightGBM] [Info] Start training from score 4710.035106\n",
      "Params: {'n_estimators': 500, 'num_leaves': 160}, RMSE: 1611.1760315897525\n",
      "[LightGBM] [Info] Auto-choosing row-wise multi-threading, the overhead of testing was 0.184482 seconds.\n",
      "You can set `force_row_wise=true` to remove the overhead.\n",
      "And if memory is not enough, you can set `force_col_wise=true`.\n",
      "[LightGBM] [Info] Total Bins 591\n",
      "[LightGBM] [Info] Number of data points in the train set: 198485, number of used features: 8\n",
      "[LightGBM] [Info] Start training from score 4710.035106\n",
      "Params: {'n_estimators': 500, 'num_leaves': 180}, RMSE: 1606.7398316872434\n",
      "[LightGBM] [Info] Auto-choosing row-wise multi-threading, the overhead of testing was 0.003996 seconds.\n",
      "You can set `force_row_wise=true` to remove the overhead.\n",
      "And if memory is not enough, you can set `force_col_wise=true`.\n",
      "[LightGBM] [Info] Total Bins 591\n",
      "[LightGBM] [Info] Number of data points in the train set: 198485, number of used features: 8\n",
      "[LightGBM] [Info] Start training from score 4710.035106\n",
      "Params: {'n_estimators': 500, 'num_leaves': 200}, RMSE: 1614.389988433892\n",
      "[LightGBM] [Info] Auto-choosing row-wise multi-threading, the overhead of testing was 0.007541 seconds.\n",
      "You can set `force_row_wise=true` to remove the overhead.\n",
      "And if memory is not enough, you can set `force_col_wise=true`.\n",
      "[LightGBM] [Info] Total Bins 591\n",
      "[LightGBM] [Info] Number of data points in the train set: 198485, number of used features: 8\n",
      "[LightGBM] [Info] Start training from score 4710.035106\n",
      "Params: {'n_estimators': 500, 'num_leaves': 220}, RMSE: 1610.4491411353479\n",
      "[LightGBM] [Info] Auto-choosing row-wise multi-threading, the overhead of testing was 0.047161 seconds.\n",
      "You can set `force_row_wise=true` to remove the overhead.\n",
      "And if memory is not enough, you can set `force_col_wise=true`.\n",
      "[LightGBM] [Info] Total Bins 591\n",
      "[LightGBM] [Info] Number of data points in the train set: 198485, number of used features: 8\n",
      "[LightGBM] [Info] Start training from score 4710.035106\n",
      "Params: {'n_estimators': 500, 'num_leaves': 240}, RMSE: 1609.315909026414\n",
      "Best params: {'n_estimators': 500, 'num_leaves': 180}\n",
      "Best score (RMSE): 1606.7398316872434\n"
     ]
    }
   ],
   "source": [
    "for params in ParameterGrid(param_grid):\n",
    "    model = lgb.LGBMRegressor(**params, random_state=12345)\n",
    "    model.fit(X_train_scaled_1, y_train_1)\n",
    "    y_pred_val = model.predict(X_val_scaled_1)\n",
    "    rmse = np.sqrt(mean_squared_error(y_val_1, y_pred_val))\n",
    "    print(f'Params: {params}, RMSE: {rmse}')\n",
    "    if rmse < best_rmse:\n",
    "        best_rmse = rmse\n",
    "        best_params = params\n",
    "\n",
    "print(f'Best params: {best_params}')\n",
    "print(f'Best score (RMSE): {best_rmse}')"
   ]
  },
  {
   "cell_type": "markdown",
   "id": "5d7a7be3-94c1-4545-bafc-a3674f20453d",
   "metadata": {},
   "source": [
    "Получается, что для этой модели лучшими гиперпараметрами являются n_estimators = 500 и num_leaves = 180. Показатель RMSE для этих параметров составляет 1606.74"
   ]
  },
  {
   "cell_type": "markdown",
   "id": "55df9985-922f-45e7-895d-1c90a58e83bf",
   "metadata": {},
   "source": [
    "### Decision Tree"
   ]
  },
  {
   "cell_type": "markdown",
   "id": "323828b8-7ce0-4b81-bcb6-14964e0be440",
   "metadata": {},
   "source": [
    "Определим гиперпараметры, посчитаем RMSE на валидационной выборке для каждых из них:"
   ]
  },
  {
   "cell_type": "code",
   "execution_count": 54,
   "id": "21f5df13-f887-4cf6-85ed-6b8c0f3d676e",
   "metadata": {},
   "outputs": [
    {
     "name": "stdout",
     "output_type": "stream",
     "text": [
      "Глубина: 3\n",
      "RMSE для решающего дерева на валидационной выборке: 2958.631017727267\n",
      "\n",
      "Глубина: 6\n",
      "RMSE для решающего дерева на валидационной выборке: 2321.9993673701674\n",
      "\n",
      "Глубина: 9\n",
      "RMSE для решающего дерева на валидационной выборке: 2089.3315166821317\n",
      "\n",
      "Глубина: 12\n",
      "RMSE для решающего дерева на валидационной выборке: 1981.1903865313257\n",
      "\n",
      "Глубина: 15\n",
      "RMSE для решающего дерева на валидационной выборке: 1989.2145106443022\n",
      "\n",
      "Глубина: 18\n",
      "RMSE для решающего дерева на валидационной выборке: 2039.4353437485397\n",
      "\n",
      "\n"
     ]
    }
   ],
   "source": [
    "for depth in range(3, 20, 3):\n",
    "    model = DecisionTreeRegressor(random_state=12345, max_depth=depth)\n",
    "    model.fit(X_train_scaled_1, y_train_1)\n",
    "    dsr_pred_val = model.predict(X_val_scaled_1)\n",
    "    rmse = mean_squared_error(y_val_1, dsr_pred_val)**0.5\n",
    "    print('Глубина:', depth)\n",
    "    print('RMSE для решающего дерева на валидационной выборке:', rmse)\n",
    "    print('')\n",
    "print()"
   ]
  },
  {
   "cell_type": "markdown",
   "id": "bb425891-05dd-4583-a9d1-f8a870ddb36c",
   "metadata": {},
   "source": [
    "Сделаем аналогично на тестовой выборке:"
   ]
  },
  {
   "cell_type": "code",
   "execution_count": 55,
   "id": "b74b8187-0b10-458d-af94-bfba24f46a4c",
   "metadata": {},
   "outputs": [
    {
     "name": "stdout",
     "output_type": "stream",
     "text": [
      "Глубина: 3\n",
      "RMSE для решающего дерева на тестовой выборке: 2964.806006428352\n",
      "\n",
      "Глубина: 6\n",
      "RMSE для решающего дерева на тестовой выборке: 2335.9714613343185\n",
      "\n",
      "Глубина: 9\n",
      "RMSE для решающего дерева на тестовой выборке: 2141.8734743837013\n",
      "\n",
      "Глубина: 12\n",
      "RMSE для решающего дерева на тестовой выборке: 2049.945551810997\n",
      "\n",
      "Глубина: 15\n",
      "RMSE для решающего дерева на тестовой выборке: 2055.1487536056\n",
      "\n",
      "Глубина: 18\n",
      "RMSE для решающего дерева на тестовой выборке: 2102.751979252722\n",
      "\n",
      "\n"
     ]
    }
   ],
   "source": [
    "for depth in range(3, 20, 3):\n",
    "    model = DecisionTreeRegressor(random_state=12345, max_depth=depth)\n",
    "    model.fit(X_train_scaled_1, y_train_1)\n",
    "    dsr_pred_val = model.predict(X_test_scaled_1)\n",
    "    rmse = mean_squared_error(y_test_1, dsr_pred_val)**0.5\n",
    "    print('Глубина:', depth)\n",
    "    print('RMSE для решающего дерева на тестовой выборке:', rmse)\n",
    "    print('')\n",
    "print()"
   ]
  },
  {
   "cell_type": "markdown",
   "id": "4ca3e20a-5c6a-45cb-8530-9bdd7d9600aa",
   "metadata": {},
   "source": [
    "Сравнивая RMSE для одних и тех же гиперпараметров на тренировочной и валидационной выборках, можно сделать вывод о том, что такая модель, как дерево решений, склонна к переобучению."
   ]
  },
  {
   "cell_type": "markdown",
   "id": "971bfdb8-14b1-43f5-a7f4-69e0fd5e376f",
   "metadata": {},
   "source": [
    "## Анализ моделей"
   ]
  },
  {
   "cell_type": "markdown",
   "id": "6c08ae02-b349-4cf9-a79e-c08ab9306cb5",
   "metadata": {},
   "source": [
    "### Linear Regression"
   ]
  },
  {
   "cell_type": "code",
   "execution_count": 56,
   "id": "4dca59d7-4d9a-4303-b064-8e73dd03ab75",
   "metadata": {},
   "outputs": [
    {
     "name": "stdout",
     "output_type": "stream",
     "text": [
      "CPU times: user 23.6 s, sys: 2.7 s, total: 26.3 s\n",
      "Wall time: 5.34 s\n"
     ]
    },
    {
     "data": {
      "text/html": [
       "<style>#sk-container-id-1 {color: black;background-color: white;}#sk-container-id-1 pre{padding: 0;}#sk-container-id-1 div.sk-toggleable {background-color: white;}#sk-container-id-1 label.sk-toggleable__label {cursor: pointer;display: block;width: 100%;margin-bottom: 0;padding: 0.3em;box-sizing: border-box;text-align: center;}#sk-container-id-1 label.sk-toggleable__label-arrow:before {content: \"▸\";float: left;margin-right: 0.25em;color: #696969;}#sk-container-id-1 label.sk-toggleable__label-arrow:hover:before {color: black;}#sk-container-id-1 div.sk-estimator:hover label.sk-toggleable__label-arrow:before {color: black;}#sk-container-id-1 div.sk-toggleable__content {max-height: 0;max-width: 0;overflow: hidden;text-align: left;background-color: #f0f8ff;}#sk-container-id-1 div.sk-toggleable__content pre {margin: 0.2em;color: black;border-radius: 0.25em;background-color: #f0f8ff;}#sk-container-id-1 input.sk-toggleable__control:checked~div.sk-toggleable__content {max-height: 200px;max-width: 100%;overflow: auto;}#sk-container-id-1 input.sk-toggleable__control:checked~label.sk-toggleable__label-arrow:before {content: \"▾\";}#sk-container-id-1 div.sk-estimator input.sk-toggleable__control:checked~label.sk-toggleable__label {background-color: #d4ebff;}#sk-container-id-1 div.sk-label input.sk-toggleable__control:checked~label.sk-toggleable__label {background-color: #d4ebff;}#sk-container-id-1 input.sk-hidden--visually {border: 0;clip: rect(1px 1px 1px 1px);clip: rect(1px, 1px, 1px, 1px);height: 1px;margin: -1px;overflow: hidden;padding: 0;position: absolute;width: 1px;}#sk-container-id-1 div.sk-estimator {font-family: monospace;background-color: #f0f8ff;border: 1px dotted black;border-radius: 0.25em;box-sizing: border-box;margin-bottom: 0.5em;}#sk-container-id-1 div.sk-estimator:hover {background-color: #d4ebff;}#sk-container-id-1 div.sk-parallel-item::after {content: \"\";width: 100%;border-bottom: 1px solid gray;flex-grow: 1;}#sk-container-id-1 div.sk-label:hover label.sk-toggleable__label {background-color: #d4ebff;}#sk-container-id-1 div.sk-serial::before {content: \"\";position: absolute;border-left: 1px solid gray;box-sizing: border-box;top: 0;bottom: 0;left: 50%;z-index: 0;}#sk-container-id-1 div.sk-serial {display: flex;flex-direction: column;align-items: center;background-color: white;padding-right: 0.2em;padding-left: 0.2em;position: relative;}#sk-container-id-1 div.sk-item {position: relative;z-index: 1;}#sk-container-id-1 div.sk-parallel {display: flex;align-items: stretch;justify-content: center;background-color: white;position: relative;}#sk-container-id-1 div.sk-item::before, #sk-container-id-1 div.sk-parallel-item::before {content: \"\";position: absolute;border-left: 1px solid gray;box-sizing: border-box;top: 0;bottom: 0;left: 50%;z-index: -1;}#sk-container-id-1 div.sk-parallel-item {display: flex;flex-direction: column;z-index: 1;position: relative;background-color: white;}#sk-container-id-1 div.sk-parallel-item:first-child::after {align-self: flex-end;width: 50%;}#sk-container-id-1 div.sk-parallel-item:last-child::after {align-self: flex-start;width: 50%;}#sk-container-id-1 div.sk-parallel-item:only-child::after {width: 0;}#sk-container-id-1 div.sk-dashed-wrapped {border: 1px dashed gray;margin: 0 0.4em 0.5em 0.4em;box-sizing: border-box;padding-bottom: 0.4em;background-color: white;}#sk-container-id-1 div.sk-label label {font-family: monospace;font-weight: bold;display: inline-block;line-height: 1.2em;}#sk-container-id-1 div.sk-label-container {text-align: center;}#sk-container-id-1 div.sk-container {/* jupyter's `normalize.less` sets `[hidden] { display: none; }` but bootstrap.min.css set `[hidden] { display: none !important; }` so we also need the `!important` here to be able to override the default hidden behavior on the sphinx rendered scikit-learn.org. See: https://github.com/scikit-learn/scikit-learn/issues/21755 */display: inline-block !important;position: relative;}#sk-container-id-1 div.sk-text-repr-fallback {display: none;}</style><div id=\"sk-container-id-1\" class=\"sk-top-container\"><div class=\"sk-text-repr-fallback\"><pre>LinearRegression()</pre><b>In a Jupyter environment, please rerun this cell to show the HTML representation or trust the notebook. <br />On GitHub, the HTML representation is unable to render, please try loading this page with nbviewer.org.</b></div><div class=\"sk-container\" hidden><div class=\"sk-item\"><div class=\"sk-estimator sk-toggleable\"><input class=\"sk-toggleable__control sk-hidden--visually\" id=\"sk-estimator-id-1\" type=\"checkbox\" checked><label for=\"sk-estimator-id-1\" class=\"sk-toggleable__label sk-toggleable__label-arrow\">LinearRegression</label><div class=\"sk-toggleable__content\"><pre>LinearRegression()</pre></div></div></div></div></div>"
      ],
      "text/plain": [
       "LinearRegression()"
      ]
     },
     "execution_count": 56,
     "metadata": {},
     "output_type": "execute_result"
    }
   ],
   "source": [
    "%%time\n",
    "# время обучения модели линейной регрессии\n",
    "model_lr = LinearRegression()\n",
    "model_lr.fit(X_train_scaled, y_train)"
   ]
  },
  {
   "cell_type": "code",
   "execution_count": 57,
   "id": "e9689fe8-84c8-49ca-b48e-41bd83b021e0",
   "metadata": {},
   "outputs": [
    {
     "name": "stdout",
     "output_type": "stream",
     "text": [
      "CPU times: user 211 ms, sys: 3.39 ms, total: 214 ms\n",
      "Wall time: 58.7 ms\n"
     ]
    }
   ],
   "source": [
    "%%time\n",
    "# время предсказания на тренировочной выборке\n",
    "lr_predd_train = model_lr.predict(X_train_scaled)"
   ]
  },
  {
   "cell_type": "markdown",
   "id": "a5ecf7f8-1f5a-40c4-8a5d-cd893f1433b2",
   "metadata": {},
   "source": [
    "### LGBM"
   ]
  },
  {
   "cell_type": "code",
   "execution_count": 58,
   "id": "32f2b862-796f-4d80-ad39-c979e1753494",
   "metadata": {},
   "outputs": [
    {
     "name": "stdout",
     "output_type": "stream",
     "text": [
      "[LightGBM] [Info] Auto-choosing row-wise multi-threading, the overhead of testing was 0.097573 seconds.\n",
      "You can set `force_row_wise=true` to remove the overhead.\n",
      "And if memory is not enough, you can set `force_col_wise=true`.\n",
      "[LightGBM] [Info] Total Bins 591\n",
      "[LightGBM] [Info] Number of data points in the train set: 198485, number of used features: 8\n",
      "[LightGBM] [Info] Start training from score 4710.035106\n",
      "CPU times: user 33.8 s, sys: 6.09 s, total: 39.9 s\n",
      "Wall time: 8.89 s\n"
     ]
    },
    {
     "data": {
      "text/html": [
       "<style>#sk-container-id-2 {color: black;background-color: white;}#sk-container-id-2 pre{padding: 0;}#sk-container-id-2 div.sk-toggleable {background-color: white;}#sk-container-id-2 label.sk-toggleable__label {cursor: pointer;display: block;width: 100%;margin-bottom: 0;padding: 0.3em;box-sizing: border-box;text-align: center;}#sk-container-id-2 label.sk-toggleable__label-arrow:before {content: \"▸\";float: left;margin-right: 0.25em;color: #696969;}#sk-container-id-2 label.sk-toggleable__label-arrow:hover:before {color: black;}#sk-container-id-2 div.sk-estimator:hover label.sk-toggleable__label-arrow:before {color: black;}#sk-container-id-2 div.sk-toggleable__content {max-height: 0;max-width: 0;overflow: hidden;text-align: left;background-color: #f0f8ff;}#sk-container-id-2 div.sk-toggleable__content pre {margin: 0.2em;color: black;border-radius: 0.25em;background-color: #f0f8ff;}#sk-container-id-2 input.sk-toggleable__control:checked~div.sk-toggleable__content {max-height: 200px;max-width: 100%;overflow: auto;}#sk-container-id-2 input.sk-toggleable__control:checked~label.sk-toggleable__label-arrow:before {content: \"▾\";}#sk-container-id-2 div.sk-estimator input.sk-toggleable__control:checked~label.sk-toggleable__label {background-color: #d4ebff;}#sk-container-id-2 div.sk-label input.sk-toggleable__control:checked~label.sk-toggleable__label {background-color: #d4ebff;}#sk-container-id-2 input.sk-hidden--visually {border: 0;clip: rect(1px 1px 1px 1px);clip: rect(1px, 1px, 1px, 1px);height: 1px;margin: -1px;overflow: hidden;padding: 0;position: absolute;width: 1px;}#sk-container-id-2 div.sk-estimator {font-family: monospace;background-color: #f0f8ff;border: 1px dotted black;border-radius: 0.25em;box-sizing: border-box;margin-bottom: 0.5em;}#sk-container-id-2 div.sk-estimator:hover {background-color: #d4ebff;}#sk-container-id-2 div.sk-parallel-item::after {content: \"\";width: 100%;border-bottom: 1px solid gray;flex-grow: 1;}#sk-container-id-2 div.sk-label:hover label.sk-toggleable__label {background-color: #d4ebff;}#sk-container-id-2 div.sk-serial::before {content: \"\";position: absolute;border-left: 1px solid gray;box-sizing: border-box;top: 0;bottom: 0;left: 50%;z-index: 0;}#sk-container-id-2 div.sk-serial {display: flex;flex-direction: column;align-items: center;background-color: white;padding-right: 0.2em;padding-left: 0.2em;position: relative;}#sk-container-id-2 div.sk-item {position: relative;z-index: 1;}#sk-container-id-2 div.sk-parallel {display: flex;align-items: stretch;justify-content: center;background-color: white;position: relative;}#sk-container-id-2 div.sk-item::before, #sk-container-id-2 div.sk-parallel-item::before {content: \"\";position: absolute;border-left: 1px solid gray;box-sizing: border-box;top: 0;bottom: 0;left: 50%;z-index: -1;}#sk-container-id-2 div.sk-parallel-item {display: flex;flex-direction: column;z-index: 1;position: relative;background-color: white;}#sk-container-id-2 div.sk-parallel-item:first-child::after {align-self: flex-end;width: 50%;}#sk-container-id-2 div.sk-parallel-item:last-child::after {align-self: flex-start;width: 50%;}#sk-container-id-2 div.sk-parallel-item:only-child::after {width: 0;}#sk-container-id-2 div.sk-dashed-wrapped {border: 1px dashed gray;margin: 0 0.4em 0.5em 0.4em;box-sizing: border-box;padding-bottom: 0.4em;background-color: white;}#sk-container-id-2 div.sk-label label {font-family: monospace;font-weight: bold;display: inline-block;line-height: 1.2em;}#sk-container-id-2 div.sk-label-container {text-align: center;}#sk-container-id-2 div.sk-container {/* jupyter's `normalize.less` sets `[hidden] { display: none; }` but bootstrap.min.css set `[hidden] { display: none !important; }` so we also need the `!important` here to be able to override the default hidden behavior on the sphinx rendered scikit-learn.org. See: https://github.com/scikit-learn/scikit-learn/issues/21755 */display: inline-block !important;position: relative;}#sk-container-id-2 div.sk-text-repr-fallback {display: none;}</style><div id=\"sk-container-id-2\" class=\"sk-top-container\"><div class=\"sk-text-repr-fallback\"><pre>LGBMRegressor(n_estimators=500, num_leaves=180, random_state=12345)</pre><b>In a Jupyter environment, please rerun this cell to show the HTML representation or trust the notebook. <br />On GitHub, the HTML representation is unable to render, please try loading this page with nbviewer.org.</b></div><div class=\"sk-container\" hidden><div class=\"sk-item\"><div class=\"sk-estimator sk-toggleable\"><input class=\"sk-toggleable__control sk-hidden--visually\" id=\"sk-estimator-id-2\" type=\"checkbox\" checked><label for=\"sk-estimator-id-2\" class=\"sk-toggleable__label sk-toggleable__label-arrow\">LGBMRegressor</label><div class=\"sk-toggleable__content\"><pre>LGBMRegressor(n_estimators=500, num_leaves=180, random_state=12345)</pre></div></div></div></div></div>"
      ],
      "text/plain": [
       "LGBMRegressor(n_estimators=500, num_leaves=180, random_state=12345)"
      ]
     },
     "execution_count": 58,
     "metadata": {},
     "output_type": "execute_result"
    }
   ],
   "source": [
    "%%time\n",
    "# время обучения LGBM\n",
    "model_lgbm = lgb.LGBMRegressor(random_state=12345,\n",
    "                          n_estimators=500,\n",
    "                          num_leaves=180)\n",
    "model_lgbm.fit(X_train_scaled_1, y_train_1)"
   ]
  },
  {
   "cell_type": "code",
   "execution_count": 59,
   "id": "62d2e55f-e6c8-423d-b44a-b1f74f57f17f",
   "metadata": {},
   "outputs": [
    {
     "name": "stdout",
     "output_type": "stream",
     "text": [
      "CPU times: user 9.37 s, sys: 58.4 ms, total: 9.43 s\n",
      "Wall time: 1.73 s\n"
     ]
    }
   ],
   "source": [
    "%%time\n",
    "# время предсказания на тренировочной выборке LGBM\n",
    "lgbm_predd_train = model_lgbm.predict(X_train_scaled_1)"
   ]
  },
  {
   "cell_type": "markdown",
   "id": "7b1afc93-39ff-46a8-9bcc-1882e3d45cc8",
   "metadata": {},
   "source": [
    "### Decision Tree"
   ]
  },
  {
   "cell_type": "code",
   "execution_count": 60,
   "id": "c3c62d5a-73cd-4b9e-b77e-479c18907060",
   "metadata": {},
   "outputs": [
    {
     "name": "stdout",
     "output_type": "stream",
     "text": [
      "CPU times: user 406 ms, sys: 213 ms, total: 619 ms\n",
      "Wall time: 201 ms\n"
     ]
    },
    {
     "data": {
      "text/html": [
       "<style>#sk-container-id-3 {color: black;background-color: white;}#sk-container-id-3 pre{padding: 0;}#sk-container-id-3 div.sk-toggleable {background-color: white;}#sk-container-id-3 label.sk-toggleable__label {cursor: pointer;display: block;width: 100%;margin-bottom: 0;padding: 0.3em;box-sizing: border-box;text-align: center;}#sk-container-id-3 label.sk-toggleable__label-arrow:before {content: \"▸\";float: left;margin-right: 0.25em;color: #696969;}#sk-container-id-3 label.sk-toggleable__label-arrow:hover:before {color: black;}#sk-container-id-3 div.sk-estimator:hover label.sk-toggleable__label-arrow:before {color: black;}#sk-container-id-3 div.sk-toggleable__content {max-height: 0;max-width: 0;overflow: hidden;text-align: left;background-color: #f0f8ff;}#sk-container-id-3 div.sk-toggleable__content pre {margin: 0.2em;color: black;border-radius: 0.25em;background-color: #f0f8ff;}#sk-container-id-3 input.sk-toggleable__control:checked~div.sk-toggleable__content {max-height: 200px;max-width: 100%;overflow: auto;}#sk-container-id-3 input.sk-toggleable__control:checked~label.sk-toggleable__label-arrow:before {content: \"▾\";}#sk-container-id-3 div.sk-estimator input.sk-toggleable__control:checked~label.sk-toggleable__label {background-color: #d4ebff;}#sk-container-id-3 div.sk-label input.sk-toggleable__control:checked~label.sk-toggleable__label {background-color: #d4ebff;}#sk-container-id-3 input.sk-hidden--visually {border: 0;clip: rect(1px 1px 1px 1px);clip: rect(1px, 1px, 1px, 1px);height: 1px;margin: -1px;overflow: hidden;padding: 0;position: absolute;width: 1px;}#sk-container-id-3 div.sk-estimator {font-family: monospace;background-color: #f0f8ff;border: 1px dotted black;border-radius: 0.25em;box-sizing: border-box;margin-bottom: 0.5em;}#sk-container-id-3 div.sk-estimator:hover {background-color: #d4ebff;}#sk-container-id-3 div.sk-parallel-item::after {content: \"\";width: 100%;border-bottom: 1px solid gray;flex-grow: 1;}#sk-container-id-3 div.sk-label:hover label.sk-toggleable__label {background-color: #d4ebff;}#sk-container-id-3 div.sk-serial::before {content: \"\";position: absolute;border-left: 1px solid gray;box-sizing: border-box;top: 0;bottom: 0;left: 50%;z-index: 0;}#sk-container-id-3 div.sk-serial {display: flex;flex-direction: column;align-items: center;background-color: white;padding-right: 0.2em;padding-left: 0.2em;position: relative;}#sk-container-id-3 div.sk-item {position: relative;z-index: 1;}#sk-container-id-3 div.sk-parallel {display: flex;align-items: stretch;justify-content: center;background-color: white;position: relative;}#sk-container-id-3 div.sk-item::before, #sk-container-id-3 div.sk-parallel-item::before {content: \"\";position: absolute;border-left: 1px solid gray;box-sizing: border-box;top: 0;bottom: 0;left: 50%;z-index: -1;}#sk-container-id-3 div.sk-parallel-item {display: flex;flex-direction: column;z-index: 1;position: relative;background-color: white;}#sk-container-id-3 div.sk-parallel-item:first-child::after {align-self: flex-end;width: 50%;}#sk-container-id-3 div.sk-parallel-item:last-child::after {align-self: flex-start;width: 50%;}#sk-container-id-3 div.sk-parallel-item:only-child::after {width: 0;}#sk-container-id-3 div.sk-dashed-wrapped {border: 1px dashed gray;margin: 0 0.4em 0.5em 0.4em;box-sizing: border-box;padding-bottom: 0.4em;background-color: white;}#sk-container-id-3 div.sk-label label {font-family: monospace;font-weight: bold;display: inline-block;line-height: 1.2em;}#sk-container-id-3 div.sk-label-container {text-align: center;}#sk-container-id-3 div.sk-container {/* jupyter's `normalize.less` sets `[hidden] { display: none; }` but bootstrap.min.css set `[hidden] { display: none !important; }` so we also need the `!important` here to be able to override the default hidden behavior on the sphinx rendered scikit-learn.org. See: https://github.com/scikit-learn/scikit-learn/issues/21755 */display: inline-block !important;position: relative;}#sk-container-id-3 div.sk-text-repr-fallback {display: none;}</style><div id=\"sk-container-id-3\" class=\"sk-top-container\"><div class=\"sk-text-repr-fallback\"><pre>DecisionTreeRegressor(max_depth=9, random_state=12345)</pre><b>In a Jupyter environment, please rerun this cell to show the HTML representation or trust the notebook. <br />On GitHub, the HTML representation is unable to render, please try loading this page with nbviewer.org.</b></div><div class=\"sk-container\" hidden><div class=\"sk-item\"><div class=\"sk-estimator sk-toggleable\"><input class=\"sk-toggleable__control sk-hidden--visually\" id=\"sk-estimator-id-3\" type=\"checkbox\" checked><label for=\"sk-estimator-id-3\" class=\"sk-toggleable__label sk-toggleable__label-arrow\">DecisionTreeRegressor</label><div class=\"sk-toggleable__content\"><pre>DecisionTreeRegressor(max_depth=9, random_state=12345)</pre></div></div></div></div></div>"
      ],
      "text/plain": [
       "DecisionTreeRegressor(max_depth=9, random_state=12345)"
      ]
     },
     "execution_count": 60,
     "metadata": {},
     "output_type": "execute_result"
    }
   ],
   "source": [
    "%%time\n",
    "# время обучения модели решающего дерева\n",
    "model_dtr = DecisionTreeRegressor(random_state=12345, max_depth=9)\n",
    "model_dtr.fit(X_train_scaled_1, y_train_1)"
   ]
  },
  {
   "cell_type": "code",
   "execution_count": 61,
   "id": "541bca99-3ae3-4534-92b4-ed32095037ce",
   "metadata": {},
   "outputs": [
    {
     "name": "stdout",
     "output_type": "stream",
     "text": [
      "CPU times: user 11.2 ms, sys: 1.3 ms, total: 12.5 ms\n",
      "Wall time: 11.7 ms\n"
     ]
    }
   ],
   "source": [
    "%%time\n",
    "# время предсказания на тренировочной выборке модели решающего дерева\n",
    "predictions_train = model_dtr.predict(X_train_scaled_1)"
   ]
  },
  {
   "cell_type": "code",
   "execution_count": 67,
   "id": "0b2b07f3-2046-4c16-a6c5-606617bba819",
   "metadata": {},
   "outputs": [
    {
     "data": {
      "text/html": [
       "<div>\n",
       "<style scoped>\n",
       "    .dataframe tbody tr th:only-of-type {\n",
       "        vertical-align: middle;\n",
       "    }\n",
       "\n",
       "    .dataframe tbody tr th {\n",
       "        vertical-align: top;\n",
       "    }\n",
       "\n",
       "    .dataframe thead th {\n",
       "        text-align: right;\n",
       "    }\n",
       "</style>\n",
       "<table border=\"1\" class=\"dataframe\">\n",
       "  <thead>\n",
       "    <tr style=\"text-align: right;\">\n",
       "      <th></th>\n",
       "      <th>CPU-times</th>\n",
       "      <th>Wall time</th>\n",
       "      <th>RMSE</th>\n",
       "    </tr>\n",
       "  </thead>\n",
       "  <tbody>\n",
       "    <tr>\n",
       "      <th>Linear Regression: обучение</th>\n",
       "      <td>26.3 s</td>\n",
       "      <td>5.34 s</td>\n",
       "      <td>none</td>\n",
       "    </tr>\n",
       "    <tr>\n",
       "      <th>Linear Regression: предсказание</th>\n",
       "      <td>214 ms</td>\n",
       "      <td>58.7 ms</td>\n",
       "      <td>2724.97</td>\n",
       "    </tr>\n",
       "    <tr>\n",
       "      <th>LightGBM: обучение</th>\n",
       "      <td>39.9 s</td>\n",
       "      <td>8.89 s</td>\n",
       "      <td>none</td>\n",
       "    </tr>\n",
       "    <tr>\n",
       "      <th>LightGBM: предсказание</th>\n",
       "      <td>9.43 s</td>\n",
       "      <td>1.73 s</td>\n",
       "      <td>1606.74</td>\n",
       "    </tr>\n",
       "    <tr>\n",
       "      <th>Decision Tree: обучение</th>\n",
       "      <td>619 ms</td>\n",
       "      <td>201 s</td>\n",
       "      <td>none</td>\n",
       "    </tr>\n",
       "    <tr>\n",
       "      <th>Decision Tree: предсказание</th>\n",
       "      <td>12.5 ms</td>\n",
       "      <td>11.7 ms</td>\n",
       "      <td>1981.19</td>\n",
       "    </tr>\n",
       "  </tbody>\n",
       "</table>\n",
       "</div>"
      ],
      "text/plain": [
       "                                CPU-times Wall time     RMSE\n",
       "Linear Regression: обучение        26.3 s    5.34 s     none\n",
       "Linear Regression: предсказание    214 ms   58.7 ms  2724.97\n",
       "LightGBM: обучение                 39.9 s    8.89 s     none\n",
       "LightGBM: предсказание             9.43 s    1.73 s  1606.74\n",
       "Decision Tree: обучение            619 ms     201 s     none\n",
       "Decision Tree: предсказание       12.5 ms   11.7 ms  1981.19"
      ]
     },
     "execution_count": 67,
     "metadata": {},
     "output_type": "execute_result"
    }
   ],
   "source": [
    "tabledata = [[\"Linear Regression: обучение\", \"26.3 s\", \"5.34 s\", 'none'],\n",
    "             [\"Linear Regression: предсказание\", \"214 ms\", \"58.7 ms\", '2724.97'],\n",
    "             [\"LightGBM: обучение\", \"39.9 s\", \"8.89 s\", 'none'],\n",
    "             [\"LightGBM: предсказание\", \"9.43 s\", \"1.73 s\", '1606.74'],\n",
    "             [\"Decision Tree: обучение\", \"619 ms\", \"201 s\", 'none'],\n",
    "             [\"Decision Tree: предсказание\", \"12.5 ms\", \"11.7 ms\", '1981.19']]\n",
    "df = pd.DataFrame(tabledata, columns=[\"model\", \"CPU-times\", \"Wall time\", 'RMSE'])\n",
    "df = df.set_index('model')\n",
    "df.index.names = [None]\n",
    "df"
   ]
  },
  {
   "cell_type": "markdown",
   "id": "e6a9ae97-b591-4952-af36-bd1532b07fdd",
   "metadata": {},
   "source": [
    "Таким образом, наиболее качественно предсказывает LGBM, но при этом она дольше всех обучается и предсказывает. На мой взгляд, наиболее подходящей для заказчика моделью явялется LGBM, потому что тогда предлагаемый им продукт будет качественным, хоть и будет выполнять основную функцию дольше, чем мог бы, если бы делал это некачественно."
   ]
  },
  {
   "cell_type": "markdown",
   "id": "9d692516-b683-43d7-a9b1-fd12fa55f511",
   "metadata": {},
   "source": [
    "### Проверка лучшей модели"
   ]
  },
  {
   "cell_type": "code",
   "execution_count": 81,
   "id": "69811289-1694-408d-af62-7d1d138e2e60",
   "metadata": {},
   "outputs": [],
   "source": [
    "params = {\n",
    "    'n_estimators': 500,\n",
    "    'num_leaves': 180\n",
    "}"
   ]
  },
  {
   "cell_type": "code",
   "execution_count": 82,
   "id": "670fba7b-86c5-4fcf-afc2-dbb6410b73cd",
   "metadata": {},
   "outputs": [
    {
     "name": "stdout",
     "output_type": "stream",
     "text": [
      "[LightGBM] [Info] Auto-choosing row-wise multi-threading, the overhead of testing was 0.023314 seconds.\n",
      "You can set `force_row_wise=true` to remove the overhead.\n",
      "And if memory is not enough, you can set `force_col_wise=true`.\n",
      "[LightGBM] [Info] Total Bins 591\n",
      "[LightGBM] [Info] Number of data points in the train set: 198485, number of used features: 8\n",
      "[LightGBM] [Info] Start training from score 4710.035106\n"
     ]
    },
    {
     "data": {
      "text/html": [
       "<style>#sk-container-id-9 {color: black;background-color: white;}#sk-container-id-9 pre{padding: 0;}#sk-container-id-9 div.sk-toggleable {background-color: white;}#sk-container-id-9 label.sk-toggleable__label {cursor: pointer;display: block;width: 100%;margin-bottom: 0;padding: 0.3em;box-sizing: border-box;text-align: center;}#sk-container-id-9 label.sk-toggleable__label-arrow:before {content: \"▸\";float: left;margin-right: 0.25em;color: #696969;}#sk-container-id-9 label.sk-toggleable__label-arrow:hover:before {color: black;}#sk-container-id-9 div.sk-estimator:hover label.sk-toggleable__label-arrow:before {color: black;}#sk-container-id-9 div.sk-toggleable__content {max-height: 0;max-width: 0;overflow: hidden;text-align: left;background-color: #f0f8ff;}#sk-container-id-9 div.sk-toggleable__content pre {margin: 0.2em;color: black;border-radius: 0.25em;background-color: #f0f8ff;}#sk-container-id-9 input.sk-toggleable__control:checked~div.sk-toggleable__content {max-height: 200px;max-width: 100%;overflow: auto;}#sk-container-id-9 input.sk-toggleable__control:checked~label.sk-toggleable__label-arrow:before {content: \"▾\";}#sk-container-id-9 div.sk-estimator input.sk-toggleable__control:checked~label.sk-toggleable__label {background-color: #d4ebff;}#sk-container-id-9 div.sk-label input.sk-toggleable__control:checked~label.sk-toggleable__label {background-color: #d4ebff;}#sk-container-id-9 input.sk-hidden--visually {border: 0;clip: rect(1px 1px 1px 1px);clip: rect(1px, 1px, 1px, 1px);height: 1px;margin: -1px;overflow: hidden;padding: 0;position: absolute;width: 1px;}#sk-container-id-9 div.sk-estimator {font-family: monospace;background-color: #f0f8ff;border: 1px dotted black;border-radius: 0.25em;box-sizing: border-box;margin-bottom: 0.5em;}#sk-container-id-9 div.sk-estimator:hover {background-color: #d4ebff;}#sk-container-id-9 div.sk-parallel-item::after {content: \"\";width: 100%;border-bottom: 1px solid gray;flex-grow: 1;}#sk-container-id-9 div.sk-label:hover label.sk-toggleable__label {background-color: #d4ebff;}#sk-container-id-9 div.sk-serial::before {content: \"\";position: absolute;border-left: 1px solid gray;box-sizing: border-box;top: 0;bottom: 0;left: 50%;z-index: 0;}#sk-container-id-9 div.sk-serial {display: flex;flex-direction: column;align-items: center;background-color: white;padding-right: 0.2em;padding-left: 0.2em;position: relative;}#sk-container-id-9 div.sk-item {position: relative;z-index: 1;}#sk-container-id-9 div.sk-parallel {display: flex;align-items: stretch;justify-content: center;background-color: white;position: relative;}#sk-container-id-9 div.sk-item::before, #sk-container-id-9 div.sk-parallel-item::before {content: \"\";position: absolute;border-left: 1px solid gray;box-sizing: border-box;top: 0;bottom: 0;left: 50%;z-index: -1;}#sk-container-id-9 div.sk-parallel-item {display: flex;flex-direction: column;z-index: 1;position: relative;background-color: white;}#sk-container-id-9 div.sk-parallel-item:first-child::after {align-self: flex-end;width: 50%;}#sk-container-id-9 div.sk-parallel-item:last-child::after {align-self: flex-start;width: 50%;}#sk-container-id-9 div.sk-parallel-item:only-child::after {width: 0;}#sk-container-id-9 div.sk-dashed-wrapped {border: 1px dashed gray;margin: 0 0.4em 0.5em 0.4em;box-sizing: border-box;padding-bottom: 0.4em;background-color: white;}#sk-container-id-9 div.sk-label label {font-family: monospace;font-weight: bold;display: inline-block;line-height: 1.2em;}#sk-container-id-9 div.sk-label-container {text-align: center;}#sk-container-id-9 div.sk-container {/* jupyter's `normalize.less` sets `[hidden] { display: none; }` but bootstrap.min.css set `[hidden] { display: none !important; }` so we also need the `!important` here to be able to override the default hidden behavior on the sphinx rendered scikit-learn.org. See: https://github.com/scikit-learn/scikit-learn/issues/21755 */display: inline-block !important;position: relative;}#sk-container-id-9 div.sk-text-repr-fallback {display: none;}</style><div id=\"sk-container-id-9\" class=\"sk-top-container\"><div class=\"sk-text-repr-fallback\"><pre>LGBMRegressor(n_estimators=500, num_leaves=180)</pre><b>In a Jupyter environment, please rerun this cell to show the HTML representation or trust the notebook. <br />On GitHub, the HTML representation is unable to render, please try loading this page with nbviewer.org.</b></div><div class=\"sk-container\" hidden><div class=\"sk-item\"><div class=\"sk-estimator sk-toggleable\"><input class=\"sk-toggleable__control sk-hidden--visually\" id=\"sk-estimator-id-9\" type=\"checkbox\" checked><label for=\"sk-estimator-id-9\" class=\"sk-toggleable__label sk-toggleable__label-arrow\">LGBMRegressor</label><div class=\"sk-toggleable__content\"><pre>LGBMRegressor(n_estimators=500, num_leaves=180)</pre></div></div></div></div></div>"
      ],
      "text/plain": [
       "LGBMRegressor(n_estimators=500, num_leaves=180)"
      ]
     },
     "execution_count": 82,
     "metadata": {},
     "output_type": "execute_result"
    }
   ],
   "source": [
    "best_model = lgb.LGBMRegressor(**params)\n",
    "best_model.fit(X_train_scaled_1, y_train_1)"
   ]
  },
  {
   "cell_type": "code",
   "execution_count": 83,
   "id": "0518b6bf-d916-405e-bd25-bf6f5bf72bd7",
   "metadata": {},
   "outputs": [],
   "source": [
    "y_pred = best_model.predict(X_test_scaled_1)"
   ]
  },
  {
   "cell_type": "code",
   "execution_count": 85,
   "id": "401fb604-6641-42c5-b8d1-8166ee62d02f",
   "metadata": {},
   "outputs": [
    {
     "name": "stdout",
     "output_type": "stream",
     "text": [
      "RMSE on test set: 1635.05162303166\n"
     ]
    }
   ],
   "source": [
    "rmse = np.sqrt(mean_squared_error(y_test_1, y_pred))\n",
    "print(f'RMSE on test set: {rmse}')"
   ]
  },
  {
   "cell_type": "markdown",
   "id": "0a63667f-e59b-4217-b984-42209cb67cdd",
   "metadata": {},
   "source": [
    "Таким образом, лучшая модель показала RMSE на тестовой выборке ниже, чем на валидационной, что говорит о том, что модель не переобучена и выбор в ее пользу сделан верно!"
   ]
  },
  {
   "cell_type": "markdown",
   "id": "8b4f8e32-9f19-49ad-a4d6-de555e785784",
   "metadata": {},
   "source": [
    "## Общий вывод"
   ]
  },
  {
   "cell_type": "markdown",
   "id": "85f3114e-254c-4548-9a84-a677293a31fd",
   "metadata": {},
   "source": [
    "    1. При предобработке данных мы избавились от практически 20% от них в силу их нерепрезентативности;\n",
    "    2. При обучении моделей использовались различные типы кодирования категориальных столбцов и различные гиперпарметры;\n",
    "    3. Лучшей моделью выступила LGBM с количеством деревьев 500 и количеством листьев 120.\n",
    "Заказчику я бы предложила также оценить количество владельцев, их пол (как бы по-сексистки это ни звучало), а также страну-производителя автомобиля, так как машины со сборкой в разных странах на рынке стоят по-разному."
   ]
  }
 ],
 "metadata": {
  "kernelspec": {
   "display_name": "Python 3 (ipykernel)",
   "language": "python",
   "name": "python3"
  },
  "language_info": {
   "codemirror_mode": {
    "name": "ipython",
    "version": 3
   },
   "file_extension": ".py",
   "mimetype": "text/x-python",
   "name": "python",
   "nbconvert_exporter": "python",
   "pygments_lexer": "ipython3",
   "version": "3.11.7"
  },
  "toc": {
   "base_numbering": 1,
   "nav_menu": {},
   "number_sections": true,
   "sideBar": true,
   "skip_h1_title": true,
   "title_cell": "Table of Contents",
   "title_sidebar": "Contents",
   "toc_cell": false,
   "toc_position": {},
   "toc_section_display": true,
   "toc_window_display": false
  }
 },
 "nbformat": 4,
 "nbformat_minor": 5
}
